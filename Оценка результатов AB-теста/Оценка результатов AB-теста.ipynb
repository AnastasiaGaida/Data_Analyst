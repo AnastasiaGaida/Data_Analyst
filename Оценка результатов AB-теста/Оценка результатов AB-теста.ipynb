{
 "cells": [
  {
   "cell_type": "markdown",
   "metadata": {},
   "source": [
    "<div style=\"border-radius: 15px; box-shadow: 4px 4px 4px; border: solid gray 2px; padding: 20px\"> \n",
    " \n",
    "**Cсылка с проектом на nbviewer**   \n",
    "https://nbviewer.org/github/AnastasiaGaida/Data_Analyst/blob/0c721f733f2fc8e9e4d9ca0edb70265443b70219/%D0%9E%D1%86%D0%B5%D0%BD%D0%BA%D0%B0%20%D1%80%D0%B5%D0%B7%D1%83%D0%BB%D1%8C%D1%82%D0%B0%D1%82%D0%BE%D0%B2%20AB-%D1%82%D0%B5%D1%81%D1%82%D0%B0/%D0%9F%D1%80%D0%BE%D0%B5%D0%BA%D1%82%20%D1%81%20%D0%B8%D0%BD%D1%82%D0%B5%D1%80%D0%B0%D0%BA%D1%82%D0%B8%D0%B2%D0%BD%D1%8B%D0%BC%D0%B8%20%D0%B4%D0%B8%D0%B0%D0%B3%D1%80%D0%B0%D0%BC%D0%BC%D0%B0%D0%BC%D0%B8%20Plotly/%D0%9E%D1%86%D0%B5%D0%BD%D0%BA%D0%B0%20%D1%80%D0%B5%D0%B7%D1%83%D0%BB%D1%8C%D1%82%D0%B0%D1%82%D0%BE%D0%B2%20AB-%D1%82%D0%B5%D1%81%D1%82%D0%B0.ipynb"
   ]
  },
  {
   "cell_type": "markdown",
   "metadata": {},
   "source": [
    "\n",
    "# Содержание\n",
    "    \n",
    "[Описание проекта](#project)\n",
    "\n",
    "1. [Загрузка данных и их подготовка к исследованию](#start)\n",
    "\n",
    "2.  [Оценка корректности проведения теста.](#technical_task0)\n",
    "\n",
    "    2.1. [Соответствие данных требованиям технического задания.](#technical_task1)\n",
    "\n",
    "    2.2. [Проверка распределения пользователей.](#technical_task2)\n",
    "\n",
    "    2.3. [Совпадение маркетинговых событий с тестированием.](#events3)\n",
    "    \n",
    "    \n",
    "3. [Исследовательский анализ данных.](#analysis0)\n",
    "\n",
    "    3.1. [Распределение регистраций пользователей по дням.](#analysis1)\n",
    " \n",
    "    3.2. [Регистрация пользователей по устройствам.](#analysis2)\n",
    "\n",
    "    3.3. [Количество событий на пользователя.](#analysis3)\n",
    "    \n",
    "    3.4. [Распределение событий пользователей по дням.](#analysis4)\n",
    "    \n",
    "    3.5. [Анализ изменения конверсии в воронке на разных этапах.](#analysis5)\n",
    "    \n",
    "    3.6. [Особенности данных, которые нужно учесть, прежде чем приступать к A/B-тестированию.](#analysis6)\n",
    "\n",
    "4. [Оценка результатов A/B-тестирования.](#result0)\n",
    "\n",
    "    4.1. [Результаты A/В-тестирования.](#result1)\n",
    "\n",
    "    4.2. [Проверка статистической разницы долей z-критерием.](#test)\n",
    "    \n",
    "5. [Выводы по результатам A/B-тестирования.](#rec)\n"
   ]
  },
  {
   "cell_type": "markdown",
   "metadata": {},
   "source": [
    "<a id=\"project\"></a> \n",
    "# Описание проекта\n",
    "\n",
    "\n",
    "# A/B-тестирование\n",
    "\n",
    "# Постановка задачи\n",
    "Провести оценку результатов A/B-теста. В вашем распоряжении есть датасет с действиями пользователей, техническое задание и несколько вспомогательных датасетов.\n",
    "\n",
    "Оцените корректность проведения теста и проанализируйте его результаты.\n",
    "\n",
    "Чтобы оценить корректность проведения теста:\n",
    "\n",
    "- удостоверьтесь, что нет пересечений с конкурирующим тестом и нет пользователей, участвующих в двух группах теста одновременно;\n",
    "- проверьте равномерность распределения пользователей по тестовым группам и правильность их формирования.\n",
    "\n",
    "Подробнее об этом мы рассказываем в разделе «Как выполнить задание» в конце урока.\n",
    "\n",
    "\n",
    "\n",
    "\n",
    "\n",
    "# Техническое задание\n",
    "\n",
    "- Название теста: `recommender_system_test`;\n",
    "- группы: А — контрольная, B — новая платёжная воронка;\n",
    "- дата запуска: 2020-12-07;\n",
    "- дата остановки набора новых пользователей: 2020-12-21;\n",
    "- дата остановки: 2021-01-04;\n",
    "- аудитория: в тест должно быть отобрано 15% новых пользователей из региона EU;\n",
    "- назначение теста: тестирование изменений, связанных с внедрением улучшенной рекомендательной системы;\n",
    "- ожидаемое количество участников теста: 6000.\n",
    "- ожидаемый эффект: за 14 дней с момента регистрации пользователи покажут улучшение каждой метрики не менее, чем на 10%:\n",
    "    - конверсии в просмотр карточек товаров — событие `product_page`,\n",
    "    - просмотры корзины — `product_cart`,\n",
    "    - покупки — `purchase`.\n",
    "    \n",
    "    \n",
    "    \n",
    "# Данные\n",
    "\n",
    "[final_ab_events.csv](https://disk.yandex.ru/d/pgKgZ9lRp0Enwg)\n",
    "\n",
    "[ab_project_marketing_events.csv](https://disk.yandex.ru/d/ZVC7GUYYckKnGQ)\n",
    "\n",
    "[final_ab_new_users.csv](https://disk.yandex.ru/d/Qrto8Gerpu424g)\n",
    "\n",
    "[final_ab_participants.csv](https://disk.yandex.ru/d/nhGUR3ZkNIG4VA)\n",
    "\n",
    "\n",
    "# Описание данных\n",
    "\n",
    "`ab_project_marketing_events.csv` — календарь маркетинговых событий на 2020 год.\n",
    "\n",
    "Структура файла:\n",
    "\n",
    "- `name` — название маркетингового события;\n",
    "- `regions` — регионы, в которых будет проводиться рекламная кампания;\n",
    "- `start_dt` — дата начала кампании;\n",
    "- `finish_dt` — дата завершения кампании.\n",
    "\n",
    "`final_ab_new_users.csv` — пользователи, зарегистрировавшиеся с 7 до 21 декабря 2020 года.\n",
    "\n",
    "Структура файла:\n",
    "\n",
    "- `user_id` — идентификатор пользователя;\n",
    "- `first_date` — дата регистрации;\n",
    "- `region` — регион пользователя;\n",
    "- `device` — устройство, с которого происходила регистрация.\n",
    "\n",
    "`final_ab_events.csv` — действия новых пользователей в период с 7 декабря 2020 по 4 января 2021 года.\n",
    "\n",
    "Структура файла:\n",
    "\n",
    "- `user_id` — идентификатор пользователя;\n",
    "- `event_dt` — дата и время события;\n",
    "- `event_name` — тип события;\n",
    "- `details` — дополнительные данные о событии. Например, для покупок, `purchase,` в этом поле хранится стоимость покупки в долларах.\n",
    "\n",
    "`final_ab_participants.csv` — таблица участников тестов.\n",
    "\n",
    "Структура файла:\n",
    "\n",
    "- `user_id` — идентификатор пользователя;\n",
    "- `ab_test` — название теста;\n",
    "- `group` — группа пользователя.\n"
   ]
  },
  {
   "cell_type": "markdown",
   "metadata": {},
   "source": [
    "# Декомпозиция\n",
    "\n",
    "\n",
    "- Исследование данных:\n",
    "    - Требуется ли преобразование типов?\n",
    "    - Поиск пропущенных значений и дубликатов.\n",
    "- Оценка корректности проведения теста. Обратить внимание на:\n",
    "    - Соответствие данных требованиям технического задания. Проверить корректность всех пунктов технического задания.\n",
    "    - Время проведения теста. Проверка на совпадение с маркетинговыми и другими активностями.\n",
    "    - Аудиторию теста. Удостоверься, что нет пересечений с конкурирующим тестом и нет пользователей, участвующих в двух группах теста одновременно. Проверить равномерность распределения по тестовым группам и правильность их формирования.\n",
    "- Исследовательский анализ данных:\n",
    "    - Распределение количества событий на пользователя в выборках.\n",
    "    - Как число событий в выборках распределено по дням.\n",
    "    - Как меняется конверсия в воронке в выборках на разных этапах.\n",
    "    - Какие особенности данных нужно учесть, прежде чем приступать к A/B-тестированию.\n",
    "- Оценка результатов A/B-тестирования\n",
    "    - Что можно сказать про результаты A/В-тестирования?\n",
    "    - Проверка статистической разницы долей z-критерием.\n",
    "- Выводы по этапу исследовательского анализа данных и по проведённой оценке результатов A/B-тестирования. Общее заключение о корректности проведения теста."
   ]
  },
  {
   "cell_type": "markdown",
   "metadata": {
    "id": "r-BO88CnWVwe"
   },
   "source": [
    "### Загрузка данных и их подготовка к исследованию\n",
    "<a id=\"start\"></a> "
   ]
  },
  {
   "cell_type": "markdown",
   "metadata": {},
   "source": [
    "**Импорт необходимых для работы библиотек.**"
   ]
  },
  {
   "cell_type": "code",
   "execution_count": 1,
   "metadata": {},
   "outputs": [
    {
     "name": "stdout",
     "output_type": "stream",
     "text": [
      "Requirement already satisfied: kaleido in /opt/conda/lib/python3.9/site-packages (0.2.1)\r\n"
     ]
    }
   ],
   "source": [
    "!pip install -U kaleido"
   ]
  },
  {
   "cell_type": "code",
   "execution_count": 2,
   "metadata": {},
   "outputs": [
    {
     "name": "stdout",
     "output_type": "stream",
     "text": [
      "Requirement already satisfied: statsmodels in /opt/conda/lib/python3.9/site-packages (0.13.2)\r\n",
      "Requirement already satisfied: packaging>=21.3 in /opt/conda/lib/python3.9/site-packages (from statsmodels) (21.3)\r\n",
      "Requirement already satisfied: pandas>=0.25 in /opt/conda/lib/python3.9/site-packages (from statsmodels) (1.2.4)\r\n",
      "Requirement already satisfied: scipy>=1.3 in /opt/conda/lib/python3.9/site-packages (from statsmodels) (1.9.1)\r\n",
      "Requirement already satisfied: patsy>=0.5.2 in /opt/conda/lib/python3.9/site-packages (from statsmodels) (0.5.2)\r\n",
      "Requirement already satisfied: numpy>=1.17 in /opt/conda/lib/python3.9/site-packages (from statsmodels) (1.21.1)\r\n",
      "Requirement already satisfied: pyparsing!=3.0.5,>=2.0.2 in /opt/conda/lib/python3.9/site-packages (from packaging>=21.3->statsmodels) (2.4.7)\r\n",
      "Requirement already satisfied: python-dateutil>=2.7.3 in /opt/conda/lib/python3.9/site-packages (from pandas>=0.25->statsmodels) (2.8.1)\r\n",
      "Requirement already satisfied: pytz>=2017.3 in /opt/conda/lib/python3.9/site-packages (from pandas>=0.25->statsmodels) (2021.1)\r\n",
      "Requirement already satisfied: six in /opt/conda/lib/python3.9/site-packages (from patsy>=0.5.2->statsmodels) (1.16.0)\r\n"
     ]
    }
   ],
   "source": [
    "!pip install statsmodels"
   ]
  },
  {
   "cell_type": "code",
   "execution_count": 3,
   "metadata": {},
   "outputs": [],
   "source": [
    "import pandas as pd\n",
    "pd.set_option('display.max_colwidth', None) #код, который выводит максимальную ширину столбцов таблицы\n",
    "pd.options.display.max_colwidth = 150\n",
    "pd.set_option('display.max_columns', None) #код, который выводит все колонки таблицы\n",
    "pd.options.display.float_format = '{:.2f}'.format #код отображает float с двумя знаками после точки\n",
    "\n",
    "import datetime as dt\n",
    "\n",
    "import numpy as np\n",
    "import math as mth\n",
    "\n",
    "from scipy import stats as st\n",
    "from statsmodels.sandbox.stats.multicomp import multipletests\n",
    "\n",
    "\n",
    "import matplotlib.pyplot as plt\n",
    "import seaborn as sns\n",
    "sns.set_theme(style='whitegrid')\n",
    "sns.color_palette()\n",
    "\n",
    "from plotly import graph_objects as go\n",
    "import plotly.express as px\n",
    "from plotly.subplots import make_subplots\n",
    "\n",
    "\n",
    "import warnings\n",
    "warnings.filterwarnings(\"ignore\")"
   ]
  },
  {
   "cell_type": "markdown",
   "metadata": {},
   "source": [
    "#### Открытие файла с данными и изучение общей информации."
   ]
  },
  {
   "cell_type": "code",
   "execution_count": 4,
   "metadata": {
    "id": "_vsKinGUWVwk",
    "scrolled": false
   },
   "outputs": [],
   "source": [
    "try:\n",
    "    events = pd.read_csv('/final_ab_events.csv')\n",
    "    marketing = pd.read_csv('/ab_project_marketing_events.csv')\n",
    "    users = pd.read_csv('/final_ab_new_users.csv')\n",
    "    participants = pd.read_csv('/final_ab_participants.csv')\n",
    "except:\n",
    "    events = pd.read_csv('https://code.s3.yandex.net/datasets/final_ab_events.csv') \n",
    "    marketing = pd.read_csv('https://code.s3.yandex.net/datasets/ab_project_marketing_events.csv')\n",
    "    users = pd.read_csv('https://code.s3.yandex.net/datasets/final_ab_new_users.csv')\n",
    "    participants = pd.read_csv('https://code.s3.yandex.net/datasets/final_ab_participants.csv')\n",
    "#    events = pd.read_csv(r'C:\\Users\\gaida\\Downloads\\final_ab_events.csv') \n",
    "#    marketing = pd.read_csv(r'C:\\Users\\gaida\\Downloads\\ab_project_marketing_events.csv')\n",
    "#    users = pd.read_csv(r'C:\\Users\\gaida\\Downloads\\final_ab_new_users.csv')\n",
    "#    participants = pd.read_csv(r'C:\\Users\\gaida\\Downloads\\final_ab_participants.csv')    "
   ]
  },
  {
   "cell_type": "code",
   "execution_count": 5,
   "metadata": {},
   "outputs": [],
   "source": [
    "#функция для ознакомления с основной информацией\n",
    "def information_df(metod): \n",
    "    print('\\033[1m' +  'Ознакомимся с таблицей, для этого выведем первые 5 строк на экран.' + '\\033[0m')\n",
    "    display(metod.head())\n",
    "    print('-'* 25)    \n",
    "    print('\\033[1m' +  'Выведем основную информацию таблицы с помощью метода info().' + '\\033[0m')\n",
    "    print(' ')\n",
    "    display(metod.info())\n",
    "    print('\\033[1m' +  'Размер датафрейма:' + '\\033[0m', metod.shape)\n",
    "    print('-'* 25)\n",
    "    print('\\033[1m' +  'Количество явных дубликатов  в таблице:' + '\\033[0m', metod.duplicated().sum())\n",
    "    print('-'* 25)\n",
    "    print('\\033[1m' +  'Количество пропущенных значений в таблице:' + '\\033[0m')\n",
    "    #display(metod.isna().sum())\n",
    "    for col in metod.columns:\n",
    "        #print('-'* 25)\n",
    "        print('\\033[1m' + col + '\\033[0m', ': кол-во NaN', metod[col].isna().sum(),\n",
    "       ', процент NaN', round(metod[col].isna().mean()*100,2),'%')\n",
    "    print('-'* 25)\n",
    "    #print('\\033[1m' +  'Ознакомимся с данными таблицы методом describe().' + '\\033[0m')\n",
    "    #display(metod.describe())"
   ]
  },
  {
   "cell_type": "markdown",
   "metadata": {},
   "source": [
    "***Изучим данные таблицы `'marketing'` - календарь маркетинговых событий на 2020 год.***"
   ]
  },
  {
   "cell_type": "code",
   "execution_count": 6,
   "metadata": {},
   "outputs": [
    {
     "name": "stdout",
     "output_type": "stream",
     "text": [
      "\u001b[1mОзнакомимся с таблицей, для этого выведем первые 5 строк на экран.\u001b[0m\n"
     ]
    },
    {
     "data": {
      "text/html": [
       "<div>\n",
       "<style scoped>\n",
       "    .dataframe tbody tr th:only-of-type {\n",
       "        vertical-align: middle;\n",
       "    }\n",
       "\n",
       "    .dataframe tbody tr th {\n",
       "        vertical-align: top;\n",
       "    }\n",
       "\n",
       "    .dataframe thead th {\n",
       "        text-align: right;\n",
       "    }\n",
       "</style>\n",
       "<table border=\"1\" class=\"dataframe\">\n",
       "  <thead>\n",
       "    <tr style=\"text-align: right;\">\n",
       "      <th></th>\n",
       "      <th>name</th>\n",
       "      <th>regions</th>\n",
       "      <th>start_dt</th>\n",
       "      <th>finish_dt</th>\n",
       "    </tr>\n",
       "  </thead>\n",
       "  <tbody>\n",
       "    <tr>\n",
       "      <th>0</th>\n",
       "      <td>Christmas&amp;New Year Promo</td>\n",
       "      <td>EU, N.America</td>\n",
       "      <td>2020-12-25</td>\n",
       "      <td>2021-01-03</td>\n",
       "    </tr>\n",
       "    <tr>\n",
       "      <th>1</th>\n",
       "      <td>St. Valentine's Day Giveaway</td>\n",
       "      <td>EU, CIS, APAC, N.America</td>\n",
       "      <td>2020-02-14</td>\n",
       "      <td>2020-02-16</td>\n",
       "    </tr>\n",
       "    <tr>\n",
       "      <th>2</th>\n",
       "      <td>St. Patric's Day Promo</td>\n",
       "      <td>EU, N.America</td>\n",
       "      <td>2020-03-17</td>\n",
       "      <td>2020-03-19</td>\n",
       "    </tr>\n",
       "    <tr>\n",
       "      <th>3</th>\n",
       "      <td>Easter Promo</td>\n",
       "      <td>EU, CIS, APAC, N.America</td>\n",
       "      <td>2020-04-12</td>\n",
       "      <td>2020-04-19</td>\n",
       "    </tr>\n",
       "    <tr>\n",
       "      <th>4</th>\n",
       "      <td>4th of July Promo</td>\n",
       "      <td>N.America</td>\n",
       "      <td>2020-07-04</td>\n",
       "      <td>2020-07-11</td>\n",
       "    </tr>\n",
       "  </tbody>\n",
       "</table>\n",
       "</div>"
      ],
      "text/plain": [
       "                           name                   regions    start_dt  \\\n",
       "0      Christmas&New Year Promo             EU, N.America  2020-12-25   \n",
       "1  St. Valentine's Day Giveaway  EU, CIS, APAC, N.America  2020-02-14   \n",
       "2        St. Patric's Day Promo             EU, N.America  2020-03-17   \n",
       "3                  Easter Promo  EU, CIS, APAC, N.America  2020-04-12   \n",
       "4             4th of July Promo                 N.America  2020-07-04   \n",
       "\n",
       "    finish_dt  \n",
       "0  2021-01-03  \n",
       "1  2020-02-16  \n",
       "2  2020-03-19  \n",
       "3  2020-04-19  \n",
       "4  2020-07-11  "
      ]
     },
     "metadata": {},
     "output_type": "display_data"
    },
    {
     "name": "stdout",
     "output_type": "stream",
     "text": [
      "-------------------------\n",
      "\u001b[1mВыведем основную информацию таблицы с помощью метода info().\u001b[0m\n",
      " \n",
      "<class 'pandas.core.frame.DataFrame'>\n",
      "RangeIndex: 14 entries, 0 to 13\n",
      "Data columns (total 4 columns):\n",
      " #   Column     Non-Null Count  Dtype \n",
      "---  ------     --------------  ----- \n",
      " 0   name       14 non-null     object\n",
      " 1   regions    14 non-null     object\n",
      " 2   start_dt   14 non-null     object\n",
      " 3   finish_dt  14 non-null     object\n",
      "dtypes: object(4)\n",
      "memory usage: 576.0+ bytes\n"
     ]
    },
    {
     "data": {
      "text/plain": [
       "None"
      ]
     },
     "metadata": {},
     "output_type": "display_data"
    },
    {
     "name": "stdout",
     "output_type": "stream",
     "text": [
      "\u001b[1mРазмер датафрейма:\u001b[0m (14, 4)\n",
      "-------------------------\n",
      "\u001b[1mКоличество явных дубликатов  в таблице:\u001b[0m 0\n",
      "-------------------------\n",
      "\u001b[1mКоличество пропущенных значений в таблице:\u001b[0m\n",
      "\u001b[1mname\u001b[0m : кол-во NaN 0 , процент NaN 0.0 %\n",
      "\u001b[1mregions\u001b[0m : кол-во NaN 0 , процент NaN 0.0 %\n",
      "\u001b[1mstart_dt\u001b[0m : кол-во NaN 0 , процент NaN 0.0 %\n",
      "\u001b[1mfinish_dt\u001b[0m : кол-во NaN 0 , процент NaN 0.0 %\n",
      "-------------------------\n"
     ]
    }
   ],
   "source": [
    "information_df(marketing)"
   ]
  },
  {
   "cell_type": "markdown",
   "metadata": {},
   "source": [
    "Рассмотрев исходные данные, можно выделить следующее:\n",
    "\n",
    "- таблица состоит из 4 столбцов и 14 строк;\n",
    "\n",
    "\n",
    "- явные дубликаты отсутствуют;\n",
    "\n",
    "\n",
    "- пропуски отсутствуют;\n",
    "\n",
    "\n",
    "- необходимо изменить тип данных в столбцах 'start_dt' и 'finish_dt'."
   ]
  },
  {
   "cell_type": "markdown",
   "metadata": {},
   "source": [
    "***Изучим данные таблицы `'events'` - действия новых пользователей в период с 7 декабря 2020 по 4 января 2021 года.***"
   ]
  },
  {
   "cell_type": "code",
   "execution_count": 7,
   "metadata": {},
   "outputs": [
    {
     "name": "stdout",
     "output_type": "stream",
     "text": [
      "\u001b[1mОзнакомимся с таблицей, для этого выведем первые 5 строк на экран.\u001b[0m\n"
     ]
    },
    {
     "data": {
      "text/html": [
       "<div>\n",
       "<style scoped>\n",
       "    .dataframe tbody tr th:only-of-type {\n",
       "        vertical-align: middle;\n",
       "    }\n",
       "\n",
       "    .dataframe tbody tr th {\n",
       "        vertical-align: top;\n",
       "    }\n",
       "\n",
       "    .dataframe thead th {\n",
       "        text-align: right;\n",
       "    }\n",
       "</style>\n",
       "<table border=\"1\" class=\"dataframe\">\n",
       "  <thead>\n",
       "    <tr style=\"text-align: right;\">\n",
       "      <th></th>\n",
       "      <th>user_id</th>\n",
       "      <th>event_dt</th>\n",
       "      <th>event_name</th>\n",
       "      <th>details</th>\n",
       "    </tr>\n",
       "  </thead>\n",
       "  <tbody>\n",
       "    <tr>\n",
       "      <th>0</th>\n",
       "      <td>E1BDDCE0DAFA2679</td>\n",
       "      <td>2020-12-07 20:22:03</td>\n",
       "      <td>purchase</td>\n",
       "      <td>99.99</td>\n",
       "    </tr>\n",
       "    <tr>\n",
       "      <th>1</th>\n",
       "      <td>7B6452F081F49504</td>\n",
       "      <td>2020-12-07 09:22:53</td>\n",
       "      <td>purchase</td>\n",
       "      <td>9.99</td>\n",
       "    </tr>\n",
       "    <tr>\n",
       "      <th>2</th>\n",
       "      <td>9CD9F34546DF254C</td>\n",
       "      <td>2020-12-07 12:59:29</td>\n",
       "      <td>purchase</td>\n",
       "      <td>4.99</td>\n",
       "    </tr>\n",
       "    <tr>\n",
       "      <th>3</th>\n",
       "      <td>96F27A054B191457</td>\n",
       "      <td>2020-12-07 04:02:40</td>\n",
       "      <td>purchase</td>\n",
       "      <td>4.99</td>\n",
       "    </tr>\n",
       "    <tr>\n",
       "      <th>4</th>\n",
       "      <td>1FD7660FDF94CA1F</td>\n",
       "      <td>2020-12-07 10:15:09</td>\n",
       "      <td>purchase</td>\n",
       "      <td>4.99</td>\n",
       "    </tr>\n",
       "  </tbody>\n",
       "</table>\n",
       "</div>"
      ],
      "text/plain": [
       "            user_id             event_dt event_name  details\n",
       "0  E1BDDCE0DAFA2679  2020-12-07 20:22:03   purchase    99.99\n",
       "1  7B6452F081F49504  2020-12-07 09:22:53   purchase     9.99\n",
       "2  9CD9F34546DF254C  2020-12-07 12:59:29   purchase     4.99\n",
       "3  96F27A054B191457  2020-12-07 04:02:40   purchase     4.99\n",
       "4  1FD7660FDF94CA1F  2020-12-07 10:15:09   purchase     4.99"
      ]
     },
     "metadata": {},
     "output_type": "display_data"
    },
    {
     "name": "stdout",
     "output_type": "stream",
     "text": [
      "-------------------------\n",
      "\u001b[1mВыведем основную информацию таблицы с помощью метода info().\u001b[0m\n",
      " \n",
      "<class 'pandas.core.frame.DataFrame'>\n",
      "RangeIndex: 440317 entries, 0 to 440316\n",
      "Data columns (total 4 columns):\n",
      " #   Column      Non-Null Count   Dtype  \n",
      "---  ------      --------------   -----  \n",
      " 0   user_id     440317 non-null  object \n",
      " 1   event_dt    440317 non-null  object \n",
      " 2   event_name  440317 non-null  object \n",
      " 3   details     62740 non-null   float64\n",
      "dtypes: float64(1), object(3)\n",
      "memory usage: 13.4+ MB\n"
     ]
    },
    {
     "data": {
      "text/plain": [
       "None"
      ]
     },
     "metadata": {},
     "output_type": "display_data"
    },
    {
     "name": "stdout",
     "output_type": "stream",
     "text": [
      "\u001b[1mРазмер датафрейма:\u001b[0m (440317, 4)\n",
      "-------------------------\n",
      "\u001b[1mКоличество явных дубликатов  в таблице:\u001b[0m 0\n",
      "-------------------------\n",
      "\u001b[1mКоличество пропущенных значений в таблице:\u001b[0m\n",
      "\u001b[1muser_id\u001b[0m : кол-во NaN 0 , процент NaN 0.0 %\n",
      "\u001b[1mevent_dt\u001b[0m : кол-во NaN 0 , процент NaN 0.0 %\n",
      "\u001b[1mevent_name\u001b[0m : кол-во NaN 0 , процент NaN 0.0 %\n",
      "\u001b[1mdetails\u001b[0m : кол-во NaN 377577 , процент NaN 85.75 %\n",
      "-------------------------\n"
     ]
    }
   ],
   "source": [
    "information_df(events)"
   ]
  },
  {
   "cell_type": "markdown",
   "metadata": {},
   "source": [
    "Рассмотрев исходные данные, можно выделить следующее:\n",
    "\n",
    "- таблица состоит из 4 столбцов и 440317 строк;\n",
    "\n",
    "\n",
    "- явные дубликаты отсутствуют;\n",
    "\n",
    "\n",
    "- пропуски имеются в столбце 'details', их объем 87,75%, это очень большой процент;\n",
    "\n",
    "\n",
    "- необходимо изменить тип данных в столбце 'event_dt'."
   ]
  },
  {
   "cell_type": "markdown",
   "metadata": {},
   "source": [
    "***Изучим данные таблицы `'users'` - пользователи, зарегистрировавшиеся с 7 до 21 декабря 2020 года..***"
   ]
  },
  {
   "cell_type": "code",
   "execution_count": 8,
   "metadata": {},
   "outputs": [
    {
     "name": "stdout",
     "output_type": "stream",
     "text": [
      "\u001b[1mОзнакомимся с таблицей, для этого выведем первые 5 строк на экран.\u001b[0m\n"
     ]
    },
    {
     "data": {
      "text/html": [
       "<div>\n",
       "<style scoped>\n",
       "    .dataframe tbody tr th:only-of-type {\n",
       "        vertical-align: middle;\n",
       "    }\n",
       "\n",
       "    .dataframe tbody tr th {\n",
       "        vertical-align: top;\n",
       "    }\n",
       "\n",
       "    .dataframe thead th {\n",
       "        text-align: right;\n",
       "    }\n",
       "</style>\n",
       "<table border=\"1\" class=\"dataframe\">\n",
       "  <thead>\n",
       "    <tr style=\"text-align: right;\">\n",
       "      <th></th>\n",
       "      <th>user_id</th>\n",
       "      <th>first_date</th>\n",
       "      <th>region</th>\n",
       "      <th>device</th>\n",
       "    </tr>\n",
       "  </thead>\n",
       "  <tbody>\n",
       "    <tr>\n",
       "      <th>0</th>\n",
       "      <td>D72A72121175D8BE</td>\n",
       "      <td>2020-12-07</td>\n",
       "      <td>EU</td>\n",
       "      <td>PC</td>\n",
       "    </tr>\n",
       "    <tr>\n",
       "      <th>1</th>\n",
       "      <td>F1C668619DFE6E65</td>\n",
       "      <td>2020-12-07</td>\n",
       "      <td>N.America</td>\n",
       "      <td>Android</td>\n",
       "    </tr>\n",
       "    <tr>\n",
       "      <th>2</th>\n",
       "      <td>2E1BF1D4C37EA01F</td>\n",
       "      <td>2020-12-07</td>\n",
       "      <td>EU</td>\n",
       "      <td>PC</td>\n",
       "    </tr>\n",
       "    <tr>\n",
       "      <th>3</th>\n",
       "      <td>50734A22C0C63768</td>\n",
       "      <td>2020-12-07</td>\n",
       "      <td>EU</td>\n",
       "      <td>iPhone</td>\n",
       "    </tr>\n",
       "    <tr>\n",
       "      <th>4</th>\n",
       "      <td>E1BDDCE0DAFA2679</td>\n",
       "      <td>2020-12-07</td>\n",
       "      <td>N.America</td>\n",
       "      <td>iPhone</td>\n",
       "    </tr>\n",
       "  </tbody>\n",
       "</table>\n",
       "</div>"
      ],
      "text/plain": [
       "            user_id  first_date     region   device\n",
       "0  D72A72121175D8BE  2020-12-07         EU       PC\n",
       "1  F1C668619DFE6E65  2020-12-07  N.America  Android\n",
       "2  2E1BF1D4C37EA01F  2020-12-07         EU       PC\n",
       "3  50734A22C0C63768  2020-12-07         EU   iPhone\n",
       "4  E1BDDCE0DAFA2679  2020-12-07  N.America   iPhone"
      ]
     },
     "metadata": {},
     "output_type": "display_data"
    },
    {
     "name": "stdout",
     "output_type": "stream",
     "text": [
      "-------------------------\n",
      "\u001b[1mВыведем основную информацию таблицы с помощью метода info().\u001b[0m\n",
      " \n",
      "<class 'pandas.core.frame.DataFrame'>\n",
      "RangeIndex: 61733 entries, 0 to 61732\n",
      "Data columns (total 4 columns):\n",
      " #   Column      Non-Null Count  Dtype \n",
      "---  ------      --------------  ----- \n",
      " 0   user_id     61733 non-null  object\n",
      " 1   first_date  61733 non-null  object\n",
      " 2   region      61733 non-null  object\n",
      " 3   device      61733 non-null  object\n",
      "dtypes: object(4)\n",
      "memory usage: 1.9+ MB\n"
     ]
    },
    {
     "data": {
      "text/plain": [
       "None"
      ]
     },
     "metadata": {},
     "output_type": "display_data"
    },
    {
     "name": "stdout",
     "output_type": "stream",
     "text": [
      "\u001b[1mРазмер датафрейма:\u001b[0m (61733, 4)\n",
      "-------------------------\n",
      "\u001b[1mКоличество явных дубликатов  в таблице:\u001b[0m 0\n",
      "-------------------------\n",
      "\u001b[1mКоличество пропущенных значений в таблице:\u001b[0m\n",
      "\u001b[1muser_id\u001b[0m : кол-во NaN 0 , процент NaN 0.0 %\n",
      "\u001b[1mfirst_date\u001b[0m : кол-во NaN 0 , процент NaN 0.0 %\n",
      "\u001b[1mregion\u001b[0m : кол-во NaN 0 , процент NaN 0.0 %\n",
      "\u001b[1mdevice\u001b[0m : кол-во NaN 0 , процент NaN 0.0 %\n",
      "-------------------------\n"
     ]
    }
   ],
   "source": [
    "information_df(users)"
   ]
  },
  {
   "cell_type": "markdown",
   "metadata": {},
   "source": [
    "Рассмотрев исходные данные, можно выделить следующее:\n",
    "\n",
    "- таблица состоит из 4 столбцов и 61733 строк;\n",
    "\n",
    "\n",
    "- явные дубликаты отсутствуют;\n",
    "\n",
    "\n",
    "- пропуски отсутствуют;\n",
    "\n",
    "\n",
    "- необходимо изменить тип данных в столбце 'first_date'."
   ]
  },
  {
   "cell_type": "markdown",
   "metadata": {},
   "source": [
    "***Изучим данные таблицы `'participants'` - таблица участников тестов.***"
   ]
  },
  {
   "cell_type": "code",
   "execution_count": 9,
   "metadata": {},
   "outputs": [
    {
     "name": "stdout",
     "output_type": "stream",
     "text": [
      "\u001b[1mОзнакомимся с таблицей, для этого выведем первые 5 строк на экран.\u001b[0m\n"
     ]
    },
    {
     "data": {
      "text/html": [
       "<div>\n",
       "<style scoped>\n",
       "    .dataframe tbody tr th:only-of-type {\n",
       "        vertical-align: middle;\n",
       "    }\n",
       "\n",
       "    .dataframe tbody tr th {\n",
       "        vertical-align: top;\n",
       "    }\n",
       "\n",
       "    .dataframe thead th {\n",
       "        text-align: right;\n",
       "    }\n",
       "</style>\n",
       "<table border=\"1\" class=\"dataframe\">\n",
       "  <thead>\n",
       "    <tr style=\"text-align: right;\">\n",
       "      <th></th>\n",
       "      <th>user_id</th>\n",
       "      <th>group</th>\n",
       "      <th>ab_test</th>\n",
       "    </tr>\n",
       "  </thead>\n",
       "  <tbody>\n",
       "    <tr>\n",
       "      <th>0</th>\n",
       "      <td>D1ABA3E2887B6A73</td>\n",
       "      <td>A</td>\n",
       "      <td>recommender_system_test</td>\n",
       "    </tr>\n",
       "    <tr>\n",
       "      <th>1</th>\n",
       "      <td>A7A3664BD6242119</td>\n",
       "      <td>A</td>\n",
       "      <td>recommender_system_test</td>\n",
       "    </tr>\n",
       "    <tr>\n",
       "      <th>2</th>\n",
       "      <td>DABC14FDDFADD29E</td>\n",
       "      <td>A</td>\n",
       "      <td>recommender_system_test</td>\n",
       "    </tr>\n",
       "    <tr>\n",
       "      <th>3</th>\n",
       "      <td>04988C5DF189632E</td>\n",
       "      <td>A</td>\n",
       "      <td>recommender_system_test</td>\n",
       "    </tr>\n",
       "    <tr>\n",
       "      <th>4</th>\n",
       "      <td>482F14783456D21B</td>\n",
       "      <td>B</td>\n",
       "      <td>recommender_system_test</td>\n",
       "    </tr>\n",
       "  </tbody>\n",
       "</table>\n",
       "</div>"
      ],
      "text/plain": [
       "            user_id group                  ab_test\n",
       "0  D1ABA3E2887B6A73     A  recommender_system_test\n",
       "1  A7A3664BD6242119     A  recommender_system_test\n",
       "2  DABC14FDDFADD29E     A  recommender_system_test\n",
       "3  04988C5DF189632E     A  recommender_system_test\n",
       "4  482F14783456D21B     B  recommender_system_test"
      ]
     },
     "metadata": {},
     "output_type": "display_data"
    },
    {
     "name": "stdout",
     "output_type": "stream",
     "text": [
      "-------------------------\n",
      "\u001b[1mВыведем основную информацию таблицы с помощью метода info().\u001b[0m\n",
      " \n",
      "<class 'pandas.core.frame.DataFrame'>\n",
      "RangeIndex: 18268 entries, 0 to 18267\n",
      "Data columns (total 3 columns):\n",
      " #   Column   Non-Null Count  Dtype \n",
      "---  ------   --------------  ----- \n",
      " 0   user_id  18268 non-null  object\n",
      " 1   group    18268 non-null  object\n",
      " 2   ab_test  18268 non-null  object\n",
      "dtypes: object(3)\n",
      "memory usage: 428.3+ KB\n"
     ]
    },
    {
     "data": {
      "text/plain": [
       "None"
      ]
     },
     "metadata": {},
     "output_type": "display_data"
    },
    {
     "name": "stdout",
     "output_type": "stream",
     "text": [
      "\u001b[1mРазмер датафрейма:\u001b[0m (18268, 3)\n",
      "-------------------------\n",
      "\u001b[1mКоличество явных дубликатов  в таблице:\u001b[0m 0\n",
      "-------------------------\n",
      "\u001b[1mКоличество пропущенных значений в таблице:\u001b[0m\n",
      "\u001b[1muser_id\u001b[0m : кол-во NaN 0 , процент NaN 0.0 %\n",
      "\u001b[1mgroup\u001b[0m : кол-во NaN 0 , процент NaN 0.0 %\n",
      "\u001b[1mab_test\u001b[0m : кол-во NaN 0 , процент NaN 0.0 %\n",
      "-------------------------\n"
     ]
    }
   ],
   "source": [
    "information_df(participants)"
   ]
  },
  {
   "cell_type": "markdown",
   "metadata": {},
   "source": [
    "**Рассмотрев исходные данные, можно выделить следующее:**\n",
    "\n",
    "- таблица состоит из 3 столбцов и 18268 строк;\n",
    "\n",
    "\n",
    "- явные дубликаты отсутствуют;\n",
    "\n",
    "\n",
    "- пропуски отсутствуют;\n",
    "\n",
    "\n",
    "- у всех столбцов соответствующий им тип данных."
   ]
  },
  {
   "cell_type": "markdown",
   "metadata": {},
   "source": [
    "#### Изменение типа данных в необходимых столбцах."
   ]
  },
  {
   "cell_type": "code",
   "execution_count": 10,
   "metadata": {},
   "outputs": [
    {
     "data": {
      "text/plain": [
       "name                 object\n",
       "regions              object\n",
       "start_dt     datetime64[ns]\n",
       "finish_dt    datetime64[ns]\n",
       "dtype: object"
      ]
     },
     "metadata": {},
     "output_type": "display_data"
    },
    {
     "data": {
      "text/plain": [
       "user_id               object\n",
       "event_dt      datetime64[ns]\n",
       "event_name            object\n",
       "details              float64\n",
       "dtype: object"
      ]
     },
     "metadata": {},
     "output_type": "display_data"
    },
    {
     "data": {
      "text/plain": [
       "user_id               object\n",
       "first_date    datetime64[ns]\n",
       "region                object\n",
       "device                object\n",
       "dtype: object"
      ]
     },
     "metadata": {},
     "output_type": "display_data"
    }
   ],
   "source": [
    "marketing['start_dt'] = pd.to_datetime(marketing['start_dt'])\n",
    "marketing['finish_dt'] = pd.to_datetime(marketing['finish_dt'])\n",
    "events['event_dt'] = pd.to_datetime(events['event_dt'])\n",
    "users['first_date'] = pd.to_datetime(users['first_date'])\n",
    "display(marketing.dtypes)\n",
    "display(events.dtypes)\n",
    "display(users.dtypes)"
   ]
  },
  {
   "cell_type": "markdown",
   "metadata": {},
   "source": [
    "#### Изучение пропущенных данных."
   ]
  },
  {
   "cell_type": "markdown",
   "metadata": {},
   "source": [
    "Проверим как распределены события в данных с пропусками и без."
   ]
  },
  {
   "cell_type": "code",
   "execution_count": 11,
   "metadata": {},
   "outputs": [
    {
     "data": {
      "text/plain": [
       "array(['purchase', 'product_cart', 'product_page', 'login'], dtype=object)"
      ]
     },
     "execution_count": 11,
     "metadata": {},
     "output_type": "execute_result"
    }
   ],
   "source": [
    "events['event_name'].unique()"
   ]
  },
  {
   "cell_type": "code",
   "execution_count": 12,
   "metadata": {},
   "outputs": [
    {
     "data": {
      "text/plain": [
       "login          0.50\n",
       "product_page   0.33\n",
       "product_cart   0.17\n",
       "Name: event_name, dtype: float64"
      ]
     },
     "execution_count": 12,
     "metadata": {},
     "output_type": "execute_result"
    }
   ],
   "source": [
    "events[events['details'].isna()]['event_name'].value_counts(normalize=True)"
   ]
  },
  {
   "cell_type": "code",
   "execution_count": 13,
   "metadata": {},
   "outputs": [
    {
     "data": {
      "text/plain": [
       "purchase   1.00\n",
       "Name: event_name, dtype: float64"
      ]
     },
     "execution_count": 13,
     "metadata": {},
     "output_type": "execute_result"
    }
   ],
   "source": [
    "events[events['details'].notna()]['event_name'].value_counts(normalize=True)"
   ]
  },
  {
   "cell_type": "markdown",
   "metadata": {},
   "source": [
    "В данных с пропусками в столбце 'details' присутствуют только 3 события из 4 возможных. \n",
    "\n",
    "Следовательно пропуски относятся к типу MNAR (Missing Not At Random / Отсутствует не случайно) и напрямую зависят от значения 'purchase' в столбце 'event_name'. \n",
    "\n",
    "Столбец 'details' хранит в себе только данные о сумме покупки."
   ]
  },
  {
   "cell_type": "markdown",
   "metadata": {},
   "source": [
    "**Вывод по предобработке:**\n",
    "- таблица 'marketing' - календарь маркетинговых событий на 2020 год.:\n",
    "    - таблица состоит из 4 столбцов и 14 строк;\n",
    "    \n",
    "    - явные дубликаты отсутствуют;\n",
    "    \n",
    "    - пропуски отсутствуют;\n",
    "    \n",
    "    - необходимо изменить тип данных в столбцах 'start_dt' и 'finish_dt'.\n",
    "    \n",
    "- таблица 'events' - действия новых пользователей в период с 7 декабря 2020 по 4 января 2021 года:\n",
    "    - таблица состоит из 4 столбцов и 440317 строк;\n",
    "\n",
    "    - явные дубликаты отсутствуют;\n",
    "\n",
    "    - пропуски имеются в столбце 'details', их объем 87,75%, это очень большой процент;\n",
    "\n",
    "    - необходимо изменить тип данных в столбце 'event_dt'.\n",
    "\n",
    "- таблица 'users' - пользователи, зарегистрировавшиеся с 7 до 21 декабря 2020 год:\n",
    "    - таблица состоит из 4 столбцов и 61733 строк;\n",
    "\n",
    "    - явные дубликаты отсутствуют;\n",
    "\n",
    "    - пропуски отсутствуют;\n",
    "\n",
    "    - необходимо изменить тип данных в столбце 'first_date'.\n",
    "- таблица 'participants' - таблица участников тестов.\n",
    "    - таблица состоит из 3 столбцов и 18268 строк;\n",
    "\n",
    "    - явные дубликаты отсутствуют;\n",
    "\n",
    "    - пропуски отсутствуют;\n",
    "\n",
    "    - у всех столбцов соответствующий им тип данных.\n",
    "    \n",
    "Заменены типы данных в столбцах.\n",
    "\n",
    "Рассмотрены пропуски в данных."
   ]
  },
  {
   "cell_type": "markdown",
   "metadata": {
    "id": "AS1eCqCpWVwk"
   },
   "source": [
    "### Оценка корректности проведения теста.\n",
    "<a id=\"technical_task0\"></a> "
   ]
  },
  {
   "cell_type": "markdown",
   "metadata": {},
   "source": [
    "#### Соответствие данных требованиям технического задания.\n",
    "<a id=\"technical_task1\"></a> "
   ]
  },
  {
   "cell_type": "markdown",
   "metadata": {},
   "source": [
    "**Техническое задание**\n",
    "\n",
    "- Название теста: `recommender_system_test`;\n",
    "- группы: А — контрольная, B — новая платёжная воронка;\n",
    "- дата запуска: 2020-12-07;\n",
    "- дата остановки набора новых пользователей: 2020-12-21;\n",
    "- дата остановки: 2021-01-04;\n",
    "- аудитория: в тест должно быть отобрано 15% новых пользователей из региона EU;\n",
    "- назначение теста: тестирование изменений, связанных с внедрением улучшенной рекомендательной системы;\n",
    "- ожидаемое количество участников теста: 6000.\n",
    "- ожидаемый эффект: за 14 дней с момента регистрации пользователи покажут улучшение каждой метрики не менее, чем на 10%:\n",
    "    - конверсии в просмотр карточек товаров — событие `product_page`,\n",
    "    - просмотры корзины — `product_cart`,\n",
    "    - покупки — `purchase`."
   ]
  },
  {
   "cell_type": "markdown",
   "metadata": {},
   "source": [
    "Объединим таблицы 'users' с набором новых пользователей и таблицу 'participants' с участниками теста, чтобы проверить данные на соответствие ТЗ."
   ]
  },
  {
   "cell_type": "code",
   "execution_count": 14,
   "metadata": {},
   "outputs": [
    {
     "name": "stdout",
     "output_type": "stream",
     "text": [
      "количество строк в таблице participants до объединения: 18268\n",
      "количество уникальных пользователей в таблице participants до объединения: 16666\n",
      "количество строк после объединения: 18268\n",
      "количество уникальных пользователей после объединения: 16666\n",
      "<class 'pandas.core.frame.DataFrame'>\n",
      "Int64Index: 18268 entries, 0 to 18267\n",
      "Data columns (total 6 columns):\n",
      " #   Column      Non-Null Count  Dtype         \n",
      "---  ------      --------------  -----         \n",
      " 0   user_id     18268 non-null  object        \n",
      " 1   group       18268 non-null  object        \n",
      " 2   ab_test     18268 non-null  object        \n",
      " 3   first_date  18268 non-null  datetime64[ns]\n",
      " 4   region      18268 non-null  object        \n",
      " 5   device      18268 non-null  object        \n",
      "dtypes: datetime64[ns](1), object(5)\n",
      "memory usage: 999.0+ KB\n"
     ]
    }
   ],
   "source": [
    "print('количество строк в таблице participants до объединения:', len(participants))\n",
    "print('количество уникальных пользователей в таблице participants до объединения:', participants['user_id'].nunique())\n",
    "test_data = participants.merge(users, on='user_id', how='left')\n",
    "print('количество строк после объединения:', len(participants))\n",
    "print('количество уникальных пользователей после объединения:', test_data['user_id'].nunique())\n",
    "test_data.info()"
   ]
  },
  {
   "cell_type": "code",
   "execution_count": 15,
   "metadata": {},
   "outputs": [
    {
     "data": {
      "text/html": [
       "<div>\n",
       "<style scoped>\n",
       "    .dataframe tbody tr th:only-of-type {\n",
       "        vertical-align: middle;\n",
       "    }\n",
       "\n",
       "    .dataframe tbody tr th {\n",
       "        vertical-align: top;\n",
       "    }\n",
       "\n",
       "    .dataframe thead th {\n",
       "        text-align: right;\n",
       "    }\n",
       "</style>\n",
       "<table border=\"1\" class=\"dataframe\">\n",
       "  <thead>\n",
       "    <tr style=\"text-align: right;\">\n",
       "      <th></th>\n",
       "      <th>user_id</th>\n",
       "      <th>group</th>\n",
       "      <th>ab_test</th>\n",
       "      <th>first_date</th>\n",
       "      <th>region</th>\n",
       "      <th>device</th>\n",
       "    </tr>\n",
       "  </thead>\n",
       "  <tbody>\n",
       "    <tr>\n",
       "      <th>count</th>\n",
       "      <td>18268</td>\n",
       "      <td>18268</td>\n",
       "      <td>18268</td>\n",
       "      <td>18268</td>\n",
       "      <td>18268</td>\n",
       "      <td>18268</td>\n",
       "    </tr>\n",
       "    <tr>\n",
       "      <th>unique</th>\n",
       "      <td>16666</td>\n",
       "      <td>2</td>\n",
       "      <td>2</td>\n",
       "      <td>17</td>\n",
       "      <td>4</td>\n",
       "      <td>4</td>\n",
       "    </tr>\n",
       "    <tr>\n",
       "      <th>top</th>\n",
       "      <td>A4F18DF9C484EDC0</td>\n",
       "      <td>A</td>\n",
       "      <td>interface_eu_test</td>\n",
       "      <td>2020-12-21 00:00:00</td>\n",
       "      <td>EU</td>\n",
       "      <td>Android</td>\n",
       "    </tr>\n",
       "    <tr>\n",
       "      <th>freq</th>\n",
       "      <td>2</td>\n",
       "      <td>9655</td>\n",
       "      <td>11567</td>\n",
       "      <td>1903</td>\n",
       "      <td>17918</td>\n",
       "      <td>8155</td>\n",
       "    </tr>\n",
       "    <tr>\n",
       "      <th>first</th>\n",
       "      <td>NaN</td>\n",
       "      <td>NaN</td>\n",
       "      <td>NaN</td>\n",
       "      <td>2020-12-07 00:00:00</td>\n",
       "      <td>NaN</td>\n",
       "      <td>NaN</td>\n",
       "    </tr>\n",
       "    <tr>\n",
       "      <th>last</th>\n",
       "      <td>NaN</td>\n",
       "      <td>NaN</td>\n",
       "      <td>NaN</td>\n",
       "      <td>2020-12-23 00:00:00</td>\n",
       "      <td>NaN</td>\n",
       "      <td>NaN</td>\n",
       "    </tr>\n",
       "  </tbody>\n",
       "</table>\n",
       "</div>"
      ],
      "text/plain": [
       "                 user_id  group            ab_test           first_date  \\\n",
       "count              18268  18268              18268                18268   \n",
       "unique             16666      2                  2                   17   \n",
       "top     A4F18DF9C484EDC0      A  interface_eu_test  2020-12-21 00:00:00   \n",
       "freq                   2   9655              11567                 1903   \n",
       "first                NaN    NaN                NaN  2020-12-07 00:00:00   \n",
       "last                 NaN    NaN                NaN  2020-12-23 00:00:00   \n",
       "\n",
       "       region   device  \n",
       "count   18268    18268  \n",
       "unique      4        4  \n",
       "top        EU  Android  \n",
       "freq    17918     8155  \n",
       "first     NaN      NaN  \n",
       "last      NaN      NaN  "
      ]
     },
     "execution_count": 15,
     "metadata": {},
     "output_type": "execute_result"
    }
   ],
   "source": [
    "test_data.describe()"
   ]
  },
  {
   "cell_type": "markdown",
   "metadata": {},
   "source": [
    "Таблицы объединены без пропусков. В получившейся таблице:\n",
    "- 16666 уникальных пользователя из 18268 (дубликатов быть не должно, далее подробнее рассмотрим дубликаты);\n",
    "- уникальных групп 2 - верно;\n",
    "- столбец ab_test содержит 2 уникальных значения, необходимо проверить;\n",
    "- временной интервал 07.12.2020 - 23.12.2020;\n",
    "- 4 уникальных региона и столько же устройств."
   ]
  },
  {
   "cell_type": "code",
   "execution_count": 16,
   "metadata": {},
   "outputs": [
    {
     "data": {
      "text/plain": [
       "array(['recommender_system_test', 'interface_eu_test'], dtype=object)"
      ]
     },
     "execution_count": 16,
     "metadata": {},
     "output_type": "execute_result"
    }
   ],
   "source": [
    "test_data['ab_test'].unique()"
   ]
  },
  {
   "cell_type": "markdown",
   "metadata": {},
   "source": [
    "В данных содержится информация по 2 разным тестам, один из которых соответствует нашему техническому заданию. Посмотрим информацию о таблице только с необходимым нам тестом."
   ]
  },
  {
   "cell_type": "code",
   "execution_count": 17,
   "metadata": {},
   "outputs": [
    {
     "data": {
      "text/html": [
       "<div>\n",
       "<style scoped>\n",
       "    .dataframe tbody tr th:only-of-type {\n",
       "        vertical-align: middle;\n",
       "    }\n",
       "\n",
       "    .dataframe tbody tr th {\n",
       "        vertical-align: top;\n",
       "    }\n",
       "\n",
       "    .dataframe thead th {\n",
       "        text-align: right;\n",
       "    }\n",
       "</style>\n",
       "<table border=\"1\" class=\"dataframe\">\n",
       "  <thead>\n",
       "    <tr style=\"text-align: right;\">\n",
       "      <th></th>\n",
       "      <th>user_id</th>\n",
       "      <th>group</th>\n",
       "      <th>ab_test</th>\n",
       "      <th>first_date</th>\n",
       "      <th>region</th>\n",
       "      <th>device</th>\n",
       "    </tr>\n",
       "  </thead>\n",
       "  <tbody>\n",
       "    <tr>\n",
       "      <th>count</th>\n",
       "      <td>6701</td>\n",
       "      <td>6701</td>\n",
       "      <td>6701</td>\n",
       "      <td>6701</td>\n",
       "      <td>6701</td>\n",
       "      <td>6701</td>\n",
       "    </tr>\n",
       "    <tr>\n",
       "      <th>unique</th>\n",
       "      <td>6701</td>\n",
       "      <td>2</td>\n",
       "      <td>1</td>\n",
       "      <td>15</td>\n",
       "      <td>4</td>\n",
       "      <td>4</td>\n",
       "    </tr>\n",
       "    <tr>\n",
       "      <th>top</th>\n",
       "      <td>4F095D257CB159C6</td>\n",
       "      <td>A</td>\n",
       "      <td>recommender_system_test</td>\n",
       "      <td>2020-12-21 00:00:00</td>\n",
       "      <td>EU</td>\n",
       "      <td>Android</td>\n",
       "    </tr>\n",
       "    <tr>\n",
       "      <th>freq</th>\n",
       "      <td>1</td>\n",
       "      <td>3824</td>\n",
       "      <td>6701</td>\n",
       "      <td>723</td>\n",
       "      <td>6351</td>\n",
       "      <td>2983</td>\n",
       "    </tr>\n",
       "    <tr>\n",
       "      <th>first</th>\n",
       "      <td>NaN</td>\n",
       "      <td>NaN</td>\n",
       "      <td>NaN</td>\n",
       "      <td>2020-12-07 00:00:00</td>\n",
       "      <td>NaN</td>\n",
       "      <td>NaN</td>\n",
       "    </tr>\n",
       "    <tr>\n",
       "      <th>last</th>\n",
       "      <td>NaN</td>\n",
       "      <td>NaN</td>\n",
       "      <td>NaN</td>\n",
       "      <td>2020-12-21 00:00:00</td>\n",
       "      <td>NaN</td>\n",
       "      <td>NaN</td>\n",
       "    </tr>\n",
       "  </tbody>\n",
       "</table>\n",
       "</div>"
      ],
      "text/plain": [
       "                 user_id group                  ab_test           first_date  \\\n",
       "count               6701  6701                     6701                 6701   \n",
       "unique              6701     2                        1                   15   \n",
       "top     4F095D257CB159C6     A  recommender_system_test  2020-12-21 00:00:00   \n",
       "freq                   1  3824                     6701                  723   \n",
       "first                NaN   NaN                      NaN  2020-12-07 00:00:00   \n",
       "last                 NaN   NaN                      NaN  2020-12-21 00:00:00   \n",
       "\n",
       "       region   device  \n",
       "count    6701     6701  \n",
       "unique      4        4  \n",
       "top        EU  Android  \n",
       "freq     6351     2983  \n",
       "first     NaN      NaN  \n",
       "last      NaN      NaN  "
      ]
     },
     "execution_count": 17,
     "metadata": {},
     "output_type": "execute_result"
    }
   ],
   "source": [
    "test_data[test_data['ab_test'] == 'recommender_system_test'].describe()"
   ]
  },
  {
   "cell_type": "markdown",
   "metadata": {},
   "source": [
    "С фильтрацией только по нашему тесту дублирующихся id пользователей нет, следовательно проблема между тестами, а не группами нашего теста.\n",
    "\n",
    "Также изменился диапазон дат регистрации, теперь он составляет 07.12.2020 - 21.12.2020.\n",
    "\n",
    "Количество уникальных регионов и устройств не изменилось"
   ]
  },
  {
   "cell_type": "markdown",
   "metadata": {},
   "source": [
    "***Проверка на соответствие данных датам в техническом задании.***\n",
    "- дата запуска: 2020-12-07;\n",
    "- дата остановки набора новых пользователей: 2020-12-21;\n",
    "- дата остановки: 2021-01-04;"
   ]
  },
  {
   "cell_type": "code",
   "execution_count": 18,
   "metadata": {},
   "outputs": [
    {
     "name": "stdout",
     "output_type": "stream",
     "text": [
      "Временной интервал набора пользователей: 2020-12-07 00:00:00 - 2020-12-21 00:00:00\n",
      "Временной интервал тестирования: 2020-12-07 00:00:33 - 2020-12-30 23:36:33\n"
     ]
    }
   ],
   "source": [
    "print('Временной интервал набора пользователей:', \\\n",
    "      test_data[test_data['ab_test'] == \"recommender_system_test\"]['first_date'].min(), '-', \\\n",
    "      test_data[test_data['ab_test'] == \"recommender_system_test\"]['first_date'].max())\n",
    "\n",
    "print('Временной интервал тестирования:', \\\n",
    "      events['event_dt'].min(), '-', \\\n",
    "      events['event_dt'].max())\n"
   ]
  },
  {
   "cell_type": "markdown",
   "metadata": {},
   "source": [
    "Так как мы проверили распределение дат регистрации пользователей, попавших в тест recommender_system_test выше, то можно отметить, что:\n",
    "- дата остановки набора новых пользователей: 2020-12-21 по тесту recommender_system_test соответствует техническому заданию.\n",
    "- также можно отметить, что в таблице с событиями пользователей имеются данные до 30.12.2020, а следовательно, по каким-то причинам тест закончился раньше."
   ]
  },
  {
   "cell_type": "markdown",
   "metadata": {},
   "source": [
    "Так как нас интересует временной диапазон набора новых пользователей только по тесту recommender_system_test, отфильтруем таблицу users от лишних дат."
   ]
  },
  {
   "cell_type": "code",
   "execution_count": 19,
   "metadata": {},
   "outputs": [],
   "source": [
    "events_filtr = events.copy()\n",
    "users_filtr = users.query('(\"2020-12-07\" <= first_date <= \"2020-12-21\")')"
   ]
  },
  {
   "cell_type": "markdown",
   "metadata": {},
   "source": [
    "**Проверим соответствие аудитории на соответствие технического задания:**\n",
    "- в тест должно быть отобрано 15% новых пользователей из региона EU;\n",
    "- ожидаемое количество участников теста: 6000."
   ]
  },
  {
   "cell_type": "code",
   "execution_count": 20,
   "metadata": {},
   "outputs": [],
   "source": [
    "test_data = test_data.query('region == \"EU\"')"
   ]
  },
  {
   "cell_type": "markdown",
   "metadata": {},
   "source": [
    "***Найдем процент пользователей по нашему тесту recommender_system_test и региону EU.***"
   ]
  },
  {
   "cell_type": "code",
   "execution_count": 21,
   "metadata": {},
   "outputs": [
    {
     "name": "stdout",
     "output_type": "stream",
     "text": [
      "Процент пользователей теста от общего объема новых пользователей из региона EU: 15.00%\n"
     ]
    }
   ],
   "source": [
    "percent_user = len(test_data.query('ab_test==\"recommender_system_test\"'))/len(users_filtr.query('region == \"EU\"'))                                 \n",
    "print(f'Процент пользователей теста от общего объема новых пользователей из региона EU: {percent_user:.2%}')"
   ]
  },
  {
   "cell_type": "markdown",
   "metadata": {},
   "source": [
    "Процент пользователей теста из EU совпадает с техническим заданием."
   ]
  },
  {
   "cell_type": "markdown",
   "metadata": {},
   "source": [
    "***Проверим получившееся количество пользователей из региона EU и теста recommender_system_test на соответствие ожидаемому количеству участников теста (6000).***"
   ]
  },
  {
   "cell_type": "code",
   "execution_count": 22,
   "metadata": {},
   "outputs": [
    {
     "name": "stdout",
     "output_type": "stream",
     "text": [
      "Количество пользователей из региона EU в тесте: 6351\n"
     ]
    }
   ],
   "source": [
    "count_user = len(test_data.query('ab_test==\"recommender_system_test\"'))  \n",
    "print(f'Количество пользователей из региона EU в тесте: {count_user:.0f}')"
   ]
  },
  {
   "cell_type": "markdown",
   "metadata": {},
   "source": [
    "Количество пользователей совпадает с техническим заданием."
   ]
  },
  {
   "cell_type": "markdown",
   "metadata": {},
   "source": [
    "#### Проверка распределения пользователей.\n",
    "<a id=\"technical_task2\"></a> "
   ]
  },
  {
   "cell_type": "markdown",
   "metadata": {},
   "source": [
    "В таблице participants данные по 2 разным тестам, один из которых соответствует нашему техническому заданию. \n",
    "\n",
    "Проверим задублировавшихся пользователей."
   ]
  },
  {
   "cell_type": "code",
   "execution_count": 23,
   "metadata": {},
   "outputs": [
    {
     "data": {
      "text/plain": [
       "1602"
      ]
     },
     "execution_count": 23,
     "metadata": {},
     "output_type": "execute_result"
    }
   ],
   "source": [
    "# таблица с дубликатами\n",
    "participants_dupl = test_data[test_data['user_id'].duplicated(keep=False)]\n",
    "participants_dupl['user_id'].duplicated().sum()"
   ]
  },
  {
   "cell_type": "code",
   "execution_count": 24,
   "metadata": {},
   "outputs": [
    {
     "data": {
      "text/html": [
       "<div>\n",
       "<style scoped>\n",
       "    .dataframe tbody tr th:only-of-type {\n",
       "        vertical-align: middle;\n",
       "    }\n",
       "\n",
       "    .dataframe tbody tr th {\n",
       "        vertical-align: top;\n",
       "    }\n",
       "\n",
       "    .dataframe thead th {\n",
       "        text-align: right;\n",
       "    }\n",
       "</style>\n",
       "<table border=\"1\" class=\"dataframe\">\n",
       "  <thead>\n",
       "    <tr style=\"text-align: right;\">\n",
       "      <th></th>\n",
       "      <th></th>\n",
       "      <th>user_id</th>\n",
       "    </tr>\n",
       "    <tr>\n",
       "      <th>ab_test</th>\n",
       "      <th>group</th>\n",
       "      <th></th>\n",
       "    </tr>\n",
       "  </thead>\n",
       "  <tbody>\n",
       "    <tr>\n",
       "      <th rowspan=\"2\" valign=\"top\">interface_eu_test</th>\n",
       "      <th>A</th>\n",
       "      <td>819</td>\n",
       "    </tr>\n",
       "    <tr>\n",
       "      <th>B</th>\n",
       "      <td>783</td>\n",
       "    </tr>\n",
       "    <tr>\n",
       "      <th rowspan=\"2\" valign=\"top\">recommender_system_test</th>\n",
       "      <th>A</th>\n",
       "      <td>921</td>\n",
       "    </tr>\n",
       "    <tr>\n",
       "      <th>B</th>\n",
       "      <td>681</td>\n",
       "    </tr>\n",
       "  </tbody>\n",
       "</table>\n",
       "</div>"
      ],
      "text/plain": [
       "                               user_id\n",
       "ab_test                 group         \n",
       "interface_eu_test       A          819\n",
       "                        B          783\n",
       "recommender_system_test A          921\n",
       "                        B          681"
      ]
     },
     "execution_count": 24,
     "metadata": {},
     "output_type": "execute_result"
    }
   ],
   "source": [
    "participants_dupl.pivot_table(index=['ab_test', 'group'], values='user_id', aggfunc='count')"
   ]
  },
  {
   "cell_type": "markdown",
   "metadata": {},
   "source": [
    "Всего 1602 дубликата (3204 строки). \n",
    "\n",
    "Из них 819 пользователей из группы А другого теста. На данных пользователей не распространяются вводимые изменения, а следовательно их можно оставить и в нашем тесте. \n",
    "\n",
    "Однако остальные 783 пользователя принадлежат группе B второго теста. На таких пользователей могут повлиять вводимые изменения другого теста. Таких пользователей следует либо удалить, либо, для того чтобы не снижать мощность нашего теста, проверить как пользователи группы В теста interface_eu_test распределены между группами нашего теста."
   ]
  },
  {
   "cell_type": "markdown",
   "metadata": {},
   "source": [
    "**Проверим как пользователи группы В теста \"interface_eu_test\" распределены между группами теста \"recommender_system_test\".**"
   ]
  },
  {
   "cell_type": "markdown",
   "metadata": {},
   "source": [
    "Проверка гипотезы о равенстве долей\n",
    "\n",
    "**Нулевая гипотеза: Н0 = Различий между выборками группы А и группы В нет.**\n",
    "\n",
    "**Альтернативная гипотеза: H_a: = Различия между выборками группы А и группы В есть.**\n",
    "\n",
    "В качестве уровня критической значимости установим 0.05     "
   ]
  },
  {
   "cell_type": "code",
   "execution_count": 25,
   "metadata": {},
   "outputs": [],
   "source": [
    "# дубликаты группы А теста recommender_system_test\n",
    "A_2_user_id = participants_dupl.query('(ab_test == \"interface_eu_test\") and (group == \"A\")')['user_id']\n",
    "#удалим из таблицы с дубликатами пользователей группы А теста interface_eu_test, а из оставшихся пользователей В того же теста\n",
    "participants_dupl_del = participants_dupl.query('(user_id not in @A_2_user_id)')#['user_id']\n",
    "# удалим пользователей В теста interface_eu_test"
   ]
  },
  {
   "cell_type": "code",
   "execution_count": 26,
   "metadata": {},
   "outputs": [
    {
     "data": {
      "text/html": [
       "<div>\n",
       "<style scoped>\n",
       "    .dataframe tbody tr th:only-of-type {\n",
       "        vertical-align: middle;\n",
       "    }\n",
       "\n",
       "    .dataframe tbody tr th {\n",
       "        vertical-align: top;\n",
       "    }\n",
       "\n",
       "    .dataframe thead th {\n",
       "        text-align: right;\n",
       "    }\n",
       "</style>\n",
       "<table border=\"1\" class=\"dataframe\">\n",
       "  <thead>\n",
       "    <tr style=\"text-align: right;\">\n",
       "      <th></th>\n",
       "      <th>all_count</th>\n",
       "      <th>dubl_count</th>\n",
       "    </tr>\n",
       "    <tr>\n",
       "      <th>group</th>\n",
       "      <th></th>\n",
       "      <th></th>\n",
       "    </tr>\n",
       "  </thead>\n",
       "  <tbody>\n",
       "    <tr>\n",
       "      <th>A</th>\n",
       "      <td>3634</td>\n",
       "      <td>439</td>\n",
       "    </tr>\n",
       "    <tr>\n",
       "      <th>B</th>\n",
       "      <td>2717</td>\n",
       "      <td>344</td>\n",
       "    </tr>\n",
       "  </tbody>\n",
       "</table>\n",
       "</div>"
      ],
      "text/plain": [
       "       all_count  dubl_count\n",
       "group                       \n",
       "A           3634         439\n",
       "B           2717         344"
      ]
     },
     "metadata": {},
     "output_type": "display_data"
    }
   ],
   "source": [
    "#Составим таблицу с количеством пользователей по событиям для каждой группы.\n",
    "dupl_pivot = pd.concat([\n",
    "    test_data.query('ab_test==\"recommender_system_test\"').pivot_table(\n",
    "        index=['group'], values='user_id', aggfunc='count').rename(columns={'user_id': 'all_count'}),#общее распределение\n",
    "    participants_dupl_del.query('ab_test == \"recommender_system_test\"').pivot_table(\n",
    "        index=['group'], values='user_id', aggfunc='count').rename(columns={'user_id': 'dubl_count'}),#распределение в дубликатах\n",
    "]\n",
    "    ,axis=1\n",
    ")\n",
    "display(dupl_pivot)"
   ]
  },
  {
   "cell_type": "code",
   "execution_count": 27,
   "metadata": {},
   "outputs": [
    {
     "name": "stdout",
     "output_type": "stream",
     "text": [
      "p-значение:  0.4861791801372526\n",
      "\u001b[1mНе получилось отвергнуть H0: нет оснований считать доли разными\u001b[0m\n",
      " \n"
     ]
    }
   ],
   "source": [
    "\n",
    "#выделим необходимые строки столбца с помощью индекса и запишем значение в отдельные переменные\n",
    "successes1 = dupl_pivot[dupl_pivot.index == \"A\"]['dubl_count'].iat[0]\n",
    "trials1 = dupl_pivot[dupl_pivot.index == \"A\"]['all_count'].iat[0]\n",
    "successes2 = dupl_pivot[dupl_pivot.index == \"B\"]['dubl_count'].iat[0]\n",
    "trials2 = dupl_pivot[dupl_pivot.index == \"B\"]['all_count'].iat[0]\n",
    "\n",
    "\n",
    "successes = np.array([successes1, successes2])\n",
    "trials = np.array([trials1, trials2])\n",
    "\n",
    "alpha = .05 # критический уровень статистической значимости\n",
    "# пропорция успехов в первой группе:\n",
    "p1 = successes[0]/trials[0]\n",
    "\n",
    "# пропорция успехов во второй группе:\n",
    "p2 = successes[1]/trials[1]\n",
    "    \n",
    "    # пропорция успехов в комбинированном датасете:\n",
    "p_combined = (successes[0] + successes[1]) / (trials[0] + trials[1])\n",
    "\n",
    "# разница пропорций в датасетах\n",
    "difference = p1 - p2 \n",
    "\n",
    "# считаем статистику в ст.отклонениях стандартного нормального распределения\n",
    "z_value = difference / mth.sqrt(p_combined * (1 - p_combined) * (1/trials[0] + 1/trials[1]))\n",
    "\n",
    "# задаем стандартное нормальное распределение (среднее 0, ст.отклонение 1)\n",
    "distr = st.norm(0, 1)  \n",
    "\n",
    "p_value = (1 - distr.cdf(abs(z_value))) * 2\n",
    "\n",
    "print('p-значение: ', p_value)\n",
    "if p_value < alpha:\n",
    "    print('Отвергаем H0: между долями есть значимая разница')\n",
    "    print(' ')\n",
    "else:\n",
    "    print('\\033[1m' + 'Не получилось отвергнуть H0: нет оснований считать доли разными' + '\\033[0m')\n",
    "    print(' ')"
   ]
  },
  {
   "cell_type": "markdown",
   "metadata": {},
   "source": [
    "p-значение больше уровня критической значимости, следовательно, нулевую гипотезу \" Различий между выборками группы А и группы В нет.\" не отвергаем.\n",
    "\n",
    "Статистически значимых различий между контрольными группами нет.\n",
    "\n",
    "**На основании результатов статистического теста убирать дублирующихся пользователей не будем.**"
   ]
  },
  {
   "cell_type": "markdown",
   "metadata": {},
   "source": [
    "Удалим из отфильтрованной  таблицы второй тест, оставив только данные по тесту recommender_system_test. \n",
    "\n",
    "А также проверим распределение пользователей на группы в тесте recommender_system_test."
   ]
  },
  {
   "cell_type": "code",
   "execution_count": 28,
   "metadata": {},
   "outputs": [],
   "source": [
    "test_data = test_data.query('ab_test==\"recommender_system_test\"')"
   ]
  },
  {
   "cell_type": "code",
   "execution_count": 29,
   "metadata": {},
   "outputs": [
    {
     "name": "stdout",
     "output_type": "stream",
     "text": [
      "Количество уникальных пользователей таблицы с тестом recommender_system_test: 6351\n",
      "Количество дублирующихся пользователей теста recommender_system_test: 0\n"
     ]
    },
    {
     "data": {
      "text/plain": [
       "A    57.22%\n",
       "B    42.78%\n",
       "Name: group, dtype: object"
      ]
     },
     "metadata": {},
     "output_type": "display_data"
    }
   ],
   "source": [
    "print('Количество уникальных пользователей таблицы с тестом recommender_system_test:', \n",
    "      test_data['user_id'].nunique())\n",
    "print('Количество дублирующихся пользователей теста recommender_system_test:', \n",
    "      test_data['user_id'].duplicated().sum())\n",
    "display(test_data['group'].value_counts(normalize=True).apply('{:.2%}'.format))"
   ]
  },
  {
   "cell_type": "markdown",
   "metadata": {},
   "source": [
    "В тесте recommender_system_test отсутствуют дубликаты, а следовательно, пересекающихся пользователей между группами нет.\n",
    "\n",
    "Группа А включает в себя большее количество пользователей."
   ]
  },
  {
   "cell_type": "markdown",
   "metadata": {},
   "source": [
    "***По техническому заданию эффективность поведения пользователей необходимо оценить на 14 день после регистрации. Проверим соответствие данного пункта.***"
   ]
  },
  {
   "cell_type": "markdown",
   "metadata": {},
   "source": [
    "Информация о совершенных пользователем событиях находится в таблице events. Объединим таблицы."
   ]
  },
  {
   "cell_type": "code",
   "execution_count": 30,
   "metadata": {},
   "outputs": [],
   "source": [
    "test_data = test_data.merge(events, on='user_id', how='left')"
   ]
  },
  {
   "cell_type": "code",
   "execution_count": 31,
   "metadata": {},
   "outputs": [
    {
     "name": "stdout",
     "output_type": "stream",
     "text": [
      "<class 'pandas.core.frame.DataFrame'>\n",
      "Int64Index: 26290 entries, 0 to 26289\n",
      "Data columns (total 9 columns):\n",
      " #   Column      Non-Null Count  Dtype         \n",
      "---  ------      --------------  -----         \n",
      " 0   user_id     26290 non-null  object        \n",
      " 1   group       26290 non-null  object        \n",
      " 2   ab_test     26290 non-null  object        \n",
      " 3   first_date  26290 non-null  datetime64[ns]\n",
      " 4   region      26290 non-null  object        \n",
      " 5   device      26290 non-null  object        \n",
      " 6   event_dt    23420 non-null  datetime64[ns]\n",
      " 7   event_name  23420 non-null  object        \n",
      " 8   details     3196 non-null   float64       \n",
      "dtypes: datetime64[ns](2), float64(1), object(6)\n",
      "memory usage: 2.0+ MB\n"
     ]
    }
   ],
   "source": [
    "test_data.info()"
   ]
  },
  {
   "cell_type": "code",
   "execution_count": 32,
   "metadata": {},
   "outputs": [
    {
     "name": "stdout",
     "output_type": "stream",
     "text": [
      "Количество пользователей, не совершивших ни одного события за период проведения тестирования: 2870\n",
      "Доля пользователей без событий: 45.19%\n"
     ]
    },
    {
     "data": {
      "text/plain": [
       "'Распределение по группам пользователей без событий:'"
      ]
     },
     "metadata": {},
     "output_type": "display_data"
    },
    {
     "data": {
      "text/plain": [
       "B    64.11%\n",
       "A    35.89%\n",
       "Name: group, dtype: object"
      ]
     },
     "metadata": {},
     "output_type": "display_data"
    }
   ],
   "source": [
    "nan_events = test_data[(test_data['event_name'].isna())& (test_data['event_dt'].isna())]\n",
    "\n",
    "print(\n",
    "    'Количество пользователей, не совершивших ни одного события за период проведения тестирования:', \n",
    "      nan_events['user_id'].nunique()\n",
    "      )\n",
    "\n",
    "print(\n",
    "    f'Доля пользователей без событий: {nan_events.user_id.nunique() / test_data.user_id.nunique():.2%}'\n",
    "      )\n",
    "\n",
    "display(\n",
    "    'Распределение по группам пользователей без событий:', \n",
    "      nan_events['group'].value_counts(normalize=True).apply('{:.2%}'.format)\n",
    "      )"
   ]
  },
  {
   "cell_type": "markdown",
   "metadata": {},
   "source": [
    "При объединении таблиц образовались пропущенные значения. Это говорит о том, что пользователи не совершили после регистрации ни одного события:\n",
    "- размер таких пользователей - 2870;\n",
    "- их объем - 45,19%\n",
    "- распределение между группами: группа А - 64,11%, группа В - 35,89% \n",
    "\n",
    "Так как по таким пользователям у нас не хватает необходимой информации, удалим строки с пропусками (кроме столбца details)"
   ]
  },
  {
   "cell_type": "code",
   "execution_count": 33,
   "metadata": {},
   "outputs": [],
   "source": [
    "#сохраним копию со всеми пользователями\n",
    "events_filtr = test_data.copy()"
   ]
  },
  {
   "cell_type": "code",
   "execution_count": 34,
   "metadata": {},
   "outputs": [
    {
     "data": {
      "text/plain": [
       "3481"
      ]
     },
     "execution_count": 34,
     "metadata": {},
     "output_type": "execute_result"
    }
   ],
   "source": [
    "test_data = test_data.dropna(subset=['event_name','event_dt']).reset_index(drop=True)\n",
    "test_data.user_id.nunique()"
   ]
  },
  {
   "cell_type": "markdown",
   "metadata": {},
   "source": [
    "Теперь рассмотрим на какой день после регистрации пользователи совершают первое событие."
   ]
  },
  {
   "cell_type": "code",
   "execution_count": 35,
   "metadata": {},
   "outputs": [
    {
     "name": "stdout",
     "output_type": "stream",
     "text": [
      "Количество событий: 23420\n",
      "Количество уникальных пользователей: 3481\n"
     ]
    }
   ],
   "source": [
    "print('Количество событий:' ,test_data['event_name'].count())\n",
    "print('Количество уникальных пользователей:' ,test_data['user_id'].nunique())"
   ]
  },
  {
   "cell_type": "code",
   "execution_count": 36,
   "metadata": {},
   "outputs": [
    {
     "name": "stdout",
     "output_type": "stream",
     "text": [
      "Количество событий, которые совершаются более, чем на 14 день: 592\n",
      "Количество событий: 22828\n",
      "Количество уникальных пользователей: 3481\n"
     ]
    }
   ],
   "source": [
    "test_data['days'] =  ((test_data['event_dt'] - test_data['first_date']) / np.timedelta64 ( 1 , 'D')).astype('int')\n",
    "print('Количество событий, которые совершаются более, чем на 14 день:' ,test_data[test_data.days > 14]['days'].count())\n",
    "test_data = test_data[test_data.days <= 14]\n",
    "print('Количество событий:' ,test_data['event_name'].count())\n",
    "print('Количество уникальных пользователей:' ,test_data['user_id'].nunique())"
   ]
  },
  {
   "cell_type": "markdown",
   "metadata": {},
   "source": [
    "Количество событий, которые совершаются более, чем на 14 день - 592. \n",
    "\n",
    "Такие события нам не подходят по техническому заданию, поэтому они были отфильтрованы.\n",
    "\n",
    "Количество уникальных пользователей не изменилось."
   ]
  },
  {
   "cell_type": "code",
   "execution_count": 37,
   "metadata": {
    "scrolled": false
   },
   "outputs": [
    {
     "data": {
      "image/png": "[encoded data removed]"
     },
     "metadata": {},
     "output_type": "display_data"
    }
   ],
   "source": [
    "fig = go.Figure()\n",
    "fig = px.bar(test_data.pivot_table(index=['days', 'group'], values='user_id', aggfunc='count').reset_index(), \n",
    "             x = 'days', y= 'user_id', color= 'group', \n",
    "             text='user_id',barmode ='group'\n",
    ").update_xaxes(categoryorder='total descending')\n",
    "\n",
    "fig.update_traces(textposition='outside')\n",
    "fig.update_layout(\n",
    "    {'title':{'text':'Pаспределение количества событий пользователей по дням от регистрации', 'x': 0.5, 'y': 0.95, 'font_size': 20}},\n",
    "    plot_bgcolor='white',\n",
    "    autosize=False,\n",
    "    width=900,\n",
    "    height=500,\n",
    ")\n",
    "fig.update_xaxes(title_text='день', showgrid=False, gridcolor='silver', dtick=1)\n",
    "fig.update_yaxes(title_text='количество событий', showgrid=True, gridcolor='silver')\n",
    "\n",
    "#fig.show() #показать диаграмму\n",
    "fig.show(\"png\") #показать диаграмму для Github"
   ]
  },
  {
   "cell_type": "markdown",
   "metadata": {},
   "source": [
    "Рассмотрев распределение количества событий по дням, можно отметить, что основная часть пользователей совершает действия в день регистрации. Далее, чем больше день, тем меньше количество событий."
   ]
  },
  {
   "cell_type": "markdown",
   "metadata": {},
   "source": [
    "#### Совпадение маркетинговых событий с тестированием.\n",
    "<a id=\"events3\"></a> "
   ]
  },
  {
   "cell_type": "code",
   "execution_count": 38,
   "metadata": {},
   "outputs": [
    {
     "data": {
      "text/html": [
       "<div>\n",
       "<style scoped>\n",
       "    .dataframe tbody tr th:only-of-type {\n",
       "        vertical-align: middle;\n",
       "    }\n",
       "\n",
       "    .dataframe tbody tr th {\n",
       "        vertical-align: top;\n",
       "    }\n",
       "\n",
       "    .dataframe thead th {\n",
       "        text-align: right;\n",
       "    }\n",
       "</style>\n",
       "<table border=\"1\" class=\"dataframe\">\n",
       "  <thead>\n",
       "    <tr style=\"text-align: right;\">\n",
       "      <th></th>\n",
       "      <th>name</th>\n",
       "      <th>regions</th>\n",
       "      <th>start_dt</th>\n",
       "      <th>finish_dt</th>\n",
       "    </tr>\n",
       "  </thead>\n",
       "  <tbody>\n",
       "    <tr>\n",
       "      <th>0</th>\n",
       "      <td>Christmas&amp;New Year Promo</td>\n",
       "      <td>EU, N.America</td>\n",
       "      <td>2020-12-25</td>\n",
       "      <td>2021-01-03</td>\n",
       "    </tr>\n",
       "    <tr>\n",
       "      <th>10</th>\n",
       "      <td>CIS New Year Gift Lottery</td>\n",
       "      <td>CIS</td>\n",
       "      <td>2020-12-30</td>\n",
       "      <td>2021-01-07</td>\n",
       "    </tr>\n",
       "  </tbody>\n",
       "</table>\n",
       "</div>"
      ],
      "text/plain": [
       "                         name        regions   start_dt  finish_dt\n",
       "0    Christmas&New Year Promo  EU, N.America 2020-12-25 2021-01-03\n",
       "10  CIS New Year Gift Lottery            CIS 2020-12-30 2021-01-07"
      ]
     },
     "execution_count": 38,
     "metadata": {},
     "output_type": "execute_result"
    }
   ],
   "source": [
    "marketing.query('(start_dt <= \"2021-01-04\") and (finish_dt >= \"2020-12-07\")')"
   ]
  },
  {
   "cell_type": "markdown",
   "metadata": {},
   "source": [
    "В период проведения тестирования также осуществлялись 2 маркетингового события. Однако только акция Christmas&New Year Promo распространяется на жителей региона EU, следовательно клиенты тестирования попали под её воздействие.\n",
    "\n",
    "Рассмотрим, менялось ли поведение пользователей по событиям при запуске акции."
   ]
  },
  {
   "cell_type": "code",
   "execution_count": 39,
   "metadata": {},
   "outputs": [
    {
     "data": {
      "image/png": "[encoded data removed]"
     },
     "metadata": {},
     "output_type": "display_data"
    }
   ],
   "source": [
    "fig = go.Figure()\n",
    "\n",
    "fig = px.histogram(test_data, x='event_dt', color='group')\n",
    "\n",
    "\n",
    "fig.update_layout({'title':{'text':'Гистограмма распределения событий за период тестирования', \n",
    "                            'x': 0.5, 'y': 0.95, 'font_size': 20}},\n",
    "                  autosize=False,\n",
    "                  width=900,\n",
    "                  height=500,\n",
    "                  plot_bgcolor='white')\n",
    "fig.update_traces(marker_line_color = 'gray', marker_line_width = 1, opacity = 0.8)\n",
    "fig.update_xaxes(title_text='дата', showgrid=True, gridcolor='silver')\n",
    "fig.update_yaxes(title_text='частота', showgrid=True, gridcolor='silver')\n",
    "\n",
    "#fig.show() #показать диаграмму\n",
    "fig.show(\"png\") #показать диаграмму для Github"
   ]
  },
  {
   "cell_type": "markdown",
   "metadata": {},
   "source": [
    "Рассмотрев распределение событий, за период проведения маркетингового события значительного роста или снижения количества событий не наблюдается, события имеют тенденцию к постепенному снижению как до начала акции, так и после. Пик диаграммы приходится на 21 декабря.\n",
    "\n",
    "Однако на диаграмме заметен значительный скачек на 14 декабря, так как он не зависит от маркетингового события, то, есть предположение, что его вызвало либо количество регистраций, либо тотальная закупка пользователей к Рождеству. Постараемся найти, чем вызван такой значительный рост заказов в следующем разделе.\n",
    "\n",
    "Также следует отметить, что тестирование проводится в предпраздничный период, что является негативным фактором проведения А/В теста, так как календарные события и праздники значительно искажают покупательский спрос и, следовательно, могут повлиять и на результаты проведения тестирования, а именно исказить и их. "
   ]
  },
  {
   "cell_type": "markdown",
   "metadata": {},
   "source": [
    "***Проверка распределения в данных, а также анализ их пригодности для А/В тестирования завершены. Повторно проверим, насколько сильно изменились показатели соответствия техническому заданию***"
   ]
  },
  {
   "cell_type": "code",
   "execution_count": 40,
   "metadata": {},
   "outputs": [
    {
     "name": "stdout",
     "output_type": "stream",
     "text": [
      "Временной интервал событий: 2020-12-07 00:05:57 - 2020-12-29 23:38:29\n",
      " \n",
      "Временной интервал регистрации: 2020-12-07 00:00:00 - 2020-12-21 00:00:00\n",
      " \n",
      "Процент пользователей теста от общего объема новых пользователей из региона EU: 8.22%\n",
      " \n",
      "Количество пользователей из региона EU в тесте: 3481\n",
      " \n"
     ]
    },
    {
     "data": {
      "text/plain": [
       "'Распределение пользователей по группам теста:'"
      ]
     },
     "metadata": {},
     "output_type": "display_data"
    },
    {
     "data": {
      "text/plain": [
       "A    78.75%\n",
       "B    21.25%\n",
       "Name: group, dtype: object"
      ]
     },
     "metadata": {},
     "output_type": "display_data"
    }
   ],
   "source": [
    "test_data\n",
    "print('Временной интервал событий:', \\\n",
    "      test_data['event_dt'].min(), '-', \\\n",
    "      test_data['event_dt'].max())\n",
    "print(' ')\n",
    "print('Временной интервал регистрации:', \\\n",
    "      test_data['first_date'].min(), '-', \\\n",
    "      test_data['first_date'].max())\n",
    "print(' ')\n",
    "percent_user = test_data['user_id'].nunique()/len(users_filtr.query('region == \"EU\"'))                                 \n",
    "print(f'Процент пользователей теста от общего объема новых пользователей из региона EU: {percent_user:.2%}')\n",
    "print(' ')\n",
    "count_user = test_data['user_id'].nunique()\n",
    "print(f'Количество пользователей из региона EU в тесте: {count_user:.0f}')\n",
    "print(' ')\n",
    "display('Распределение пользователей по группам теста:', test_data['group'].value_counts(normalize=True).apply('{:.2%}'.format))"
   ]
  },
  {
   "cell_type": "markdown",
   "metadata": {},
   "source": [
    "**По завершении обработки данных на соответствие А/В тестированию:**\n",
    "- **временной интервал набора пользователей - соответствует** тех. заданию;\n",
    "\n",
    "- **временной интервал тестирования - дата начала соответствует, дата окончания не соответствует** (не соответствовал и по начальным данным, отфильтрованный - смещение на -1 день);\n",
    "\n",
    "- **процент набора новых пользователей из региона EU в тест** - не соответствует техническому заданию и составляет 8,22% (**соответствовал по начальным данным**);\n",
    "\n",
    "- **количество пользователей** не соответствует ожидаемому количеству участников теста в тех. задании (**соответствовало по начальным данным**, однако, на этапе проверки количества событий по пользователям, 45,19% не совершили ни одного события. Что привело к недостатку для исследования данных и сокращению ожидаемого количества пользователей для проведения тестирования);\n",
    "\n",
    "- данных на 14 день с момента регистрации пользователя слишком мало, поэтому рассматриваться метрики будут за 1-14 дни регистрации пользователя.\n",
    "\n",
    "- Распределение на группы тестирования неравномерное, группа А имеет вес 78,75%, а группа В 21,25%."
   ]
  },
  {
   "cell_type": "markdown",
   "metadata": {
    "id": "V-KBT-KMWVwl"
   },
   "source": [
    "### Исследовательский анализ данных\n",
    "<a id=\"analysis0\"></a> "
   ]
  },
  {
   "cell_type": "code",
   "execution_count": 41,
   "metadata": {},
   "outputs": [],
   "source": [
    "test_data['event_date'] = test_data['event_dt'].dt.date"
   ]
  },
  {
   "cell_type": "markdown",
   "metadata": {},
   "source": [
    "#### Распределение регистраций пользователей по дням.\n",
    "<a id=\"analysis1\"></a> "
   ]
  },
  {
   "cell_type": "code",
   "execution_count": 42,
   "metadata": {},
   "outputs": [],
   "source": [
    "reg_count = test_data.pivot_table(index=['group', 'first_date'], values='user_id', aggfunc='nunique').reset_index()"
   ]
  },
  {
   "cell_type": "code",
   "execution_count": 43,
   "metadata": {},
   "outputs": [
    {
     "data": {
      "image/png": "[encoded data removed]"
     },
     "metadata": {},
     "output_type": "display_data"
    }
   ],
   "source": [
    "fig = px.line(reg_count, x='first_date', y='user_id', color='group', text='user_id')\n",
    "\n",
    "#зададим параметры диаграмм\n",
    "fig.update_layout(\n",
    "        {'title':{'text':'Распределение количества регистраций пользователей по дням.', \n",
    "                  'x': 0.5, 'y': 0.95, 'font_size': 20}}, #название общей диаграммы, расположение текста, размер текста\n",
    "        barmode = 'group', #вид диаграмм\n",
    "        legend_orientation=\"h\", \n",
    "        legend=dict(x=0.4, y=-0.2),#положение легенды\n",
    "        autosize=False,\n",
    "        width=900,\n",
    "        height=500,\n",
    "        paper_bgcolor='white',\n",
    "        plot_bgcolor='white', #фоновый цвет диаграмм\n",
    "        uniformtext_minsize=8, #мин. размер шрифта данных,\n",
    "    )\n",
    "fig.update_traces(textposition='top left', textfont_size=11)\n",
    "fig.update_xaxes(title_text='даты', showgrid=True, gridcolor='silver') #ось х\n",
    "fig.update_yaxes(title_text='количество регистраций', showgrid=True, gridcolor='silver') #ось у\n",
    "#выводим получившуюся диаграмму\n",
    "#fig.show() #показать диаграмму\n",
    "fig.show(\"png\") #показать диаграмму для Github"
   ]
  },
  {
   "cell_type": "markdown",
   "metadata": {},
   "source": [
    "На графике можно заметить значительный подъем регистраций у группы А на 14 декабря, однако такой рост не коснулся группу В.\n",
    "\n",
    "Далее, на протяжении следующих дат количество регистраций постепенно росло до наибольшего пикового значения за весь период тестирования - 21.12. \n",
    "\n",
    "В группе В значительных подъемов в количестве регистраций не наблюдается."
   ]
  },
  {
   "cell_type": "markdown",
   "metadata": {},
   "source": [
    "#### Регистрация пользователей по устройствам.\n",
    "<a id=\"analysis2\"></a> "
   ]
  },
  {
   "cell_type": "code",
   "execution_count": 44,
   "metadata": {},
   "outputs": [],
   "source": [
    "reg_device = test_data.pivot_table(index=['group', 'device'], values='user_id', aggfunc='nunique').rename(columns=(\n",
    "    {'user_id':'nunique'})).reset_index().merge(\n",
    "    test_data.pivot_table(index=['group'], values='user_id', aggfunc='nunique').rename(columns=(\n",
    "        {'user_id':'all_group'})).reset_index(), on='group'\n",
    ")\n",
    "reg_device['share'] = round((reg_device['nunique'] / reg_device['all_group'])*100, 2)"
   ]
  },
  {
   "cell_type": "code",
   "execution_count": 45,
   "metadata": {},
   "outputs": [
    {
     "data": {
      "image/png": "[encoded data removed]"
     },
     "metadata": {},
     "output_type": "display_data"
    }
   ],
   "source": [
    "fig = px.bar(\n",
    "    reg_device, x='device', y='nunique', color='group', text='share'\n",
    ").update_xaxes(categoryorder='total descending')\n",
    "\n",
    "#зададим параметры диаграмм\n",
    "fig.update_layout(\n",
    "        {'title':{'text':'Распределение зарегистрированных пользователей по устройствам.', \n",
    "                  'x': 0.5, 'y': 0.95, 'font_size': 20}}, #название общей диаграммы, расположение текста, размер текста\n",
    "        barmode = 'group', #вид диаграмм\n",
    "        legend_orientation=\"h\", \n",
    "        legend=dict(x=0.4, y=-0.2),#положение легенды\n",
    "        autosize=False,\n",
    "        width=900,\n",
    "        height=500,\n",
    "        paper_bgcolor='white',\n",
    "        plot_bgcolor='white', #фоновый цвет диаграмм\n",
    "        uniformtext_minsize=8, #мин. размер шрифта данных,\n",
    "    )\n",
    "fig.update_xaxes(title_text='устройство', showgrid=True, gridcolor='silver') #ось х\n",
    "fig.update_yaxes(title_text='количество регистраций', showgrid=True, gridcolor='silver') #ось у\n",
    "#выводим получившуюся диаграмму\n",
    "#fig.show() #показать диаграмму\n",
    "fig.show(\"png\") #показать диаграмму для Github"
   ]
  },
  {
   "cell_type": "markdown",
   "metadata": {},
   "source": [
    "Распределение по девайсам между группами (в %) практически одинаковое.\n",
    "\n",
    "Наибольший объем пользователей используют Android устройства, на втором месте PC, меньше всего пользователей пользуются Mac."
   ]
  },
  {
   "cell_type": "markdown",
   "metadata": {},
   "source": [
    "#### Количество событий на пользователя.\n",
    "<a id=\"analysis3\"></a> "
   ]
  },
  {
   "cell_type": "code",
   "execution_count": 46,
   "metadata": {},
   "outputs": [],
   "source": [
    "#создадим сводную табоицу по распределению количества событий на пользователя для каждой группы\n",
    "coun_events_of_us = test_data.pivot_table(index=['group', 'user_id'], values='event_name', aggfunc='count').reset_index()"
   ]
  },
  {
   "cell_type": "code",
   "execution_count": 47,
   "metadata": {},
   "outputs": [
    {
     "data": {
      "image/png": "[encoded data removed]"
     },
     "metadata": {},
     "output_type": "display_data"
    }
   ],
   "source": [
    "#создадим диаграммы с количеством событий на пользователя  \n",
    "fig = make_subplots(rows=1, cols=2, #количество строк и столбцов\n",
    "                    subplot_titles=['Количество событий на пользователя', \n",
    "                                    'Доля событий на пользователя в объеме группы (%)'], #названия диаграмм по порядку \n",
    "                    shared_yaxes=False, #общая ось у\n",
    "                    horizontal_spacing=0.04 #пространство между диаграммами \n",
    "                   )\n",
    "#первая диаграмма\n",
    "fig.add_trace(go.Histogram(\n",
    "                           x=coun_events_of_us.query('group == \"A\"')['event_name'], \n",
    "                name='A',  legendgroup=\"group\", legendgrouptitle_text='Количество'),1,1)\n",
    "fig.add_trace(go.Histogram(\n",
    "                           x=coun_events_of_us.query('group == \"B\"')['event_name'],  \n",
    "                name='B', legendgroup=\"group\",),1,1)\n",
    "#вторая диаграмма\n",
    "fig.add_trace(go.Histogram(\n",
    "                           x=coun_events_of_us.query('group == \"A\"')['event_name'], histnorm='percent', \n",
    "                name='A', legendgroup=\"group2\", legendgrouptitle_text='Доля'),1,2)\n",
    "fig.add_trace(go.Histogram(\n",
    "                           x=coun_events_of_us.query('group == \"B\"')['event_name'], histnorm='percent',  \n",
    "                name='B', legendgroup=\"group2\"),1,2)\n",
    "#зададим параметры диаграмм\n",
    "fig.update_layout(\n",
    "        {'title':{'text':'Распределение количества событий на пользователя.', \n",
    "                  'x': 0.5, 'y': 0.95, 'font_size': 20}}, #название общей диаграммы, расположение текста, размер текста\n",
    "        barmode = 'group', #вид диаграмм\n",
    "        legend_orientation=\"h\", \n",
    "        legend=dict(x=0.4, y=-0.2),#положение легенды\n",
    "        autosize=False,\n",
    "        width=900,\n",
    "        height=500,\n",
    "        paper_bgcolor='white',\n",
    "        plot_bgcolor='white', #фоновый цвет диаграмм\n",
    "        uniformtext_minsize=8, #размер шрифта данных\n",
    "    )\n",
    "fig.update_annotations(font_size = 16)\n",
    "fig.update_xaxes(title_text='количество событий на пользователя', dtick=2) #ось х\n",
    "fig.update_yaxes(title_text='частота') #ось у\n",
    "#выводим получившуюся диаграмму\n",
    "#fig.show() #показать диаграмму\n",
    "fig.show(\"png\") "
   ]
  },
  {
   "cell_type": "markdown",
   "metadata": {},
   "source": [
    "Наибольшее количество событий на пользователя - 24.\n",
    "\n",
    "В целом между группами распределение схожее. Чаще всего пользователи и групп А и групп В совершают по 6 и 4 события, чуть реже 3 и 2."
   ]
  },
  {
   "cell_type": "markdown",
   "metadata": {},
   "source": [
    "**Также найдем среднее и медианное количество событий на одного пользователя для каждой группы.**"
   ]
  },
  {
   "cell_type": "code",
   "execution_count": 48,
   "metadata": {},
   "outputs": [],
   "source": [
    "count = test_data.pivot_table(index=['group', 'user_id'], values='event_name', aggfunc='count').reset_index()\n",
    "count = count.groupby('group').agg(\n",
    "    mean = ('event_name','mean'), \n",
    "    median = ('event_name', 'median')).reset_index()\n",
    "count['mean'] = round(count['mean'])"
   ]
  },
  {
   "cell_type": "code",
   "execution_count": 49,
   "metadata": {},
   "outputs": [
    {
     "data": {
      "image/png": "[encoded data removed]"
     },
     "metadata": {},
     "output_type": "display_data"
    }
   ],
   "source": [
    "fig = go.Figure()\n",
    "\n",
    "fig = go.Figure(data=[\n",
    "    go.Bar(name='mean', x=count['group'], y=count['mean'], text=count['mean']),\n",
    "        go.Bar(name='median', x=count['group'], y=count['median'], text=count['median']),\n",
    "])\n",
    "fig.update_layout(barmode='group') #вид диаграммы Bar\n",
    "\n",
    "fig.update_layout(\n",
    "    {'title':{'text':'Среднее и медианное количество событий на одного пользователя.', 'x': 0.5, 'y': 0.9, 'font_size': 20}},\n",
    "    showlegend=True,\n",
    "    autosize=False,\n",
    "    width=900,\n",
    "    height=500,\n",
    "    paper_bgcolor='white',\n",
    "    plot_bgcolor='white',\n",
    ")\n",
    "#fig.update_yaxes(title_text='значение', showgrid=True, gridcolor='black')\n",
    "fig.update_yaxes(title_text='количество событий', showgrid=False, gridcolor='black')\n",
    "fig.update_xaxes(title_text='группа', showgrid=False)\n",
    "#fig.show() #показать диаграмму\n",
    "fig.show(\"png\") #показать диаграмму для Github"
   ]
  },
  {
   "cell_type": "markdown",
   "metadata": {},
   "source": [
    "В среднем на одного пользователя группы А приходится 7 событий, медианное же значение составляет 6 событий.\n",
    "\n",
    "На одного пользователя группы В приходится 6 событий в среднем и 4 события по медиане.\n",
    "\n",
    "Таким образом, в группе А на пользователя приходится больше событий, чем в группе В."
   ]
  },
  {
   "cell_type": "markdown",
   "metadata": {},
   "source": [
    "#### Распределение событий пользователей по дням.\n",
    "<a id=\"analysis4\"></a> "
   ]
  },
  {
   "cell_type": "code",
   "execution_count": 50,
   "metadata": {},
   "outputs": [],
   "source": [
    "events_count = test_data.pivot_table(index=['group', 'event_date'], values='user_id', aggfunc='count').reset_index()"
   ]
  },
  {
   "cell_type": "code",
   "execution_count": 51,
   "metadata": {},
   "outputs": [
    {
     "data": {
      "image/png": "[encoded data removed]"
     },
     "metadata": {},
     "output_type": "display_data"
    }
   ],
   "source": [
    "fig = px.line(events_count, x='event_date', y='user_id', color='group', text='user_id')\n",
    "\n",
    "#зададим параметры диаграмм\n",
    "fig.update_layout(\n",
    "        {'title':{'text':'Распределение количества  событий пользователей по дням.', \n",
    "                  'x': 0.5, 'y': 0.95, 'font_size': 20}}, #название общей диаграммы, расположение текста, размер текста\n",
    "        barmode = 'group', #вид диаграмм\n",
    "        legend_orientation=\"h\", \n",
    "        legend=dict(x=0.4, y=-0.2),#положение легенды\n",
    "        autosize=False,\n",
    "        width=900,\n",
    "        height=500,\n",
    "        paper_bgcolor='white',\n",
    "        plot_bgcolor='white', #фоновый цвет диаграмм\n",
    "        uniformtext_minsize=8, #мин. размер шрифта данных,   \n",
    "    )\n",
    "fig.update_traces(textposition='top left', textfont_size=11)\n",
    "fig.update_xaxes(title_text='даты', showgrid=True, gridcolor='silver') #ось х\n",
    "fig.update_yaxes(title_text='количество событий', showgrid=True, gridcolor='silver') #ось у\n",
    "#выводим получившуюся диаграмму\n",
    "#fig.show() #показать диаграмму\n",
    "fig.show(\"png\") #показать диаграмму для Github"
   ]
  },
  {
   "cell_type": "markdown",
   "metadata": {},
   "source": [
    "Сразу можно отметить, что, как и по количеству регистраций, количество событий пользователе группы А имеет скачкообразное распределение, и один параметр напрямую зависит от другого. \n",
    "\n",
    "В группе В за весь период тестирования динамика одинаковая.\n",
    "\n",
    "Возможно, что есть какая-то причина, по которой пользователи группы А начали активно регистрироваться и совершать события, однако, по имеющимся данным её не найти.\n",
    "\n",
    "Под конец тестирования группа А возвращается к изначальным объемам событий."
   ]
  },
  {
   "cell_type": "markdown",
   "metadata": {},
   "source": [
    "***Рассмотрим среднюю и медианную суммы покупки пользователей группы А и пользователей группы В.***"
   ]
  },
  {
   "cell_type": "code",
   "execution_count": 52,
   "metadata": {},
   "outputs": [
    {
     "data": {
      "text/html": [
       "<div>\n",
       "<style scoped>\n",
       "    .dataframe tbody tr th:only-of-type {\n",
       "        vertical-align: middle;\n",
       "    }\n",
       "\n",
       "    .dataframe tbody tr th {\n",
       "        vertical-align: top;\n",
       "    }\n",
       "\n",
       "    .dataframe thead th {\n",
       "        text-align: right;\n",
       "    }\n",
       "</style>\n",
       "<table border=\"1\" class=\"dataframe\">\n",
       "  <thead>\n",
       "    <tr style=\"text-align: right;\">\n",
       "      <th></th>\n",
       "      <th>mean</th>\n",
       "      <th>median</th>\n",
       "    </tr>\n",
       "    <tr>\n",
       "      <th>group</th>\n",
       "      <th></th>\n",
       "      <th></th>\n",
       "    </tr>\n",
       "  </thead>\n",
       "  <tbody>\n",
       "    <tr>\n",
       "      <th>A</th>\n",
       "      <td>23.09</td>\n",
       "      <td>4.99</td>\n",
       "    </tr>\n",
       "    <tr>\n",
       "      <th>B</th>\n",
       "      <td>22.87</td>\n",
       "      <td>4.99</td>\n",
       "    </tr>\n",
       "  </tbody>\n",
       "</table>\n",
       "</div>"
      ],
      "text/plain": [
       "       mean  median\n",
       "group              \n",
       "A     23.09    4.99\n",
       "B     22.87    4.99"
      ]
     },
     "execution_count": 52,
     "metadata": {},
     "output_type": "execute_result"
    }
   ],
   "source": [
    "test_data.groupby('group').agg(mean = ('details','mean'), \\\n",
    "                                median = ('details', 'median'))"
   ]
  },
  {
   "cell_type": "markdown",
   "metadata": {},
   "source": [
    "Медианная стоимость покупки для обеих групп одинакова и составляет 4,99 долларов.\n",
    "\n",
    "А вот средняя стоимость покупки в группе А выше и составляет 23,09 долларов.\n",
    "\n",
    "В группе В средняя стоимость покупки 22,87 долларов."
   ]
  },
  {
   "cell_type": "markdown",
   "metadata": {},
   "source": [
    "#### Анализ изменения конверсии в воронке на разных этапах.\n",
    "<a id=\"analysis5\"></a> "
   ]
  },
  {
   "cell_type": "code",
   "execution_count": 53,
   "metadata": {},
   "outputs": [],
   "source": [
    "#подготовим сводную таблицу с количеством уникальных пользователей на каждом событии по двум группам и общим количеством\n",
    "event_unique_all = test_data.groupby('event_name').agg(\n",
    "    {'user_id': 'nunique'}).sort_values('user_id', ascending=False).rename(columns={'user_id':'all groups'})\n",
    "event_unique_all = event_unique_all.reindex(['login','product_page','product_cart','purchase'])\n",
    "event_unique_all['% previous all'] = event_unique_all['all groups'] / event_unique_all['all groups'].shift(\n",
    "    1,fill_value=event_unique_all.max().iat[0]\n",
    ")\n",
    "event_unique_all['% initial all'] = event_unique_all['all groups'] / event_unique_all.max().iat[0]\n",
    "\n",
    "event_unique_all['% initial all'] = event_unique_all['% initial all'].apply('{:.0%}'.format)\n",
    "event_unique_all['% previous all'] = event_unique_all['% previous all'].apply('{:.0%}'.format)"
   ]
  },
  {
   "cell_type": "code",
   "execution_count": 54,
   "metadata": {},
   "outputs": [],
   "source": [
    "event_unique_A = test_data.query('group == \"A\"').groupby(['event_name']).agg(\n",
    "    {'user_id': 'nunique'}).sort_values('user_id', ascending=False).rename(columns={'user_id':'group A'})\n",
    "\n",
    "event_unique_A = event_unique_A.reindex(['login','product_page','product_cart','purchase'])\n",
    "event_unique_A['% previous A'] = event_unique_A['group A'] / event_unique_A['group A'].shift(\n",
    "    1,fill_value=event_unique_A.max().iat[0]\n",
    ")\n",
    "\n",
    "event_unique_A['% initial A'] = event_unique_A['group A'] / event_unique_A.max().iat[0]\n",
    "\n",
    "event_unique_A['% initial A'] = event_unique_A['% initial A'].apply('{:.0%}'.format)\n",
    "event_unique_A['% previous A'] = event_unique_A['% previous A'].apply('{:.0%}'.format)"
   ]
  },
  {
   "cell_type": "code",
   "execution_count": 55,
   "metadata": {},
   "outputs": [],
   "source": [
    "event_unique_B = test_data.query('group == \"B\"').groupby(['event_name']).agg(\n",
    "    {'user_id': 'nunique'}).sort_values('user_id', ascending=False).rename(columns={'user_id':'group B'})\n",
    "\n",
    "event_unique_B = event_unique_B.reindex(['login','product_page','product_cart','purchase'])\n",
    "event_unique_B['% previous B'] = event_unique_B['group B'] / event_unique_B['group B'].shift(\n",
    "    1,fill_value=event_unique_B.max().iat[0]\n",
    ")\n",
    "\n",
    "event_unique_B['% initial B'] = event_unique_B['group B'] / event_unique_B.max().iat[0]\n",
    "\n",
    "event_unique_B['% initial B'] = event_unique_B['% initial B'].apply('{:.0%}'.format)\n",
    "event_unique_B['% previous B'] = event_unique_B['% previous B'].apply('{:.0%}'.format)"
   ]
  },
  {
   "cell_type": "code",
   "execution_count": 56,
   "metadata": {},
   "outputs": [],
   "source": [
    "event_unique_concat = pd.concat([\n",
    "    event_unique_all,\n",
    "    event_unique_A,\n",
    "    event_unique_B],\n",
    "    axis=1\n",
    ")"
   ]
  },
  {
   "cell_type": "code",
   "execution_count": 57,
   "metadata": {},
   "outputs": [
    {
     "data": {
      "text/html": [
       "<div>\n",
       "<style scoped>\n",
       "    .dataframe tbody tr th:only-of-type {\n",
       "        vertical-align: middle;\n",
       "    }\n",
       "\n",
       "    .dataframe tbody tr th {\n",
       "        vertical-align: top;\n",
       "    }\n",
       "\n",
       "    .dataframe thead th {\n",
       "        text-align: right;\n",
       "    }\n",
       "</style>\n",
       "<table border=\"1\" class=\"dataframe\">\n",
       "  <thead>\n",
       "    <tr style=\"text-align: right;\">\n",
       "      <th></th>\n",
       "      <th>all groups</th>\n",
       "      <th>% previous all</th>\n",
       "      <th>% initial all</th>\n",
       "      <th>group A</th>\n",
       "      <th>% previous A</th>\n",
       "      <th>% initial A</th>\n",
       "      <th>group B</th>\n",
       "      <th>% previous B</th>\n",
       "      <th>% initial B</th>\n",
       "    </tr>\n",
       "    <tr>\n",
       "      <th>event_name</th>\n",
       "      <th></th>\n",
       "      <th></th>\n",
       "      <th></th>\n",
       "      <th></th>\n",
       "      <th></th>\n",
       "      <th></th>\n",
       "      <th></th>\n",
       "      <th></th>\n",
       "      <th></th>\n",
       "    </tr>\n",
       "  </thead>\n",
       "  <tbody>\n",
       "    <tr>\n",
       "      <th>login</th>\n",
       "      <td>3480</td>\n",
       "      <td>100%</td>\n",
       "      <td>100%</td>\n",
       "      <td>2604</td>\n",
       "      <td>100%</td>\n",
       "      <td>100%</td>\n",
       "      <td>876</td>\n",
       "      <td>100%</td>\n",
       "      <td>100%</td>\n",
       "    </tr>\n",
       "    <tr>\n",
       "      <th>product_page</th>\n",
       "      <td>2178</td>\n",
       "      <td>63%</td>\n",
       "      <td>63%</td>\n",
       "      <td>1685</td>\n",
       "      <td>65%</td>\n",
       "      <td>65%</td>\n",
       "      <td>493</td>\n",
       "      <td>56%</td>\n",
       "      <td>56%</td>\n",
       "    </tr>\n",
       "    <tr>\n",
       "      <th>product_cart</th>\n",
       "      <td>1026</td>\n",
       "      <td>47%</td>\n",
       "      <td>29%</td>\n",
       "      <td>782</td>\n",
       "      <td>46%</td>\n",
       "      <td>30%</td>\n",
       "      <td>244</td>\n",
       "      <td>49%</td>\n",
       "      <td>28%</td>\n",
       "    </tr>\n",
       "    <tr>\n",
       "      <th>purchase</th>\n",
       "      <td>1082</td>\n",
       "      <td>105%</td>\n",
       "      <td>31%</td>\n",
       "      <td>833</td>\n",
       "      <td>107%</td>\n",
       "      <td>32%</td>\n",
       "      <td>249</td>\n",
       "      <td>102%</td>\n",
       "      <td>28%</td>\n",
       "    </tr>\n",
       "  </tbody>\n",
       "</table>\n",
       "</div>"
      ],
      "text/plain": [
       "              all groups % previous all % initial all  group A % previous A  \\\n",
       "event_name                                                                    \n",
       "login               3480           100%          100%     2604         100%   \n",
       "product_page        2178            63%           63%     1685          65%   \n",
       "product_cart        1026            47%           29%      782          46%   \n",
       "purchase            1082           105%           31%      833         107%   \n",
       "\n",
       "             % initial A  group B % previous B % initial B  \n",
       "event_name                                                  \n",
       "login               100%      876         100%        100%  \n",
       "product_page         65%      493          56%         56%  \n",
       "product_cart         30%      244          49%         28%  \n",
       "purchase             32%      249         102%         28%  "
      ]
     },
     "execution_count": 57,
     "metadata": {},
     "output_type": "execute_result"
    }
   ],
   "source": [
    "event_unique_concat"
   ]
  },
  {
   "cell_type": "markdown",
   "metadata": {},
   "source": [
    "***Построим воронку событий, совершенных уникальными пользователями двух групп тестирования.***"
   ]
  },
  {
   "cell_type": "code",
   "execution_count": 58,
   "metadata": {},
   "outputs": [
    {
     "data": {
      "image/png": "[encoded data removed]"
     },
     "metadata": {},
     "output_type": "display_data"
    }
   ],
   "source": [
    "fig = go.Figure()\n",
    "\n",
    "\n",
    "fig.add_trace(go.Funnel(\n",
    "    name = 'group group A',\n",
    "    orientation = 'h',    \n",
    "    y = event_unique_concat.reset_index()['event_name'].tolist(),\n",
    "    x = event_unique_concat.reset_index()['group A'].tolist(),\n",
    "    textinfo = 'value+percent initial+percent previous',\n",
    "    opacity = 0.7, marker = {'color': ['firebrick', 'firebrick', 'firebrick', 'firebrick']},\n",
    "    connector = {'line': {'color': 'slategray', 'dash': 'dot', 'width': 2}}))\n",
    "\n",
    "fig.add_trace(go.Funnel(\n",
    "    name = 'group B',\n",
    "    orientation = 'h',\n",
    "    y = event_unique_concat.reset_index()['event_name'].tolist(),\n",
    "    x = event_unique_concat.reset_index()['group B'].tolist(),\n",
    "    textposition = 'auto',\n",
    "    textinfo = 'value+percent initial+percent previous',\n",
    "    opacity = 0.7, marker = {'color': ['seagreen', 'seagreen', 'seagreen', 'seagreen']},\n",
    "    connector = {'line': {'color': 'slategray', 'dash': 'dot', 'width': 2}}))\n",
    "\n",
    "fig.update_layout(\n",
    "        {'title':{'text':'Воронка событий А/В тестирования.', \n",
    "                  'x': 0.5, 'y': 0.95, 'font_size': 20}},#название общей диаграммы, расположение текста, размер текста\n",
    "        width=1050,\n",
    "        height=600,\n",
    "        legend_orientation=\"h\", \n",
    "        legend=dict(x=0.3, y=-0.2),#положение легенды\n",
    "        plot_bgcolor='gainsboro', #фоновый цвет диаграмм\n",
    "    )\n",
    "fig.update_traces(textfont_size=11)\n",
    "#fig.update_yaxes(title_text='название события') #ось у\n",
    "\n",
    "#fig.show() #показать диаграмму\n",
    "fig.show(\"png\") #показать диаграмму для Github"
   ]
  },
  {
   "cell_type": "markdown",
   "metadata": {},
   "source": [
    "Рассмотрев воронку событий по группам А и В, можно отметить следующее:\n",
    "- процент потери пользователей от первого события login к:\n",
    "    - событию product_page у группы А - 35 %, у группы В - 44%\n",
    "    - событию product_cart у группы А - 70 %, у группы В - 78%\n",
    "    - событию purchase у группы А - 68 %, у группы В - 72%\n",
    "Также можно заметить, что логическая последовательность воронки событий: \"авторизация - страница товара - корзина - оплата\" нарушается. Все потому, что данная воронка является достаточно гибкой, и пользователи могут оплачивать свои заказы, не заходя в корзину, а находясь на странице с товаром. Также возможны и другие вариации между событиями.\n",
    "\n",
    "В общем итоге можно заметить, что по всем событиям после авторизации, конверсия у группы А выше, чем у группы В. \n",
    "\n",
    "Так к событию product_page перешло на 9 п.п пользователей группы А больше, чем в группе В. \n",
    "\n",
    "К событию product_cart препершло на 2 п.п пользователей группы А больше, чем в группе В. \n",
    "\n",
    "К событию purchase препершло на 4 п.п пользователей группы А больше, чем в группе В."
   ]
  },
  {
   "cell_type": "markdown",
   "metadata": {},
   "source": [
    "#### Особенности данных, которые нужно учесть, прежде чем приступать к A/B-тестированию.\n",
    "<a id=\"analysis6\"></a> "
   ]
  },
  {
   "cell_type": "markdown",
   "metadata": {},
   "source": [
    "Необходимо отметить следующие особенности:\n",
    "- тестирование было завершено на 5 дней раньше;\n",
    "- одновременно проводились 2 А/В тестирования, в результате образовались задублировавшиеся между двумя тестами пользователи:\n",
    "    - Всего 1602 пользователя.\n",
    "    - Из них 819 пользователей из группы А второго теста.\n",
    "    - Однако остальные 783 пользователя принадлежат группе B второго теста. На таких пользователей могут повлиять вводимые изменения другого теста. \n",
    "    - Чтобы не снижать мощность нашего теста, было проверено как пользователи группы В второго теста распределены между группами нашего теста при помощи стат. теста. Результат показал, что распределение можно считать равным и все пользователи были сохранены.\n",
    "- в данных есть пользователи, которые не совершили после регистрации ни одного события:\n",
    "    - размер таких пользователей - 2870;\n",
    "    - их объем - 45,19%\n",
    "    - распределение между группами: группа А - 64,11%, группа В - 35,89%\n",
    "- так как данных по этим пользователям недостаточно, они были отстранены\n",
    "- в период проведения тестирования также осуществлялись акция Christmas&New Year Promo, следовательно клиенты тестирования могли попасть под её воздействие;\n",
    "- тестирование проводится в предпраздничный период, что является негативным фактором проведения А/В тестирования, так как календарные события и праздники значительно искажают покупательский спрос и, следовательно, могут значительно повлиять и на результаты проведения тестирования, а именно исказить и их.\n",
    "\n",
    "- при проверке распределения регистраций пользователей и распределения количества событий был замечен значительный подъем у группы А на 14 декабря и 21 декабря, однако такой рост не коснулся группы В. "
   ]
  },
  {
   "cell_type": "markdown",
   "metadata": {
    "id": "80LRB5-eWVwm"
   },
   "source": [
    "### Оценка результатов A/B-тестирования\n",
    "<a id=\"result0\"></a> "
   ]
  },
  {
   "cell_type": "markdown",
   "metadata": {},
   "source": [
    "#### Результаты A/В-тестирования.\n",
    "<a id=\"result1\"></a> "
   ]
  },
  {
   "cell_type": "markdown",
   "metadata": {},
   "source": [
    "- В среднем на одного пользователя группы А приходится 7 событий, медианное же значение составляет 6 событий. На одного пользователя группы В приходится 6 событий в среднем и 4 события по медиане.\n",
    "    - Таким образом, ***в группе А на пользователя приходится больше событий, чем в группе В.***\n",
    "- Медианная стоимость покупки для обеих групп одинакова и составляет 6,99 долларов. А вот ***средняя стоимость покупки в группе А выше*** и составляет 23,09 долларов. В группе В средняя стоимость покупки 22,87 долларов.\n",
    "- В общем итоге можно заметить, что ***по всем событиям после авторизации, конверсия у группы А выше, чем у группы В.***\n",
    "    - Так к событию product_page перешло на 9 п.п пользователей группы А больше, чем в группе В.\n",
    "    - К событию product_cart препершло на 2 п.п пользователей группы А больше, чем в группе В.\n",
    "    - К событию purchase препершло на 4 п.п пользователей группы А больше, чем в группе В.\n",
    "\n"
   ]
  },
  {
   "cell_type": "markdown",
   "metadata": {},
   "source": [
    "#### Проверка статистической разницы долей z-критерием.\n",
    "<a id=\"test\"></a> "
   ]
  },
  {
   "cell_type": "markdown",
   "metadata": {},
   "source": [
    "***Проверим, находят ли статистические критерии разницу между выборками контрольной группы А и тестовой группы В по событиям 'product_page', 'product_cart', 'purchase'.***"
   ]
  },
  {
   "attachments": {
    "image-2.png": {
     "image/png": "[encoded data removed]"
    },
    "image.png": {
     "image/png": "[encoded data removed]"
    }
   },
   "cell_type": "markdown",
   "metadata": {},
   "source": [
    "Так как тестирование имеет множественные сравнения необходимо снизить вероятность ложнопозитивного результата.\n",
    "    \n",
    "Чтобы снизить вероятность ложнопозитивного результата при множественном тестировании гипотез, применяют разные методы корректировки уровня значимости для уменьшения FWER.\n",
    "\n",
    "**Метод Бонферрони (поправка Бонферрони):**\n",
    "\n",
    "Самая грубая и распространённая поправка к требуемым уровням значимости. Уровни значимости в каждом из m сравнений в m раз меньше, чем уровень значимости, требуемый при единственном сравнении. Проще говоря, делят уровень значимости ɑ на число гипотез:\n",
    "\n",
    "![image-2.png](attachment:image-2.png)\n",
    "\n",
    "\n",
    "**Метод Холма**\n",
    "\n",
    "Метод Холма также гарантирует FWER < ɑ, но предъявляет более мягкие требования к уровню значимости. Метод пошаговый: для первого сравнения требуемый уровень значимости равен отношению ɑ к числу попарных сравнений, для второго — отношению ɑ к (числу сравнений - 1) и так далее. Для последнего сравнения уровень значимости будет равен ɑ:\n",
    "\n",
    "![image-2.png](attachment:image-2.png)\n",
    "\n",
    "**Метод Шидака**\n",
    "\n",
    "Метод Шидака также обеспечивает FWER < ɑ. Скорректированное значение требуемого уровня значимости рассчитывается по формуле: \n",
    "\n",
    "![image.png](attachment:image.png)\n",
    "\n",
    "Например, при ɑ = 0.05 и при двух сравнениях требуемый уровень значимости рассчитывают так: 1 - (1 - 0.05)^(1/2) = 0.0253, а при 4 сравнениях: 1 - (1 - 0.05)^(1/4) = 0.0127."
   ]
  },
  {
   "cell_type": "markdown",
   "metadata": {},
   "source": [
    "Сформулируем гипотезы.\n",
    "\n",
    "**Нулевая гипотеза: Н0 = Различий между выборками контрольной группы А и тестовой группы В нет.(для каждого события)**\n",
    "\n",
    "**Альтернативная гипотеза: H_a: = Различия между выборками контрольной группы А и тестовой группы В есть.(для каждого события)**\n",
    "\n",
    "В качестве уровня критической значимости установим 0.05"
   ]
  },
  {
   "cell_type": "code",
   "execution_count": 59,
   "metadata": {},
   "outputs": [
    {
     "data": {
      "text/html": [
       "<div>\n",
       "<style scoped>\n",
       "    .dataframe tbody tr th:only-of-type {\n",
       "        vertical-align: middle;\n",
       "    }\n",
       "\n",
       "    .dataframe tbody tr th {\n",
       "        vertical-align: top;\n",
       "    }\n",
       "\n",
       "    .dataframe thead th {\n",
       "        text-align: right;\n",
       "    }\n",
       "</style>\n",
       "<table border=\"1\" class=\"dataframe\">\n",
       "  <thead>\n",
       "    <tr style=\"text-align: right;\">\n",
       "      <th></th>\n",
       "      <th>event_name</th>\n",
       "      <th>all groups</th>\n",
       "      <th>group A</th>\n",
       "      <th>group B</th>\n",
       "    </tr>\n",
       "  </thead>\n",
       "  <tbody>\n",
       "    <tr>\n",
       "      <th>0</th>\n",
       "      <td>login</td>\n",
       "      <td>3480</td>\n",
       "      <td>2604</td>\n",
       "      <td>876</td>\n",
       "    </tr>\n",
       "    <tr>\n",
       "      <th>1</th>\n",
       "      <td>product_page</td>\n",
       "      <td>2178</td>\n",
       "      <td>1685</td>\n",
       "      <td>493</td>\n",
       "    </tr>\n",
       "    <tr>\n",
       "      <th>2</th>\n",
       "      <td>product_cart</td>\n",
       "      <td>1026</td>\n",
       "      <td>782</td>\n",
       "      <td>244</td>\n",
       "    </tr>\n",
       "    <tr>\n",
       "      <th>3</th>\n",
       "      <td>purchase</td>\n",
       "      <td>1082</td>\n",
       "      <td>833</td>\n",
       "      <td>249</td>\n",
       "    </tr>\n",
       "  </tbody>\n",
       "</table>\n",
       "</div>"
      ],
      "text/plain": [
       "     event_name  all groups  group A  group B\n",
       "0         login        3480     2604      876\n",
       "1  product_page        2178     1685      493\n",
       "2  product_cart        1026      782      244\n",
       "3      purchase        1082      833      249"
      ]
     },
     "execution_count": 59,
     "metadata": {},
     "output_type": "execute_result"
    }
   ],
   "source": [
    "hypotheses_table = event_unique_concat[['all groups', 'group A' ,'group B']].reset_index()\n",
    "hypotheses_table"
   ]
  },
  {
   "cell_type": "code",
   "execution_count": 60,
   "metadata": {},
   "outputs": [],
   "source": [
    "def statistical_significance (df, alpha, for_method=False):\n",
    "#создадим переменную в которую будут помещаться значения p-value при выполнении цикла    \n",
    "    p_v = []\n",
    "    event = ['product_page', 'product_cart', 'purchase']\n",
    "    for x in event:\n",
    "        event_df = df[df['event_name'] == x]\n",
    "        successes1 = event_df['group A'].iat[0]\n",
    "        successes2 = event_df['group B'].iat[0]\n",
    "        trials1 = df['group A'].iloc[0]\n",
    "        trials2 = df['group B'].iloc[0]\n",
    "\n",
    "        successes = np.array([successes1, successes2])\n",
    "        trials = np.array([trials1, trials2])\n",
    "\n",
    "        p1 = successes[0]/trials[0]\n",
    "        p2 = successes[1]/trials[1]\n",
    "        \n",
    "        #print(trials[0], trials[1])\n",
    "    \n",
    "        p_combined = (successes[0] + successes[1]) / (trials[0] + trials[1])\n",
    "\n",
    "        difference = p1 - p2 \n",
    "\n",
    "        z_value = difference / mth.sqrt(p_combined * (1 - p_combined) * (1/trials[0] + 1/trials[1]))\n",
    "        \n",
    "        distr = st.norm(0, 1)  \n",
    "        p_value = (1 - distr.cdf(abs(z_value))) * 2\n",
    "        \n",
    "        p_v.append(p_value)#наполним список\n",
    "        \n",
    "#при значении False функция выведет необходимую информацию по тесту(без изменений)        \n",
    "        if for_method == False:  \n",
    "            print('Между группами A и В по событию', '\\033[1m' + f'{x}' + '\\033[0m')\n",
    "            print('p-значение: ', p_value)\n",
    "            print(successes)\n",
    "            print(trials)\n",
    "            if p_value < alpha:\n",
    "                print('Отвергаем H0: между долями есть значимая разница')\n",
    "                print(' ')\n",
    "            else:\n",
    "                print('\\033[1m' + 'Не получилось отвергнуть H0: нет оснований считать доли разными' + '\\033[0m')\n",
    "                print(' ')\n",
    "#при значении True функция выведет список со списками значений p-value по каждому событию\n",
    "    if for_method == True:\n",
    "        return p_v\n"
   ]
  },
  {
   "cell_type": "markdown",
   "metadata": {},
   "source": [
    "**Проверим гипотезы применяя поправку Бонферрони.**"
   ]
  },
  {
   "cell_type": "code",
   "execution_count": 61,
   "metadata": {},
   "outputs": [
    {
     "name": "stdout",
     "output_type": "stream",
     "text": [
      "Между группами A и В по событию \u001b[1mproduct_page\u001b[0m\n",
      "p-значение:  8.195976000324734e-06\n",
      "[1685  493]\n",
      "[2604  876]\n",
      "Отвергаем H0: между долями есть значимая разница\n",
      " \n",
      "Между группами A и В по событию \u001b[1mproduct_cart\u001b[0m\n",
      "p-значение:  0.2215941567364419\n",
      "[782 244]\n",
      "[2604  876]\n",
      "\u001b[1mНе получилось отвергнуть H0: нет оснований считать доли разными\u001b[0m\n",
      " \n",
      "Между группами A и В по событию \u001b[1mpurchase\u001b[0m\n",
      "p-значение:  0.04864766695042433\n",
      "[833 249]\n",
      "[2604  876]\n",
      "\u001b[1mНе получилось отвергнуть H0: нет оснований считать доли разными\u001b[0m\n",
      " \n"
     ]
    }
   ],
   "source": [
    "statistical_significance(hypotheses_table, alpha=.05/3, for_method=False)"
   ]
  },
  {
   "cell_type": "markdown",
   "metadata": {},
   "source": [
    "Из трех гипотез статистическим тестом было подтверждено 2 нулевые гипотезы по событиям product_cart и purchase, а также отвегнута нулевая гипотеза по событию product_page."
   ]
  },
  {
   "cell_type": "markdown",
   "metadata": {},
   "source": [
    "**Проверим гипотезы применяя поправку Шидака.**"
   ]
  },
  {
   "cell_type": "code",
   "execution_count": 62,
   "metadata": {},
   "outputs": [
    {
     "name": "stdout",
     "output_type": "stream",
     "text": [
      "Уровень alpha с поправкой Шидака 0.016952427508441503\n",
      " \n",
      "Между группами A и В по событию \u001b[1mproduct_page\u001b[0m\n",
      "p-значение:  8.195976000324734e-06\n",
      "[1685  493]\n",
      "[2604  876]\n",
      "Отвергаем H0: между долями есть значимая разница\n",
      " \n",
      "Между группами A и В по событию \u001b[1mproduct_cart\u001b[0m\n",
      "p-значение:  0.2215941567364419\n",
      "[782 244]\n",
      "[2604  876]\n",
      "\u001b[1mНе получилось отвергнуть H0: нет оснований считать доли разными\u001b[0m\n",
      " \n",
      "Между группами A и В по событию \u001b[1mpurchase\u001b[0m\n",
      "p-значение:  0.04864766695042433\n",
      "[833 249]\n",
      "[2604  876]\n",
      "\u001b[1mНе получилось отвергнуть H0: нет оснований считать доли разными\u001b[0m\n",
      " \n"
     ]
    }
   ],
   "source": [
    "alpha_Danna_Shidak = 1 - (1 - 0.05)**(1/3)\n",
    "print('Уровень alpha с поправкой Шидака',  alpha_Danna_Shidak)\n",
    "print(' ')\n",
    "statistical_significance(hypotheses_table, alpha=alpha_Danna_Shidak, for_method=False)"
   ]
  },
  {
   "cell_type": "markdown",
   "metadata": {},
   "source": [
    "Результат с поправкой Шидака идентичен предыдущей проверке."
   ]
  },
  {
   "cell_type": "markdown",
   "metadata": {},
   "source": [
    "**Также проверим статистические гипотезы с поправкой Холма, используя библиотеку statsmodels.**"
   ]
  },
  {
   "cell_type": "code",
   "execution_count": 63,
   "metadata": {},
   "outputs": [
    {
     "name": "stdout",
     "output_type": "stream",
     "text": [
      "[8.195976000324734e-06, 0.04864766695042433, 0.2215941567364419]\n",
      " \n",
      "FWER: (array([ True, False, False]), array([2.45879280e-05, 9.72953339e-02, 2.21594157e-01]), 0.016952427508441503, 0.016666666666666666)\n"
     ]
    }
   ],
   "source": [
    "#сохраним список с получившимися значениями p_value\n",
    "p_value_result = statistical_significance(hypotheses_table, alpha=.05, for_method=True)\n",
    "\n",
    "#используем библиотеку\n",
    "print(sorted(p_value_result))\n",
    "print(' ')\n",
    "print(\"FWER: \" + str(multipletests(sorted(p_value_result), alpha=0.05, \n",
    "                    method='holm', is_sorted = True)))"
   ]
  },
  {
   "cell_type": "markdown",
   "metadata": {},
   "source": [
    "Первый список со значениями True и False показывает, что первую нулевую гипотезу по событию product_page со значением p_value=8.19... отвергаем, остальные же гипотезы отвергнуть нельзя.\n",
    "\n",
    "Результат с поправкой Холма идентичен двум предыдущим."
   ]
  },
  {
   "cell_type": "markdown",
   "metadata": {},
   "source": [
    "**Таким образом, результаты статистических тестов со всеми 3 поправками имеют одинаковый результат.**\n",
    "\n",
    "- Различия между выборками контрольной группы А и тестовой группы В по событию product_page есть;\n",
    "- Различий между выборками контрольной группы А и тестовой группы В по событию product_cart нет;\n",
    "- Различий между выборками контрольной группы А и тестовой группы В по событию purchase нет."
   ]
  },
  {
   "cell_type": "markdown",
   "metadata": {
    "id": "Jn9XBfZCWVwo"
   },
   "source": [
    "### Выводы по исследованию\n",
    "<a id=\"rec\"></a> "
   ]
  },
  {
   "cell_type": "markdown",
   "metadata": {},
   "source": [
    "***Опишите выводы по этапу исследовательского анализа данных и по проведённой оценке результатов A/B-тестирования. Сделайте общее заключение о корректности проведения теста.***"
   ]
  },
  {
   "cell_type": "markdown",
   "metadata": {},
   "source": [
    "**Предоставленные данные изначально отвечали требованиям технического задания так:**\n",
    "- **временной интервал набора пользователей - соответствует тех. заданию;**\n",
    "\n",
    "- **временной интервал тестирования - дата начала соответствует, дата окончания не соответствует тест закончился раньше на 5 дней;**\n",
    "\n",
    "- **процент набора новых пользователей из региона EU в тест - соответствует техническому заданию и составляет 15%;**\n",
    "\n",
    "- **количество пользователей соответствует ожидаемому количеству участников теста;**\n",
    "\n",
    "Однако одновременно проводились 2 А/В тестирования, в результате образовались задублировавшиеся между двумя тестами пользователи:\n",
    "- Всего 1602 пользователя.\n",
    "- Из них 819 пользователей из группы А второго теста.\n",
    "- Однако остальные 783 пользователя принадлежат группе B второго теста. На таких пользователей могут повлиять вводимые изменения другого теста. Чтобы не снижать мощность нашего теста, было проверено как пользователи группы В второго теста распределены между группами нашего теста при помощи стат. теста. Результат показал, что распределение можно считать равным и все пользователи были сохранены.\n",
    "В данных есть пользователи не совершили после регистрации ни одного события:\n",
    "- размер таких пользователей - 2870;\n",
    "- их объем - 45,19%\n",
    "- распределение между группами: группа А - 64,11%, группа В - 35,89%. Так как данных по этим пользователям недостаточно, они были отстранены;\n",
    "Количество событий, которые совершаются более, чем на 14 день - 588.\n",
    "\n",
    "**После обработки данных по вышеизложенным пунктам соответствие данных техническому заданию:**\n",
    "\n",
    "- **временной интервал набора пользователей - соответствует тех. заданию;**\n",
    "\n",
    "- **временной интервал тестирования - дата начала соответствует, дата окончания не соответствует + смещение на -1 день;**\n",
    "\n",
    "- **процент набора новых пользователей из региона EU в тест - не соответствует техническому заданию и составляет 8,22%;**\n",
    "\n",
    "- **количество пользователей не соответствует ожидаемому количеству участников теста в тех. задании**\n",
    "\n",
    "- данных на 14 день с момента регистрации пользователя слишком мало, поэтому рассматриваться метрики будут за 1-14 дни регистрации пользователя.\n",
    "\n",
    "\n",
    "**Также следует отметить следующие особенности текущего А/В тестирования:**\n",
    "- в период проведения тестирования осуществлялась акция Christmas&New Year Promo, следовательно клиенты тестирования могли попасть под её воздействие;\n",
    "\n",
    "- тестирование проводится в предпраздничный период, что является негативным фактором проведения А/В тестирования, так как календарные события и праздники значительно искажают покупательский спрос и, следовательно, могут значительно повлиять и на результаты проведения тестирования, а именно исказить и их.\n",
    "\n",
    "- распределение на группы тестирования неравномерное, группа А имеет вес 78,75%, а группа В 21,25%.\n",
    "\n",
    "- при проверке распределения регистраций пользователей и распределения количества событий был замечен значительный подъем у группы А на 14 декабря и 21 декабря, однако такой рост не коснулся группу В.\n",
    "\n",
    "\n",
    "**По результатам исследовательского анализа группы А и группы В тестирования:**\n",
    "- В среднем на одного пользователя группы А приходится 7 событий, медианное же значение составляет 6 событий. На одного пользователя группы В приходится 6 событий в среднем и 4 события по медиане. Таким образом, в группе А на пользователя приходится больше событий, чем в группе В.\n",
    "\n",
    "- Медианная стоимость покупки для обеих групп одинакова и составляет 6,99 долларов. А вот средняя стоимость покупки в группе А выше и составляет 23,09 долларов. В группе В средняя стоимость покупки 22,87 долларов.\n",
    "\n",
    "- В общем итоге можно заметить, что по всем событиям после авторизации, конверсия у группы А выше, чем у группы В.\n",
    "    - Так к событию product_page перешло на 9 п.п пользователей группы А больше, чем в группе В.\n",
    "    - К событию product_cart препершло на 2 п.п пользователей группы А больше, чем в группе В.\n",
    "    - К событию purchase препершло на 4 п.п пользователей группы А больше, чем в группе В.\n",
    "    \n",
    "**Проверка статистическим тестом распределений пользователей групп А и В теста по событиям показала следующие результаты:**\n",
    "- Различия между выборками контрольной группы А и тестовой группы В по событию product_page есть;\n",
    "- Различий между выборками контрольной группы А и тестовой группы В по событию product_cart нет;\n",
    "- Различий между выборками контрольной группы А и тестовой группы В по событию purchase нет.\n",
    "\n",
    "**Подводя общий итог по тестированию А/В, можно признать тест завершенным и сказать, что за период исследования  новая платёжная воронка оказалась неэффективна. За 14 дней с момента регистрации пользователи группы В не показали улучшение ни одной из метрик на 10% и более% по событиям:**\n",
    "- конверсии в просмотр карточек товаров — событие `product_page`,\n",
    "- просмотры корзины — `product_cart`,\n",
    "- покупки — `purchase`.\n",
    "\n",
    "В качестве рекомендаций, стоит отметить, что для проведения тестирования стоит выбирать наиболее независимый от праздников период, также либо не проводить одновременно два А/В теста, либо следить за тем, чтобы пользователи распределялись корректным образом."
   ]
  }
 ],
 "metadata": {
  "ExecuteTimeLog": [
   {
    "duration": 3494,
    "start_time": "2023-07-26T09:35:38.556Z"
   },
   {
    "duration": 2090,
    "start_time": "2023-07-26T09:35:42.053Z"
   },
   {
    "duration": 3032,
    "start_time": "2023-07-26T09:35:44.145Z"
   },
   {
    "duration": 8,
    "start_time": "2023-07-26T09:35:47.179Z"
   },
   {
    "duration": 151,
    "start_time": "2023-07-26T09:35:47.192Z"
   },
   {
    "duration": 709,
    "start_time": "2023-07-26T09:35:47.346Z"
   },
   {
    "duration": 112,
    "start_time": "2023-07-26T09:35:48.061Z"
   },
   {
    "duration": 52,
    "start_time": "2023-07-26T09:35:48.183Z"
   },
   {
    "duration": 208,
    "start_time": "2023-07-26T09:35:48.240Z"
   },
   {
    "duration": 33,
    "start_time": "2023-07-26T09:35:48.452Z"
   },
   {
    "duration": 97,
    "start_time": "2023-07-26T09:35:48.489Z"
   },
   {
    "duration": 52,
    "start_time": "2023-07-26T09:35:48.597Z"
   },
   {
    "duration": 99,
    "start_time": "2023-07-26T09:35:48.654Z"
   },
   {
    "duration": 49,
    "start_time": "2023-07-26T09:35:48.756Z"
   },
   {
    "duration": 12,
    "start_time": "2023-07-26T09:35:48.809Z"
   },
   {
    "duration": 55,
    "start_time": "2023-07-26T09:35:48.822Z"
   },
   {
    "duration": 27,
    "start_time": "2023-07-26T09:35:48.901Z"
   },
   {
    "duration": 18,
    "start_time": "2023-07-26T09:35:48.942Z"
   },
   {
    "duration": 12,
    "start_time": "2023-07-26T09:35:48.961Z"
   },
   {
    "duration": 42,
    "start_time": "2023-07-26T09:35:48.975Z"
   },
   {
    "duration": 16,
    "start_time": "2023-07-26T09:35:49.020Z"
   },
   {
    "duration": 8,
    "start_time": "2023-07-26T09:35:49.042Z"
   },
   {
    "duration": 34,
    "start_time": "2023-07-26T09:35:49.052Z"
   },
   {
    "duration": 12,
    "start_time": "2023-07-26T09:35:49.087Z"
   },
   {
    "duration": 49,
    "start_time": "2023-07-26T09:35:49.102Z"
   },
   {
    "duration": 12,
    "start_time": "2023-07-26T09:35:49.153Z"
   },
   {
    "duration": 46,
    "start_time": "2023-07-26T09:35:49.168Z"
   },
   {
    "duration": 34,
    "start_time": "2023-07-26T09:35:49.218Z"
   },
   {
    "duration": 201,
    "start_time": "2023-07-26T09:35:49.256Z"
   },
   {
    "duration": 41,
    "start_time": "2023-07-26T09:35:49.461Z"
   },
   {
    "duration": 33,
    "start_time": "2023-07-26T09:35:49.504Z"
   },
   {
    "duration": 12,
    "start_time": "2023-07-26T09:35:49.553Z"
   },
   {
    "duration": 38,
    "start_time": "2023-07-26T09:35:49.567Z"
   },
   {
    "duration": 50,
    "start_time": "2023-07-26T09:35:49.607Z"
   },
   {
    "duration": 13,
    "start_time": "2023-07-26T09:35:49.660Z"
   },
   {
    "duration": 1467,
    "start_time": "2023-07-26T09:35:49.674Z"
   },
   {
    "duration": 16,
    "start_time": "2023-07-26T09:35:51.143Z"
   },
   {
    "duration": 1107,
    "start_time": "2023-07-26T09:35:51.161Z"
   },
   {
    "duration": 47,
    "start_time": "2023-07-26T09:35:52.270Z"
   },
   {
    "duration": 17,
    "start_time": "2023-07-26T09:35:52.319Z"
   },
   {
    "duration": 77,
    "start_time": "2023-07-26T09:35:52.340Z"
   },
   {
    "duration": 211,
    "start_time": "2023-07-26T09:35:52.419Z"
   },
   {
    "duration": 39,
    "start_time": "2023-07-26T09:35:52.631Z"
   },
   {
    "duration": 98,
    "start_time": "2023-07-26T09:35:52.672Z"
   },
   {
    "duration": 60,
    "start_time": "2023-07-26T09:35:52.771Z"
   },
   {
    "duration": 132,
    "start_time": "2023-07-26T09:35:52.838Z"
   },
   {
    "duration": 45,
    "start_time": "2023-07-26T09:35:52.971Z"
   },
   {
    "duration": 26,
    "start_time": "2023-07-26T09:35:53.018Z"
   },
   {
    "duration": 19,
    "start_time": "2023-07-26T09:35:53.045Z"
   },
   {
    "duration": 86,
    "start_time": "2023-07-26T09:35:53.066Z"
   },
   {
    "duration": 15,
    "start_time": "2023-07-26T09:35:53.154Z"
   },
   {
    "duration": 58,
    "start_time": "2023-07-26T09:35:53.174Z"
   },
   {
    "duration": 44,
    "start_time": "2023-07-26T09:35:53.234Z"
   },
   {
    "duration": 33,
    "start_time": "2023-07-26T09:35:53.289Z"
   },
   {
    "duration": 5,
    "start_time": "2023-07-26T09:35:53.332Z"
   },
   {
    "duration": 16,
    "start_time": "2023-07-26T09:35:53.345Z"
   },
   {
    "duration": 99,
    "start_time": "2023-07-26T09:35:53.362Z"
   },
   {
    "duration": 9,
    "start_time": "2023-07-26T09:35:53.462Z"
   },
   {
    "duration": 29,
    "start_time": "2023-07-26T09:35:53.473Z"
   },
   {
    "duration": 27,
    "start_time": "2023-07-26T09:35:53.510Z"
   },
   {
    "duration": 38,
    "start_time": "2023-07-26T09:35:53.538Z"
   },
   {
    "duration": 129,
    "start_time": "2023-07-26T09:35:53.586Z"
   },
   {
    "duration": 8,
    "start_time": "2023-07-26T09:40:07.144Z"
   },
   {
    "duration": 14,
    "start_time": "2023-07-26T09:40:08.764Z"
   },
   {
    "duration": 25,
    "start_time": "2023-07-26T09:40:11.041Z"
   },
   {
    "duration": 2518,
    "start_time": "2024-06-12T20:51:54.930Z"
   },
   {
    "duration": 2220,
    "start_time": "2024-06-12T20:51:57.450Z"
   },
   {
    "duration": 1025,
    "start_time": "2024-06-12T20:51:59.672Z"
   },
   {
    "duration": 1184,
    "start_time": "2024-06-12T20:52:00.699Z"
   },
   {
    "duration": 4,
    "start_time": "2024-06-12T20:52:01.885Z"
   },
   {
    "duration": 60,
    "start_time": "2024-06-12T20:52:01.890Z"
   },
   {
    "duration": 312,
    "start_time": "2024-06-12T20:52:01.951Z"
   },
   {
    "duration": 64,
    "start_time": "2024-06-12T20:52:02.265Z"
   },
   {
    "duration": 34,
    "start_time": "2024-06-12T20:52:02.330Z"
   },
   {
    "duration": 147,
    "start_time": "2024-06-12T20:52:02.366Z"
   },
   {
    "duration": 29,
    "start_time": "2024-06-12T20:52:02.515Z"
   },
   {
    "duration": 63,
    "start_time": "2024-06-12T20:52:02.545Z"
   },
   {
    "duration": 10,
    "start_time": "2024-06-12T20:52:02.610Z"
   },
   {
    "duration": 92,
    "start_time": "2024-06-12T20:52:02.621Z"
   },
   {
    "duration": 74,
    "start_time": "2024-06-12T20:52:02.714Z"
   },
   {
    "duration": 29,
    "start_time": "2024-06-12T20:52:02.789Z"
   },
   {
    "duration": 41,
    "start_time": "2024-06-12T20:52:02.819Z"
   },
   {
    "duration": 18,
    "start_time": "2024-06-12T20:52:02.862Z"
   },
   {
    "duration": 30,
    "start_time": "2024-06-12T20:52:02.881Z"
   },
   {
    "duration": 13,
    "start_time": "2024-06-12T20:52:02.913Z"
   },
   {
    "duration": 11,
    "start_time": "2024-06-12T20:52:02.927Z"
   },
   {
    "duration": 5,
    "start_time": "2024-06-12T20:52:02.939Z"
   },
   {
    "duration": 35,
    "start_time": "2024-06-12T20:52:02.945Z"
   },
   {
    "duration": 25,
    "start_time": "2024-06-12T20:52:02.981Z"
   },
   {
    "duration": 27,
    "start_time": "2024-06-12T20:52:03.007Z"
   },
   {
    "duration": 19,
    "start_time": "2024-06-12T20:52:03.036Z"
   },
   {
    "duration": 8,
    "start_time": "2024-06-12T20:52:03.056Z"
   },
   {
    "duration": 28,
    "start_time": "2024-06-12T20:52:03.068Z"
   },
   {
    "duration": 8,
    "start_time": "2024-06-12T20:52:03.098Z"
   },
   {
    "duration": 72,
    "start_time": "2024-06-12T20:52:03.108Z"
   },
   {
    "duration": 17,
    "start_time": "2024-06-12T20:52:03.181Z"
   },
   {
    "duration": 14,
    "start_time": "2024-06-12T20:52:03.199Z"
   },
   {
    "duration": 5,
    "start_time": "2024-06-12T20:52:03.214Z"
   },
   {
    "duration": 12,
    "start_time": "2024-06-12T20:52:03.220Z"
   },
   {
    "duration": 12,
    "start_time": "2024-06-12T20:52:03.233Z"
   },
   {
    "duration": 10,
    "start_time": "2024-06-12T20:52:03.247Z"
   },
   {
    "duration": 938,
    "start_time": "2024-06-12T20:52:03.258Z"
   },
   {
    "duration": 12,
    "start_time": "2024-06-12T20:52:04.198Z"
   },
   {
    "duration": 686,
    "start_time": "2024-06-12T20:52:04.211Z"
   },
   {
    "duration": 20,
    "start_time": "2024-06-12T20:52:04.898Z"
   },
   {
    "duration": 7,
    "start_time": "2024-06-12T20:52:04.919Z"
   },
   {
    "duration": 24,
    "start_time": "2024-06-12T20:52:04.927Z"
   },
   {
    "duration": 159,
    "start_time": "2024-06-12T20:52:04.952Z"
   },
   {
    "duration": 22,
    "start_time": "2024-06-12T20:52:05.112Z"
   },
   {
    "duration": 128,
    "start_time": "2024-06-12T20:52:05.135Z"
   },
   {
    "duration": 32,
    "start_time": "2024-06-12T20:52:05.264Z"
   },
   {
    "duration": 227,
    "start_time": "2024-06-12T20:52:05.298Z"
   },
   {
    "duration": 20,
    "start_time": "2024-06-12T20:52:05.526Z"
   },
   {
    "duration": 72,
    "start_time": "2024-06-12T20:52:05.547Z"
   },
   {
    "duration": 10,
    "start_time": "2024-06-12T20:52:05.621Z"
   },
   {
    "duration": 131,
    "start_time": "2024-06-12T20:52:05.632Z"
   },
   {
    "duration": 34,
    "start_time": "2024-06-12T20:52:05.764Z"
   },
   {
    "duration": 12,
    "start_time": "2024-06-12T20:52:05.799Z"
   },
   {
    "duration": 14,
    "start_time": "2024-06-12T20:52:05.812Z"
   },
   {
    "duration": 11,
    "start_time": "2024-06-12T20:52:05.827Z"
   },
   {
    "duration": 4,
    "start_time": "2024-06-12T20:52:05.839Z"
   },
   {
    "duration": 8,
    "start_time": "2024-06-12T20:52:05.844Z"
   },
   {
    "duration": 117,
    "start_time": "2024-06-12T20:52:05.853Z"
   },
   {
    "duration": 23,
    "start_time": "2024-06-12T20:52:05.971Z"
   },
   {
    "duration": 19,
    "start_time": "2024-06-12T20:52:05.995Z"
   },
   {
    "duration": 18,
    "start_time": "2024-06-12T20:52:06.015Z"
   },
   {
    "duration": 8,
    "start_time": "2024-06-12T20:52:06.034Z"
   },
   {
    "duration": 50,
    "start_time": "2024-06-12T20:52:06.043Z"
   }
  ],
  "colab": {
   "provenance": []
  },
  "kernelspec": {
   "display_name": "Python 3 (ipykernel)",
   "language": "python",
   "name": "python3"
  },
  "language_info": {
   "codemirror_mode": {
    "name": "ipython",
    "version": 3
   },
   "file_extension": ".py",
   "mimetype": "text/x-python",
   "name": "python",
   "nbconvert_exporter": "python",
   "pygments_lexer": "ipython3",
   "version": "3.9.5"
  },
  "toc": {
   "base_numbering": 1,
   "nav_menu": {},
   "number_sections": true,
   "sideBar": true,
   "skip_h1_title": true,
   "title_cell": "Table of Contents",
   "title_sidebar": "Contents",
   "toc_cell": false,
   "toc_position": {
    "height": "calc(100% - 180px)",
    "left": "10px",
    "top": "150px",
    "width": "374.391px"
   },
   "toc_section_display": true,
   "toc_window_display": false
  }
 },
 "nbformat": 4,
 "nbformat_minor": 1
}
