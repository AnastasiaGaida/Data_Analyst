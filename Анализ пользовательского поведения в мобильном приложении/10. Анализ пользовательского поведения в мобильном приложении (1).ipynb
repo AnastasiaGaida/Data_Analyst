{
 "cells": [
  {
   "cell_type": "markdown",
   "metadata": {},
   "source": [
    "\n",
    "# Содержание\n",
    "    \n",
    "[Описание проекта](#project)\n",
    "1. [Загрузка данных и изучение общей информации](#start)\n",
    "\n",
    "2. [Предобработка данных](#preprocessing)\n",
    "   \n",
    "3. [Изучение и проверка данных.](#data)\n",
    "\n",
    "    3.1 [Количество событий в логе.](#data1)\n",
    "    \n",
    "    3.2  [Количество пользователей в логе.](#data2)\n",
    "    \n",
    "    3.3  [Сколько в среднем событий приходится на пользователя.](#data3)\n",
    "    \n",
    "    3.4  [Изучние временного интервала в данных.](#data4)\n",
    "    \n",
    "    3.5  [Проверка корректности распределения пользователей на группы.](#data5)\n",
    "\n",
    "\n",
    "4. [Изучите воронку событий.](#funnel)\n",
    "\n",
    "    4.1 [Посмотрите, какие события есть в логах, как часто они встречаются. Отсортируйте события по частоте.](#funnel1)\n",
    "    \n",
    "    4.2  [Посчитайте, сколько пользователей совершали каждое из этих событий. Отсортируйте события по числу пользователей. Посчитайте долю пользователей, которые хоть раз совершали событие.](#funnel2)\n",
    "    \n",
    "    4.3  [Предположите, в каком порядке происходят события. Все ли они выстраиваются в последовательную цепочку? Их не нужно учитывать при расчёте воронки.](#funnel3)\n",
    "    \n",
    "    4.4  [По воронке событий посчитайте, какая доля пользователей проходит на следующий шаг воронки (от числа пользователей на предыдущем). То есть для последовательности событий A → B → C посчитайте отношение числа пользователей с событием B к количеству пользователей с событием A, а также отношение числа пользователей с событием C к количеству пользователей с событием B.](#funnel4)\n",
    "    \n",
    "    4.5  [На каком шаге теряете больше всего пользователей?](#funnel5)\n",
    "    \n",
    "    4.6  [Какая доля пользователей доходит от первого события до оплаты?](#funnel6)\n",
    "    \n",
    "5.  [Изучите результаты эксперимента.](#analysis)\n",
    "\n",
    "    5.1  [Сколько пользователей в каждой экспериментальной группе?](#analysis1)\n",
    "    \n",
    "    5.2  [Есть 2 контрольные группы для А/А-эксперимента, чтобы проверить корректность всех механизмов и расчётов. Проверьте, находят ли статистические критерии разницу между выборками 246 и 247.](#analysis2)\n",
    "    \n",
    "    5.3  [Выберите самое популярное событие. Посчитайте число пользователей, совершивших это событие в каждой из контрольных групп. Посчитайте долю пользователей, совершивших это событие. Проверьте, будет ли отличие между группами статистически достоверным. Проделайте то же самое для всех других событий (удобно обернуть проверку в отдельную функцию). Можно ли сказать, что разбиение на группы работает корректно?](#analysis3)\n",
    "    \n",
    "    5.4  [Аналогично поступите с группой с изменённым шрифтом. Сравните результаты с каждой из контрольных групп в отдельности по каждому событию. Сравните результаты с объединённой контрольной группой. Какие выводы из эксперимента можно сделать?](#analysis4)\n",
    "    \n",
    "    5.5 [Какой уровень значимости вы выбрали при проверке статистических гипотез выше? Посчитайте, сколько проверок статистических гипотез вы сделали.](#analysis5)\n",
    "   \n",
    "6. [Результаты исследования.](#rec)\n"
   ]
  },
  {
   "cell_type": "markdown",
   "metadata": {},
   "source": [
    "<a id=\"project\"></a> \n",
    "# Описание проекта\n",
    "\n",
    "Вы работаете в стартапе, который продаёт продукты питания. Нужно разобраться, как ведут себя пользователи вашего мобильного приложения. \n",
    "\n",
    "\n",
    "Изучите воронку продаж. Узнайте, как пользователи доходят до покупки. Сколько пользователей доходит до покупки, а сколько — «застревает» на предыдущих шагах? На каких именно?\n",
    "\n",
    "\n",
    "После этого исследуйте результаты A/A/B-эксперимента. Дизайнеры захотели поменять шрифты во всём приложении, а менеджеры испугались, что пользователям будет непривычно. Договорились принять решение по результатам A/A/B-теста. Пользователей разбили на 3 группы: 2 контрольные со старыми шрифтами и одну экспериментальную — с новыми. Выясните, какой шрифт лучше.\n",
    "\n",
    "\n",
    "**Задачи исследования:**\n",
    "\n",
    "- Изучить воронку продаж.\n",
    "\n",
    "- Исследовать результаты A/A/B-эксперимента.\n",
    "\n",
    "**Цель исследования:**\n",
    "1. Разобраться, как ведут себя пользователи мобильного приложения. \n",
    "2. Выяснить, какой шрифт лучше.\n",
    "\n",
    "\n",
    "**Описание данных**\n",
    "\n",
    "Скачать датасет: https://code.s3.yandex.net/datasets/logs_exp.csv\n",
    "\n",
    "Путь к файлу: /datasets/logs_exp.csv. \n",
    "\n",
    "Каждая запись в логе — это действие пользователя, или событие. \n",
    "- `'EventName'` — название события;\n",
    "- `'DeviceIDHash'` — уникальный идентификатор пользователя;\n",
    "- `'EventTimestamp'` — время события;\n",
    "- `'ExpId'` — номер эксперимента: 246 и 247 — контрольные группы, а 248 — экспериментальная."
   ]
  },
  {
   "cell_type": "markdown",
   "metadata": {},
   "source": [
    "### Откройте файл с данными и изучите общую информацию\n",
    "<a id=\"start\"></a> "
   ]
  },
  {
   "cell_type": "markdown",
   "metadata": {},
   "source": [
    "Импорт необходимых для работы библиотек."
   ]
  },
  {
   "cell_type": "code",
   "execution_count": 1,
   "metadata": {},
   "outputs": [],
   "source": [
    "import pandas as pd\n",
    "pd.set_option('display.max_colwidth', None) #код, который выводит максимальную ширину столбцов таблицы\n",
    "pd.options.display.max_colwidth = 150\n",
    "pd.set_option('display.max_columns', None) #код, который выводит все колонки таблицы\n",
    "pd.options.display.float_format = '{:.2f}'.format #код отображает float с двумя знаками после точки\n",
    "\n",
    "import seaborn as sns\n",
    "from plotly import graph_objects as go\n",
    "sns.set_theme(style='whitegrid')\n",
    "sns.color_palette()\n",
    "\n",
    "import matplotlib.pyplot as plt\n",
    "\n",
    "import datetime as dt\n",
    "from datetime import datetime, timedelta\n",
    "\n",
    "from IPython.display import display_html\n",
    "from ipywidgets import widgets, Layout#библиотеки, использовались для вывода сразу нескольких доблиц в строке\n",
    "\n",
    "\n",
    "import datetime as dt\n",
    "\n",
    "from scipy import stats as st\n",
    "import numpy as np\n",
    "import math as mth\n",
    "from statsmodels.sandbox.stats.multicomp import multipletests"
   ]
  },
  {
   "cell_type": "markdown",
   "metadata": {},
   "source": [
    "Открытие файлов с данными и изучение общей информации."
   ]
  },
  {
   "cell_type": "code",
   "execution_count": 2,
   "metadata": {},
   "outputs": [],
   "source": [
    "try:\n",
    "    data = pd.read_csv('/datasets/logs_exp.csv', sep='\\t')\n",
    "except:\n",
    "    data = pd.read_csv('https://code.s3.yandex.net/datasets/logs_exp.csv', sep='\\t')"
   ]
  },
  {
   "cell_type": "code",
   "execution_count": 3,
   "metadata": {},
   "outputs": [],
   "source": [
    "#функция для ознакомления с основной информацией\n",
    "def information_df(metod): \n",
    "    print('Ознакомимся с таблицей, для этого выведем первые 5 строк на экран.')\n",
    "    display(metod.head())\n",
    "    print('-'* 25)    \n",
    "    print('Выведем основную информацию таблицы с помощью метода info().')\n",
    "    print(' ')\n",
    "    display(metod.info())\n",
    "    print('-'* 25)\n",
    "    print('Количество явных дубликатов  в таблице:', metod.duplicated().sum())\n",
    "    print('-'* 25)\n",
    "    print('Количество пропущенных значений в таблице:')\n",
    "    display(metod.isna().sum())"
   ]
  },
  {
   "cell_type": "code",
   "execution_count": 4,
   "metadata": {},
   "outputs": [
    {
     "name": "stdout",
     "output_type": "stream",
     "text": [
      "Ознакомимся с таблицей, для этого выведем первые 5 строк на экран.\n"
     ]
    },
    {
     "data": {
      "text/html": [
       "<div>\n",
       "<style scoped>\n",
       "    .dataframe tbody tr th:only-of-type {\n",
       "        vertical-align: middle;\n",
       "    }\n",
       "\n",
       "    .dataframe tbody tr th {\n",
       "        vertical-align: top;\n",
       "    }\n",
       "\n",
       "    .dataframe thead th {\n",
       "        text-align: right;\n",
       "    }\n",
       "</style>\n",
       "<table border=\"1\" class=\"dataframe\">\n",
       "  <thead>\n",
       "    <tr style=\"text-align: right;\">\n",
       "      <th></th>\n",
       "      <th>EventName</th>\n",
       "      <th>DeviceIDHash</th>\n",
       "      <th>EventTimestamp</th>\n",
       "      <th>ExpId</th>\n",
       "    </tr>\n",
       "  </thead>\n",
       "  <tbody>\n",
       "    <tr>\n",
       "      <th>0</th>\n",
       "      <td>MainScreenAppear</td>\n",
       "      <td>4575588528974610257</td>\n",
       "      <td>1564029816</td>\n",
       "      <td>246</td>\n",
       "    </tr>\n",
       "    <tr>\n",
       "      <th>1</th>\n",
       "      <td>MainScreenAppear</td>\n",
       "      <td>7416695313311560658</td>\n",
       "      <td>1564053102</td>\n",
       "      <td>246</td>\n",
       "    </tr>\n",
       "    <tr>\n",
       "      <th>2</th>\n",
       "      <td>PaymentScreenSuccessful</td>\n",
       "      <td>3518123091307005509</td>\n",
       "      <td>1564054127</td>\n",
       "      <td>248</td>\n",
       "    </tr>\n",
       "    <tr>\n",
       "      <th>3</th>\n",
       "      <td>CartScreenAppear</td>\n",
       "      <td>3518123091307005509</td>\n",
       "      <td>1564054127</td>\n",
       "      <td>248</td>\n",
       "    </tr>\n",
       "    <tr>\n",
       "      <th>4</th>\n",
       "      <td>PaymentScreenSuccessful</td>\n",
       "      <td>6217807653094995999</td>\n",
       "      <td>1564055322</td>\n",
       "      <td>248</td>\n",
       "    </tr>\n",
       "  </tbody>\n",
       "</table>\n",
       "</div>"
      ],
      "text/plain": [
       "                 EventName         DeviceIDHash  EventTimestamp  ExpId\n",
       "0         MainScreenAppear  4575588528974610257      1564029816    246\n",
       "1         MainScreenAppear  7416695313311560658      1564053102    246\n",
       "2  PaymentScreenSuccessful  3518123091307005509      1564054127    248\n",
       "3         CartScreenAppear  3518123091307005509      1564054127    248\n",
       "4  PaymentScreenSuccessful  6217807653094995999      1564055322    248"
      ]
     },
     "metadata": {},
     "output_type": "display_data"
    },
    {
     "name": "stdout",
     "output_type": "stream",
     "text": [
      "-------------------------\n",
      "Выведем основную информацию таблицы с помощью метода info().\n",
      " \n",
      "<class 'pandas.core.frame.DataFrame'>\n",
      "RangeIndex: 244126 entries, 0 to 244125\n",
      "Data columns (total 4 columns):\n",
      " #   Column          Non-Null Count   Dtype \n",
      "---  ------          --------------   ----- \n",
      " 0   EventName       244126 non-null  object\n",
      " 1   DeviceIDHash    244126 non-null  int64 \n",
      " 2   EventTimestamp  244126 non-null  int64 \n",
      " 3   ExpId           244126 non-null  int64 \n",
      "dtypes: int64(3), object(1)\n",
      "memory usage: 7.5+ MB\n"
     ]
    },
    {
     "data": {
      "text/plain": [
       "None"
      ]
     },
     "metadata": {},
     "output_type": "display_data"
    },
    {
     "name": "stdout",
     "output_type": "stream",
     "text": [
      "-------------------------\n",
      "Количество явных дубликатов  в таблице: 413\n",
      "-------------------------\n",
      "Количество пропущенных значений в таблице:\n"
     ]
    },
    {
     "data": {
      "text/plain": [
       "EventName         0\n",
       "DeviceIDHash      0\n",
       "EventTimestamp    0\n",
       "ExpId             0\n",
       "dtype: int64"
      ]
     },
     "metadata": {},
     "output_type": "display_data"
    }
   ],
   "source": [
    "information_df(data)"
   ]
  },
  {
   "cell_type": "markdown",
   "metadata": {},
   "source": [
    "**После проверки исходного датафрейма:**\n",
    "\n",
    "- таблица состоит из 4 столбцов и 244126 строк;\n",
    "\n",
    "\n",
    "- пропуски в данных отсутствуют;\n",
    "\n",
    "\n",
    "- в таблице имеется 413 дубликатов, так как их объем незначительный, следует их удалить;\n",
    "\n",
    "\n",
    "- столбец `'EventTimestamp'` содержит дату и время события, которые необходимо привести в формат 'datetime'."
   ]
  },
  {
   "cell_type": "markdown",
   "metadata": {},
   "source": [
    "### Предобработка данных\n",
    "<a id=\"preprocessing\"></a> "
   ]
  },
  {
   "cell_type": "markdown",
   "metadata": {},
   "source": [
    "#### Замена названия столбцов"
   ]
  },
  {
   "cell_type": "code",
   "execution_count": 5,
   "metadata": {},
   "outputs": [],
   "source": [
    "data = data.rename(\n",
    "    columns={\n",
    "     'EventName': 'event_name', \n",
    "     'DeviceIDHash':'device_id', \n",
    "     'EventTimestamp': 'event_timestamp', \n",
    "     'ExpId': 'group' \n",
    " }\n",
    ")"
   ]
  },
  {
   "cell_type": "markdown",
   "metadata": {},
   "source": [
    "#### Проверка пропусков и типов данных"
   ]
  },
  {
   "cell_type": "code",
   "execution_count": 6,
   "metadata": {},
   "outputs": [
    {
     "name": "stdout",
     "output_type": "stream",
     "text": [
      "Количество уникальных пользователей: 7551\n"
     ]
    }
   ],
   "source": [
    "#выведем количество уникальных значений в столбце 'device_id'\n",
    "print(\n",
    "    'Количество уникальных пользователей:',\n",
    "    data['device_id'].nunique()\n",
    ")"
   ]
  },
  {
   "cell_type": "markdown",
   "metadata": {},
   "source": [
    "Пропуски в датафрейме отсутствуют, однако имеются дубликаты.\n",
    "\n",
    "Избавимся от дубликатов."
   ]
  },
  {
   "cell_type": "code",
   "execution_count": 7,
   "metadata": {},
   "outputs": [
    {
     "name": "stdout",
     "output_type": "stream",
     "text": [
      "Количество строк исходного датафрейма: 244126\n"
     ]
    }
   ],
   "source": [
    "len_data = data.shape[0] #переменная с исходной длинной таблицы\n",
    "print('Количество строк исходного датафрейма:', len_data)"
   ]
  },
  {
   "cell_type": "code",
   "execution_count": 8,
   "metadata": {},
   "outputs": [],
   "source": [
    "data = data.drop_duplicates().reset_index(drop=True) #удалим дубликаты и заменим индексы"
   ]
  },
  {
   "cell_type": "code",
   "execution_count": 9,
   "metadata": {},
   "outputs": [
    {
     "name": "stdout",
     "output_type": "stream",
     "text": [
      "Оставшийся процент данных: 99.83 %\n"
     ]
    }
   ],
   "source": [
    "print('Оставшийся процент данных:', round((data.shape[0]/len_data)*100, 2), '%')"
   ]
  },
  {
   "cell_type": "markdown",
   "metadata": {},
   "source": [
    "#### Добавление столбца с датой и временем, а также отдельного столбеца с датой"
   ]
  },
  {
   "cell_type": "code",
   "execution_count": 10,
   "metadata": {},
   "outputs": [
    {
     "data": {
      "text/plain": [
       "event_name                 object\n",
       "device_id                   int64\n",
       "event_timestamp             int64\n",
       "group                       int64\n",
       "datetime           datetime64[ns]\n",
       "date               datetime64[ns]\n",
       "dtype: object"
      ]
     },
     "execution_count": 10,
     "metadata": {},
     "output_type": "execute_result"
    }
   ],
   "source": [
    "data['datetime'] = pd.to_datetime(data['event_timestamp'], unit='s') # столбец с датой и временем\n",
    "data['date'] = data['datetime'].astype('datetime64[D]') #столбец с датой\n",
    "data.dtypes"
   ]
  },
  {
   "cell_type": "markdown",
   "metadata": {},
   "source": [
    "**По итогам подготовки данных для дальнейшего исследования:**\n",
    "\n",
    "- заменены названия столбцов;\n",
    "\n",
    "\n",
    "- удалены дубликаты; \n",
    "\n",
    "\n",
    "- созданы 2 новых столбца: первый - с датой и временем, второй - с датой."
   ]
  },
  {
   "cell_type": "markdown",
   "metadata": {},
   "source": [
    "### Изучение и проверка данных\n",
    "<a id=\"data\"></a> "
   ]
  },
  {
   "cell_type": "markdown",
   "metadata": {},
   "source": [
    "#### Количество событий в логе.\n",
    "<a id=\"data1\"></a> "
   ]
  },
  {
   "cell_type": "code",
   "execution_count": 11,
   "metadata": {},
   "outputs": [
    {
     "name": "stdout",
     "output_type": "stream",
     "text": [
      "Всего событий: 243713\n"
     ]
    }
   ],
   "source": [
    "#каждая стока датафрейма - событие, посчитаем количество строк\n",
    "print('Всего событий:', len(data['event_name']))"
   ]
  },
  {
   "cell_type": "code",
   "execution_count": 12,
   "metadata": {},
   "outputs": [
    {
     "name": "stdout",
     "output_type": "stream",
     "text": [
      "Количество уникальных событий: 5\n",
      "Список уникальных событий: ['MainScreenAppear', 'PaymentScreenSuccessful', 'CartScreenAppear', 'OffersScreenAppear', 'Tutorial']\n"
     ]
    }
   ],
   "source": [
    "#выведем количество уникальных значений в столбце 'event_name', а также список этих событий\n",
    "print('Количество уникальных событий:', data['event_name'].nunique())\n",
    "print('Список уникальных событий:', list(data['event_name'].unique()))"
   ]
  },
  {
   "cell_type": "markdown",
   "metadata": {},
   "source": [
    "#### Количество пользователей в логе.\n",
    "<a id=\"data2\"></a> "
   ]
  },
  {
   "cell_type": "code",
   "execution_count": 13,
   "metadata": {},
   "outputs": [
    {
     "name": "stdout",
     "output_type": "stream",
     "text": [
      "Количество уникальных пользователей: 7551\n"
     ]
    }
   ],
   "source": [
    "#выведем количество уникальных значений в столбце 'device_id'\n",
    "print(\n",
    "    'Количество уникальных пользователей:',\n",
    "    data['device_id'].nunique()\n",
    ")"
   ]
  },
  {
   "cell_type": "markdown",
   "metadata": {},
   "source": [
    "#### Сколько в среднем событий приходится на пользователя.\n",
    "<a id=\"data3\"></a> "
   ]
  },
  {
   "cell_type": "code",
   "execution_count": 14,
   "metadata": {},
   "outputs": [
    {
     "name": "stdout",
     "output_type": "stream",
     "text": [
      "Количество событий на пользователя: 32.28\n"
     ]
    }
   ],
   "source": [
    "#разделим общее количество событий на количество уникальных пользователей\n",
    "print(\n",
    "    'Количество событий на пользователя:',\n",
    "    round(len(data['event_name'])/data['device_id'].nunique(), 2)\n",
    ")"
   ]
  },
  {
   "cell_type": "code",
   "execution_count": 15,
   "metadata": {},
   "outputs": [
    {
     "name": "stdout",
     "output_type": "stream",
     "text": [
      "Количество уникальных событий на пользователя: 2.67\n"
     ]
    }
   ],
   "source": [
    "print(\n",
    "    'Количество уникальных событий на пользователя:',\n",
    "    round(\n",
    "#группировка уникальных событий по id пользователей\n",
    "        data.groupby('device_id').agg({'event_name': 'nunique'})['event_name']\n",
    "#среднее значение уникальных событий на пользователя\n",
    "        .mean(),\n",
    "        2\n",
    "        )\n",
    "    )"
   ]
  },
  {
   "cell_type": "markdown",
   "metadata": {},
   "source": [
    "#### Изучние временного интервала в данных.\n",
    "<a id=\"data4\"></a> "
   ]
  },
  {
   "cell_type": "markdown",
   "metadata": {},
   "source": [
    "**Данными за какой период вы располагаете? Найдите максимальную и минимальную дату.**"
   ]
  },
  {
   "cell_type": "code",
   "execution_count": 16,
   "metadata": {},
   "outputs": [
    {
     "name": "stdout",
     "output_type": "stream",
     "text": [
      "Временной интервал таблицы orders: 25/07/2019 - 07/08/2019\n"
     ]
    }
   ],
   "source": [
    "print('Временной интервал таблицы orders:', \\\n",
    "      data['date'].min().strftime('%d/%m/%Y'), '-', \\\n",
    "      data['date'].max().strftime('%d/%m/%Y'))"
   ]
  },
  {
   "cell_type": "markdown",
   "metadata": {},
   "source": [
    "**Постройте гистограмму по дате и времени. Можно ли быть уверенным, что у вас одинаково полные данные за весь период?**\n",
    "\n",
    "Технически в логи новых дней по некоторым пользователям могут «доезжать» события из прошлого — это может «перекашивать данные»."
   ]
  },
  {
   "cell_type": "code",
   "execution_count": 17,
   "metadata": {},
   "outputs": [
    {
     "data": {
      "image/png": "[encoded data removed]",
      "text/plain": [
       "<Figure size 1000x500 with 1 Axes>"
      ]
     },
     "metadata": {},
     "output_type": "display_data"
    }
   ],
   "source": [
    "#рассчитаем количество корзин для гистограммы, для этого найдем временной промежуток в целых днях\n",
    "bins = round((data['datetime'].max() - data['datetime'].min()) / np.timedelta64(1, 'D'))\n",
    "data.hist('datetime', bins=bins, figsize=(10, 5))\n",
    "plt.xticks(rotation= 45)\n",
    "plt.xlabel('дата')\n",
    "plt.ylabel('частота появлений')\n",
    "plt.title('Гистограммма распределения событий по дате')\n",
    "\n",
    "plt.show()"
   ]
  },
  {
   "cell_type": "markdown",
   "metadata": {},
   "source": [
    "Исходя из полученной гистограммы, можно отметить, что за период с 25.07.2019 по 07.08.2019 (2 недели) объем событий распределен неравномерно. \n",
    "\n",
    "А именно, в первую неделю количество событий незначительно."
   ]
  },
  {
   "cell_type": "markdown",
   "metadata": {},
   "source": [
    "**Определите, с какого момента данные полные и отбросьте более старые. Данными за какой период времени вы располагаете на самом деле?**"
   ]
  },
  {
   "cell_type": "markdown",
   "metadata": {},
   "source": [
    " Периодом, за который указаны полные данные, следует считать вторую неделю, а именно 01.08.2019 - 07.08.2019."
   ]
  },
  {
   "cell_type": "code",
   "execution_count": 18,
   "metadata": {
    "scrolled": false
   },
   "outputs": [],
   "source": [
    "#создадим новую переменную с отфильтрованной таблицей\n",
    "data_filtr = data[data['datetime'] >= '2019-08-01']"
   ]
  },
  {
   "cell_type": "markdown",
   "metadata": {},
   "source": [
    "Проверим новый временной интервал."
   ]
  },
  {
   "cell_type": "code",
   "execution_count": 19,
   "metadata": {},
   "outputs": [
    {
     "name": "stdout",
     "output_type": "stream",
     "text": [
      "Период с полными данными для исследования: 01/08/2019 - 07/08/2019\n"
     ]
    }
   ],
   "source": [
    "print('Период с полными данными для исследования:', \\\n",
    "      data_filtr['date'].min().strftime('%d/%m/%Y'), '-', \\\n",
    "      data_filtr['date'].max().strftime('%d/%m/%Y'))"
   ]
  },
  {
   "cell_type": "markdown",
   "metadata": {},
   "source": [
    "**Много ли событий и пользователей вы потеряли, отбросив старые данные?**"
   ]
  },
  {
   "cell_type": "code",
   "execution_count": 20,
   "metadata": {},
   "outputs": [
    {
     "name": "stdout",
     "output_type": "stream",
     "text": [
      "Количество убранных строк: 2826\n",
      "Оставшийся процент данных: 99.0 %\n",
      "Количество убранных уникальных пользователей: 17\n",
      "Процент убранных данных: 1.0 %\n"
     ]
    }
   ],
   "source": [
    "print('Количество убранных строк:', data.shape[0] - data_filtr.shape[0])\n",
    "print('Оставшийся процент данных:', round(data_filtr.shape[0]/len_data, 2)*100, '%')\n",
    "\n",
    "#добавлено\n",
    "print('Количество убранных уникальных пользователей:', data['device_id'].nunique() - data_filtr['device_id'].nunique())\n",
    "print('Процент убранных данных:', 100 - (round(data_filtr.shape[0]/len_data, 2)*100), '%')"
   ]
  },
  {
   "cell_type": "markdown",
   "metadata": {},
   "source": [
    "После удаления дубликатов,  а также недостаточных для исследования данных, было отброшено 1% пользователей"
   ]
  },
  {
   "cell_type": "markdown",
   "metadata": {},
   "source": [
    "После фильтрации повторно найдем необходимые параметры."
   ]
  },
  {
   "cell_type": "code",
   "execution_count": 21,
   "metadata": {},
   "outputs": [
    {
     "name": "stdout",
     "output_type": "stream",
     "text": [
      "Всего событий: 240887\n",
      "Количество уникальных событий: 5\n",
      "Список уникальных событий: ['Tutorial', 'MainScreenAppear', 'OffersScreenAppear', 'CartScreenAppear', 'PaymentScreenSuccessful']\n",
      "Количество уникальных пользователей: 7534\n",
      "Количество событий на пользователя: 31.97\n",
      "Количество уникальных событий на пользователя: 2.67\n"
     ]
    }
   ],
   "source": [
    "print('Всего событий:', len(data_filtr['event_name']))\n",
    "\n",
    "print('Количество уникальных событий:', data_filtr['event_name'].nunique())\n",
    "\n",
    "print('Список уникальных событий:', list(data_filtr['event_name'].unique()))\n",
    "\n",
    "print(\n",
    "    'Количество уникальных пользователей:',\n",
    "    data_filtr['device_id'].nunique()\n",
    ")\n",
    "\n",
    "print(\n",
    "    'Количество событий на пользователя:',\n",
    "    round(len(data_filtr['event_name'])/data_filtr['device_id'].nunique(), 2)\n",
    ")\n",
    "\n",
    "print(\n",
    "    'Количество уникальных событий на пользователя:',\n",
    "    round(\n",
    "        data_filtr.groupby('device_id').agg({'event_name': 'nunique'})['event_name'].mean(), \n",
    "        2\n",
    "        )\n",
    "    )"
   ]
  },
  {
   "cell_type": "markdown",
   "metadata": {},
   "source": [
    "#### Проверка корректности распределения пользователей на группы.\n",
    "<a id=\"data5\"></a> "
   ]
  },
  {
   "cell_type": "code",
   "execution_count": 22,
   "metadata": {},
   "outputs": [
    {
     "data": {
      "text/html": [
       "<div>\n",
       "<style scoped>\n",
       "    .dataframe tbody tr th:only-of-type {\n",
       "        vertical-align: middle;\n",
       "    }\n",
       "\n",
       "    .dataframe tbody tr th {\n",
       "        vertical-align: top;\n",
       "    }\n",
       "\n",
       "    .dataframe thead th {\n",
       "        text-align: right;\n",
       "    }\n",
       "</style>\n",
       "<table border=\"1\" class=\"dataframe\">\n",
       "  <thead>\n",
       "    <tr style=\"text-align: right;\">\n",
       "      <th></th>\n",
       "      <th>index</th>\n",
       "      <th>event_timestamp_x</th>\n",
       "      <th>group_x</th>\n",
       "      <th>event_timestamp_y</th>\n",
       "      <th>group_y</th>\n",
       "      <th>device_id</th>\n",
       "      <th>event_timestamp</th>\n",
       "      <th>group</th>\n",
       "    </tr>\n",
       "  </thead>\n",
       "  <tbody>\n",
       "  </tbody>\n",
       "</table>\n",
       "</div>"
      ],
      "text/plain": [
       "Empty DataFrame\n",
       "Columns: [index, event_timestamp_x, group_x, event_timestamp_y, group_y, device_id, event_timestamp, group]\n",
       "Index: []"
      ]
     },
     "execution_count": 22,
     "metadata": {},
     "output_type": "execute_result"
    }
   ],
   "source": [
    "#создадим таблицы сгруппированные по id пользователей для каждой группы и объеденим их\n",
    "(\n",
    "    data_filtr[data_filtr['group'] == 246].pivot_table(index='device_id').reset_index()\n",
    ").merge(\n",
    "    (data_filtr[data_filtr['group'] == 247].pivot_table(index='device_id').reset_index()), on='device_id')\\\n",
    ".merge(\n",
    "    (data_filtr[data_filtr['group'] == 248].pivot_table(index='device_id').reset_index()), on='device_id').reset_index()"
   ]
  },
  {
   "cell_type": "markdown",
   "metadata": {},
   "source": [
    "Уникальные id пользователей не повторяются между группами. Следовательно распределение пользователей корректное."
   ]
  },
  {
   "cell_type": "markdown",
   "metadata": {},
   "source": [
    "Найдем количество пользователей в каждой группе."
   ]
  },
  {
   "cell_type": "code",
   "execution_count": 23,
   "metadata": {},
   "outputs": [
    {
     "data": {
      "text/html": [
       "<div>\n",
       "<style scoped>\n",
       "    .dataframe tbody tr th:only-of-type {\n",
       "        vertical-align: middle;\n",
       "    }\n",
       "\n",
       "    .dataframe tbody tr th {\n",
       "        vertical-align: top;\n",
       "    }\n",
       "\n",
       "    .dataframe thead th {\n",
       "        text-align: right;\n",
       "    }\n",
       "</style>\n",
       "<table border=\"1\" class=\"dataframe\">\n",
       "  <thead>\n",
       "    <tr style=\"text-align: right;\">\n",
       "      <th>group</th>\n",
       "      <th>246</th>\n",
       "      <th>247</th>\n",
       "      <th>248</th>\n",
       "    </tr>\n",
       "  </thead>\n",
       "  <tbody>\n",
       "    <tr>\n",
       "      <th>device_id</th>\n",
       "      <td>2484</td>\n",
       "      <td>2513</td>\n",
       "      <td>2537</td>\n",
       "    </tr>\n",
       "  </tbody>\n",
       "</table>\n",
       "</div>"
      ],
      "text/plain": [
       "group       246   247   248\n",
       "device_id  2484  2513  2537"
      ]
     },
     "execution_count": 23,
     "metadata": {},
     "output_type": "execute_result"
    }
   ],
   "source": [
    "data_filtr.groupby('group').agg({'device_id': 'nunique'}).T"
   ]
  },
  {
   "cell_type": "markdown",
   "metadata": {},
   "source": [
    "На этапе изучения и проверки исходных данных:\n",
    "\n",
    "- временной период датафрейма : **25/07/2019 - 07/08/2019**;\n",
    "\n",
    "\n",
    "- полными данными из всего представленного временного интервала обладают данные за период: с **01/08/2019 по 07/08/2019**;\n",
    "\n",
    "\n",
    "- временной интервал с неполными данными для дальнейшего исследования был отброшен; \n",
    "\n",
    "\n",
    "- количество убранных строк от начального датафрейма - 2826;\n",
    "\n",
    "\n",
    "- оставшийся процент данных - 98.0 %; \n",
    "\n",
    "\n",
    "- всего событий: 243713; после фильтрации временного интервала - **240887**;\n",
    "\n",
    "\n",
    "- количество уникальных событий до и после фильтрации - **5**;\n",
    "\n",
    "\n",
    "- количество уникальных пользователей: 7551; после фильтрации - **7534**;\n",
    "\n",
    "\n",
    "- количество событий на пользователя: 32.28; после фильтрации - **31.97**;\n",
    "\n",
    "\n",
    "- распределение пользователей для тестирования на группы корректное: **в 246 группе - 2483 пользователя, в 247 - 2512 пользователей, в 248 - 2535 пользователей**."
   ]
  },
  {
   "cell_type": "markdown",
   "metadata": {},
   "source": [
    "### Изучите воронку событий\n",
    "<a id=\"funnel\"></a>"
   ]
  },
  {
   "cell_type": "markdown",
   "metadata": {},
   "source": [
    "#### Посмотрите, какие события есть в логах, как часто они встречаются. Отсортируйте события по частоте.\n",
    "<a id=\"funnel1\"></a>"
   ]
  },
  {
   "cell_type": "code",
   "execution_count": 24,
   "metadata": {},
   "outputs": [
    {
     "data": {
      "application/vnd.jupyter.widget-view+json": {
       "model_id": "810fa8f12bbe43ab89dacb9c8f5d36c1",
       "version_major": 2,
       "version_minor": 0
      },
      "text/plain": [
       "HBox(children=(Output(), Output()), layout=Layout(display='flex', flex_flow='row', justify_content='space-arou…"
      ]
     },
     "execution_count": 24,
     "metadata": {},
     "output_type": "execute_result"
    }
   ],
   "source": [
    "event_count = data_filtr.groupby('event_name').agg({'device_id': 'count'}).sort_values('device_id', ascending=False)\n",
    "\n",
    "plt.figure(figsize=(4,4))\n",
    "pie_event = plt.pie(list(event_count['device_id']), labels=list(event_count.index), autopct='%.0f%%');\n",
    "\n",
    "widget1 = widgets.Output()\n",
    "widget2 = widgets.Output()\n",
    " \n",
    "with widget1:\n",
    "    print(' ')\n",
    "    print(' ')\n",
    "    #print('\\033[1m' + 'Таблица количества событий' + '\\033[0m')\n",
    "    display(event_count.style.background_gradient(subset=['device_id'], cmap='Blues'))\n",
    "with widget2:\n",
    "    plt.title('Диаграмма распределение количества событий',fontsize=11, fontweight='heavy')\n",
    "    plt.show(pie_event)\n",
    "    \n",
    "box_layout = Layout(display='flex',\n",
    "                    flex_flow='row',\n",
    "                    justify_content='space-around',\n",
    "                    width='950px'\n",
    "                   )\n",
    "hbox = widgets.HBox([widget1, widget2], layout=box_layout)\n",
    "hbox"
   ]
  },
  {
   "cell_type": "code",
   "execution_count": 70,
   "metadata": {},
   "outputs": [
    {
     "name": "stdout",
     "output_type": "stream",
     "text": [
      "| event_name              |   device_id |\n",
      "|:------------------------|------------:|\n",
      "| MainScreenAppear        |      117328 |\n",
      "| OffersScreenAppear      |       46333 |\n",
      "| CartScreenAppear        |       42303 |\n",
      "| PaymentScreenSuccessful |       33918 |\n",
      "| Tutorial                |        1005 |\n"
     ]
    },
    {
     "data": {
      "text/html": [
       "<table border=\"1\" class=\"dataframe\">\n",
       "  <thead>\n",
       "    <tr style=\"text-align: right;\">\n",
       "      <th></th>\n",
       "      <th>device_id</th>\n",
       "    </tr>\n",
       "    <tr>\n",
       "      <th>event_name</th>\n",
       "      <th></th>\n",
       "    </tr>\n",
       "  </thead>\n",
       "  <tbody>\n",
       "    <tr>\n",
       "      <th>MainScreenAppear</th>\n",
       "      <td>117328</td>\n",
       "    </tr>\n",
       "    <tr>\n",
       "      <th>OffersScreenAppear</th>\n",
       "      <td>46333</td>\n",
       "    </tr>\n",
       "    <tr>\n",
       "      <th>CartScreenAppear</th>\n",
       "      <td>42303</td>\n",
       "    </tr>\n",
       "    <tr>\n",
       "      <th>PaymentScreenSuccessful</th>\n",
       "      <td>33918</td>\n",
       "    </tr>\n",
       "    <tr>\n",
       "      <th>Tutorial</th>\n",
       "      <td>1005</td>\n",
       "    </tr>\n",
       "  </tbody>\n",
       "</table>"
      ],
      "text/plain": [
       "<IPython.core.display.HTML object>"
      ]
     },
     "metadata": {},
     "output_type": "display_data"
    },
    {
     "data": {
      "application/vnd.jupyter.widget-view+json": {
       "model_id": "411cd983478446a68835e5cd3719040c",
       "version_major": 2,
       "version_minor": 0
      },
      "text/plain": [
       "HBox(children=(Output(), Output()), layout=Layout(display='flex', flex_flow='row', justify_content='space-arou…"
      ]
     },
     "execution_count": 70,
     "metadata": {},
     "output_type": "execute_result"
    }
   ],
   "source": [
    "print(event_count.to_markdown())\n",
    "from IPython.display import display, HTML\n",
    "display(HTML(event_count.to_html()))\n",
    "\n",
    "event_count = data_filtr.groupby('event_name').agg({'device_id': 'count'}).sort_values('device_id', ascending=False)\n",
    "\n",
    "plt.figure(figsize=(4,4))\n",
    "pie_event = plt.pie(list(event_count['device_id']), labels=list(event_count.index), autopct='%.0f%%');\n",
    "\n",
    "widget1 = widgets.Output()\n",
    "widget2 = widgets.Output()\n",
    " \n",
    "with widget1:\n",
    "    print(' ')\n",
    "    print(' ')\n",
    "    #print('\\033[1m' + 'Таблица количества событий' + '\\033[0m')\n",
    "    display(HTML(event_count.to_html()))\n",
    "with widget2:\n",
    "    plt.title('Диаграмма распределение количества событий',fontsize=11, fontweight='heavy')\n",
    "    plt.show(pie_event)\n",
    "    \n",
    "box_layout = Layout(display='flex',\n",
    "                    flex_flow='row',\n",
    "                    justify_content='space-around',\n",
    "                    width='950px'\n",
    "                   )\n",
    "hbox = widgets.HBox([widget1, widget2], layout=box_layout)\n",
    "hbox"
   ]
  },
  {
   "cell_type": "markdown",
   "metadata": {},
   "source": [
    "В датафрейме имеется 5 уникальных события. Самым многочисленным является уникальное событие 'MainScreenAppear', в датафрейме оно повторялось 117328 раз, а его объем составляет 49%.  Количество событий 'OffersScreenAppear', 'CartScreenAppear' и 'PaymentScreenSuccessful' значительно ниже, чем у предыдущего. Их количество составляет 46333, 42303 и 33918, соответственно. Самым немногочисленным событием является 'Tutorial', за рассматриваемый период, данное событие повторилось всего 1005 раз."
   ]
  },
  {
   "cell_type": "markdown",
   "metadata": {},
   "source": [
    "#### Посчитайте, сколько пользователей совершали каждое из этих событий. Отсортируйте события по числу пользователей. Посчитайте долю пользователей, которые хоть раз совершали событие.\n",
    "<a id=\"funnel2\"></a>"
   ]
  },
  {
   "cell_type": "code",
   "execution_count": 55,
   "metadata": {},
   "outputs": [
    {
     "data": {
      "application/vnd.jupyter.widget-view+json": {
       "model_id": "79d4031fd76a44cc80503914f6a70eeb",
       "version_major": 2,
       "version_minor": 0
      },
      "text/plain": [
       "HBox(children=(Output(), Output()), layout=Layout(display='flex', flex_flow='row', justify_content='space-arou…"
      ]
     },
     "execution_count": 55,
     "metadata": {},
     "output_type": "execute_result"
    }
   ],
   "source": [
    "event_unique = data_filtr.groupby('event_name').agg(\n",
    "    {'device_id': 'nunique'}).sort_values('device_id', ascending=False)\n",
    "\n",
    "event_unique['share'] = (\n",
    "    event_unique['device_id'] / (len(data_filtr['device_id'].unique()))\n",
    ").apply('{:.2%}'.format) \n",
    "\n",
    "plt.figure(figsize=(4,3))\n",
    "barplot_unique = sns.barplot(data=event_unique, x='device_id', y=event_unique.index, orient='h')\n",
    "\n",
    "\n",
    "widget1 = widgets.Output()\n",
    "widget2 = widgets.Output()\n",
    " \n",
    "with widget1:\n",
    "    print(' ')\n",
    "    print(' ')\n",
    "    display(event_unique.style.background_gradient(subset=['device_id'], cmap='Blues'))\n",
    "with widget2:\n",
    "    plt.title(r'Диаграмма распределения пользователей между событиями', fontsize=11, fontweight='heavy')\n",
    "    plt.xlabel('частота повторений')\n",
    "    plt.ylabel(r' ');\n",
    "    plt.show(barplot_unique)\n",
    "    \n",
    "box_layout = Layout(display='flex',\n",
    "                    flex_flow='row',\n",
    "                    justify_content='space-around',\n",
    "                    width='950px'\n",
    "                   )\n",
    "hbox = widgets.HBox([widget1, widget2], layout=box_layout)\n",
    "hbox"
   ]
  },
  {
   "cell_type": "markdown",
   "metadata": {},
   "source": [
    "По составленным в таблице данным можно сказать, что \n",
    "\n",
    "- 98,47% пользователей совершили событие 'MainScreenAppear', также можно отметить, что 1,53% (115 пользователей) за весь временной интервал исследования не совершили данное действие. Возможно, у этих пользователей возникают каки-либо тезнические проблемы с приложением;\n",
    "\n",
    "- количество пользователей, совершивших событие 'OffersScreenAppear'  значительно уменьшается, и их доля составляет 60,96%;\n",
    "\n",
    "- события 'CartScreenAppear' и 'PaymentScreenSuccessful' совершают еще меньшее количество людей, 49,56% и 46,97%, соответственно;\n",
    "\n",
    "- крайне малое количество пользователей переходит в раздел 'Tutorial', что является стандартным явлением для ознакомительного события."
   ]
  },
  {
   "cell_type": "markdown",
   "metadata": {},
   "source": [
    "#### Предположите, в каком порядке происходят события. Все ли они выстраиваются в последовательную цепочку? Их не нужно учитывать при расчёте воронки.\n",
    "<a id=\"funnel3\"></a>"
   ]
  },
  {
   "cell_type": "markdown",
   "metadata": {},
   "source": [
    "Последовательность выполнения каждого события будет выстраиваются в последовательную цепочку:\n",
    "\n",
    " - MainScreenAppear - Появится главный экран\n",
    "\n",
    "- OffersScreenAppear - Появится экран предложений\n",
    "\n",
    "- CartScreenAppear - Появится экран корзины\n",
    "\n",
    "- PaymentScreenSuccessful\t- Экран оплаты прошел успешно\n",
    "\n",
    "\n",
    "Событие Tutorial является не обязательным, ознакомительным для пользователя событием. По этой причине его доля среди всех событий крайне мала. Поэтому для дальнейшего анализа его следует исключить."
   ]
  },
  {
   "cell_type": "markdown",
   "metadata": {},
   "source": [
    "Уберем из анализа необязательное событие Tutorial."
   ]
  },
  {
   "cell_type": "code",
   "execution_count": 26,
   "metadata": {},
   "outputs": [],
   "source": [
    "data_filtr = data_filtr.query('event_name != \"Tutorial\"')"
   ]
  },
  {
   "cell_type": "code",
   "execution_count": 27,
   "metadata": {},
   "outputs": [
    {
     "name": "stdout",
     "output_type": "stream",
     "text": [
      "Оставшийся процент данных: 98.0 %\n"
     ]
    }
   ],
   "source": [
    "print('Оставшийся процент данных:', round(data_filtr.shape[0]/data.shape[0], 2)*100, '%')"
   ]
  },
  {
   "cell_type": "markdown",
   "metadata": {},
   "source": [
    "Построим диаграмму воронки событий для всех групп и отдельно по каждой группе."
   ]
  },
  {
   "cell_type": "code",
   "execution_count": 49,
   "metadata": {},
   "outputs": [
    {
     "data": {
      "application/vnd.plotly.v1+json": {
       "config": {
        "plotlyServerURL": "https://plot.ly"
       },
       "data": [
        {
         "connector": {
          "line": {
           "color": "slategray",
           "dash": "dot",
           "width": 2
          }
         },
         "marker": {
          "color": [
           "steelblue",
           "steelblue",
           "steelblue",
           "steelblue"
          ]
         },
         "name": "all group",
         "opacity": 0.7,
         "textinfo": "value+percent initial",
         "type": "funnel",
         "x": [
          7419,
          4593,
          3734,
          3539
         ],
         "y": [
          "MainScreenAppear",
          "OffersScreenAppear",
          "CartScreenAppear",
          "PaymentScreenSuccessful"
         ]
        },
        {
         "connector": {
          "line": {
           "color": "slategray",
           "dash": "dot",
           "width": 2
          }
         },
         "marker": {
          "color": [
           "peru",
           "peru",
           "peru",
           "peru"
          ]
         },
         "name": "group 246",
         "opacity": 0.7,
         "orientation": "h",
         "textinfo": "value+percent initial",
         "type": "funnel",
         "x": [
          2450,
          1542,
          1266,
          1200
         ],
         "y": [
          "MainScreenAppear",
          "OffersScreenAppear",
          "CartScreenAppear",
          "PaymentScreenSuccessful"
         ]
        },
        {
         "connector": {
          "line": {
           "color": "slategray",
           "dash": "dot",
           "width": 2
          }
         },
         "marker": {
          "color": [
           "seagreen",
           "seagreen",
           "seagreen",
           "seagreen"
          ]
         },
         "name": "group 247",
         "opacity": 0.7,
         "orientation": "h",
         "textinfo": "value+percent initial",
         "textposition": "inside",
         "type": "funnel",
         "x": [
          2476,
          1520,
          1238,
          1158
         ],
         "y": [
          "MainScreenAppear",
          "OffersScreenAppear",
          "CartScreenAppear",
          "PaymentScreenSuccessful"
         ]
        },
        {
         "connector": {
          "line": {
           "color": "slategray",
           "dash": "dot",
           "width": 2
          }
         },
         "marker": {
          "color": [
           "firebrick",
           "firebrick",
           "firebrick",
           "firebrick"
          ]
         },
         "name": "group 248",
         "opacity": 0.7,
         "orientation": "h",
         "textinfo": "value+percent initial",
         "textposition": "inside",
         "type": "funnel",
         "x": [
          2493,
          1531,
          1230,
          1181
         ],
         "y": [
          "MainScreenAppear",
          "OffersScreenAppear",
          "CartScreenAppear",
          "PaymentScreenSuccessful"
         ]
        }
       ],
       "layout": {
        "height": 500,
        "template": {
         "data": {
          "bar": [
           {
            "error_x": {
             "color": "#2a3f5f"
            },
            "error_y": {
             "color": "#2a3f5f"
            },
            "marker": {
             "line": {
              "color": "#E5ECF6",
              "width": 0.5
             },
             "pattern": {
              "fillmode": "overlay",
              "size": 10,
              "solidity": 0.2
             }
            },
            "type": "bar"
           }
          ],
          "barpolar": [
           {
            "marker": {
             "line": {
              "color": "#E5ECF6",
              "width": 0.5
             },
             "pattern": {
              "fillmode": "overlay",
              "size": 10,
              "solidity": 0.2
             }
            },
            "type": "barpolar"
           }
          ],
          "carpet": [
           {
            "aaxis": {
             "endlinecolor": "#2a3f5f",
             "gridcolor": "white",
             "linecolor": "white",
             "minorgridcolor": "white",
             "startlinecolor": "#2a3f5f"
            },
            "baxis": {
             "endlinecolor": "#2a3f5f",
             "gridcolor": "white",
             "linecolor": "white",
             "minorgridcolor": "white",
             "startlinecolor": "#2a3f5f"
            },
            "type": "carpet"
           }
          ],
          "choropleth": [
           {
            "colorbar": {
             "outlinewidth": 0,
             "ticks": ""
            },
            "type": "choropleth"
           }
          ],
          "contour": [
           {
            "colorbar": {
             "outlinewidth": 0,
             "ticks": ""
            },
            "colorscale": [
             [
              0,
              "#0d0887"
             ],
             [
              0.1111111111111111,
              "#46039f"
             ],
             [
              0.2222222222222222,
              "#7201a8"
             ],
             [
              0.3333333333333333,
              "#9c179e"
             ],
             [
              0.4444444444444444,
              "#bd3786"
             ],
             [
              0.5555555555555556,
              "#d8576b"
             ],
             [
              0.6666666666666666,
              "#ed7953"
             ],
             [
              0.7777777777777778,
              "#fb9f3a"
             ],
             [
              0.8888888888888888,
              "#fdca26"
             ],
             [
              1,
              "#f0f921"
             ]
            ],
            "type": "contour"
           }
          ],
          "contourcarpet": [
           {
            "colorbar": {
             "outlinewidth": 0,
             "ticks": ""
            },
            "type": "contourcarpet"
           }
          ],
          "heatmap": [
           {
            "colorbar": {
             "outlinewidth": 0,
             "ticks": ""
            },
            "colorscale": [
             [
              0,
              "#0d0887"
             ],
             [
              0.1111111111111111,
              "#46039f"
             ],
             [
              0.2222222222222222,
              "#7201a8"
             ],
             [
              0.3333333333333333,
              "#9c179e"
             ],
             [
              0.4444444444444444,
              "#bd3786"
             ],
             [
              0.5555555555555556,
              "#d8576b"
             ],
             [
              0.6666666666666666,
              "#ed7953"
             ],
             [
              0.7777777777777778,
              "#fb9f3a"
             ],
             [
              0.8888888888888888,
              "#fdca26"
             ],
             [
              1,
              "#f0f921"
             ]
            ],
            "type": "heatmap"
           }
          ],
          "heatmapgl": [
           {
            "colorbar": {
             "outlinewidth": 0,
             "ticks": ""
            },
            "colorscale": [
             [
              0,
              "#0d0887"
             ],
             [
              0.1111111111111111,
              "#46039f"
             ],
             [
              0.2222222222222222,
              "#7201a8"
             ],
             [
              0.3333333333333333,
              "#9c179e"
             ],
             [
              0.4444444444444444,
              "#bd3786"
             ],
             [
              0.5555555555555556,
              "#d8576b"
             ],
             [
              0.6666666666666666,
              "#ed7953"
             ],
             [
              0.7777777777777778,
              "#fb9f3a"
             ],
             [
              0.8888888888888888,
              "#fdca26"
             ],
             [
              1,
              "#f0f921"
             ]
            ],
            "type": "heatmapgl"
           }
          ],
          "histogram": [
           {
            "marker": {
             "pattern": {
              "fillmode": "overlay",
              "size": 10,
              "solidity": 0.2
             }
            },
            "type": "histogram"
           }
          ],
          "histogram2d": [
           {
            "colorbar": {
             "outlinewidth": 0,
             "ticks": ""
            },
            "colorscale": [
             [
              0,
              "#0d0887"
             ],
             [
              0.1111111111111111,
              "#46039f"
             ],
             [
              0.2222222222222222,
              "#7201a8"
             ],
             [
              0.3333333333333333,
              "#9c179e"
             ],
             [
              0.4444444444444444,
              "#bd3786"
             ],
             [
              0.5555555555555556,
              "#d8576b"
             ],
             [
              0.6666666666666666,
              "#ed7953"
             ],
             [
              0.7777777777777778,
              "#fb9f3a"
             ],
             [
              0.8888888888888888,
              "#fdca26"
             ],
             [
              1,
              "#f0f921"
             ]
            ],
            "type": "histogram2d"
           }
          ],
          "histogram2dcontour": [
           {
            "colorbar": {
             "outlinewidth": 0,
             "ticks": ""
            },
            "colorscale": [
             [
              0,
              "#0d0887"
             ],
             [
              0.1111111111111111,
              "#46039f"
             ],
             [
              0.2222222222222222,
              "#7201a8"
             ],
             [
              0.3333333333333333,
              "#9c179e"
             ],
             [
              0.4444444444444444,
              "#bd3786"
             ],
             [
              0.5555555555555556,
              "#d8576b"
             ],
             [
              0.6666666666666666,
              "#ed7953"
             ],
             [
              0.7777777777777778,
              "#fb9f3a"
             ],
             [
              0.8888888888888888,
              "#fdca26"
             ],
             [
              1,
              "#f0f921"
             ]
            ],
            "type": "histogram2dcontour"
           }
          ],
          "mesh3d": [
           {
            "colorbar": {
             "outlinewidth": 0,
             "ticks": ""
            },
            "type": "mesh3d"
           }
          ],
          "parcoords": [
           {
            "line": {
             "colorbar": {
              "outlinewidth": 0,
              "ticks": ""
             }
            },
            "type": "parcoords"
           }
          ],
          "pie": [
           {
            "automargin": true,
            "type": "pie"
           }
          ],
          "scatter": [
           {
            "marker": {
             "colorbar": {
              "outlinewidth": 0,
              "ticks": ""
             }
            },
            "type": "scatter"
           }
          ],
          "scatter3d": [
           {
            "line": {
             "colorbar": {
              "outlinewidth": 0,
              "ticks": ""
             }
            },
            "marker": {
             "colorbar": {
              "outlinewidth": 0,
              "ticks": ""
             }
            },
            "type": "scatter3d"
           }
          ],
          "scattercarpet": [
           {
            "marker": {
             "colorbar": {
              "outlinewidth": 0,
              "ticks": ""
             }
            },
            "type": "scattercarpet"
           }
          ],
          "scattergeo": [
           {
            "marker": {
             "colorbar": {
              "outlinewidth": 0,
              "ticks": ""
             }
            },
            "type": "scattergeo"
           }
          ],
          "scattergl": [
           {
            "marker": {
             "colorbar": {
              "outlinewidth": 0,
              "ticks": ""
             }
            },
            "type": "scattergl"
           }
          ],
          "scattermapbox": [
           {
            "marker": {
             "colorbar": {
              "outlinewidth": 0,
              "ticks": ""
             }
            },
            "type": "scattermapbox"
           }
          ],
          "scatterpolar": [
           {
            "marker": {
             "colorbar": {
              "outlinewidth": 0,
              "ticks": ""
             }
            },
            "type": "scatterpolar"
           }
          ],
          "scatterpolargl": [
           {
            "marker": {
             "colorbar": {
              "outlinewidth": 0,
              "ticks": ""
             }
            },
            "type": "scatterpolargl"
           }
          ],
          "scatterternary": [
           {
            "marker": {
             "colorbar": {
              "outlinewidth": 0,
              "ticks": ""
             }
            },
            "type": "scatterternary"
           }
          ],
          "surface": [
           {
            "colorbar": {
             "outlinewidth": 0,
             "ticks": ""
            },
            "colorscale": [
             [
              0,
              "#0d0887"
             ],
             [
              0.1111111111111111,
              "#46039f"
             ],
             [
              0.2222222222222222,
              "#7201a8"
             ],
             [
              0.3333333333333333,
              "#9c179e"
             ],
             [
              0.4444444444444444,
              "#bd3786"
             ],
             [
              0.5555555555555556,
              "#d8576b"
             ],
             [
              0.6666666666666666,
              "#ed7953"
             ],
             [
              0.7777777777777778,
              "#fb9f3a"
             ],
             [
              0.8888888888888888,
              "#fdca26"
             ],
             [
              1,
              "#f0f921"
             ]
            ],
            "type": "surface"
           }
          ],
          "table": [
           {
            "cells": {
             "fill": {
              "color": "#EBF0F8"
             },
             "line": {
              "color": "white"
             }
            },
            "header": {
             "fill": {
              "color": "#C8D4E3"
             },
             "line": {
              "color": "white"
             }
            },
            "type": "table"
           }
          ]
         },
         "layout": {
          "annotationdefaults": {
           "arrowcolor": "#2a3f5f",
           "arrowhead": 0,
           "arrowwidth": 1
          },
          "autotypenumbers": "strict",
          "coloraxis": {
           "colorbar": {
            "outlinewidth": 0,
            "ticks": ""
           }
          },
          "colorscale": {
           "diverging": [
            [
             0,
             "#8e0152"
            ],
            [
             0.1,
             "#c51b7d"
            ],
            [
             0.2,
             "#de77ae"
            ],
            [
             0.3,
             "#f1b6da"
            ],
            [
             0.4,
             "#fde0ef"
            ],
            [
             0.5,
             "#f7f7f7"
            ],
            [
             0.6,
             "#e6f5d0"
            ],
            [
             0.7,
             "#b8e186"
            ],
            [
             0.8,
             "#7fbc41"
            ],
            [
             0.9,
             "#4d9221"
            ],
            [
             1,
             "#276419"
            ]
           ],
           "sequential": [
            [
             0,
             "#0d0887"
            ],
            [
             0.1111111111111111,
             "#46039f"
            ],
            [
             0.2222222222222222,
             "#7201a8"
            ],
            [
             0.3333333333333333,
             "#9c179e"
            ],
            [
             0.4444444444444444,
             "#bd3786"
            ],
            [
             0.5555555555555556,
             "#d8576b"
            ],
            [
             0.6666666666666666,
             "#ed7953"
            ],
            [
             0.7777777777777778,
             "#fb9f3a"
            ],
            [
             0.8888888888888888,
             "#fdca26"
            ],
            [
             1,
             "#f0f921"
            ]
           ],
           "sequentialminus": [
            [
             0,
             "#0d0887"
            ],
            [
             0.1111111111111111,
             "#46039f"
            ],
            [
             0.2222222222222222,
             "#7201a8"
            ],
            [
             0.3333333333333333,
             "#9c179e"
            ],
            [
             0.4444444444444444,
             "#bd3786"
            ],
            [
             0.5555555555555556,
             "#d8576b"
            ],
            [
             0.6666666666666666,
             "#ed7953"
            ],
            [
             0.7777777777777778,
             "#fb9f3a"
            ],
            [
             0.8888888888888888,
             "#fdca26"
            ],
            [
             1,
             "#f0f921"
            ]
           ]
          },
          "colorway": [
           "#636efa",
           "#EF553B",
           "#00cc96",
           "#ab63fa",
           "#FFA15A",
           "#19d3f3",
           "#FF6692",
           "#B6E880",
           "#FF97FF",
           "#FECB52"
          ],
          "font": {
           "color": "#2a3f5f"
          },
          "geo": {
           "bgcolor": "white",
           "lakecolor": "white",
           "landcolor": "#E5ECF6",
           "showlakes": true,
           "showland": true,
           "subunitcolor": "white"
          },
          "hoverlabel": {
           "align": "left"
          },
          "hovermode": "closest",
          "mapbox": {
           "style": "light"
          },
          "paper_bgcolor": "white",
          "plot_bgcolor": "#E5ECF6",
          "polar": {
           "angularaxis": {
            "gridcolor": "white",
            "linecolor": "white",
            "ticks": ""
           },
           "bgcolor": "#E5ECF6",
           "radialaxis": {
            "gridcolor": "white",
            "linecolor": "white",
            "ticks": ""
           }
          },
          "scene": {
           "xaxis": {
            "backgroundcolor": "#E5ECF6",
            "gridcolor": "white",
            "gridwidth": 2,
            "linecolor": "white",
            "showbackground": true,
            "ticks": "",
            "zerolinecolor": "white"
           },
           "yaxis": {
            "backgroundcolor": "#E5ECF6",
            "gridcolor": "white",
            "gridwidth": 2,
            "linecolor": "white",
            "showbackground": true,
            "ticks": "",
            "zerolinecolor": "white"
           },
           "zaxis": {
            "backgroundcolor": "#E5ECF6",
            "gridcolor": "white",
            "gridwidth": 2,
            "linecolor": "white",
            "showbackground": true,
            "ticks": "",
            "zerolinecolor": "white"
           }
          },
          "shapedefaults": {
           "line": {
            "color": "#2a3f5f"
           }
          },
          "ternary": {
           "aaxis": {
            "gridcolor": "white",
            "linecolor": "white",
            "ticks": ""
           },
           "baxis": {
            "gridcolor": "white",
            "linecolor": "white",
            "ticks": ""
           },
           "bgcolor": "#E5ECF6",
           "caxis": {
            "gridcolor": "white",
            "linecolor": "white",
            "ticks": ""
           }
          },
          "title": {
           "x": 0.05
          },
          "xaxis": {
           "automargin": true,
           "gridcolor": "white",
           "linecolor": "white",
           "ticks": "",
           "title": {
            "standoff": 15
           },
           "zerolinecolor": "white",
           "zerolinewidth": 2
          },
          "yaxis": {
           "automargin": true,
           "gridcolor": "white",
           "linecolor": "white",
           "ticks": "",
           "title": {
            "standoff": 15
           },
           "zerolinecolor": "white",
           "zerolinewidth": 2
          }
         }
        },
        "title": {
         "text": "Воронка событий"
        },
        "width": 900
       }
      },
      "text/html": [
       "<div>                            <div id=\"d4c0d265-e882-4a1d-848d-22bca4fc72ae\" class=\"plotly-graph-div\" style=\"height:500px; width:900px;\"></div>            <script type=\"text/javascript\">                require([\"plotly\"], function(Plotly) {                    window.PLOTLYENV=window.PLOTLYENV || {};                                    if (document.getElementById(\"d4c0d265-e882-4a1d-848d-22bca4fc72ae\")) {                    Plotly.newPlot(                        \"d4c0d265-e882-4a1d-848d-22bca4fc72ae\",                        [{\"connector\":{\"line\":{\"color\":\"slategray\",\"dash\":\"dot\",\"width\":2}},\"marker\":{\"color\":[\"steelblue\",\"steelblue\",\"steelblue\",\"steelblue\"]},\"name\":\"all group\",\"opacity\":0.7,\"textinfo\":\"value+percent initial\",\"x\":[7419,4593,3734,3539],\"y\":[\"MainScreenAppear\",\"OffersScreenAppear\",\"CartScreenAppear\",\"PaymentScreenSuccessful\"],\"type\":\"funnel\"},{\"connector\":{\"line\":{\"color\":\"slategray\",\"dash\":\"dot\",\"width\":2}},\"marker\":{\"color\":[\"peru\",\"peru\",\"peru\",\"peru\"]},\"name\":\"group 246\",\"opacity\":0.7,\"orientation\":\"h\",\"textinfo\":\"value+percent initial\",\"x\":[2450,1542,1266,1200],\"y\":[\"MainScreenAppear\",\"OffersScreenAppear\",\"CartScreenAppear\",\"PaymentScreenSuccessful\"],\"type\":\"funnel\"},{\"connector\":{\"line\":{\"color\":\"slategray\",\"dash\":\"dot\",\"width\":2}},\"marker\":{\"color\":[\"seagreen\",\"seagreen\",\"seagreen\",\"seagreen\"]},\"name\":\"group 247\",\"opacity\":0.7,\"orientation\":\"h\",\"textinfo\":\"value+percent initial\",\"textposition\":\"inside\",\"x\":[2476,1520,1238,1158],\"y\":[\"MainScreenAppear\",\"OffersScreenAppear\",\"CartScreenAppear\",\"PaymentScreenSuccessful\"],\"type\":\"funnel\"},{\"connector\":{\"line\":{\"color\":\"slategray\",\"dash\":\"dot\",\"width\":2}},\"marker\":{\"color\":[\"firebrick\",\"firebrick\",\"firebrick\",\"firebrick\"]},\"name\":\"group 248\",\"opacity\":0.7,\"orientation\":\"h\",\"textinfo\":\"value+percent initial\",\"textposition\":\"inside\",\"x\":[2493,1531,1230,1181],\"y\":[\"MainScreenAppear\",\"OffersScreenAppear\",\"CartScreenAppear\",\"PaymentScreenSuccessful\"],\"type\":\"funnel\"}],                        {\"template\":{\"data\":{\"bar\":[{\"error_x\":{\"color\":\"#2a3f5f\"},\"error_y\":{\"color\":\"#2a3f5f\"},\"marker\":{\"line\":{\"color\":\"#E5ECF6\",\"width\":0.5},\"pattern\":{\"fillmode\":\"overlay\",\"size\":10,\"solidity\":0.2}},\"type\":\"bar\"}],\"barpolar\":[{\"marker\":{\"line\":{\"color\":\"#E5ECF6\",\"width\":0.5},\"pattern\":{\"fillmode\":\"overlay\",\"size\":10,\"solidity\":0.2}},\"type\":\"barpolar\"}],\"carpet\":[{\"aaxis\":{\"endlinecolor\":\"#2a3f5f\",\"gridcolor\":\"white\",\"linecolor\":\"white\",\"minorgridcolor\":\"white\",\"startlinecolor\":\"#2a3f5f\"},\"baxis\":{\"endlinecolor\":\"#2a3f5f\",\"gridcolor\":\"white\",\"linecolor\":\"white\",\"minorgridcolor\":\"white\",\"startlinecolor\":\"#2a3f5f\"},\"type\":\"carpet\"}],\"choropleth\":[{\"colorbar\":{\"outlinewidth\":0,\"ticks\":\"\"},\"type\":\"choropleth\"}],\"contour\":[{\"colorbar\":{\"outlinewidth\":0,\"ticks\":\"\"},\"colorscale\":[[0.0,\"#0d0887\"],[0.1111111111111111,\"#46039f\"],[0.2222222222222222,\"#7201a8\"],[0.3333333333333333,\"#9c179e\"],[0.4444444444444444,\"#bd3786\"],[0.5555555555555556,\"#d8576b\"],[0.6666666666666666,\"#ed7953\"],[0.7777777777777778,\"#fb9f3a\"],[0.8888888888888888,\"#fdca26\"],[1.0,\"#f0f921\"]],\"type\":\"contour\"}],\"contourcarpet\":[{\"colorbar\":{\"outlinewidth\":0,\"ticks\":\"\"},\"type\":\"contourcarpet\"}],\"heatmap\":[{\"colorbar\":{\"outlinewidth\":0,\"ticks\":\"\"},\"colorscale\":[[0.0,\"#0d0887\"],[0.1111111111111111,\"#46039f\"],[0.2222222222222222,\"#7201a8\"],[0.3333333333333333,\"#9c179e\"],[0.4444444444444444,\"#bd3786\"],[0.5555555555555556,\"#d8576b\"],[0.6666666666666666,\"#ed7953\"],[0.7777777777777778,\"#fb9f3a\"],[0.8888888888888888,\"#fdca26\"],[1.0,\"#f0f921\"]],\"type\":\"heatmap\"}],\"heatmapgl\":[{\"colorbar\":{\"outlinewidth\":0,\"ticks\":\"\"},\"colorscale\":[[0.0,\"#0d0887\"],[0.1111111111111111,\"#46039f\"],[0.2222222222222222,\"#7201a8\"],[0.3333333333333333,\"#9c179e\"],[0.4444444444444444,\"#bd3786\"],[0.5555555555555556,\"#d8576b\"],[0.6666666666666666,\"#ed7953\"],[0.7777777777777778,\"#fb9f3a\"],[0.8888888888888888,\"#fdca26\"],[1.0,\"#f0f921\"]],\"type\":\"heatmapgl\"}],\"histogram\":[{\"marker\":{\"pattern\":{\"fillmode\":\"overlay\",\"size\":10,\"solidity\":0.2}},\"type\":\"histogram\"}],\"histogram2d\":[{\"colorbar\":{\"outlinewidth\":0,\"ticks\":\"\"},\"colorscale\":[[0.0,\"#0d0887\"],[0.1111111111111111,\"#46039f\"],[0.2222222222222222,\"#7201a8\"],[0.3333333333333333,\"#9c179e\"],[0.4444444444444444,\"#bd3786\"],[0.5555555555555556,\"#d8576b\"],[0.6666666666666666,\"#ed7953\"],[0.7777777777777778,\"#fb9f3a\"],[0.8888888888888888,\"#fdca26\"],[1.0,\"#f0f921\"]],\"type\":\"histogram2d\"}],\"histogram2dcontour\":[{\"colorbar\":{\"outlinewidth\":0,\"ticks\":\"\"},\"colorscale\":[[0.0,\"#0d0887\"],[0.1111111111111111,\"#46039f\"],[0.2222222222222222,\"#7201a8\"],[0.3333333333333333,\"#9c179e\"],[0.4444444444444444,\"#bd3786\"],[0.5555555555555556,\"#d8576b\"],[0.6666666666666666,\"#ed7953\"],[0.7777777777777778,\"#fb9f3a\"],[0.8888888888888888,\"#fdca26\"],[1.0,\"#f0f921\"]],\"type\":\"histogram2dcontour\"}],\"mesh3d\":[{\"colorbar\":{\"outlinewidth\":0,\"ticks\":\"\"},\"type\":\"mesh3d\"}],\"parcoords\":[{\"line\":{\"colorbar\":{\"outlinewidth\":0,\"ticks\":\"\"}},\"type\":\"parcoords\"}],\"pie\":[{\"automargin\":true,\"type\":\"pie\"}],\"scatter\":[{\"marker\":{\"colorbar\":{\"outlinewidth\":0,\"ticks\":\"\"}},\"type\":\"scatter\"}],\"scatter3d\":[{\"line\":{\"colorbar\":{\"outlinewidth\":0,\"ticks\":\"\"}},\"marker\":{\"colorbar\":{\"outlinewidth\":0,\"ticks\":\"\"}},\"type\":\"scatter3d\"}],\"scattercarpet\":[{\"marker\":{\"colorbar\":{\"outlinewidth\":0,\"ticks\":\"\"}},\"type\":\"scattercarpet\"}],\"scattergeo\":[{\"marker\":{\"colorbar\":{\"outlinewidth\":0,\"ticks\":\"\"}},\"type\":\"scattergeo\"}],\"scattergl\":[{\"marker\":{\"colorbar\":{\"outlinewidth\":0,\"ticks\":\"\"}},\"type\":\"scattergl\"}],\"scattermapbox\":[{\"marker\":{\"colorbar\":{\"outlinewidth\":0,\"ticks\":\"\"}},\"type\":\"scattermapbox\"}],\"scatterpolar\":[{\"marker\":{\"colorbar\":{\"outlinewidth\":0,\"ticks\":\"\"}},\"type\":\"scatterpolar\"}],\"scatterpolargl\":[{\"marker\":{\"colorbar\":{\"outlinewidth\":0,\"ticks\":\"\"}},\"type\":\"scatterpolargl\"}],\"scatterternary\":[{\"marker\":{\"colorbar\":{\"outlinewidth\":0,\"ticks\":\"\"}},\"type\":\"scatterternary\"}],\"surface\":[{\"colorbar\":{\"outlinewidth\":0,\"ticks\":\"\"},\"colorscale\":[[0.0,\"#0d0887\"],[0.1111111111111111,\"#46039f\"],[0.2222222222222222,\"#7201a8\"],[0.3333333333333333,\"#9c179e\"],[0.4444444444444444,\"#bd3786\"],[0.5555555555555556,\"#d8576b\"],[0.6666666666666666,\"#ed7953\"],[0.7777777777777778,\"#fb9f3a\"],[0.8888888888888888,\"#fdca26\"],[1.0,\"#f0f921\"]],\"type\":\"surface\"}],\"table\":[{\"cells\":{\"fill\":{\"color\":\"#EBF0F8\"},\"line\":{\"color\":\"white\"}},\"header\":{\"fill\":{\"color\":\"#C8D4E3\"},\"line\":{\"color\":\"white\"}},\"type\":\"table\"}]},\"layout\":{\"annotationdefaults\":{\"arrowcolor\":\"#2a3f5f\",\"arrowhead\":0,\"arrowwidth\":1},\"autotypenumbers\":\"strict\",\"coloraxis\":{\"colorbar\":{\"outlinewidth\":0,\"ticks\":\"\"}},\"colorscale\":{\"diverging\":[[0,\"#8e0152\"],[0.1,\"#c51b7d\"],[0.2,\"#de77ae\"],[0.3,\"#f1b6da\"],[0.4,\"#fde0ef\"],[0.5,\"#f7f7f7\"],[0.6,\"#e6f5d0\"],[0.7,\"#b8e186\"],[0.8,\"#7fbc41\"],[0.9,\"#4d9221\"],[1,\"#276419\"]],\"sequential\":[[0.0,\"#0d0887\"],[0.1111111111111111,\"#46039f\"],[0.2222222222222222,\"#7201a8\"],[0.3333333333333333,\"#9c179e\"],[0.4444444444444444,\"#bd3786\"],[0.5555555555555556,\"#d8576b\"],[0.6666666666666666,\"#ed7953\"],[0.7777777777777778,\"#fb9f3a\"],[0.8888888888888888,\"#fdca26\"],[1.0,\"#f0f921\"]],\"sequentialminus\":[[0.0,\"#0d0887\"],[0.1111111111111111,\"#46039f\"],[0.2222222222222222,\"#7201a8\"],[0.3333333333333333,\"#9c179e\"],[0.4444444444444444,\"#bd3786\"],[0.5555555555555556,\"#d8576b\"],[0.6666666666666666,\"#ed7953\"],[0.7777777777777778,\"#fb9f3a\"],[0.8888888888888888,\"#fdca26\"],[1.0,\"#f0f921\"]]},\"colorway\":[\"#636efa\",\"#EF553B\",\"#00cc96\",\"#ab63fa\",\"#FFA15A\",\"#19d3f3\",\"#FF6692\",\"#B6E880\",\"#FF97FF\",\"#FECB52\"],\"font\":{\"color\":\"#2a3f5f\"},\"geo\":{\"bgcolor\":\"white\",\"lakecolor\":\"white\",\"landcolor\":\"#E5ECF6\",\"showlakes\":true,\"showland\":true,\"subunitcolor\":\"white\"},\"hoverlabel\":{\"align\":\"left\"},\"hovermode\":\"closest\",\"mapbox\":{\"style\":\"light\"},\"paper_bgcolor\":\"white\",\"plot_bgcolor\":\"#E5ECF6\",\"polar\":{\"angularaxis\":{\"gridcolor\":\"white\",\"linecolor\":\"white\",\"ticks\":\"\"},\"bgcolor\":\"#E5ECF6\",\"radialaxis\":{\"gridcolor\":\"white\",\"linecolor\":\"white\",\"ticks\":\"\"}},\"scene\":{\"xaxis\":{\"backgroundcolor\":\"#E5ECF6\",\"gridcolor\":\"white\",\"gridwidth\":2,\"linecolor\":\"white\",\"showbackground\":true,\"ticks\":\"\",\"zerolinecolor\":\"white\"},\"yaxis\":{\"backgroundcolor\":\"#E5ECF6\",\"gridcolor\":\"white\",\"gridwidth\":2,\"linecolor\":\"white\",\"showbackground\":true,\"ticks\":\"\",\"zerolinecolor\":\"white\"},\"zaxis\":{\"backgroundcolor\":\"#E5ECF6\",\"gridcolor\":\"white\",\"gridwidth\":2,\"linecolor\":\"white\",\"showbackground\":true,\"ticks\":\"\",\"zerolinecolor\":\"white\"}},\"shapedefaults\":{\"line\":{\"color\":\"#2a3f5f\"}},\"ternary\":{\"aaxis\":{\"gridcolor\":\"white\",\"linecolor\":\"white\",\"ticks\":\"\"},\"baxis\":{\"gridcolor\":\"white\",\"linecolor\":\"white\",\"ticks\":\"\"},\"bgcolor\":\"#E5ECF6\",\"caxis\":{\"gridcolor\":\"white\",\"linecolor\":\"white\",\"ticks\":\"\"}},\"title\":{\"x\":0.05},\"xaxis\":{\"automargin\":true,\"gridcolor\":\"white\",\"linecolor\":\"white\",\"ticks\":\"\",\"title\":{\"standoff\":15},\"zerolinecolor\":\"white\",\"zerolinewidth\":2},\"yaxis\":{\"automargin\":true,\"gridcolor\":\"white\",\"linecolor\":\"white\",\"ticks\":\"\",\"title\":{\"standoff\":15},\"zerolinecolor\":\"white\",\"zerolinewidth\":2}}},\"title\":{\"text\":\"\\u0412\\u043e\\u0440\\u043e\\u043d\\u043a\\u0430 \\u0441\\u043e\\u0431\\u044b\\u0442\\u0438\\u0439\"},\"width\":900,\"height\":500},                        {\"responsive\": true}                    ).then(function(){\n",
       "                            \n",
       "var gd = document.getElementById('d4c0d265-e882-4a1d-848d-22bca4fc72ae');\n",
       "var x = new MutationObserver(function (mutations, observer) {{\n",
       "        var display = window.getComputedStyle(gd).display;\n",
       "        if (!display || display === 'none') {{\n",
       "            console.log([gd, 'removed!']);\n",
       "            Plotly.purge(gd);\n",
       "            observer.disconnect();\n",
       "        }}\n",
       "}});\n",
       "\n",
       "// Listen for the removal of the full notebook cells\n",
       "var notebookContainer = gd.closest('#notebook-container');\n",
       "if (notebookContainer) {{\n",
       "    x.observe(notebookContainer, {childList: true});\n",
       "}}\n",
       "\n",
       "// Listen for the clearing of the current output cell\n",
       "var outputEl = gd.closest('.output');\n",
       "if (outputEl) {{\n",
       "    x.observe(outputEl, {childList: true});\n",
       "}}\n",
       "\n",
       "                        })                };                });            </script>        </div>"
      ]
     },
     "metadata": {},
     "output_type": "display_data"
    },
    {
     "data": {
      "image/png": "[encoded data removed]"
     },
     "metadata": {},
     "output_type": "display_data"
    }
   ],
   "source": [
    "event_unique_group = data_filtr.groupby(['event_name', 'group']).agg(\n",
    "    {'device_id': 'nunique'}).sort_values(['device_id', 'event_name'], ascending=False).reset_index()\n",
    "\n",
    "event_unique_new = data_filtr.groupby('event_name').agg(\n",
    "    {'device_id': 'nunique'}).sort_values('device_id', ascending=False)\n",
    "\n",
    "event_unique_new['share'] = (\n",
    "    event_unique_new['device_id'] / (len(data_filtr['device_id'].unique()))\n",
    ").apply('{:.2%}'.format) \n",
    "\n",
    "event_unique_new.columns = ['count_users', 'share_users']\n",
    "\n",
    "\n",
    "fig = go.Figure()\n",
    "\n",
    "#добавлен заголовок\n",
    "fig.update_layout(\n",
    "    title={'text': \"Воронка событий\"},\n",
    "    width=900,\n",
    "    height=500) \n",
    "    \n",
    "    \n",
    "fig.add_trace(go.Funnel(\n",
    "    name = 'all group',\n",
    "    y = event_unique_new.reset_index()['event_name'].tolist(),\n",
    "    x = event_unique_new.reset_index()['count_users'].tolist(),\n",
    "    textinfo = 'value+percent initial',\n",
    "    opacity = 0.7, marker = {'color': ['steelblue', 'steelblue', 'steelblue', 'steelblue']},\n",
    "    connector = {'line': {'color': 'slategray', 'dash': 'dot', 'width': 2}}))\n",
    "\n",
    "fig.add_trace(go.Funnel(\n",
    "    name = 'group 246',\n",
    "    orientation = 'h',    \n",
    "    y = event_unique_group[event_unique_group['group']== 246]['event_name'].tolist(),\n",
    "    x = event_unique_group[event_unique_group['group']== 246]['device_id'].tolist(),\n",
    "    textinfo = 'value+percent initial',\n",
    "    opacity = 0.7, marker = {'color': ['peru', 'peru', 'peru', 'peru']},\n",
    "    connector = {'line': {'color': 'slategray', 'dash': 'dot', 'width': 2}}))\n",
    "\n",
    "fig.add_trace(go.Funnel(\n",
    "    name = 'group 247',\n",
    "    orientation = 'h',\n",
    "    y = event_unique_group[event_unique_group['group']== 247]['event_name'].tolist(),\n",
    "    x = event_unique_group[event_unique_group['group']== 247]['device_id'].tolist(),\n",
    "    textposition = 'inside',\n",
    "    textinfo = 'value+percent initial',\n",
    "    opacity = 0.7, marker = {'color': ['seagreen', 'seagreen', 'seagreen', 'seagreen']},\n",
    "    connector = {'line': {'color': 'slategray', 'dash': 'dot', 'width': 2}}))\n",
    "\n",
    "fig.add_trace(go.Funnel(\n",
    "    name = 'group 248',\n",
    "    orientation = 'h',\n",
    "    y = event_unique_group[event_unique_group['group']== 248]['event_name'].tolist(),\n",
    "    x = event_unique_group[event_unique_group['group']== 248]['device_id'].tolist(),\n",
    "    textposition = 'inside',\n",
    "    textinfo = 'value+percent initial',\n",
    "    opacity = 0.7, marker = {'color': ['firebrick', 'firebrick', 'firebrick', 'firebrick']},\n",
    "    connector = {'line': {'color': 'slategray', 'dash': 'dot', 'width': 2}}))\n",
    "\n",
    "fig.show()\n",
    "fig.show(\"png\")"
   ]
  },
  {
   "cell_type": "markdown",
   "metadata": {},
   "source": [
    "В разбивке по группам наибольший процент пользователей совершают каждое событие в группе 246. \n",
    "\n",
    "Так событие 'OffersScreenAppear' совершают 63% пользователей группы 246, что на 2% больше, чем в группах 247 и 248. \n",
    "\n",
    "Событие 'CartScreenAppear' совершают 52% пользователей группы 246, что на 2% и 3% больше, чем у групп 247 и 248.\n",
    "\n",
    "Событие 'PaymentScreenSuccessful' совершают 48% пользователей группы 246, что на 2% больше, чем у групп 247 и 248."
   ]
  },
  {
   "cell_type": "markdown",
   "metadata": {},
   "source": [
    "#### По воронке событий посчитайте, какая доля пользователей проходит на следующий шаг воронки (от числа пользователей на предыдущем). То есть для последовательности событий A → B → C посчитайте отношение числа пользователей с событием B к количеству пользователей с событием A, а также отношение числа пользователей с событием C к количеству пользователей с событием B.\n",
    "<a id=\"funnel4\"></a>"
   ]
  },
  {
   "cell_type": "markdown",
   "metadata": {},
   "source": [
    "Добавим в таблицу 'event_unique_new' 2 новых столбца с абсолютным и относительным изменением пользователей, проходящих на следующий шаг воронки."
   ]
  },
  {
   "cell_type": "code",
   "execution_count": 29,
   "metadata": {},
   "outputs": [
    {
     "data": {
      "text/html": [
       "<div>\n",
       "<style scoped>\n",
       "    .dataframe tbody tr th:only-of-type {\n",
       "        vertical-align: middle;\n",
       "    }\n",
       "\n",
       "    .dataframe tbody tr th {\n",
       "        vertical-align: top;\n",
       "    }\n",
       "\n",
       "    .dataframe thead th {\n",
       "        text-align: right;\n",
       "    }\n",
       "</style>\n",
       "<table border=\"1\" class=\"dataframe\">\n",
       "  <thead>\n",
       "    <tr style=\"text-align: right;\">\n",
       "      <th></th>\n",
       "      <th>count_users</th>\n",
       "      <th>share_users</th>\n",
       "      <th>loss _users</th>\n",
       "      <th>share_next_event</th>\n",
       "    </tr>\n",
       "    <tr>\n",
       "      <th>event_name</th>\n",
       "      <th></th>\n",
       "      <th></th>\n",
       "      <th></th>\n",
       "      <th></th>\n",
       "    </tr>\n",
       "  </thead>\n",
       "  <tbody>\n",
       "    <tr>\n",
       "      <th>MainScreenAppear</th>\n",
       "      <td>7419</td>\n",
       "      <td>98.53%</td>\n",
       "      <td>0</td>\n",
       "      <td>1.00</td>\n",
       "    </tr>\n",
       "    <tr>\n",
       "      <th>OffersScreenAppear</th>\n",
       "      <td>4593</td>\n",
       "      <td>61.00%</td>\n",
       "      <td>-2826</td>\n",
       "      <td>0.62</td>\n",
       "    </tr>\n",
       "    <tr>\n",
       "      <th>CartScreenAppear</th>\n",
       "      <td>3734</td>\n",
       "      <td>49.59%</td>\n",
       "      <td>-859</td>\n",
       "      <td>0.81</td>\n",
       "    </tr>\n",
       "    <tr>\n",
       "      <th>PaymentScreenSuccessful</th>\n",
       "      <td>3539</td>\n",
       "      <td>47.00%</td>\n",
       "      <td>-195</td>\n",
       "      <td>0.95</td>\n",
       "    </tr>\n",
       "  </tbody>\n",
       "</table>\n",
       "</div>"
      ],
      "text/plain": [
       "                         count_users share_users  loss _users  \\\n",
       "event_name                                                      \n",
       "MainScreenAppear                7419      98.53%            0   \n",
       "OffersScreenAppear              4593      61.00%        -2826   \n",
       "CartScreenAppear                3734      49.59%         -859   \n",
       "PaymentScreenSuccessful         3539      47.00%         -195   \n",
       "\n",
       "                         share_next_event  \n",
       "event_name                                 \n",
       "MainScreenAppear                     1.00  \n",
       "OffersScreenAppear                   0.62  \n",
       "CartScreenAppear                     0.81  \n",
       "PaymentScreenSuccessful              0.95  "
      ]
     },
     "execution_count": 29,
     "metadata": {},
     "output_type": "execute_result"
    }
   ],
   "source": [
    "#добалено\n",
    "#выделим необходимую строку столбца 'count_users' с помощью индекса и запишем значение в отдельную переменную\n",
    "fill_value_all = event_unique_new['count_users'].iloc[0]\n",
    "\n",
    "event_unique_new['loss _users'] = (\n",
    "    event_unique_new['count_users'] - event_unique_new['count_users']\n",
    ".shift(1,fill_value=fill_value_all) \n",
    ")\n",
    "event_unique_new['share_next_event'] = (\n",
    "    event_unique_new['count_users'] / event_unique_new['count_users'].shift(1,fill_value=fill_value_all)\n",
    ")\n",
    "event_unique_new\n"
   ]
  },
  {
   "cell_type": "markdown",
   "metadata": {},
   "source": [
    "Построи воронку событий с долей пользователей, проходящих на следующий шаг воронки, для всех групп и отдельно по каждой группе."
   ]
  },
  {
   "cell_type": "code",
   "execution_count": 50,
   "metadata": {},
   "outputs": [
    {
     "data": {
      "application/vnd.plotly.v1+json": {
       "config": {
        "plotlyServerURL": "https://plot.ly"
       },
       "data": [
        {
         "connector": {
          "line": {
           "color": "slategray",
           "dash": "dot",
           "width": 2
          }
         },
         "marker": {
          "color": [
           "steelblue",
           "steelblue",
           "steelblue",
           "steelblue"
          ]
         },
         "name": "all group",
         "opacity": 0.7,
         "textinfo": "value+percent previous",
         "type": "funnel",
         "x": [
          7419,
          4593,
          3734,
          3539
         ],
         "y": [
          "MainScreenAppear",
          "OffersScreenAppear",
          "CartScreenAppear",
          "PaymentScreenSuccessful"
         ]
        },
        {
         "connector": {
          "line": {
           "color": "slategray",
           "dash": "dot",
           "width": 2
          }
         },
         "marker": {
          "color": [
           "peru",
           "peru",
           "peru",
           "peru"
          ]
         },
         "name": "246 group",
         "opacity": 0.7,
         "orientation": "h",
         "textinfo": "value+percent previous",
         "type": "funnel",
         "x": [
          2450,
          1542,
          1266,
          1200
         ],
         "y": [
          "MainScreenAppear",
          "OffersScreenAppear",
          "CartScreenAppear",
          "PaymentScreenSuccessful"
         ]
        },
        {
         "connector": {
          "line": {
           "color": "slategray",
           "dash": "dot",
           "width": 2
          }
         },
         "marker": {
          "color": [
           "seagreen",
           "seagreen",
           "seagreen",
           "seagreen"
          ]
         },
         "name": "247 group",
         "opacity": 0.7,
         "orientation": "h",
         "textinfo": "value+percent previous",
         "textposition": "inside",
         "type": "funnel",
         "x": [
          2476,
          1520,
          1238,
          1158
         ],
         "y": [
          "MainScreenAppear",
          "OffersScreenAppear",
          "CartScreenAppear",
          "PaymentScreenSuccessful"
         ]
        },
        {
         "connector": {
          "line": {
           "color": "slategray",
           "dash": "dot",
           "width": 2
          }
         },
         "marker": {
          "color": [
           "firebrick",
           "firebrick",
           "firebrick",
           "firebrick"
          ]
         },
         "name": "248 group",
         "opacity": 0.7,
         "orientation": "h",
         "textinfo": "value+percent previous",
         "textposition": "inside",
         "type": "funnel",
         "x": [
          2493,
          1531,
          1230,
          1181
         ],
         "y": [
          "MainScreenAppear",
          "OffersScreenAppear",
          "CartScreenAppear",
          "PaymentScreenSuccessful"
         ]
        }
       ],
       "layout": {
        "height": 500,
        "template": {
         "data": {
          "bar": [
           {
            "error_x": {
             "color": "#2a3f5f"
            },
            "error_y": {
             "color": "#2a3f5f"
            },
            "marker": {
             "line": {
              "color": "#E5ECF6",
              "width": 0.5
             },
             "pattern": {
              "fillmode": "overlay",
              "size": 10,
              "solidity": 0.2
             }
            },
            "type": "bar"
           }
          ],
          "barpolar": [
           {
            "marker": {
             "line": {
              "color": "#E5ECF6",
              "width": 0.5
             },
             "pattern": {
              "fillmode": "overlay",
              "size": 10,
              "solidity": 0.2
             }
            },
            "type": "barpolar"
           }
          ],
          "carpet": [
           {
            "aaxis": {
             "endlinecolor": "#2a3f5f",
             "gridcolor": "white",
             "linecolor": "white",
             "minorgridcolor": "white",
             "startlinecolor": "#2a3f5f"
            },
            "baxis": {
             "endlinecolor": "#2a3f5f",
             "gridcolor": "white",
             "linecolor": "white",
             "minorgridcolor": "white",
             "startlinecolor": "#2a3f5f"
            },
            "type": "carpet"
           }
          ],
          "choropleth": [
           {
            "colorbar": {
             "outlinewidth": 0,
             "ticks": ""
            },
            "type": "choropleth"
           }
          ],
          "contour": [
           {
            "colorbar": {
             "outlinewidth": 0,
             "ticks": ""
            },
            "colorscale": [
             [
              0,
              "#0d0887"
             ],
             [
              0.1111111111111111,
              "#46039f"
             ],
             [
              0.2222222222222222,
              "#7201a8"
             ],
             [
              0.3333333333333333,
              "#9c179e"
             ],
             [
              0.4444444444444444,
              "#bd3786"
             ],
             [
              0.5555555555555556,
              "#d8576b"
             ],
             [
              0.6666666666666666,
              "#ed7953"
             ],
             [
              0.7777777777777778,
              "#fb9f3a"
             ],
             [
              0.8888888888888888,
              "#fdca26"
             ],
             [
              1,
              "#f0f921"
             ]
            ],
            "type": "contour"
           }
          ],
          "contourcarpet": [
           {
            "colorbar": {
             "outlinewidth": 0,
             "ticks": ""
            },
            "type": "contourcarpet"
           }
          ],
          "heatmap": [
           {
            "colorbar": {
             "outlinewidth": 0,
             "ticks": ""
            },
            "colorscale": [
             [
              0,
              "#0d0887"
             ],
             [
              0.1111111111111111,
              "#46039f"
             ],
             [
              0.2222222222222222,
              "#7201a8"
             ],
             [
              0.3333333333333333,
              "#9c179e"
             ],
             [
              0.4444444444444444,
              "#bd3786"
             ],
             [
              0.5555555555555556,
              "#d8576b"
             ],
             [
              0.6666666666666666,
              "#ed7953"
             ],
             [
              0.7777777777777778,
              "#fb9f3a"
             ],
             [
              0.8888888888888888,
              "#fdca26"
             ],
             [
              1,
              "#f0f921"
             ]
            ],
            "type": "heatmap"
           }
          ],
          "heatmapgl": [
           {
            "colorbar": {
             "outlinewidth": 0,
             "ticks": ""
            },
            "colorscale": [
             [
              0,
              "#0d0887"
             ],
             [
              0.1111111111111111,
              "#46039f"
             ],
             [
              0.2222222222222222,
              "#7201a8"
             ],
             [
              0.3333333333333333,
              "#9c179e"
             ],
             [
              0.4444444444444444,
              "#bd3786"
             ],
             [
              0.5555555555555556,
              "#d8576b"
             ],
             [
              0.6666666666666666,
              "#ed7953"
             ],
             [
              0.7777777777777778,
              "#fb9f3a"
             ],
             [
              0.8888888888888888,
              "#fdca26"
             ],
             [
              1,
              "#f0f921"
             ]
            ],
            "type": "heatmapgl"
           }
          ],
          "histogram": [
           {
            "marker": {
             "pattern": {
              "fillmode": "overlay",
              "size": 10,
              "solidity": 0.2
             }
            },
            "type": "histogram"
           }
          ],
          "histogram2d": [
           {
            "colorbar": {
             "outlinewidth": 0,
             "ticks": ""
            },
            "colorscale": [
             [
              0,
              "#0d0887"
             ],
             [
              0.1111111111111111,
              "#46039f"
             ],
             [
              0.2222222222222222,
              "#7201a8"
             ],
             [
              0.3333333333333333,
              "#9c179e"
             ],
             [
              0.4444444444444444,
              "#bd3786"
             ],
             [
              0.5555555555555556,
              "#d8576b"
             ],
             [
              0.6666666666666666,
              "#ed7953"
             ],
             [
              0.7777777777777778,
              "#fb9f3a"
             ],
             [
              0.8888888888888888,
              "#fdca26"
             ],
             [
              1,
              "#f0f921"
             ]
            ],
            "type": "histogram2d"
           }
          ],
          "histogram2dcontour": [
           {
            "colorbar": {
             "outlinewidth": 0,
             "ticks": ""
            },
            "colorscale": [
             [
              0,
              "#0d0887"
             ],
             [
              0.1111111111111111,
              "#46039f"
             ],
             [
              0.2222222222222222,
              "#7201a8"
             ],
             [
              0.3333333333333333,
              "#9c179e"
             ],
             [
              0.4444444444444444,
              "#bd3786"
             ],
             [
              0.5555555555555556,
              "#d8576b"
             ],
             [
              0.6666666666666666,
              "#ed7953"
             ],
             [
              0.7777777777777778,
              "#fb9f3a"
             ],
             [
              0.8888888888888888,
              "#fdca26"
             ],
             [
              1,
              "#f0f921"
             ]
            ],
            "type": "histogram2dcontour"
           }
          ],
          "mesh3d": [
           {
            "colorbar": {
             "outlinewidth": 0,
             "ticks": ""
            },
            "type": "mesh3d"
           }
          ],
          "parcoords": [
           {
            "line": {
             "colorbar": {
              "outlinewidth": 0,
              "ticks": ""
             }
            },
            "type": "parcoords"
           }
          ],
          "pie": [
           {
            "automargin": true,
            "type": "pie"
           }
          ],
          "scatter": [
           {
            "marker": {
             "colorbar": {
              "outlinewidth": 0,
              "ticks": ""
             }
            },
            "type": "scatter"
           }
          ],
          "scatter3d": [
           {
            "line": {
             "colorbar": {
              "outlinewidth": 0,
              "ticks": ""
             }
            },
            "marker": {
             "colorbar": {
              "outlinewidth": 0,
              "ticks": ""
             }
            },
            "type": "scatter3d"
           }
          ],
          "scattercarpet": [
           {
            "marker": {
             "colorbar": {
              "outlinewidth": 0,
              "ticks": ""
             }
            },
            "type": "scattercarpet"
           }
          ],
          "scattergeo": [
           {
            "marker": {
             "colorbar": {
              "outlinewidth": 0,
              "ticks": ""
             }
            },
            "type": "scattergeo"
           }
          ],
          "scattergl": [
           {
            "marker": {
             "colorbar": {
              "outlinewidth": 0,
              "ticks": ""
             }
            },
            "type": "scattergl"
           }
          ],
          "scattermapbox": [
           {
            "marker": {
             "colorbar": {
              "outlinewidth": 0,
              "ticks": ""
             }
            },
            "type": "scattermapbox"
           }
          ],
          "scatterpolar": [
           {
            "marker": {
             "colorbar": {
              "outlinewidth": 0,
              "ticks": ""
             }
            },
            "type": "scatterpolar"
           }
          ],
          "scatterpolargl": [
           {
            "marker": {
             "colorbar": {
              "outlinewidth": 0,
              "ticks": ""
             }
            },
            "type": "scatterpolargl"
           }
          ],
          "scatterternary": [
           {
            "marker": {
             "colorbar": {
              "outlinewidth": 0,
              "ticks": ""
             }
            },
            "type": "scatterternary"
           }
          ],
          "surface": [
           {
            "colorbar": {
             "outlinewidth": 0,
             "ticks": ""
            },
            "colorscale": [
             [
              0,
              "#0d0887"
             ],
             [
              0.1111111111111111,
              "#46039f"
             ],
             [
              0.2222222222222222,
              "#7201a8"
             ],
             [
              0.3333333333333333,
              "#9c179e"
             ],
             [
              0.4444444444444444,
              "#bd3786"
             ],
             [
              0.5555555555555556,
              "#d8576b"
             ],
             [
              0.6666666666666666,
              "#ed7953"
             ],
             [
              0.7777777777777778,
              "#fb9f3a"
             ],
             [
              0.8888888888888888,
              "#fdca26"
             ],
             [
              1,
              "#f0f921"
             ]
            ],
            "type": "surface"
           }
          ],
          "table": [
           {
            "cells": {
             "fill": {
              "color": "#EBF0F8"
             },
             "line": {
              "color": "white"
             }
            },
            "header": {
             "fill": {
              "color": "#C8D4E3"
             },
             "line": {
              "color": "white"
             }
            },
            "type": "table"
           }
          ]
         },
         "layout": {
          "annotationdefaults": {
           "arrowcolor": "#2a3f5f",
           "arrowhead": 0,
           "arrowwidth": 1
          },
          "autotypenumbers": "strict",
          "coloraxis": {
           "colorbar": {
            "outlinewidth": 0,
            "ticks": ""
           }
          },
          "colorscale": {
           "diverging": [
            [
             0,
             "#8e0152"
            ],
            [
             0.1,
             "#c51b7d"
            ],
            [
             0.2,
             "#de77ae"
            ],
            [
             0.3,
             "#f1b6da"
            ],
            [
             0.4,
             "#fde0ef"
            ],
            [
             0.5,
             "#f7f7f7"
            ],
            [
             0.6,
             "#e6f5d0"
            ],
            [
             0.7,
             "#b8e186"
            ],
            [
             0.8,
             "#7fbc41"
            ],
            [
             0.9,
             "#4d9221"
            ],
            [
             1,
             "#276419"
            ]
           ],
           "sequential": [
            [
             0,
             "#0d0887"
            ],
            [
             0.1111111111111111,
             "#46039f"
            ],
            [
             0.2222222222222222,
             "#7201a8"
            ],
            [
             0.3333333333333333,
             "#9c179e"
            ],
            [
             0.4444444444444444,
             "#bd3786"
            ],
            [
             0.5555555555555556,
             "#d8576b"
            ],
            [
             0.6666666666666666,
             "#ed7953"
            ],
            [
             0.7777777777777778,
             "#fb9f3a"
            ],
            [
             0.8888888888888888,
             "#fdca26"
            ],
            [
             1,
             "#f0f921"
            ]
           ],
           "sequentialminus": [
            [
             0,
             "#0d0887"
            ],
            [
             0.1111111111111111,
             "#46039f"
            ],
            [
             0.2222222222222222,
             "#7201a8"
            ],
            [
             0.3333333333333333,
             "#9c179e"
            ],
            [
             0.4444444444444444,
             "#bd3786"
            ],
            [
             0.5555555555555556,
             "#d8576b"
            ],
            [
             0.6666666666666666,
             "#ed7953"
            ],
            [
             0.7777777777777778,
             "#fb9f3a"
            ],
            [
             0.8888888888888888,
             "#fdca26"
            ],
            [
             1,
             "#f0f921"
            ]
           ]
          },
          "colorway": [
           "#636efa",
           "#EF553B",
           "#00cc96",
           "#ab63fa",
           "#FFA15A",
           "#19d3f3",
           "#FF6692",
           "#B6E880",
           "#FF97FF",
           "#FECB52"
          ],
          "font": {
           "color": "#2a3f5f"
          },
          "geo": {
           "bgcolor": "white",
           "lakecolor": "white",
           "landcolor": "#E5ECF6",
           "showlakes": true,
           "showland": true,
           "subunitcolor": "white"
          },
          "hoverlabel": {
           "align": "left"
          },
          "hovermode": "closest",
          "mapbox": {
           "style": "light"
          },
          "paper_bgcolor": "white",
          "plot_bgcolor": "#E5ECF6",
          "polar": {
           "angularaxis": {
            "gridcolor": "white",
            "linecolor": "white",
            "ticks": ""
           },
           "bgcolor": "#E5ECF6",
           "radialaxis": {
            "gridcolor": "white",
            "linecolor": "white",
            "ticks": ""
           }
          },
          "scene": {
           "xaxis": {
            "backgroundcolor": "#E5ECF6",
            "gridcolor": "white",
            "gridwidth": 2,
            "linecolor": "white",
            "showbackground": true,
            "ticks": "",
            "zerolinecolor": "white"
           },
           "yaxis": {
            "backgroundcolor": "#E5ECF6",
            "gridcolor": "white",
            "gridwidth": 2,
            "linecolor": "white",
            "showbackground": true,
            "ticks": "",
            "zerolinecolor": "white"
           },
           "zaxis": {
            "backgroundcolor": "#E5ECF6",
            "gridcolor": "white",
            "gridwidth": 2,
            "linecolor": "white",
            "showbackground": true,
            "ticks": "",
            "zerolinecolor": "white"
           }
          },
          "shapedefaults": {
           "line": {
            "color": "#2a3f5f"
           }
          },
          "ternary": {
           "aaxis": {
            "gridcolor": "white",
            "linecolor": "white",
            "ticks": ""
           },
           "baxis": {
            "gridcolor": "white",
            "linecolor": "white",
            "ticks": ""
           },
           "bgcolor": "#E5ECF6",
           "caxis": {
            "gridcolor": "white",
            "linecolor": "white",
            "ticks": ""
           }
          },
          "title": {
           "x": 0.05
          },
          "xaxis": {
           "automargin": true,
           "gridcolor": "white",
           "linecolor": "white",
           "ticks": "",
           "title": {
            "standoff": 15
           },
           "zerolinecolor": "white",
           "zerolinewidth": 2
          },
          "yaxis": {
           "automargin": true,
           "gridcolor": "white",
           "linecolor": "white",
           "ticks": "",
           "title": {
            "standoff": 15
           },
           "zerolinecolor": "white",
           "zerolinewidth": 2
          }
         }
        },
        "title": {
         "text": "Воронка событий"
        },
        "width": 900
       }
      },
      "text/html": [
       "<div>                            <div id=\"a33e5dc7-786d-4905-892a-3410b4509c8c\" class=\"plotly-graph-div\" style=\"height:500px; width:900px;\"></div>            <script type=\"text/javascript\">                require([\"plotly\"], function(Plotly) {                    window.PLOTLYENV=window.PLOTLYENV || {};                                    if (document.getElementById(\"a33e5dc7-786d-4905-892a-3410b4509c8c\")) {                    Plotly.newPlot(                        \"a33e5dc7-786d-4905-892a-3410b4509c8c\",                        [{\"connector\":{\"line\":{\"color\":\"slategray\",\"dash\":\"dot\",\"width\":2}},\"marker\":{\"color\":[\"steelblue\",\"steelblue\",\"steelblue\",\"steelblue\"]},\"name\":\"all group\",\"opacity\":0.7,\"textinfo\":\"value+percent previous\",\"x\":[7419,4593,3734,3539],\"y\":[\"MainScreenAppear\",\"OffersScreenAppear\",\"CartScreenAppear\",\"PaymentScreenSuccessful\"],\"type\":\"funnel\"},{\"connector\":{\"line\":{\"color\":\"slategray\",\"dash\":\"dot\",\"width\":2}},\"marker\":{\"color\":[\"peru\",\"peru\",\"peru\",\"peru\"]},\"name\":\"246 group\",\"opacity\":0.7,\"orientation\":\"h\",\"textinfo\":\"value+percent previous\",\"x\":[2450,1542,1266,1200],\"y\":[\"MainScreenAppear\",\"OffersScreenAppear\",\"CartScreenAppear\",\"PaymentScreenSuccessful\"],\"type\":\"funnel\"},{\"connector\":{\"line\":{\"color\":\"slategray\",\"dash\":\"dot\",\"width\":2}},\"marker\":{\"color\":[\"seagreen\",\"seagreen\",\"seagreen\",\"seagreen\"]},\"name\":\"247 group\",\"opacity\":0.7,\"orientation\":\"h\",\"textinfo\":\"value+percent previous\",\"textposition\":\"inside\",\"x\":[2476,1520,1238,1158],\"y\":[\"MainScreenAppear\",\"OffersScreenAppear\",\"CartScreenAppear\",\"PaymentScreenSuccessful\"],\"type\":\"funnel\"},{\"connector\":{\"line\":{\"color\":\"slategray\",\"dash\":\"dot\",\"width\":2}},\"marker\":{\"color\":[\"firebrick\",\"firebrick\",\"firebrick\",\"firebrick\"]},\"name\":\"248 group\",\"opacity\":0.7,\"orientation\":\"h\",\"textinfo\":\"value+percent previous\",\"textposition\":\"inside\",\"x\":[2493,1531,1230,1181],\"y\":[\"MainScreenAppear\",\"OffersScreenAppear\",\"CartScreenAppear\",\"PaymentScreenSuccessful\"],\"type\":\"funnel\"}],                        {\"template\":{\"data\":{\"bar\":[{\"error_x\":{\"color\":\"#2a3f5f\"},\"error_y\":{\"color\":\"#2a3f5f\"},\"marker\":{\"line\":{\"color\":\"#E5ECF6\",\"width\":0.5},\"pattern\":{\"fillmode\":\"overlay\",\"size\":10,\"solidity\":0.2}},\"type\":\"bar\"}],\"barpolar\":[{\"marker\":{\"line\":{\"color\":\"#E5ECF6\",\"width\":0.5},\"pattern\":{\"fillmode\":\"overlay\",\"size\":10,\"solidity\":0.2}},\"type\":\"barpolar\"}],\"carpet\":[{\"aaxis\":{\"endlinecolor\":\"#2a3f5f\",\"gridcolor\":\"white\",\"linecolor\":\"white\",\"minorgridcolor\":\"white\",\"startlinecolor\":\"#2a3f5f\"},\"baxis\":{\"endlinecolor\":\"#2a3f5f\",\"gridcolor\":\"white\",\"linecolor\":\"white\",\"minorgridcolor\":\"white\",\"startlinecolor\":\"#2a3f5f\"},\"type\":\"carpet\"}],\"choropleth\":[{\"colorbar\":{\"outlinewidth\":0,\"ticks\":\"\"},\"type\":\"choropleth\"}],\"contour\":[{\"colorbar\":{\"outlinewidth\":0,\"ticks\":\"\"},\"colorscale\":[[0.0,\"#0d0887\"],[0.1111111111111111,\"#46039f\"],[0.2222222222222222,\"#7201a8\"],[0.3333333333333333,\"#9c179e\"],[0.4444444444444444,\"#bd3786\"],[0.5555555555555556,\"#d8576b\"],[0.6666666666666666,\"#ed7953\"],[0.7777777777777778,\"#fb9f3a\"],[0.8888888888888888,\"#fdca26\"],[1.0,\"#f0f921\"]],\"type\":\"contour\"}],\"contourcarpet\":[{\"colorbar\":{\"outlinewidth\":0,\"ticks\":\"\"},\"type\":\"contourcarpet\"}],\"heatmap\":[{\"colorbar\":{\"outlinewidth\":0,\"ticks\":\"\"},\"colorscale\":[[0.0,\"#0d0887\"],[0.1111111111111111,\"#46039f\"],[0.2222222222222222,\"#7201a8\"],[0.3333333333333333,\"#9c179e\"],[0.4444444444444444,\"#bd3786\"],[0.5555555555555556,\"#d8576b\"],[0.6666666666666666,\"#ed7953\"],[0.7777777777777778,\"#fb9f3a\"],[0.8888888888888888,\"#fdca26\"],[1.0,\"#f0f921\"]],\"type\":\"heatmap\"}],\"heatmapgl\":[{\"colorbar\":{\"outlinewidth\":0,\"ticks\":\"\"},\"colorscale\":[[0.0,\"#0d0887\"],[0.1111111111111111,\"#46039f\"],[0.2222222222222222,\"#7201a8\"],[0.3333333333333333,\"#9c179e\"],[0.4444444444444444,\"#bd3786\"],[0.5555555555555556,\"#d8576b\"],[0.6666666666666666,\"#ed7953\"],[0.7777777777777778,\"#fb9f3a\"],[0.8888888888888888,\"#fdca26\"],[1.0,\"#f0f921\"]],\"type\":\"heatmapgl\"}],\"histogram\":[{\"marker\":{\"pattern\":{\"fillmode\":\"overlay\",\"size\":10,\"solidity\":0.2}},\"type\":\"histogram\"}],\"histogram2d\":[{\"colorbar\":{\"outlinewidth\":0,\"ticks\":\"\"},\"colorscale\":[[0.0,\"#0d0887\"],[0.1111111111111111,\"#46039f\"],[0.2222222222222222,\"#7201a8\"],[0.3333333333333333,\"#9c179e\"],[0.4444444444444444,\"#bd3786\"],[0.5555555555555556,\"#d8576b\"],[0.6666666666666666,\"#ed7953\"],[0.7777777777777778,\"#fb9f3a\"],[0.8888888888888888,\"#fdca26\"],[1.0,\"#f0f921\"]],\"type\":\"histogram2d\"}],\"histogram2dcontour\":[{\"colorbar\":{\"outlinewidth\":0,\"ticks\":\"\"},\"colorscale\":[[0.0,\"#0d0887\"],[0.1111111111111111,\"#46039f\"],[0.2222222222222222,\"#7201a8\"],[0.3333333333333333,\"#9c179e\"],[0.4444444444444444,\"#bd3786\"],[0.5555555555555556,\"#d8576b\"],[0.6666666666666666,\"#ed7953\"],[0.7777777777777778,\"#fb9f3a\"],[0.8888888888888888,\"#fdca26\"],[1.0,\"#f0f921\"]],\"type\":\"histogram2dcontour\"}],\"mesh3d\":[{\"colorbar\":{\"outlinewidth\":0,\"ticks\":\"\"},\"type\":\"mesh3d\"}],\"parcoords\":[{\"line\":{\"colorbar\":{\"outlinewidth\":0,\"ticks\":\"\"}},\"type\":\"parcoords\"}],\"pie\":[{\"automargin\":true,\"type\":\"pie\"}],\"scatter\":[{\"marker\":{\"colorbar\":{\"outlinewidth\":0,\"ticks\":\"\"}},\"type\":\"scatter\"}],\"scatter3d\":[{\"line\":{\"colorbar\":{\"outlinewidth\":0,\"ticks\":\"\"}},\"marker\":{\"colorbar\":{\"outlinewidth\":0,\"ticks\":\"\"}},\"type\":\"scatter3d\"}],\"scattercarpet\":[{\"marker\":{\"colorbar\":{\"outlinewidth\":0,\"ticks\":\"\"}},\"type\":\"scattercarpet\"}],\"scattergeo\":[{\"marker\":{\"colorbar\":{\"outlinewidth\":0,\"ticks\":\"\"}},\"type\":\"scattergeo\"}],\"scattergl\":[{\"marker\":{\"colorbar\":{\"outlinewidth\":0,\"ticks\":\"\"}},\"type\":\"scattergl\"}],\"scattermapbox\":[{\"marker\":{\"colorbar\":{\"outlinewidth\":0,\"ticks\":\"\"}},\"type\":\"scattermapbox\"}],\"scatterpolar\":[{\"marker\":{\"colorbar\":{\"outlinewidth\":0,\"ticks\":\"\"}},\"type\":\"scatterpolar\"}],\"scatterpolargl\":[{\"marker\":{\"colorbar\":{\"outlinewidth\":0,\"ticks\":\"\"}},\"type\":\"scatterpolargl\"}],\"scatterternary\":[{\"marker\":{\"colorbar\":{\"outlinewidth\":0,\"ticks\":\"\"}},\"type\":\"scatterternary\"}],\"surface\":[{\"colorbar\":{\"outlinewidth\":0,\"ticks\":\"\"},\"colorscale\":[[0.0,\"#0d0887\"],[0.1111111111111111,\"#46039f\"],[0.2222222222222222,\"#7201a8\"],[0.3333333333333333,\"#9c179e\"],[0.4444444444444444,\"#bd3786\"],[0.5555555555555556,\"#d8576b\"],[0.6666666666666666,\"#ed7953\"],[0.7777777777777778,\"#fb9f3a\"],[0.8888888888888888,\"#fdca26\"],[1.0,\"#f0f921\"]],\"type\":\"surface\"}],\"table\":[{\"cells\":{\"fill\":{\"color\":\"#EBF0F8\"},\"line\":{\"color\":\"white\"}},\"header\":{\"fill\":{\"color\":\"#C8D4E3\"},\"line\":{\"color\":\"white\"}},\"type\":\"table\"}]},\"layout\":{\"annotationdefaults\":{\"arrowcolor\":\"#2a3f5f\",\"arrowhead\":0,\"arrowwidth\":1},\"autotypenumbers\":\"strict\",\"coloraxis\":{\"colorbar\":{\"outlinewidth\":0,\"ticks\":\"\"}},\"colorscale\":{\"diverging\":[[0,\"#8e0152\"],[0.1,\"#c51b7d\"],[0.2,\"#de77ae\"],[0.3,\"#f1b6da\"],[0.4,\"#fde0ef\"],[0.5,\"#f7f7f7\"],[0.6,\"#e6f5d0\"],[0.7,\"#b8e186\"],[0.8,\"#7fbc41\"],[0.9,\"#4d9221\"],[1,\"#276419\"]],\"sequential\":[[0.0,\"#0d0887\"],[0.1111111111111111,\"#46039f\"],[0.2222222222222222,\"#7201a8\"],[0.3333333333333333,\"#9c179e\"],[0.4444444444444444,\"#bd3786\"],[0.5555555555555556,\"#d8576b\"],[0.6666666666666666,\"#ed7953\"],[0.7777777777777778,\"#fb9f3a\"],[0.8888888888888888,\"#fdca26\"],[1.0,\"#f0f921\"]],\"sequentialminus\":[[0.0,\"#0d0887\"],[0.1111111111111111,\"#46039f\"],[0.2222222222222222,\"#7201a8\"],[0.3333333333333333,\"#9c179e\"],[0.4444444444444444,\"#bd3786\"],[0.5555555555555556,\"#d8576b\"],[0.6666666666666666,\"#ed7953\"],[0.7777777777777778,\"#fb9f3a\"],[0.8888888888888888,\"#fdca26\"],[1.0,\"#f0f921\"]]},\"colorway\":[\"#636efa\",\"#EF553B\",\"#00cc96\",\"#ab63fa\",\"#FFA15A\",\"#19d3f3\",\"#FF6692\",\"#B6E880\",\"#FF97FF\",\"#FECB52\"],\"font\":{\"color\":\"#2a3f5f\"},\"geo\":{\"bgcolor\":\"white\",\"lakecolor\":\"white\",\"landcolor\":\"#E5ECF6\",\"showlakes\":true,\"showland\":true,\"subunitcolor\":\"white\"},\"hoverlabel\":{\"align\":\"left\"},\"hovermode\":\"closest\",\"mapbox\":{\"style\":\"light\"},\"paper_bgcolor\":\"white\",\"plot_bgcolor\":\"#E5ECF6\",\"polar\":{\"angularaxis\":{\"gridcolor\":\"white\",\"linecolor\":\"white\",\"ticks\":\"\"},\"bgcolor\":\"#E5ECF6\",\"radialaxis\":{\"gridcolor\":\"white\",\"linecolor\":\"white\",\"ticks\":\"\"}},\"scene\":{\"xaxis\":{\"backgroundcolor\":\"#E5ECF6\",\"gridcolor\":\"white\",\"gridwidth\":2,\"linecolor\":\"white\",\"showbackground\":true,\"ticks\":\"\",\"zerolinecolor\":\"white\"},\"yaxis\":{\"backgroundcolor\":\"#E5ECF6\",\"gridcolor\":\"white\",\"gridwidth\":2,\"linecolor\":\"white\",\"showbackground\":true,\"ticks\":\"\",\"zerolinecolor\":\"white\"},\"zaxis\":{\"backgroundcolor\":\"#E5ECF6\",\"gridcolor\":\"white\",\"gridwidth\":2,\"linecolor\":\"white\",\"showbackground\":true,\"ticks\":\"\",\"zerolinecolor\":\"white\"}},\"shapedefaults\":{\"line\":{\"color\":\"#2a3f5f\"}},\"ternary\":{\"aaxis\":{\"gridcolor\":\"white\",\"linecolor\":\"white\",\"ticks\":\"\"},\"baxis\":{\"gridcolor\":\"white\",\"linecolor\":\"white\",\"ticks\":\"\"},\"bgcolor\":\"#E5ECF6\",\"caxis\":{\"gridcolor\":\"white\",\"linecolor\":\"white\",\"ticks\":\"\"}},\"title\":{\"x\":0.05},\"xaxis\":{\"automargin\":true,\"gridcolor\":\"white\",\"linecolor\":\"white\",\"ticks\":\"\",\"title\":{\"standoff\":15},\"zerolinecolor\":\"white\",\"zerolinewidth\":2},\"yaxis\":{\"automargin\":true,\"gridcolor\":\"white\",\"linecolor\":\"white\",\"ticks\":\"\",\"title\":{\"standoff\":15},\"zerolinecolor\":\"white\",\"zerolinewidth\":2}}},\"title\":{\"text\":\"\\u0412\\u043e\\u0440\\u043e\\u043d\\u043a\\u0430 \\u0441\\u043e\\u0431\\u044b\\u0442\\u0438\\u0439\"},\"width\":900,\"height\":500},                        {\"responsive\": true}                    ).then(function(){\n",
       "                            \n",
       "var gd = document.getElementById('a33e5dc7-786d-4905-892a-3410b4509c8c');\n",
       "var x = new MutationObserver(function (mutations, observer) {{\n",
       "        var display = window.getComputedStyle(gd).display;\n",
       "        if (!display || display === 'none') {{\n",
       "            console.log([gd, 'removed!']);\n",
       "            Plotly.purge(gd);\n",
       "            observer.disconnect();\n",
       "        }}\n",
       "}});\n",
       "\n",
       "// Listen for the removal of the full notebook cells\n",
       "var notebookContainer = gd.closest('#notebook-container');\n",
       "if (notebookContainer) {{\n",
       "    x.observe(notebookContainer, {childList: true});\n",
       "}}\n",
       "\n",
       "// Listen for the clearing of the current output cell\n",
       "var outputEl = gd.closest('.output');\n",
       "if (outputEl) {{\n",
       "    x.observe(outputEl, {childList: true});\n",
       "}}\n",
       "\n",
       "                        })                };                });            </script>        </div>"
      ]
     },
     "metadata": {},
     "output_type": "display_data"
    },
    {
     "data": {
      "image/png": "[encoded data removed]"
     },
     "metadata": {},
     "output_type": "display_data"
    }
   ],
   "source": [
    "fig = go.Figure()\n",
    "#добавлен заголовок\n",
    "fig.update_layout(\n",
    "    title={'text': \"Воронка событий\"},\n",
    "    width=900,\n",
    "    height=500)\n",
    "\n",
    "fig.add_trace(go.Funnel(\n",
    "    name = 'all group',\n",
    "    y = event_unique_new.reset_index()['event_name'].tolist(),\n",
    "    x = event_unique_new.reset_index()['count_users'].tolist(),\n",
    "    textinfo = 'value+percent previous',\n",
    "    opacity = 0.7, marker = {'color': ['steelblue', 'steelblue', 'steelblue', 'steelblue']},\n",
    "    connector = {'line': {'color': 'slategray', 'dash': 'dot', 'width': 2}}))\n",
    "\n",
    "fig.add_trace(go.Funnel(\n",
    "    name = '246 group',\n",
    "    orientation = 'h',\n",
    "    y = event_unique_group[event_unique_group['group']== 246]['event_name'].tolist(),\n",
    "    x = event_unique_group[event_unique_group['group']== 246]['device_id'].tolist(),\n",
    "    textinfo = 'value+percent previous',\n",
    "    opacity = 0.7, marker = {'color': ['peru', 'peru', 'peru', 'peru']},\n",
    "    connector = {'line': {'color': 'slategray', 'dash': 'dot', 'width': 2}}))\n",
    "\n",
    "fig.add_trace(go.Funnel(\n",
    "    name = '247 group',\n",
    "    orientation = 'h',\n",
    "    y = event_unique_group[event_unique_group['group']== 247]['event_name'].tolist(),\n",
    "    x = event_unique_group[event_unique_group['group']== 247]['device_id'].tolist(),\n",
    "    textposition = 'inside',\n",
    "    textinfo = 'value+percent previous',\n",
    "    opacity = 0.7, marker = {'color': ['seagreen', 'seagreen', 'seagreen', 'seagreen']},\n",
    "    connector = {'line': {'color': 'slategray', 'dash': 'dot', 'width': 2}}))\n",
    "\n",
    "fig.add_trace(go.Funnel(\n",
    "    name = '248 group',\n",
    "    orientation = 'h',\n",
    "    y = event_unique_group[event_unique_group['group']== 248]['event_name'].tolist(),\n",
    "    x = event_unique_group[event_unique_group['group']== 248]['device_id'].tolist(),\n",
    "    textposition = 'inside',\n",
    "    textinfo = 'value+percent previous',\n",
    "    opacity = 0.7, marker = {'color': ['firebrick', 'firebrick', 'firebrick', 'firebrick']},\n",
    "    connector = {'line': {'color': 'slategray', 'dash': 'dot', 'width': 2}}))\n",
    "\n",
    "fig.show()\n",
    "fig.show(\"png\")"
   ]
  },
  {
   "cell_type": "markdown",
   "metadata": {},
   "source": [
    "По составленным данным в таблице и диаграмме можно сказать, что\n",
    "\n",
    "в среднем 62% пользователей проходят на шаг 'OffersScreenAppear' воронки событий от 'MainScreenAppear';\n",
    "\n",
    "\n",
    "от события 'OffersScreenAppear' к событию 'CartScreenAppear' в среднем проходит 81% пользователей;\n",
    "\n",
    "\n",
    "наибольший процент пользователей проходят от события 'CartScreenAppear' к событию 'PaymentScreenSuccessful', в среднем это 95% пользователей;"
   ]
  },
  {
   "cell_type": "markdown",
   "metadata": {},
   "source": [
    "#### На каком шаге теряете больше всего пользователей?\n",
    "<a id=\"funnel5\"></a>"
   ]
  },
  {
   "cell_type": "code",
   "execution_count": 31,
   "metadata": {},
   "outputs": [
    {
     "data": {
      "image/png": "[encoded data removed]",
      "text/plain": [
       "<Figure size 1000x500 with 1 Axes>"
      ]
     },
     "metadata": {},
     "output_type": "display_data"
    }
   ],
   "source": [
    "plt.figure(figsize=(10,5))\n",
    "sns.pointplot(\n",
    "    x=event_unique_new.index, \n",
    "    y=event_unique_new['share_next_event'])\n",
    "plt.ylim(0.5, 1.1);\n",
    "plt.title(r'Диаграмма относительного изменения между предыдущим и последующим событием', fontsize=11, fontweight='heavy')\n",
    "plt.xlabel('событие')\n",
    "plt.ylabel(r'относительное изменение между событиями');\n",
    "\n",
    "plt.show()"
   ]
  },
  {
   "cell_type": "markdown",
   "metadata": {},
   "source": [
    "На основании построенных выше воронки событий и графика относительного изменения между событиями можно с уверенностью сказать, что на шаге от 'MainScreenAppear' к 'OffersScreenAppear' теряется набольший процент пользователей. \n",
    "\n",
    "В группе 246 теряется около 37% пользователей, что на 2% меньше, чем у групп 247 и 248.\n",
    "\n",
    "В сумме по всем группам на шаг 'OffersScreenAppear' не переходит 2826 пользователя или 38%."
   ]
  },
  {
   "cell_type": "markdown",
   "metadata": {},
   "source": [
    "#### Какая доля пользователей доходит от первого события до оплаты?\n",
    "<a id=\"funnel6\"></a>"
   ]
  },
  {
   "cell_type": "code",
   "execution_count": 32,
   "metadata": {},
   "outputs": [
    {
     "name": "stdout",
     "output_type": "stream",
     "text": [
      "Доля пользователей, проходящих от первого события до оплаты: 47.7 %\n"
     ]
    }
   ],
   "source": [
    "event_unique_new\n",
    "print('Доля пользователей, проходящих от первого события до оплаты:',\n",
    "      round(event_unique_new['count_users'].iloc[-1]/event_unique_new['count_users'].iloc[0] * 100, 2),\n",
    "      '%'\n",
    ")"
   ]
  },
  {
   "cell_type": "markdown",
   "metadata": {},
   "source": [
    "**Выводы по разделу:**\n",
    "\n",
    "- Самым многочисленным событием является 'MainScreenAppear'. Самым немногочисленным событием является 'Tutorial'.\n",
    "\n",
    "\n",
    "- событие 'MainScreenAppear' совершили 98,47% пользователей, событие 'OffersScreenAppear' - 60,96% пользователей; события 'CartScreenAppear' и 'PaymentScreenSuccessful' совершают еще меньшее количество людей, 49,56% и 46,97%, соответственно;\n",
    "\n",
    "\n",
    "- На шаге от 'MainScreenAppear' к 'OffersScreenAppear' теряется набольший процент пользователей.\n",
    "\n",
    "- Доля пользователей, проходящих от первого события до оплаты: 47.7 %."
   ]
  },
  {
   "cell_type": "markdown",
   "metadata": {},
   "source": [
    "### Изучите результаты эксперимента\n",
    "<a id=\"analysis\"></a> "
   ]
  },
  {
   "cell_type": "markdown",
   "metadata": {},
   "source": [
    "#### Сколько пользователей в каждой экспериментальной группе?\n",
    "<a id=\"analysis1\"></a> "
   ]
  },
  {
   "cell_type": "code",
   "execution_count": 33,
   "metadata": {},
   "outputs": [
    {
     "name": "stdout",
     "output_type": "stream",
     "text": [
      "Количество уникальных пользователей: 7530\n"
     ]
    }
   ],
   "source": [
    "#найдем общее количество всех уникальных пользователей перед началом тестирования\n",
    "print(\n",
    "    'Количество уникальных пользователей:',\n",
    "    data_filtr['device_id'].nunique()\n",
    ")"
   ]
  },
  {
   "cell_type": "code",
   "execution_count": 34,
   "metadata": {},
   "outputs": [
    {
     "data": {
      "text/html": [
       "<div>\n",
       "<style scoped>\n",
       "    .dataframe tbody tr th:only-of-type {\n",
       "        vertical-align: middle;\n",
       "    }\n",
       "\n",
       "    .dataframe tbody tr th {\n",
       "        vertical-align: top;\n",
       "    }\n",
       "\n",
       "    .dataframe thead th {\n",
       "        text-align: right;\n",
       "    }\n",
       "</style>\n",
       "<table border=\"1\" class=\"dataframe\">\n",
       "  <thead>\n",
       "    <tr style=\"text-align: right;\">\n",
       "      <th></th>\n",
       "      <th>AllUsersUnique</th>\n",
       "    </tr>\n",
       "    <tr>\n",
       "      <th>group</th>\n",
       "      <th></th>\n",
       "    </tr>\n",
       "  </thead>\n",
       "  <tbody>\n",
       "    <tr>\n",
       "      <th>246</th>\n",
       "      <td>2483</td>\n",
       "    </tr>\n",
       "    <tr>\n",
       "      <th>247</th>\n",
       "      <td>2512</td>\n",
       "    </tr>\n",
       "    <tr>\n",
       "      <th>248</th>\n",
       "      <td>2535</td>\n",
       "    </tr>\n",
       "  </tbody>\n",
       "</table>\n",
       "</div>"
      ],
      "text/plain": [
       "       AllUsersUnique\n",
       "group                \n",
       "246              2483\n",
       "247              2512\n",
       "248              2535"
      ]
     },
     "execution_count": 34,
     "metadata": {},
     "output_type": "execute_result"
    }
   ],
   "source": [
    "data_filtr.groupby('group').agg(AllUsersUnique=('device_id', 'nunique'))"
   ]
  },
  {
   "cell_type": "markdown",
   "metadata": {},
   "source": [
    "#### Есть 2 контрольные группы для А/А-эксперимента, чтобы проверить корректность всех механизмов и расчётов. Проверьте, находят ли статистические критерии разницу между выборками 246 и 247.\n",
    "<a id=\"analysis2\"></a> "
   ]
  },
  {
   "cell_type": "code",
   "execution_count": 35,
   "metadata": {},
   "outputs": [
    {
     "data": {
      "text/html": [
       "<div>\n",
       "<style scoped>\n",
       "    .dataframe tbody tr th:only-of-type {\n",
       "        vertical-align: middle;\n",
       "    }\n",
       "\n",
       "    .dataframe tbody tr th {\n",
       "        vertical-align: top;\n",
       "    }\n",
       "\n",
       "    .dataframe thead th {\n",
       "        text-align: right;\n",
       "    }\n",
       "</style>\n",
       "<table border=\"1\" class=\"dataframe\">\n",
       "  <thead>\n",
       "    <tr style=\"text-align: right;\">\n",
       "      <th></th>\n",
       "      <th>event_name</th>\n",
       "      <th>A</th>\n",
       "      <th>A1</th>\n",
       "      <th>B</th>\n",
       "      <th>A+A1</th>\n",
       "      <th>share_A</th>\n",
       "      <th>share_A1</th>\n",
       "      <th>share_B</th>\n",
       "      <th>share_A+A1</th>\n",
       "    </tr>\n",
       "  </thead>\n",
       "  <tbody>\n",
       "    <tr>\n",
       "      <th>0</th>\n",
       "      <td>AllUsersUnique</td>\n",
       "      <td>2483</td>\n",
       "      <td>2512</td>\n",
       "      <td>2535</td>\n",
       "      <td>4995</td>\n",
       "      <td>1.00</td>\n",
       "      <td>1.00</td>\n",
       "      <td>1.00</td>\n",
       "      <td>1.00</td>\n",
       "    </tr>\n",
       "    <tr>\n",
       "      <th>1</th>\n",
       "      <td>MainScreenAppear</td>\n",
       "      <td>2450</td>\n",
       "      <td>2476</td>\n",
       "      <td>2493</td>\n",
       "      <td>4926</td>\n",
       "      <td>0.99</td>\n",
       "      <td>0.99</td>\n",
       "      <td>0.98</td>\n",
       "      <td>0.99</td>\n",
       "    </tr>\n",
       "    <tr>\n",
       "      <th>2</th>\n",
       "      <td>OffersScreenAppear</td>\n",
       "      <td>1542</td>\n",
       "      <td>1520</td>\n",
       "      <td>1531</td>\n",
       "      <td>3062</td>\n",
       "      <td>0.62</td>\n",
       "      <td>0.61</td>\n",
       "      <td>0.60</td>\n",
       "      <td>0.61</td>\n",
       "    </tr>\n",
       "    <tr>\n",
       "      <th>3</th>\n",
       "      <td>CartScreenAppear</td>\n",
       "      <td>1266</td>\n",
       "      <td>1238</td>\n",
       "      <td>1230</td>\n",
       "      <td>2504</td>\n",
       "      <td>0.51</td>\n",
       "      <td>0.49</td>\n",
       "      <td>0.49</td>\n",
       "      <td>0.50</td>\n",
       "    </tr>\n",
       "    <tr>\n",
       "      <th>4</th>\n",
       "      <td>PaymentScreenSuccessful</td>\n",
       "      <td>1200</td>\n",
       "      <td>1158</td>\n",
       "      <td>1181</td>\n",
       "      <td>2358</td>\n",
       "      <td>0.48</td>\n",
       "      <td>0.46</td>\n",
       "      <td>0.47</td>\n",
       "      <td>0.47</td>\n",
       "    </tr>\n",
       "  </tbody>\n",
       "</table>\n",
       "</div>"
      ],
      "text/plain": [
       "                event_name     A    A1     B  A+A1  share_A  share_A1  \\\n",
       "0           AllUsersUnique  2483  2512  2535  4995     1.00      1.00   \n",
       "1         MainScreenAppear  2450  2476  2493  4926     0.99      0.99   \n",
       "2       OffersScreenAppear  1542  1520  1531  3062     0.62      0.61   \n",
       "3         CartScreenAppear  1266  1238  1230  2504     0.51      0.49   \n",
       "4  PaymentScreenSuccessful  1200  1158  1181  2358     0.48      0.46   \n",
       "\n",
       "   share_B  share_A+A1  \n",
       "0     1.00        1.00  \n",
       "1     0.98        0.99  \n",
       "2     0.60        0.61  \n",
       "3     0.49        0.50  \n",
       "4     0.47        0.47  "
      ]
     },
     "execution_count": 35,
     "metadata": {},
     "output_type": "execute_result"
    }
   ],
   "source": [
    "#Составим таблицу с количеством пользователей по событиям для каждой группы.\n",
    "\n",
    "#таблица с количеством уникальных пользователей по каждому событию на каждую группу\n",
    "event_users_unique = data_filtr.pivot_table(\n",
    "    columns='group', index='event_name', values='device_id', aggfunc=['nunique']\n",
    ").reset_index()\n",
    "event_users_unique.columns = ['event_name', 'A', 'A1', 'B']\n",
    "event_users_unique['A+A1'] = event_users_unique['A'] + event_users_unique['A1']\n",
    "\n",
    "#таблица с общим количеством уникальных пользователей в группе\n",
    "all_users_unique = data_filtr.groupby('group').agg(AllUsersUnique=('device_id', 'nunique')).T.reset_index()\n",
    "all_users_unique.columns = ['event_name', 'A', 'A1', 'B']\n",
    "all_users_unique['A+A1'] = all_users_unique['A'] + all_users_unique['A1']\n",
    "\n",
    "#объеденим полученные таблицы\n",
    "event_users_group = pd.concat([all_users_unique, event_users_unique]).sort_values('A', ascending=False).reset_index(drop=True)\n",
    "event_users_group['share_A'] = event_users_group['A'][1:5] / event_users_group['A'][0]\n",
    "event_users_group['share_A1'] =event_users_group['A1'][1:5] / event_users_group['A1'][0]\n",
    "event_users_group['share_B'] = event_users_group['B'][1:5] / event_users_group['B'][0]\n",
    "event_users_group['share_A+A1'] = event_users_group['A+A1'][1:5] / event_users_group['A+A1'][0]\n",
    "event_users_group = event_users_group.fillna(1)\n",
    "event_users_group"
   ]
  },
  {
   "cell_type": "markdown",
   "metadata": {},
   "source": [
    "Проверим, находят ли статистические критерии разницу между выборками 246 и 247 контрольной группой.\n",
    "\n",
    "\n",
    "Сформулируем гипотезы.\n",
    "\n",
    "**Нулевая гипотеза: Н0 = Различий между выборками 246 и 247 контрольной группой нет.**(для каждого события)\n",
    "\n",
    "**Альтернативная гипотеза: H_a: = Различия между выборками 246 и 247 контрольной группой есть.**(для каждого события)\n",
    "\n",
    "В качестве уровня критической значимости установим 0.05"
   ]
  },
  {
   "cell_type": "markdown",
   "metadata": {},
   "source": [
    "Посчитаем статистическую значимость для события 'MainScreenAppear'."
   ]
  },
  {
   "cell_type": "code",
   "execution_count": 36,
   "metadata": {},
   "outputs": [
    {
     "name": "stdout",
     "output_type": "stream",
     "text": [
      "p-значение:  0.7526703436483038\n",
      "Не получилось отвергнуть нулевую гипотезу, нет оснований считать доли разными\n"
     ]
    }
   ],
   "source": [
    "#добавлено \n",
    "#выделим необходимые строки столбца с помощью индекса и запишем значение в отдельные переменные\n",
    "s_1 = event_users_group.query('event_name == \"MainScreenAppear\"')['A'].iloc[0]\n",
    "s_2 = event_users_group.query('event_name == \"MainScreenAppear\"')['A1'].iloc[0]\n",
    "t_1 = event_users_group['A'].iloc[0]\n",
    "t_2 = event_users_group['A1'].iloc[0]\n",
    "\n",
    "\n",
    "alpha = .05 # критический уровень статистической значимости\n",
    "\n",
    "successes = [s_1, s_2]#внесем данные из таблицы - количество пользователей в группе А и А1 по событию 'MainScreenAppear'\n",
    "trials = [t_1, t_2]#всего пользователей в группе А и А1\n",
    "\n",
    "# пропорция успехов в первой группе:\n",
    "p1 = successes[0]/trials[0]\n",
    "\n",
    "# пропорция успехов во второй группе:\n",
    "p2 = successes[1]/trials[1]\n",
    "\n",
    "# пропорция успехов в комбинированном датасете:\n",
    "p_combined = (successes[0] + successes[1]) / (trials[0] + trials[1])\n",
    "\n",
    "# разница пропорций в датасетах\n",
    "difference = p1 - p2 \n",
    "\n",
    "# считаем статистику в ст.отклонениях стандартного нормального распределения\n",
    "z_value = difference / mth.sqrt(p_combined * (1 - p_combined) * (1/trials[0] + 1/trials[1]))\n",
    "\n",
    "# задаем стандартное нормальное распределение (среднее 0, ст.отклонение 1)\n",
    "distr = st.norm(0, 1)  \n",
    "\n",
    "p_value = (1 - distr.cdf(abs(z_value))) * 2\n",
    "\n",
    "print('p-значение: ', p_value)\n",
    "\n",
    "if p_value < alpha:\n",
    "    print('Отвергаем нулевую гипотезу: между долями есть значимая разница')\n",
    "else:\n",
    "    print(\n",
    "        'Не получилось отвергнуть нулевую гипотезу, нет оснований считать доли разными'\n",
    "    ) "
   ]
  },
  {
   "cell_type": "markdown",
   "metadata": {},
   "source": [
    "p-значение больше уровня критической значимости, следовательно, нулевую гипотезу \"Различий между выборками 246 и 247 контрольной группой нет\" относительно события 'MainScreenAppear' не отвергаем.\n",
    "\n",
    "Статистически значимых различий между контрольными группами нет."
   ]
  },
  {
   "cell_type": "markdown",
   "metadata": {},
   "source": [
    "#### Выберите самое популярное событие. Посчитайте число пользователей, совершивших это событие в каждой из контрольных групп. Посчитайте долю пользователей, совершивших это событие. Проверьте, будет ли отличие между группами статистически достоверным. Проделайте то же самое для всех других событий (удобно обернуть проверку в отдельную функцию). Можно ли сказать, что разбиение на группы работает корректно?\n",
    "<a id=\"analysis3\"></a> "
   ]
  },
  {
   "cell_type": "code",
   "execution_count": 37,
   "metadata": {},
   "outputs": [],
   "source": [
    "#создадим функцию для счетастатистической значимости для каждого события\n",
    "def statistical_significance (df, group_1, group_2, alpha):\n",
    "    event = ['MainScreenAppear', 'OffersScreenAppear', 'CartScreenAppear', 'PaymentScreenSuccessful']\n",
    "    for x in event:\n",
    "        event_df = df[df['event_name'] == x]\n",
    "        successes1 = event_df[group_1]\n",
    "        successes2 = event_df[group_2]\n",
    "        trials1 = df[group_1].iloc[0]\n",
    "        trials2 = df[group_2].iloc[0]\n",
    "\n",
    "        successes = np.array([successes1, successes2])\n",
    "        trials = np.array([trials1, trials2])\n",
    "\n",
    "# пропорция успехов в первой группе:\n",
    "        p1 = successes[0]/trials[0]\n",
    "\n",
    "# пропорция успехов во второй группе:\n",
    "        p2 = successes[1]/trials[1]\n",
    "    \n",
    "    # пропорция успехов в комбинированном датасете:\n",
    "        p_combined = (successes[0] + successes[1]) / (trials[0] + trials[1])\n",
    "\n",
    "# разница пропорций в датасетах\n",
    "        difference = p1 - p2 \n",
    "\n",
    "# считаем статистику в ст.отклонениях стандартного нормального распределения\n",
    "        z_value = difference / mth.sqrt(p_combined * (1 - p_combined) * (1/trials[0] + 1/trials[1]))\n",
    "\n",
    "# задаем стандартное нормальное распределение (среднее 0, ст.отклонение 1)\n",
    "        distr = st.norm(0, 1)  \n",
    "\n",
    "        p_value = (1 - distr.cdf(abs(z_value))) * 2\n",
    "\n",
    "        print('Между группами', group_1, 'и', group_2, 'По событию', x)\n",
    "        print('p-значение: ', p_value)\n",
    "        if p_value < alpha:\n",
    "            print('Отвергаем H0: между долями есть значимая разница')\n",
    "            print(' ')\n",
    "        else:\n",
    "            print('\\033[1m' + 'Не получилось отвергнуть H0: нет оснований считать доли разными' + '\\033[0m')\n",
    "            print(' ')"
   ]
  },
  {
   "cell_type": "markdown",
   "metadata": {},
   "source": [
    "Проверим, находят ли статистические критерии разницу между выборками 246 и 247 контрольной группой по каждому событию\n"
   ]
  },
  {
   "cell_type": "code",
   "execution_count": 38,
   "metadata": {},
   "outputs": [
    {
     "name": "stdout",
     "output_type": "stream",
     "text": [
      "Между группами A и A1 По событию MainScreenAppear\n",
      "p-значение:  [0.75267034]\n",
      "\u001b[1mНе получилось отвергнуть H0: нет оснований считать доли разными\u001b[0m\n",
      " \n",
      "Между группами A и A1 По событию OffersScreenAppear\n",
      "p-значение:  [0.24786097]\n",
      "\u001b[1mНе получилось отвергнуть H0: нет оснований считать доли разными\u001b[0m\n",
      " \n",
      "Между группами A и A1 По событию CartScreenAppear\n",
      "p-значение:  [0.22867644]\n",
      "\u001b[1mНе получилось отвергнуть H0: нет оснований считать доли разными\u001b[0m\n",
      " \n",
      "Между группами A и A1 По событию PaymentScreenSuccessful\n",
      "p-значение:  [0.11446628]\n",
      "\u001b[1mНе получилось отвергнуть H0: нет оснований считать доли разными\u001b[0m\n",
      " \n"
     ]
    }
   ],
   "source": [
    "statistical_significance(event_users_group, 'A', 'A1', alpha=.05)"
   ]
  },
  {
   "cell_type": "markdown",
   "metadata": {},
   "source": [
    "По каждому из событий p-значение больше уровня критической значимости, следовательно, нулевую гипотезу \"Различий между выборками 246 и 247 группы нет\" не отвергаем.\n",
    "\n",
    "**Статистически значимых различий между контрольными группами нет.**"
   ]
  },
  {
   "cell_type": "markdown",
   "metadata": {},
   "source": [
    "#### Аналогично поступите с группой с изменённым шрифтом. Сравните результаты с каждой из контрольных групп в отдельности по каждому событию. Сравните результаты с объединённой контрольной группой. Какие выводы из эксперимента можно сделать?\n",
    "<a id=\"analysis4\"></a> "
   ]
  },
  {
   "cell_type": "markdown",
   "metadata": {},
   "source": [
    "Проверим, находят ли статистические критерии разницу между выборками контрольной группой 246 и тестовой группой 248 по каждому событию\n",
    "\n",
    "\n",
    "Сформулируем гипотезы.\n",
    "\n",
    "**Нулевая гипотеза: Н0 = Различий между выборками контрольной группы 246 и тестовой группы 248 нет.**(для каждого события)\n",
    "\n",
    "**Альтернативная гипотеза: H_a: = Различия между выборками контрольной группы 246 и тестовой группы 248 есть.**(для каждого события)\n",
    "\n",
    "В качестве уровня критической значимости установим 0.05"
   ]
  },
  {
   "cell_type": "code",
   "execution_count": 39,
   "metadata": {},
   "outputs": [
    {
     "name": "stdout",
     "output_type": "stream",
     "text": [
      "Между группами A и B По событию MainScreenAppear\n",
      "p-значение:  [0.33871141]\n",
      "\u001b[1mНе получилось отвергнуть H0: нет оснований считать доли разными\u001b[0m\n",
      " \n",
      "Между группами A и B По событию OffersScreenAppear\n",
      "p-значение:  [0.21442477]\n",
      "\u001b[1mНе получилось отвергнуть H0: нет оснований считать доли разными\u001b[0m\n",
      " \n",
      "Между группами A и B По событию CartScreenAppear\n",
      "p-значение:  [0.08067368]\n",
      "\u001b[1mНе получилось отвергнуть H0: нет оснований считать доли разными\u001b[0m\n",
      " \n",
      "Между группами A и B По событию PaymentScreenSuccessful\n",
      "p-значение:  [0.21693034]\n",
      "\u001b[1mНе получилось отвергнуть H0: нет оснований считать доли разными\u001b[0m\n",
      " \n"
     ]
    }
   ],
   "source": [
    "statistical_significance(event_users_group, 'A', 'B', alpha=.05)"
   ]
  },
  {
   "cell_type": "markdown",
   "metadata": {},
   "source": [
    "По каждому из событий p-значение больше уровня критической значимости, следовательно, нулевую гипотезу \"Различий между выборками контрольной группы 246 и тестовой группы 248 нет\" не отвергаем.\n",
    "\n",
    "**Статистически значимых различий между контрольной группой 246 и тестовой группой 248 нет.**\n",
    "\n",
    "\n",
    "\n"
   ]
  },
  {
   "cell_type": "markdown",
   "metadata": {},
   "source": [
    "Проверим, находят ли статистические критерии разницу между выборками 247 и 248 группы по каждому событию\n",
    "\n",
    "\n",
    "Сформулируем гипотезы.\n",
    "\n",
    "**Нулевая гипотеза: Н0 = Различий между выборками контрольной группы 247 и тестовой группы 248 нет.**(для каждого события)\n",
    "\n",
    "**Альтернативная гипотеза: H_a: = Различия между выборками контрольной группы 247 и тестовой группы 248 есть.**(для каждого события)\n",
    "\n",
    "В качестве уровня критической значимости установим 0.05"
   ]
  },
  {
   "cell_type": "code",
   "execution_count": 40,
   "metadata": {},
   "outputs": [
    {
     "name": "stdout",
     "output_type": "stream",
     "text": [
      "Между группами A1 и B По событию MainScreenAppear\n",
      "p-значение:  [0.51949644]\n",
      "\u001b[1mНе получилось отвергнуть H0: нет оснований считать доли разными\u001b[0m\n",
      " \n",
      "Между группами A1 и B По событию OffersScreenAppear\n",
      "p-значение:  [0.93337513]\n",
      "\u001b[1mНе получилось отвергнуть H0: нет оснований считать доли разными\u001b[0m\n",
      " \n",
      "Между группами A1 и B По событию CartScreenAppear\n",
      "p-значение:  [0.58782846]\n",
      "\u001b[1mНе получилось отвергнуть H0: нет оснований считать доли разными\u001b[0m\n",
      " \n",
      "Между группами A1 и B По событию PaymentScreenSuccessful\n",
      "p-значение:  [0.72757187]\n",
      "\u001b[1mНе получилось отвергнуть H0: нет оснований считать доли разными\u001b[0m\n",
      " \n"
     ]
    }
   ],
   "source": [
    "statistical_significance(event_users_group, 'A1', 'B', alpha=.05)"
   ]
  },
  {
   "cell_type": "markdown",
   "metadata": {},
   "source": [
    "По каждому из событий p-значение больше уровня критической значимости, следовательно, нулевую гипотезу \"Различий между выборками 247 и 248 группы нет\" не отвергаем.\n",
    "\n",
    "**Статистически значимых различий между контрольной группой 247 и тестовой группой 248 нет.**"
   ]
  },
  {
   "cell_type": "markdown",
   "metadata": {},
   "source": [
    "Проверим, находят ли статистические критерии разницу между выборками контрольных групп и тестовой группы по каждому событию\n",
    "\n",
    "\n",
    "Сформулируем гипотезы.\n",
    "\n",
    "**Нулевая гипотеза: Н0 = Различий между выборками контрольных групп и тестовой группой нет.**(для каждого события)\n",
    "\n",
    "**Альтернативная гипотеза: H_a: = Различия между выборками контрольных групп и тестовой группой есть.**(для каждого события)\n",
    "\n",
    "В качестве уровня критической значимости установим 0.05"
   ]
  },
  {
   "cell_type": "code",
   "execution_count": 41,
   "metadata": {},
   "outputs": [
    {
     "name": "stdout",
     "output_type": "stream",
     "text": [
      "Между группами A+A1 и B По событию MainScreenAppear\n",
      "p-значение:  [0.34866843]\n",
      "\u001b[1mНе получилось отвергнуть H0: нет оснований считать доли разными\u001b[0m\n",
      " \n",
      "Между группами A+A1 и B По событию OffersScreenAppear\n",
      "p-значение:  [0.44582745]\n",
      "\u001b[1mНе получилось отвергнуть H0: нет оснований считать доли разными\u001b[0m\n",
      " \n",
      "Между группами A+A1 и B По событию CartScreenAppear\n",
      "p-значение:  [0.18683559]\n",
      "\u001b[1mНе получилось отвергнуть H0: нет оснований считать доли разными\u001b[0m\n",
      " \n",
      "Между группами A+A1 и B По событию PaymentScreenSuccessful\n",
      "p-значение:  [0.61079187]\n",
      "\u001b[1mНе получилось отвергнуть H0: нет оснований считать доли разными\u001b[0m\n",
      " \n"
     ]
    }
   ],
   "source": [
    "statistical_significance(event_users_group, 'A+A1', 'B', alpha=.05)"
   ]
  },
  {
   "cell_type": "markdown",
   "metadata": {},
   "source": [
    "По каждому из событий p-значение больше уровня критической значимости, следовательно, нулевую гипотезу \"Различий между выборками контрольных групп и тестовой группой нет\" не отвергаем.\n",
    "\n",
    "**Статистически значимых различий между контрольными группами и тестовой группой нет.**"
   ]
  },
  {
   "cell_type": "markdown",
   "metadata": {},
   "source": [
    "#### Какой уровень значимости вы выбрали при проверке статистических гипотез выше? Посчитайте, сколько проверок статистических гипотез вы сделали.\n",
    "<a id=\"analysis5\"></a> "
   ]
  },
  {
   "attachments": {
    "image-2.png": {
     "image/png": "[encoded data removed]"
    }
   },
   "cell_type": "markdown",
   "metadata": {},
   "source": [
    "**Чтобы снизить вероятность ложнопозитивного результата при множественном тестировании гипотез, применяют разные методы корректировки уровня значимости для уменьшения FWER(групповая вероятность ошибки первого рода).**\n",
    "\n",
    "В нашем исследовании применим метод Холма.\n",
    "\n",
    "- Метод Холма\n",
    "\n",
    "Метод Холма гарантирует FWER < ɑ, но предъявляет более мягкие требования к уровню значимости. Метод пошаговый: для первого сравнения требуемый уровень значимости равен отношению ɑ к числу попарных сравнений, для второго — отношению ɑ к (числу сравнений - 1) и так далее. Для последнего сравнения уровень значимости будет равен ɑ:\n",
    "\n",
    "![image-2.png](attachment:image-2.png)\n"
   ]
  },
  {
   "cell_type": "markdown",
   "metadata": {},
   "source": [
    "Для того, чтобы выявить статистически значимую разницу между тестовой и контролями группами исследовались 16 (4*4) гипотез:\n",
    "- сравнение первой контрольной группы 246 и 247 (по каждому из 4 событый); \n",
    "- сравнение первой контрольной группы 246 и тестовой группы (по каждому из 4 событый); \n",
    "- сравнение второй контрольной группы 247 и тестовой группы (по каждому из 4 событый); \n",
    "- сравнение объединённой контрольной группы и тестовой группы (по каждому из 4 событый).\n",
    "\n",
    "\n",
    "Проверим есть ли статистически значимые отличия, используя метод Холма."
   ]
  },
  {
   "cell_type": "code",
   "execution_count": 42,
   "metadata": {},
   "outputs": [],
   "source": [
    "#statistical_significance(event_users_group, 'A', 'B', alpha=.05/3)\n",
    "#print('-'*25)\n",
    "#statistical_significance(event_users_group, 'A1', 'B', alpha=.05/2)\n",
    "#print('-'*25)\n",
    "#statistical_significance(event_users_group, 'A+A1', 'B', alpha=.05)"
   ]
  },
  {
   "cell_type": "markdown",
   "metadata": {},
   "source": [
    "Дополню функцию параметром for_method. При значении True функция выведет список со списками значений p-value по каждому событию для указанных в параметрах group_1 и group_2 групп."
   ]
  },
  {
   "cell_type": "code",
   "execution_count": 43,
   "metadata": {},
   "outputs": [],
   "source": [
    "def statistical_significance (df, group_1, group_2, alpha, for_method=False):\n",
    "#создадим переменную в которую будут помещаться значения p-value при выполнении цикла    \n",
    "    p_v = []\n",
    "    event = ['MainScreenAppear', 'OffersScreenAppear', 'CartScreenAppear', 'PaymentScreenSuccessful']\n",
    "    for x in event:\n",
    "        event_df = df[df['event_name'] == x]\n",
    "        successes1 = event_df[group_1]\n",
    "        successes2 = event_df[group_2]\n",
    "        trials1 = df[group_1].iloc[0]\n",
    "        trials2 = df[group_2].iloc[0]\n",
    "\n",
    "        successes = np.array([successes1, successes2])\n",
    "        trials = np.array([trials1, trials2])\n",
    "\n",
    "        p1 = successes[0]/trials[0]\n",
    "        p2 = successes[1]/trials[1]\n",
    "    \n",
    "        p_combined = (successes[0] + successes[1]) / (trials[0] + trials[1])\n",
    "\n",
    "        difference = p1 - p2 \n",
    "\n",
    "        z_value = difference / mth.sqrt(p_combined * (1 - p_combined) * (1/trials[0] + 1/trials[1]))\n",
    "        \n",
    "        distr = st.norm(0, 1)  \n",
    "        p_value = (1 - distr.cdf(abs(z_value))) * 2\n",
    "        \n",
    "        p_v.append(p_value)#наполним список\n",
    "        \n",
    "#при значении False функция выведет необходимую информацию по тесту(без изменений)        \n",
    "        if for_method == False:  \n",
    "            print('Между группами', group_1, 'и', group_2, 'По событию', x)\n",
    "            print('p-значение: ', p_value)\n",
    "            if p_value < alpha:\n",
    "                print('Отвергаем H0: между долями есть значимая разница')\n",
    "                print(' ')\n",
    "            else:\n",
    "                print('\\033[1m' + 'Не получилось отвергнуть H0: нет оснований считать доли разными' + '\\033[0m')\n",
    "                print(' ')\n",
    "#при значении True функция выведет список со списками значений p-value по каждому событию\n",
    "    if for_method == True:\n",
    "        return p_v\n"
   ]
  },
  {
   "cell_type": "code",
   "execution_count": 44,
   "metadata": {},
   "outputs": [
    {
     "data": {
      "text/html": [
       "<div>\n",
       "<style scoped>\n",
       "    .dataframe tbody tr th:only-of-type {\n",
       "        vertical-align: middle;\n",
       "    }\n",
       "\n",
       "    .dataframe tbody tr th {\n",
       "        vertical-align: top;\n",
       "    }\n",
       "\n",
       "    .dataframe thead th {\n",
       "        text-align: right;\n",
       "    }\n",
       "</style>\n",
       "<table border=\"1\" class=\"dataframe\">\n",
       "  <thead>\n",
       "    <tr style=\"text-align: right;\">\n",
       "      <th></th>\n",
       "      <th>event_name</th>\n",
       "      <th>p-value</th>\n",
       "      <th>group</th>\n",
       "      <th>alpha_holm</th>\n",
       "      <th>p-value &lt; alpha_holm</th>\n",
       "    </tr>\n",
       "  </thead>\n",
       "  <tbody>\n",
       "    <tr>\n",
       "      <th>6</th>\n",
       "      <td>CartScreenAppear</td>\n",
       "      <td>0.08067</td>\n",
       "      <td>ab</td>\n",
       "      <td>0.003125</td>\n",
       "      <td>False</td>\n",
       "    </tr>\n",
       "    <tr>\n",
       "      <th>3</th>\n",
       "      <td>PaymentScreenSuccessful</td>\n",
       "      <td>0.1145</td>\n",
       "      <td>aa1</td>\n",
       "      <td>0.003333</td>\n",
       "      <td>False</td>\n",
       "    </tr>\n",
       "    <tr>\n",
       "      <th>14</th>\n",
       "      <td>CartScreenAppear</td>\n",
       "      <td>0.1868</td>\n",
       "      <td>aa1b</td>\n",
       "      <td>0.003571</td>\n",
       "      <td>False</td>\n",
       "    </tr>\n",
       "    <tr>\n",
       "      <th>5</th>\n",
       "      <td>OffersScreenAppear</td>\n",
       "      <td>0.2144</td>\n",
       "      <td>ab</td>\n",
       "      <td>0.003846</td>\n",
       "      <td>False</td>\n",
       "    </tr>\n",
       "    <tr>\n",
       "      <th>7</th>\n",
       "      <td>PaymentScreenSuccessful</td>\n",
       "      <td>0.2169</td>\n",
       "      <td>ab</td>\n",
       "      <td>0.004167</td>\n",
       "      <td>False</td>\n",
       "    </tr>\n",
       "    <tr>\n",
       "      <th>2</th>\n",
       "      <td>CartScreenAppear</td>\n",
       "      <td>0.2287</td>\n",
       "      <td>aa1</td>\n",
       "      <td>0.004545</td>\n",
       "      <td>False</td>\n",
       "    </tr>\n",
       "    <tr>\n",
       "      <th>1</th>\n",
       "      <td>OffersScreenAppear</td>\n",
       "      <td>0.2479</td>\n",
       "      <td>aa1</td>\n",
       "      <td>0.005</td>\n",
       "      <td>False</td>\n",
       "    </tr>\n",
       "    <tr>\n",
       "      <th>4</th>\n",
       "      <td>MainScreenAppear</td>\n",
       "      <td>0.3387</td>\n",
       "      <td>ab</td>\n",
       "      <td>0.005556</td>\n",
       "      <td>False</td>\n",
       "    </tr>\n",
       "    <tr>\n",
       "      <th>12</th>\n",
       "      <td>MainScreenAppear</td>\n",
       "      <td>0.3487</td>\n",
       "      <td>aa1b</td>\n",
       "      <td>0.00625</td>\n",
       "      <td>False</td>\n",
       "    </tr>\n",
       "    <tr>\n",
       "      <th>13</th>\n",
       "      <td>OffersScreenAppear</td>\n",
       "      <td>0.4458</td>\n",
       "      <td>aa1b</td>\n",
       "      <td>0.007143</td>\n",
       "      <td>False</td>\n",
       "    </tr>\n",
       "    <tr>\n",
       "      <th>8</th>\n",
       "      <td>MainScreenAppear</td>\n",
       "      <td>0.5195</td>\n",
       "      <td>a1b</td>\n",
       "      <td>0.008333</td>\n",
       "      <td>False</td>\n",
       "    </tr>\n",
       "    <tr>\n",
       "      <th>10</th>\n",
       "      <td>CartScreenAppear</td>\n",
       "      <td>0.5878</td>\n",
       "      <td>a1b</td>\n",
       "      <td>0.01</td>\n",
       "      <td>False</td>\n",
       "    </tr>\n",
       "    <tr>\n",
       "      <th>15</th>\n",
       "      <td>PaymentScreenSuccessful</td>\n",
       "      <td>0.6108</td>\n",
       "      <td>aa1b</td>\n",
       "      <td>0.0125</td>\n",
       "      <td>False</td>\n",
       "    </tr>\n",
       "    <tr>\n",
       "      <th>11</th>\n",
       "      <td>PaymentScreenSuccessful</td>\n",
       "      <td>0.7276</td>\n",
       "      <td>a1b</td>\n",
       "      <td>0.01667</td>\n",
       "      <td>False</td>\n",
       "    </tr>\n",
       "    <tr>\n",
       "      <th>0</th>\n",
       "      <td>MainScreenAppear</td>\n",
       "      <td>0.7527</td>\n",
       "      <td>aa1</td>\n",
       "      <td>0.025</td>\n",
       "      <td>False</td>\n",
       "    </tr>\n",
       "    <tr>\n",
       "      <th>9</th>\n",
       "      <td>OffersScreenAppear</td>\n",
       "      <td>0.9334</td>\n",
       "      <td>a1b</td>\n",
       "      <td>0.05</td>\n",
       "      <td>False</td>\n",
       "    </tr>\n",
       "  </tbody>\n",
       "</table>\n",
       "</div>"
      ],
      "text/plain": [
       "                 event_name  p-value group alpha_holm  p-value < alpha_holm\n",
       "6          CartScreenAppear  0.08067    ab   0.003125                 False\n",
       "3   PaymentScreenSuccessful   0.1145   aa1   0.003333                 False\n",
       "14         CartScreenAppear   0.1868  aa1b   0.003571                 False\n",
       "5        OffersScreenAppear   0.2144    ab   0.003846                 False\n",
       "7   PaymentScreenSuccessful   0.2169    ab   0.004167                 False\n",
       "2          CartScreenAppear   0.2287   aa1   0.004545                 False\n",
       "1        OffersScreenAppear   0.2479   aa1      0.005                 False\n",
       "4          MainScreenAppear   0.3387    ab   0.005556                 False\n",
       "12         MainScreenAppear   0.3487  aa1b    0.00625                 False\n",
       "13       OffersScreenAppear   0.4458  aa1b   0.007143                 False\n",
       "8          MainScreenAppear   0.5195   a1b   0.008333                 False\n",
       "10         CartScreenAppear   0.5878   a1b       0.01                 False\n",
       "15  PaymentScreenSuccessful   0.6108  aa1b     0.0125                 False\n",
       "11  PaymentScreenSuccessful   0.7276   a1b    0.01667                 False\n",
       "0          MainScreenAppear   0.7527   aa1      0.025                 False\n",
       "9        OffersScreenAppear   0.9334   a1b       0.05                 False"
      ]
     },
     "execution_count": 44,
     "metadata": {},
     "output_type": "execute_result"
    }
   ],
   "source": [
    "#применим функцию со значением True в параметре for_method для каждой комбинации групп\n",
    "#и изменим тип значений в списке с из массива array() на float\n",
    "p_aa1 = statistical_significance(event_users_group, 'A', 'A1', alpha=.05, for_method=True)\n",
    "p_aa1 = [float(p_aa1) for p_aa1 in p_aa1]\n",
    "\n",
    "p_ab = statistical_significance(event_users_group, 'A', 'B', alpha=.05, for_method=True)\n",
    "p_ab = [float(p_ab) for p_ab in p_ab]\n",
    "\n",
    "p_a1b = statistical_significance(event_users_group, 'A1', 'B', alpha=.05, for_method=True)\n",
    "p_a1b = [float(p_a1b) for p_a1b in p_a1b]\n",
    "\n",
    "p_aa1b = statistical_significance(event_users_group, 'A+A1', 'B', alpha=.05, for_method=True)\n",
    "p_aa1b = [float(p_aa1b) for p_aa1b in p_aa1b]\n",
    "\n",
    "#заполним список с названиями событий в том порядке, в котором события указаны в функции\n",
    "#сложим 4 раза списки в соответствии с кол-вом комбинаций\n",
    "list_event = ['MainScreenAppear', 'OffersScreenAppear', 'CartScreenAppear', 'PaymentScreenSuccessful']\n",
    "list_event = list_event + list_event + list_event + list_event\n",
    "\n",
    "#объеденим списки\n",
    "p_pd = p_aa1 + p_ab + p_a1b + p_aa1b\n",
    "\n",
    "#создадим на основе вышесоставленных объедененных списков таблицу\n",
    "my_df1 = pd.DataFrame(\n",
    "    {'event_name': list_event, 'p-value': p_pd, 'group': ['aa1', 'aa1', 'aa1', 'aa1',\n",
    "                                                                           'ab', 'ab', 'ab', 'ab',\n",
    "                                                                           'a1b', 'a1b', 'a1b', 'a1b',\n",
    "                                                                           'aa1b', 'aa1b', 'aa1b', 'aa1b']}\n",
    ").sort_values('p-value')\n",
    "\n",
    "#рассчитаем значение p-value для метода холмса(при p-value=0.05)\n",
    "p_value=0.05\n",
    "my_df1['alpha_holm'] = [p_value/(len(my_df1)-x) for x in range(16)]\n",
    "my_df1['alpha_holm'] = [f'{x:.4}' for x in my_df1['alpha_holm']]\n",
    "my_df1['p-value'] = [f'{x:.4}' for x in my_df1['p-value']]\n",
    "\n",
    "#создадим новый столбец результатом, если p-value < alpha_holm - H0 отвергаем, следовательно различия в группах есть,\n",
    "#если p-value > alpha_holm - нет остнований отвергать H0, следовательно, нет оснований считать доли разными\n",
    "my_df1['p-value < alpha_holm'] = my_df1['p-value'] < my_df1['alpha_holm']\n",
    "my_df1"
   ]
  },
  {
   "cell_type": "markdown",
   "metadata": {},
   "source": [
    "В результате созданной таблицы по каждому событию каждой из комбинаций групп (т.е. по кажой из 16 гипотез) p-значение с поправкой Холма идентичен предыдущим и больше уровня критической значимости, следовательно, нулевую гипотезу нет оснований отвергать все нулевые гипотезы."
   ]
  },
  {
   "cell_type": "code",
   "execution_count": 45,
   "metadata": {},
   "outputs": [
    {
     "name": "stdout",
     "output_type": "stream",
     "text": [
      "[0.08067367598823139, 0.11446627829276612, 0.18683558686831558, 0.21442476639710506, 0.21693033984516674, 0.22867643757335676, 0.24786096925282264, 0.3387114076159288, 0.3486684291093256, 0.44582745409482394, 0.5194964354051703, 0.5878284605111943, 0.6107918742187335, 0.7275718682261119, 0.7526703436483038, 0.9333751305879443]\n",
      " \n",
      "FWER: (array([False, False, False, False, False, False, False, False, False,\n",
      "       False, False, False, False, False, False, False]), array([1., 1., 1., 1., 1., 1., 1., 1., 1., 1., 1., 1., 1., 1., 1., 1.]), 0.0032006977101884937, 0.003125)\n"
     ]
    }
   ],
   "source": [
    "a_a1 = statistical_significance(event_users_group, 'A', 'A1', alpha=.05, for_method=True)\n",
    "a_b = statistical_significance(event_users_group, 'A', 'B', alpha=.05, for_method=True)\n",
    "a1_b = statistical_significance(event_users_group, 'A1', 'B', alpha=.05, for_method=True)\n",
    "a_a1_b = statistical_significance(event_users_group, 'A+A1', 'B', alpha=.05, for_method=True)\n",
    "\n",
    "ab = a_a1 + a_b + a1_b + a_a1_b\n",
    "a =[float(ab) for ab in ab]\n",
    "\n",
    "\n",
    "print(sorted(a))\n",
    "print(' ')\n",
    "print(\"FWER: \" + str(multipletests(sorted(a), alpha=0.05, \n",
    "                    method='holm', is_sorted = True)))"
   ]
  },
  {
   "cell_type": "markdown",
   "metadata": {},
   "source": [
    "В любом случае результаты не изменились, так как p-value по всем гипотезам было больше значения alpha=0.05, а при поправках значение alpha уменьшается. "
   ]
  },
  {
   "cell_type": "markdown",
   "metadata": {},
   "source": [
    "Результат с поправкой Холма идентичен предыдущим.\n",
    "\n",
    "Следовательно, можно сделать вывод, что **статистически значимых различий между контрольными группами и тестовой группой нет.**\n",
    "\n"
   ]
  },
  {
   "cell_type": "markdown",
   "metadata": {},
   "source": [
    "**Выводы по разделу**\n",
    "\n",
    "- в контрольной группе 246 при тестировании учувствует 2483 пользователей, в контрольной группе 247 - 2512 пользователя, в тестовой группе 248 - 2535 пользователя.\n",
    "\n",
    "- Статистически значимых различий между контрольными группами нет.\n",
    "\n",
    "- Статистически значимых различий между контрольной группой 246 и тестовой группой нет.\n",
    "\n",
    "- Статистически значимых различий между контрольной группой 247 и тестовой группой нет.\n",
    "\n",
    "- Статистически значимых различий между объединенной контрольной группой и тестовой группой нет.\n",
    "\n",
    "- После применения поправки Холма статистически значимых различий между контрольными и тестовой группами, также, обнаружено не было."
   ]
  },
  {
   "cell_type": "markdown",
   "metadata": {},
   "source": [
    "### Результаты исследования\n",
    "<a id=\"rec\"></a> "
   ]
  },
  {
   "cell_type": "markdown",
   "metadata": {},
   "source": [
    "Исследование проводилось по данным за период с 01.08.2019 по 07.08.2019.\n",
    "\n",
    "**В исследовании рассматривалось 5 уникальных событий ['Tutorial', 'MainScreenAppear', 'OffersScreenAppear', 'CartScreenAppear', 'PaymentScreenSuccessful'], исходя из которых была сформирована следующая воронка событий:**\n",
    "- MainScreenAppear - Появится главный экран\n",
    "- OffersScreenAppear - Появится экран предложений\n",
    "- CartScreenAppear - Появится экран корзины\n",
    "- PaymentScreenSuccessful - Экран оплаты прошел успешно\n",
    "    \n",
    "    Событие Tutorial рекомендательное и было принято решение в воронку его включать, так как его доля в общем объеме ничтожна.\n",
    "\n",
    "\n",
    "Так событие 'OffersScreenAppear' совершают 62% пользователей, событие 'CartScreenAppear' - 50% пользователей, событие 'PaymentScreenSuccessful' - 48% пользователей. Событие 'MainScreenAppear' совершили 98% пользователей. Также можно отметить, что 2% пользователей за весь временной интервал исследования не совершили данное действие. Возможно, у этих пользователей возникают каки-либо технические проблемы с приложением;\n",
    "\n",
    "В среднем 62% пользователей проходят на шаг 'OffersScreenAppear' воронки событий от 'MainScreenAppear'; к следующему событию 'CartScreenAppear' в среднем проходит 81% пользователей; наибольший процент пользователей проходит от события 'CartScreenAppear' к событию 'PaymentScreenSuccessful', в среднем это 95% пользователей;\n",
    "**Таким образом на шаге от 'MainScreenAppear' к 'OffersScreenAppear' теряется набольший процент пользователей - 38%.**\n",
    "\n",
    "Доля пользователей, проходящих от первого события до оплаты: 47.7 %.\n",
    "\n",
    "**Для проведения А/А/В тестирования в контрольной группе 246 учувствует 2483 пользователей, в контрольной группе 247 - 2512 пользователя, в тестовой группе 248 - 2535 пользователя.**\n",
    "\n",
    "При проверке между выборками двух контрольных групп статистически значимых различий выявлено не было.\n",
    "\n",
    "При исследовании контрольных и тестовых групп было составлено 16 гипотез:\n",
    "- сравнение первой контрольной группы 246 и 247 (по каждому из 4 событый); \n",
    "- сравнение первой контрольной группы 246 и тестовой группы (по каждому из 4 событый); \n",
    "- сравнение второй контрольной группы 247 и тестовой группы (по каждому из 4 событый); \n",
    "- сравнение объединённой контрольной группы и тестовой группы (по каждому из 4 событый).\n",
    "\n",
    "**По результатам А/В тестирования все гипотезы отвергнуты не были, а следовательно, значимых различий между контрольными и тестовой группами выявлено не было.**\n",
    "\n",
    "Также для снижения вероятности ложнопозитивного результата при множественном тестировании гипотез, был использован метод Холма. С поправками Холма различий между контрольными и тестовой группами, также, выявлено не было.\n",
    "\n",
    "**Таким образом результаты А/А/В тестирования не подтвердили эффективность какого-либо из шрифтов.**"
   ]
  }
 ],
 "metadata": {
  "ExecuteTimeLog": [
   {
    "duration": 4394,
    "start_time": "2023-05-26T15:04:21.239Z"
   },
   {
    "duration": 1175,
    "start_time": "2023-05-26T15:04:25.635Z"
   },
   {
    "duration": 154,
    "start_time": "2023-05-26T15:04:26.812Z"
   },
   {
    "duration": 10,
    "start_time": "2023-05-26T15:04:26.977Z"
   },
   {
    "duration": 128,
    "start_time": "2023-05-26T15:04:26.990Z"
   },
   {
    "duration": 10,
    "start_time": "2023-05-26T15:04:27.120Z"
   },
   {
    "duration": 4,
    "start_time": "2023-05-26T15:04:27.142Z"
   },
   {
    "duration": 95,
    "start_time": "2023-05-26T15:04:27.148Z"
   },
   {
    "duration": 4,
    "start_time": "2023-05-26T15:04:27.246Z"
   },
   {
    "duration": 30,
    "start_time": "2023-05-26T15:04:27.253Z"
   },
   {
    "duration": 5,
    "start_time": "2023-05-26T15:04:27.285Z"
   },
   {
    "duration": 73,
    "start_time": "2023-05-26T15:04:27.291Z"
   },
   {
    "duration": 8,
    "start_time": "2023-05-26T15:04:27.366Z"
   },
   {
    "duration": 10,
    "start_time": "2023-05-26T15:04:27.376Z"
   },
   {
    "duration": 82,
    "start_time": "2023-05-26T15:04:27.387Z"
   },
   {
    "duration": 7,
    "start_time": "2023-05-26T15:04:27.471Z"
   },
   {
    "duration": 384,
    "start_time": "2023-05-26T15:04:27.480Z"
   },
   {
    "duration": 13,
    "start_time": "2023-05-26T15:04:27.866Z"
   },
   {
    "duration": 12,
    "start_time": "2023-05-26T15:04:27.881Z"
   },
   {
    "duration": 12,
    "start_time": "2023-05-26T15:04:27.895Z"
   },
   {
    "duration": 111,
    "start_time": "2023-05-26T15:04:27.908Z"
   },
   {
    "duration": 77,
    "start_time": "2023-05-26T15:04:28.021Z"
   },
   {
    "duration": 45,
    "start_time": "2023-05-26T15:04:28.100Z"
   },
   {
    "duration": 252,
    "start_time": "2023-05-26T15:04:28.147Z"
   },
   {
    "duration": 297,
    "start_time": "2023-05-26T15:04:28.402Z"
   },
   {
    "duration": 43,
    "start_time": "2023-05-26T15:04:28.701Z"
   },
   {
    "duration": 4,
    "start_time": "2023-05-26T15:04:28.747Z"
   },
   {
    "duration": 487,
    "start_time": "2023-05-26T15:04:28.756Z"
   },
   {
    "duration": 19,
    "start_time": "2023-05-26T15:04:29.246Z"
   },
   {
    "duration": 83,
    "start_time": "2023-05-26T15:04:29.267Z"
   },
   {
    "duration": 231,
    "start_time": "2023-05-26T15:04:29.352Z"
   },
   {
    "duration": 5,
    "start_time": "2023-05-26T15:04:29.584Z"
   },
   {
    "duration": 12,
    "start_time": "2023-05-26T15:04:29.590Z"
   },
   {
    "duration": 63,
    "start_time": "2023-05-26T15:04:29.603Z"
   },
   {
    "duration": 7,
    "start_time": "2023-05-26T15:04:29.668Z"
   },
   {
    "duration": 153,
    "start_time": "2023-05-26T15:04:29.677Z"
   },
   {
    "duration": 11,
    "start_time": "2023-05-26T15:04:29.832Z"
   },
   {
    "duration": 23,
    "start_time": "2023-05-26T15:04:29.845Z"
   },
   {
    "duration": 16,
    "start_time": "2023-05-26T15:04:29.870Z"
   },
   {
    "duration": 15,
    "start_time": "2023-05-26T15:04:29.888Z"
   },
   {
    "duration": 52,
    "start_time": "2023-05-26T15:04:29.904Z"
   },
   {
    "duration": 38,
    "start_time": "2023-05-26T15:04:29.958Z"
   },
   {
    "duration": 4909,
    "start_time": "2023-05-26T15:45:58.516Z"
   },
   {
    "duration": 1285,
    "start_time": "2023-05-26T15:46:03.428Z"
   },
   {
    "duration": 1059,
    "start_time": "2023-05-26T15:46:04.715Z"
   },
   {
    "duration": 7,
    "start_time": "2023-05-26T15:46:05.776Z"
   },
   {
    "duration": 125,
    "start_time": "2023-05-26T15:46:05.786Z"
   },
   {
    "duration": 9,
    "start_time": "2023-05-26T15:46:05.912Z"
   },
   {
    "duration": 4,
    "start_time": "2023-05-26T15:46:05.922Z"
   },
   {
    "duration": 95,
    "start_time": "2023-05-26T15:46:05.928Z"
   },
   {
    "duration": 3,
    "start_time": "2023-05-26T15:46:06.025Z"
   },
   {
    "duration": 25,
    "start_time": "2023-05-26T15:46:06.029Z"
   },
   {
    "duration": 4,
    "start_time": "2023-05-26T15:46:06.056Z"
   },
   {
    "duration": 44,
    "start_time": "2023-05-26T15:46:06.078Z"
   },
   {
    "duration": 7,
    "start_time": "2023-05-26T15:46:06.124Z"
   },
   {
    "duration": 6,
    "start_time": "2023-05-26T15:46:06.133Z"
   },
   {
    "duration": 75,
    "start_time": "2023-05-26T15:46:06.141Z"
   },
   {
    "duration": 5,
    "start_time": "2023-05-26T15:46:06.218Z"
   },
   {
    "duration": 367,
    "start_time": "2023-05-26T15:46:06.225Z"
   },
   {
    "duration": 13,
    "start_time": "2023-05-26T15:46:06.594Z"
   },
   {
    "duration": 5,
    "start_time": "2023-05-26T15:46:06.609Z"
   },
   {
    "duration": 4,
    "start_time": "2023-05-26T15:46:06.616Z"
   },
   {
    "duration": 129,
    "start_time": "2023-05-26T15:46:06.621Z"
   },
   {
    "duration": 68,
    "start_time": "2023-05-26T15:46:06.752Z"
   },
   {
    "duration": 33,
    "start_time": "2023-05-26T15:46:06.821Z"
   },
   {
    "duration": 218,
    "start_time": "2023-05-26T15:46:06.856Z"
   },
   {
    "duration": 246,
    "start_time": "2023-05-26T15:46:07.075Z"
   },
   {
    "duration": 20,
    "start_time": "2023-05-26T15:46:07.323Z"
   },
   {
    "duration": 5,
    "start_time": "2023-05-26T15:46:07.347Z"
   },
   {
    "duration": 331,
    "start_time": "2023-05-26T15:46:07.353Z"
   },
   {
    "duration": 11,
    "start_time": "2023-05-26T15:46:07.691Z"
   },
   {
    "duration": 21,
    "start_time": "2023-05-26T15:46:07.704Z"
   },
   {
    "duration": 222,
    "start_time": "2023-05-26T15:46:07.726Z"
   },
   {
    "duration": 4,
    "start_time": "2023-05-26T15:46:07.950Z"
   },
   {
    "duration": 28,
    "start_time": "2023-05-26T15:46:07.955Z"
   },
   {
    "duration": 47,
    "start_time": "2023-05-26T15:46:07.984Z"
   },
   {
    "duration": 7,
    "start_time": "2023-05-26T15:46:08.032Z"
   },
   {
    "duration": 154,
    "start_time": "2023-05-26T15:46:08.041Z"
   },
   {
    "duration": 7,
    "start_time": "2023-05-26T15:46:08.197Z"
   },
   {
    "duration": 18,
    "start_time": "2023-05-26T15:46:08.206Z"
   },
   {
    "duration": 16,
    "start_time": "2023-05-26T15:46:08.226Z"
   },
   {
    "duration": 47,
    "start_time": "2023-05-26T15:46:08.244Z"
   },
   {
    "duration": 15,
    "start_time": "2023-05-26T15:46:08.295Z"
   },
   {
    "duration": 36,
    "start_time": "2023-05-26T15:46:08.312Z"
   },
   {
    "duration": 4549,
    "start_time": "2023-05-27T07:19:37.183Z"
   },
   {
    "duration": 1263,
    "start_time": "2023-05-27T07:19:41.734Z"
   },
   {
    "duration": 490,
    "start_time": "2023-05-27T07:19:42.999Z"
   },
   {
    "duration": 4,
    "start_time": "2023-05-27T07:19:43.491Z"
   },
   {
    "duration": 142,
    "start_time": "2023-05-27T07:19:43.497Z"
   },
   {
    "duration": 8,
    "start_time": "2023-05-27T07:19:43.641Z"
   },
   {
    "duration": 44,
    "start_time": "2023-05-27T07:19:43.651Z"
   },
   {
    "duration": 119,
    "start_time": "2023-05-27T07:19:43.697Z"
   },
   {
    "duration": 4,
    "start_time": "2023-05-27T07:19:43.817Z"
   },
   {
    "duration": 43,
    "start_time": "2023-05-27T07:19:43.824Z"
   },
   {
    "duration": 5,
    "start_time": "2023-05-27T07:19:43.869Z"
   },
   {
    "duration": 79,
    "start_time": "2023-05-27T07:19:43.876Z"
   },
   {
    "duration": 7,
    "start_time": "2023-05-27T07:19:43.956Z"
   },
   {
    "duration": 43,
    "start_time": "2023-05-27T07:19:43.965Z"
   },
   {
    "duration": 79,
    "start_time": "2023-05-27T07:19:44.010Z"
   },
   {
    "duration": 5,
    "start_time": "2023-05-27T07:19:44.091Z"
   },
   {
    "duration": 363,
    "start_time": "2023-05-27T07:19:44.097Z"
   },
   {
    "duration": 12,
    "start_time": "2023-05-27T07:19:44.462Z"
   },
   {
    "duration": 9,
    "start_time": "2023-05-27T07:19:44.476Z"
   },
   {
    "duration": 24,
    "start_time": "2023-05-27T07:19:44.486Z"
   },
   {
    "duration": 115,
    "start_time": "2023-05-27T07:19:44.512Z"
   },
   {
    "duration": 62,
    "start_time": "2023-05-27T07:19:44.629Z"
   },
   {
    "duration": 46,
    "start_time": "2023-05-27T07:19:44.692Z"
   },
   {
    "duration": 201,
    "start_time": "2023-05-27T07:19:44.740Z"
   },
   {
    "duration": 252,
    "start_time": "2023-05-27T07:19:44.943Z"
   },
   {
    "duration": 28,
    "start_time": "2023-05-27T07:19:45.197Z"
   },
   {
    "duration": 13,
    "start_time": "2023-05-27T07:19:45.226Z"
   },
   {
    "duration": 120,
    "start_time": "2023-05-27T07:19:45.242Z"
   },
   {
    "duration": 0,
    "start_time": "2023-05-27T07:19:45.363Z"
   },
   {
    "duration": 0,
    "start_time": "2023-05-27T07:19:45.365Z"
   },
   {
    "duration": 0,
    "start_time": "2023-05-27T07:19:45.366Z"
   },
   {
    "duration": 0,
    "start_time": "2023-05-27T07:19:45.367Z"
   },
   {
    "duration": 0,
    "start_time": "2023-05-27T07:19:45.368Z"
   },
   {
    "duration": 0,
    "start_time": "2023-05-27T07:19:45.369Z"
   },
   {
    "duration": 0,
    "start_time": "2023-05-27T07:19:45.369Z"
   },
   {
    "duration": 0,
    "start_time": "2023-05-27T07:19:45.370Z"
   },
   {
    "duration": 0,
    "start_time": "2023-05-27T07:19:45.371Z"
   },
   {
    "duration": 0,
    "start_time": "2023-05-27T07:19:45.373Z"
   },
   {
    "duration": 0,
    "start_time": "2023-05-27T07:19:45.374Z"
   },
   {
    "duration": 0,
    "start_time": "2023-05-27T07:19:45.375Z"
   },
   {
    "duration": 0,
    "start_time": "2023-05-27T07:19:45.376Z"
   },
   {
    "duration": 0,
    "start_time": "2023-05-27T07:19:45.377Z"
   },
   {
    "duration": 2575,
    "start_time": "2023-05-27T07:20:39.872Z"
   },
   {
    "duration": 1203,
    "start_time": "2023-05-27T07:20:42.449Z"
   },
   {
    "duration": 172,
    "start_time": "2023-05-27T07:20:43.653Z"
   },
   {
    "duration": 4,
    "start_time": "2023-05-27T07:20:43.827Z"
   },
   {
    "duration": 107,
    "start_time": "2023-05-27T07:20:43.833Z"
   },
   {
    "duration": 8,
    "start_time": "2023-05-27T07:20:43.941Z"
   },
   {
    "duration": 3,
    "start_time": "2023-05-27T07:20:43.950Z"
   },
   {
    "duration": 88,
    "start_time": "2023-05-27T07:20:43.954Z"
   },
   {
    "duration": 3,
    "start_time": "2023-05-27T07:20:44.043Z"
   },
   {
    "duration": 23,
    "start_time": "2023-05-27T07:20:44.048Z"
   },
   {
    "duration": 2,
    "start_time": "2023-05-27T07:20:44.073Z"
   },
   {
    "duration": 58,
    "start_time": "2023-05-27T07:20:44.076Z"
   },
   {
    "duration": 6,
    "start_time": "2023-05-27T07:20:44.136Z"
   },
   {
    "duration": 6,
    "start_time": "2023-05-27T07:20:44.145Z"
   },
   {
    "duration": 72,
    "start_time": "2023-05-27T07:20:44.152Z"
   },
   {
    "duration": 6,
    "start_time": "2023-05-27T07:20:44.226Z"
   },
   {
    "duration": 367,
    "start_time": "2023-05-27T07:20:44.233Z"
   },
   {
    "duration": 11,
    "start_time": "2023-05-27T07:20:44.602Z"
   },
   {
    "duration": 78,
    "start_time": "2023-05-27T07:20:44.614Z"
   },
   {
    "duration": 6,
    "start_time": "2023-05-27T07:20:44.694Z"
   },
   {
    "duration": 109,
    "start_time": "2023-05-27T07:20:44.701Z"
   },
   {
    "duration": 70,
    "start_time": "2023-05-27T07:20:44.811Z"
   },
   {
    "duration": 50,
    "start_time": "2023-05-27T07:20:44.884Z"
   },
   {
    "duration": 193,
    "start_time": "2023-05-27T07:20:44.935Z"
   },
   {
    "duration": 226,
    "start_time": "2023-05-27T07:20:45.129Z"
   },
   {
    "duration": 16,
    "start_time": "2023-05-27T07:20:45.356Z"
   },
   {
    "duration": 37,
    "start_time": "2023-05-27T07:20:45.374Z"
   },
   {
    "duration": 287,
    "start_time": "2023-05-27T07:20:45.413Z"
   },
   {
    "duration": 12,
    "start_time": "2023-05-27T07:20:45.701Z"
   },
   {
    "duration": 27,
    "start_time": "2023-05-27T07:20:45.714Z"
   },
   {
    "duration": 211,
    "start_time": "2023-05-27T07:20:45.743Z"
   },
   {
    "duration": 4,
    "start_time": "2023-05-27T07:20:45.955Z"
   },
   {
    "duration": 27,
    "start_time": "2023-05-27T07:20:45.960Z"
   },
   {
    "duration": 51,
    "start_time": "2023-05-27T07:20:45.989Z"
   },
   {
    "duration": 7,
    "start_time": "2023-05-27T07:20:46.041Z"
   },
   {
    "duration": 137,
    "start_time": "2023-05-27T07:20:46.049Z"
   },
   {
    "duration": 6,
    "start_time": "2023-05-27T07:20:46.187Z"
   },
   {
    "duration": 63,
    "start_time": "2023-05-27T07:20:46.195Z"
   },
   {
    "duration": 26,
    "start_time": "2023-05-27T07:20:46.260Z"
   },
   {
    "duration": 18,
    "start_time": "2023-05-27T07:20:46.288Z"
   },
   {
    "duration": 21,
    "start_time": "2023-05-27T07:20:46.309Z"
   },
   {
    "duration": 54,
    "start_time": "2023-05-27T07:20:46.331Z"
   },
   {
    "duration": 122,
    "start_time": "2023-05-27T07:57:43.435Z"
   },
   {
    "duration": 14,
    "start_time": "2023-05-27T07:59:35.111Z"
   },
   {
    "duration": 23,
    "start_time": "2023-05-27T07:59:45.583Z"
   },
   {
    "duration": 75,
    "start_time": "2023-05-27T08:00:28.217Z"
   },
   {
    "duration": 11,
    "start_time": "2023-05-27T08:02:37.714Z"
   },
   {
    "duration": 78,
    "start_time": "2023-05-27T08:02:51.259Z"
   },
   {
    "duration": 42,
    "start_time": "2023-05-27T08:14:03.692Z"
   },
   {
    "duration": 53,
    "start_time": "2023-05-27T08:17:09.850Z"
   },
   {
    "duration": 31,
    "start_time": "2023-05-27T08:19:37.884Z"
   },
   {
    "duration": 29,
    "start_time": "2023-05-27T08:19:48.148Z"
   },
   {
    "duration": 38,
    "start_time": "2023-05-27T08:20:08.096Z"
   },
   {
    "duration": 37,
    "start_time": "2023-05-27T08:22:01.314Z"
   },
   {
    "duration": 48,
    "start_time": "2023-05-27T08:22:08.208Z"
   },
   {
    "duration": 38,
    "start_time": "2023-05-27T08:22:16.828Z"
   },
   {
    "duration": 2400,
    "start_time": "2023-05-27T08:22:21.594Z"
   },
   {
    "duration": 6,
    "start_time": "2023-05-27T08:22:23.996Z"
   },
   {
    "duration": 166,
    "start_time": "2023-05-27T08:22:24.004Z"
   },
   {
    "duration": 4,
    "start_time": "2023-05-27T08:22:24.171Z"
   },
   {
    "duration": 99,
    "start_time": "2023-05-27T08:22:24.177Z"
   },
   {
    "duration": 5,
    "start_time": "2023-05-27T08:22:24.278Z"
   },
   {
    "duration": 20,
    "start_time": "2023-05-27T08:22:24.284Z"
   },
   {
    "duration": 73,
    "start_time": "2023-05-27T08:22:24.305Z"
   },
   {
    "duration": 3,
    "start_time": "2023-05-27T08:22:24.380Z"
   },
   {
    "duration": 38,
    "start_time": "2023-05-27T08:22:24.385Z"
   },
   {
    "duration": 3,
    "start_time": "2023-05-27T08:22:24.425Z"
   },
   {
    "duration": 58,
    "start_time": "2023-05-27T08:22:24.429Z"
   },
   {
    "duration": 6,
    "start_time": "2023-05-27T08:22:24.489Z"
   },
   {
    "duration": 12,
    "start_time": "2023-05-27T08:22:24.498Z"
   },
   {
    "duration": 60,
    "start_time": "2023-05-27T08:22:24.511Z"
   },
   {
    "duration": 5,
    "start_time": "2023-05-27T08:22:24.573Z"
   },
   {
    "duration": 330,
    "start_time": "2023-05-27T08:22:24.579Z"
   },
   {
    "duration": 21,
    "start_time": "2023-05-27T08:22:24.911Z"
   },
   {
    "duration": 6,
    "start_time": "2023-05-27T08:22:24.935Z"
   },
   {
    "duration": 22,
    "start_time": "2023-05-27T08:22:24.944Z"
   },
   {
    "duration": 116,
    "start_time": "2023-05-27T08:22:24.968Z"
   },
   {
    "duration": 68,
    "start_time": "2023-05-27T08:22:25.086Z"
   },
   {
    "duration": 30,
    "start_time": "2023-05-27T08:22:25.156Z"
   },
   {
    "duration": 186,
    "start_time": "2023-05-27T08:22:25.187Z"
   },
   {
    "duration": 240,
    "start_time": "2023-05-27T08:22:25.374Z"
   },
   {
    "duration": 20,
    "start_time": "2023-05-27T08:22:25.625Z"
   },
   {
    "duration": 4,
    "start_time": "2023-05-27T08:22:25.647Z"
   },
   {
    "duration": 185,
    "start_time": "2023-05-27T08:22:25.653Z"
   },
   {
    "duration": 11,
    "start_time": "2023-05-27T08:22:25.840Z"
   },
   {
    "duration": 24,
    "start_time": "2023-05-27T08:22:25.853Z"
   },
   {
    "duration": 198,
    "start_time": "2023-05-27T08:22:25.880Z"
   },
   {
    "duration": 5,
    "start_time": "2023-05-27T08:22:26.079Z"
   },
   {
    "duration": 38,
    "start_time": "2023-05-27T08:22:26.086Z"
   },
   {
    "duration": 74,
    "start_time": "2023-05-27T08:22:26.126Z"
   },
   {
    "duration": 8,
    "start_time": "2023-05-27T08:22:26.202Z"
   },
   {
    "duration": 155,
    "start_time": "2023-05-27T08:22:26.213Z"
   },
   {
    "duration": 7,
    "start_time": "2023-05-27T08:22:26.370Z"
   },
   {
    "duration": 32,
    "start_time": "2023-05-27T08:22:26.379Z"
   },
   {
    "duration": 22,
    "start_time": "2023-05-27T08:22:26.412Z"
   },
   {
    "duration": 19,
    "start_time": "2023-05-27T08:22:26.436Z"
   },
   {
    "duration": 19,
    "start_time": "2023-05-27T08:22:26.460Z"
   },
   {
    "duration": 70,
    "start_time": "2023-05-27T08:22:26.481Z"
   },
   {
    "duration": 38,
    "start_time": "2023-05-27T08:22:26.553Z"
   },
   {
    "duration": 126,
    "start_time": "2023-05-27T08:22:26.593Z"
   },
   {
    "duration": 2,
    "start_time": "2023-05-27T08:22:50.455Z"
   },
   {
    "duration": 2,
    "start_time": "2023-05-27T08:22:53.231Z"
   },
   {
    "duration": 43,
    "start_time": "2023-05-27T08:23:16.815Z"
   },
   {
    "duration": 47,
    "start_time": "2023-05-27T08:23:30.600Z"
   },
   {
    "duration": 73,
    "start_time": "2023-05-27T08:24:27.849Z"
   },
   {
    "duration": 43,
    "start_time": "2023-05-27T08:25:07.307Z"
   },
   {
    "duration": 43,
    "start_time": "2023-05-27T08:26:36.884Z"
   },
   {
    "duration": 47,
    "start_time": "2023-05-27T08:29:20.951Z"
   },
   {
    "duration": 49,
    "start_time": "2023-05-27T08:31:38.186Z"
   },
   {
    "duration": 42,
    "start_time": "2023-05-27T08:32:18.493Z"
   },
   {
    "duration": 45,
    "start_time": "2023-05-27T08:32:28.742Z"
   },
   {
    "duration": 57,
    "start_time": "2023-05-27T08:32:46.404Z"
   },
   {
    "duration": 55,
    "start_time": "2023-05-27T08:34:36.784Z"
   },
   {
    "duration": 38,
    "start_time": "2023-05-27T08:34:39.263Z"
   },
   {
    "duration": 42,
    "start_time": "2023-05-27T08:34:46.735Z"
   },
   {
    "duration": 10357,
    "start_time": "2023-05-27T08:35:36.729Z"
   },
   {
    "duration": 54,
    "start_time": "2023-05-27T08:36:12.042Z"
   },
   {
    "duration": 48,
    "start_time": "2023-05-27T08:37:45.355Z"
   },
   {
    "duration": 91,
    "start_time": "2023-05-27T08:37:58.304Z"
   },
   {
    "duration": 49,
    "start_time": "2023-05-27T08:38:02.210Z"
   },
   {
    "duration": 79,
    "start_time": "2023-05-27T08:38:36.410Z"
   },
   {
    "duration": 114,
    "start_time": "2023-05-27T08:39:47.326Z"
   },
   {
    "duration": 38,
    "start_time": "2023-05-27T08:39:51.262Z"
   },
   {
    "duration": 62,
    "start_time": "2023-05-27T08:40:25.928Z"
   },
   {
    "duration": 58,
    "start_time": "2023-05-27T08:41:08.305Z"
   },
   {
    "duration": 56,
    "start_time": "2023-05-27T08:41:24.155Z"
   },
   {
    "duration": 46,
    "start_time": "2023-05-27T08:42:25.903Z"
   },
   {
    "duration": 56,
    "start_time": "2023-05-27T08:42:44.600Z"
   },
   {
    "duration": 38,
    "start_time": "2023-05-27T08:42:51.226Z"
   },
   {
    "duration": 36,
    "start_time": "2023-05-27T08:47:45.912Z"
   },
   {
    "duration": 50,
    "start_time": "2023-05-27T08:48:21.483Z"
   },
   {
    "duration": 49,
    "start_time": "2023-05-27T08:48:47.722Z"
   },
   {
    "duration": 35,
    "start_time": "2023-05-27T08:48:56.953Z"
   },
   {
    "duration": 18,
    "start_time": "2023-05-27T08:49:00.225Z"
   },
   {
    "duration": 77,
    "start_time": "2023-05-27T08:49:03.026Z"
   },
   {
    "duration": 43,
    "start_time": "2023-05-27T08:49:06.184Z"
   },
   {
    "duration": 38,
    "start_time": "2023-05-27T08:49:13.582Z"
   },
   {
    "duration": 39,
    "start_time": "2023-05-27T08:49:24.594Z"
   },
   {
    "duration": 24,
    "start_time": "2023-05-27T08:50:20.895Z"
   },
   {
    "duration": 21,
    "start_time": "2023-05-27T08:50:32.615Z"
   },
   {
    "duration": 19,
    "start_time": "2023-05-27T08:52:16.230Z"
   },
   {
    "duration": 14,
    "start_time": "2023-05-27T08:53:01.439Z"
   },
   {
    "duration": 14,
    "start_time": "2023-05-27T08:54:03.857Z"
   },
   {
    "duration": 14,
    "start_time": "2023-05-27T08:54:10.552Z"
   },
   {
    "duration": 12,
    "start_time": "2023-05-27T08:54:57.207Z"
   },
   {
    "duration": 14,
    "start_time": "2023-05-27T08:55:03.225Z"
   },
   {
    "duration": 1286,
    "start_time": "2023-05-27T08:55:26.103Z"
   },
   {
    "duration": 1133,
    "start_time": "2023-05-27T08:55:46.051Z"
   },
   {
    "duration": 1421,
    "start_time": "2023-05-27T08:56:30.101Z"
   },
   {
    "duration": 1381,
    "start_time": "2023-05-27T08:56:35.284Z"
   },
   {
    "duration": 1657,
    "start_time": "2023-05-27T08:56:40.908Z"
   },
   {
    "duration": 108,
    "start_time": "2023-05-27T08:56:57.427Z"
   },
   {
    "duration": 1296,
    "start_time": "2023-05-27T08:57:09.407Z"
   },
   {
    "duration": 1236,
    "start_time": "2023-05-27T08:57:22.507Z"
   },
   {
    "duration": 1989,
    "start_time": "2023-05-27T08:59:33.927Z"
   },
   {
    "duration": 32,
    "start_time": "2023-05-27T08:59:49.030Z"
   },
   {
    "duration": 30,
    "start_time": "2023-05-27T09:00:17.817Z"
   },
   {
    "duration": 36,
    "start_time": "2023-05-27T09:00:27.319Z"
   },
   {
    "duration": 39,
    "start_time": "2023-05-27T09:00:34.900Z"
   },
   {
    "duration": 32,
    "start_time": "2023-05-27T09:00:45.033Z"
   },
   {
    "duration": 29,
    "start_time": "2023-05-27T09:00:48.240Z"
   },
   {
    "duration": 30,
    "start_time": "2023-05-27T09:00:51.728Z"
   },
   {
    "duration": 34,
    "start_time": "2023-05-27T09:00:58.224Z"
   },
   {
    "duration": 31,
    "start_time": "2023-05-27T09:01:09.108Z"
   },
   {
    "duration": 25,
    "start_time": "2023-05-27T09:01:25.539Z"
   },
   {
    "duration": 29,
    "start_time": "2023-05-27T09:01:43.324Z"
   },
   {
    "duration": 76,
    "start_time": "2023-05-27T09:01:52.930Z"
   },
   {
    "duration": 13,
    "start_time": "2023-05-27T09:01:56.011Z"
   },
   {
    "duration": 17,
    "start_time": "2023-05-27T09:02:20.296Z"
   },
   {
    "duration": 18,
    "start_time": "2023-05-27T09:02:35.101Z"
   },
   {
    "duration": 19,
    "start_time": "2023-05-27T09:03:13.044Z"
   },
   {
    "duration": 17,
    "start_time": "2023-05-27T09:03:19.147Z"
   },
   {
    "duration": 18,
    "start_time": "2023-05-27T09:03:25.216Z"
   },
   {
    "duration": 13,
    "start_time": "2023-05-27T09:03:55.208Z"
   },
   {
    "duration": 14,
    "start_time": "2023-05-27T09:03:59.008Z"
   },
   {
    "duration": 15,
    "start_time": "2023-05-27T09:04:04.301Z"
   },
   {
    "duration": 15,
    "start_time": "2023-05-27T09:04:09.208Z"
   },
   {
    "duration": 19,
    "start_time": "2023-05-27T09:04:14.441Z"
   },
   {
    "duration": 22,
    "start_time": "2023-05-27T09:04:25.260Z"
   },
   {
    "duration": 36,
    "start_time": "2023-05-27T09:04:55.005Z"
   },
   {
    "duration": 47,
    "start_time": "2023-05-27T09:05:07.209Z"
   },
   {
    "duration": 29,
    "start_time": "2023-05-27T09:05:23.682Z"
   },
   {
    "duration": 33,
    "start_time": "2023-05-27T09:06:10.900Z"
   },
   {
    "duration": 26,
    "start_time": "2023-05-27T09:06:12.929Z"
   },
   {
    "duration": 24,
    "start_time": "2023-05-27T09:06:38.558Z"
   },
   {
    "duration": 26,
    "start_time": "2023-05-27T09:06:42.246Z"
   },
   {
    "duration": 104,
    "start_time": "2023-05-27T09:07:00.413Z"
   },
   {
    "duration": 29,
    "start_time": "2023-05-27T09:07:03.433Z"
   },
   {
    "duration": 30,
    "start_time": "2023-05-27T09:08:01.145Z"
   },
   {
    "duration": 27,
    "start_time": "2023-05-27T09:08:04.744Z"
   },
   {
    "duration": 34,
    "start_time": "2023-05-27T09:08:18.241Z"
   },
   {
    "duration": 2,
    "start_time": "2023-05-27T09:08:31.153Z"
   },
   {
    "duration": 50,
    "start_time": "2023-05-27T09:08:41.900Z"
   },
   {
    "duration": 29,
    "start_time": "2023-05-27T09:09:10.842Z"
   },
   {
    "duration": 3,
    "start_time": "2023-05-27T09:09:12.802Z"
   },
   {
    "duration": 38,
    "start_time": "2023-05-27T09:09:14.323Z"
   },
   {
    "duration": 4,
    "start_time": "2023-05-27T09:09:15.065Z"
   },
   {
    "duration": 34,
    "start_time": "2023-05-27T09:09:26.416Z"
   },
   {
    "duration": 32,
    "start_time": "2023-05-27T09:09:33.762Z"
   },
   {
    "duration": 78,
    "start_time": "2023-05-27T09:15:45.138Z"
   },
   {
    "duration": 41,
    "start_time": "2023-05-27T09:15:51.064Z"
   },
   {
    "duration": 34,
    "start_time": "2023-05-27T09:17:44.494Z"
   },
   {
    "duration": 31,
    "start_time": "2023-05-27T09:17:53.652Z"
   },
   {
    "duration": 34,
    "start_time": "2023-05-27T09:17:58.763Z"
   },
   {
    "duration": 28,
    "start_time": "2023-05-27T09:19:21.333Z"
   },
   {
    "duration": 15,
    "start_time": "2023-05-27T09:19:27.758Z"
   },
   {
    "duration": 16,
    "start_time": "2023-05-27T09:19:30.869Z"
   },
   {
    "duration": 16,
    "start_time": "2023-05-27T09:19:31.499Z"
   },
   {
    "duration": 18,
    "start_time": "2023-05-27T09:19:31.959Z"
   },
   {
    "duration": 131,
    "start_time": "2023-05-27T09:19:58.262Z"
   },
   {
    "duration": 17,
    "start_time": "2023-05-27T09:20:01.498Z"
   },
   {
    "duration": 11,
    "start_time": "2023-05-27T09:20:30.698Z"
   },
   {
    "duration": 10,
    "start_time": "2023-05-27T09:20:32.951Z"
   },
   {
    "duration": 11,
    "start_time": "2023-05-27T09:20:46.759Z"
   },
   {
    "duration": 9,
    "start_time": "2023-05-27T09:22:13.994Z"
   },
   {
    "duration": 74,
    "start_time": "2023-05-27T09:22:29.047Z"
   },
   {
    "duration": 17,
    "start_time": "2023-05-27T09:27:08.598Z"
   },
   {
    "duration": 10,
    "start_time": "2023-05-27T09:27:26.507Z"
   },
   {
    "duration": 12,
    "start_time": "2023-05-27T09:28:05.480Z"
   },
   {
    "duration": 10,
    "start_time": "2023-05-27T09:28:14.410Z"
   },
   {
    "duration": 32,
    "start_time": "2023-05-27T09:29:00.687Z"
   },
   {
    "duration": 31,
    "start_time": "2023-05-27T09:29:05.553Z"
   },
   {
    "duration": 33,
    "start_time": "2023-05-27T09:29:08.486Z"
   },
   {
    "duration": 11,
    "start_time": "2023-05-27T09:29:10.220Z"
   },
   {
    "duration": 10,
    "start_time": "2023-05-27T09:29:20.833Z"
   },
   {
    "duration": 11,
    "start_time": "2023-05-27T09:29:22.360Z"
   },
   {
    "duration": 11,
    "start_time": "2023-05-27T09:29:30.322Z"
   },
   {
    "duration": 11,
    "start_time": "2023-05-27T09:29:31.424Z"
   },
   {
    "duration": 177,
    "start_time": "2023-05-27T09:29:38.119Z"
   },
   {
    "duration": 80,
    "start_time": "2023-05-27T09:30:33.707Z"
   },
   {
    "duration": 5,
    "start_time": "2023-05-27T09:31:05.733Z"
   },
   {
    "duration": 11,
    "start_time": "2023-05-27T09:31:27.915Z"
   },
   {
    "duration": 83,
    "start_time": "2023-05-27T09:31:41.795Z"
   },
   {
    "duration": 74,
    "start_time": "2023-05-27T09:31:52.835Z"
   },
   {
    "duration": 76,
    "start_time": "2023-05-27T09:32:37.349Z"
   },
   {
    "duration": 80,
    "start_time": "2023-05-27T09:32:55.499Z"
   },
   {
    "duration": 81,
    "start_time": "2023-05-27T09:33:13.899Z"
   },
   {
    "duration": 32,
    "start_time": "2023-05-27T09:34:18.654Z"
   },
   {
    "duration": 34,
    "start_time": "2023-05-27T09:34:32.999Z"
   },
   {
    "duration": 79,
    "start_time": "2023-05-27T09:34:42.065Z"
   },
   {
    "duration": 29,
    "start_time": "2023-05-27T09:36:25.599Z"
   },
   {
    "duration": 39,
    "start_time": "2023-05-27T09:36:37.203Z"
   },
   {
    "duration": 36,
    "start_time": "2023-05-27T09:37:42.528Z"
   },
   {
    "duration": 37,
    "start_time": "2023-05-27T09:37:53.238Z"
   },
   {
    "duration": 37,
    "start_time": "2023-05-27T09:38:47.801Z"
   },
   {
    "duration": 35,
    "start_time": "2023-05-27T09:39:01.704Z"
   },
   {
    "duration": 32,
    "start_time": "2023-05-27T09:39:23.353Z"
   },
   {
    "duration": 35,
    "start_time": "2023-05-27T09:39:43.608Z"
   },
   {
    "duration": 32,
    "start_time": "2023-05-27T09:39:52.796Z"
   },
   {
    "duration": 30,
    "start_time": "2023-05-27T09:40:02.207Z"
   },
   {
    "duration": 33,
    "start_time": "2023-05-27T09:40:39.612Z"
   },
   {
    "duration": 18,
    "start_time": "2023-05-27T09:41:09.721Z"
   },
   {
    "duration": 24,
    "start_time": "2023-05-27T09:41:27.002Z"
   },
   {
    "duration": 18,
    "start_time": "2023-05-27T09:41:39.310Z"
   },
   {
    "duration": 16,
    "start_time": "2023-05-27T09:41:51.129Z"
   },
   {
    "duration": 31,
    "start_time": "2023-05-27T09:41:59.913Z"
   },
   {
    "duration": 11,
    "start_time": "2023-05-27T09:42:38.633Z"
   },
   {
    "duration": 33,
    "start_time": "2023-05-27T09:43:17.389Z"
   },
   {
    "duration": 11,
    "start_time": "2023-05-27T09:43:20.305Z"
   },
   {
    "duration": 4,
    "start_time": "2023-05-27T09:43:26.819Z"
   },
   {
    "duration": 24,
    "start_time": "2023-05-27T09:43:46.213Z"
   },
   {
    "duration": 31,
    "start_time": "2023-05-27T09:45:28.843Z"
   },
   {
    "duration": 27,
    "start_time": "2023-05-27T09:45:40.423Z"
   },
   {
    "duration": 17,
    "start_time": "2023-05-27T09:45:52.899Z"
   },
   {
    "duration": 34,
    "start_time": "2023-05-27T09:46:12.283Z"
   },
   {
    "duration": 78,
    "start_time": "2023-05-27T09:46:16.007Z"
   },
   {
    "duration": 32,
    "start_time": "2023-05-27T09:46:34.619Z"
   },
   {
    "duration": 85,
    "start_time": "2023-05-27T09:46:36.459Z"
   },
   {
    "duration": 40,
    "start_time": "2023-05-27T09:47:11.530Z"
   },
   {
    "duration": 42,
    "start_time": "2023-05-27T09:47:14.747Z"
   },
   {
    "duration": 47,
    "start_time": "2023-05-27T09:47:19.290Z"
   },
   {
    "duration": 30,
    "start_time": "2023-05-27T09:47:22.228Z"
   },
   {
    "duration": 33,
    "start_time": "2023-05-27T09:47:25.786Z"
   },
   {
    "duration": 12,
    "start_time": "2023-05-27T09:47:39.306Z"
   },
   {
    "duration": 20,
    "start_time": "2023-05-27T09:47:44.792Z"
   },
   {
    "duration": 17,
    "start_time": "2023-05-27T09:48:02.212Z"
   },
   {
    "duration": 5,
    "start_time": "2023-05-27T09:51:44.703Z"
   },
   {
    "duration": 21,
    "start_time": "2023-05-27T09:52:24.256Z"
   },
   {
    "duration": 16,
    "start_time": "2023-05-27T09:52:31.544Z"
   },
   {
    "duration": 14,
    "start_time": "2023-05-27T09:53:07.312Z"
   },
   {
    "duration": 4,
    "start_time": "2023-05-27T09:55:45.709Z"
   },
   {
    "duration": 12,
    "start_time": "2023-05-27T09:55:59.210Z"
   },
   {
    "duration": 4,
    "start_time": "2023-05-27T09:56:05.783Z"
   },
   {
    "duration": 3,
    "start_time": "2023-05-27T09:56:25.503Z"
   },
   {
    "duration": 4,
    "start_time": "2023-05-27T09:56:34.383Z"
   },
   {
    "duration": 74,
    "start_time": "2023-05-27T09:57:06.887Z"
   },
   {
    "duration": 6,
    "start_time": "2023-05-27T09:57:47.491Z"
   },
   {
    "duration": 4,
    "start_time": "2023-05-27T09:57:49.859Z"
   },
   {
    "duration": 78,
    "start_time": "2023-05-27T09:57:53.103Z"
   },
   {
    "duration": 88,
    "start_time": "2023-05-27T10:00:30.599Z"
   },
   {
    "duration": 2609,
    "start_time": "2023-05-27T10:00:38.294Z"
   },
   {
    "duration": 1412,
    "start_time": "2023-05-27T10:00:40.905Z"
   },
   {
    "duration": 170,
    "start_time": "2023-05-27T10:00:42.319Z"
   },
   {
    "duration": 3,
    "start_time": "2023-05-27T10:00:42.491Z"
   },
   {
    "duration": 114,
    "start_time": "2023-05-27T10:00:42.496Z"
   },
   {
    "duration": 8,
    "start_time": "2023-05-27T10:00:42.624Z"
   },
   {
    "duration": 6,
    "start_time": "2023-05-27T10:00:42.634Z"
   },
   {
    "duration": 94,
    "start_time": "2023-05-27T10:00:42.642Z"
   },
   {
    "duration": 4,
    "start_time": "2023-05-27T10:00:42.738Z"
   },
   {
    "duration": 26,
    "start_time": "2023-05-27T10:00:42.743Z"
   },
   {
    "duration": 4,
    "start_time": "2023-05-27T10:00:42.770Z"
   },
   {
    "duration": 69,
    "start_time": "2023-05-27T10:00:42.775Z"
   },
   {
    "duration": 7,
    "start_time": "2023-05-27T10:00:42.845Z"
   },
   {
    "duration": 7,
    "start_time": "2023-05-27T10:00:42.855Z"
   },
   {
    "duration": 76,
    "start_time": "2023-05-27T10:00:42.863Z"
   },
   {
    "duration": 6,
    "start_time": "2023-05-27T10:00:42.940Z"
   },
   {
    "duration": 397,
    "start_time": "2023-05-27T10:00:42.947Z"
   },
   {
    "duration": 13,
    "start_time": "2023-05-27T10:00:43.345Z"
   },
   {
    "duration": 5,
    "start_time": "2023-05-27T10:00:43.360Z"
   },
   {
    "duration": 7,
    "start_time": "2023-05-27T10:00:43.367Z"
   },
   {
    "duration": 139,
    "start_time": "2023-05-27T10:00:43.375Z"
   },
   {
    "duration": 59,
    "start_time": "2023-05-27T10:00:43.524Z"
   },
   {
    "duration": 52,
    "start_time": "2023-05-27T10:00:43.585Z"
   },
   {
    "duration": 219,
    "start_time": "2023-05-27T10:00:43.638Z"
   },
   {
    "duration": 246,
    "start_time": "2023-05-27T10:00:43.858Z"
   },
   {
    "duration": 30,
    "start_time": "2023-05-27T10:00:44.106Z"
   },
   {
    "duration": 3,
    "start_time": "2023-05-27T10:00:44.138Z"
   },
   {
    "duration": 335,
    "start_time": "2023-05-27T10:00:44.143Z"
   },
   {
    "duration": 10,
    "start_time": "2023-05-27T10:00:44.480Z"
   },
   {
    "duration": 39,
    "start_time": "2023-05-27T10:00:44.492Z"
   },
   {
    "duration": 231,
    "start_time": "2023-05-27T10:00:44.533Z"
   },
   {
    "duration": 4,
    "start_time": "2023-05-27T10:00:44.766Z"
   },
   {
    "duration": 8,
    "start_time": "2023-05-27T10:00:44.772Z"
   },
   {
    "duration": 63,
    "start_time": "2023-05-27T10:00:44.782Z"
   },
   {
    "duration": 7,
    "start_time": "2023-05-27T10:00:44.846Z"
   },
   {
    "duration": 140,
    "start_time": "2023-05-27T10:00:44.855Z"
   },
   {
    "duration": 6,
    "start_time": "2023-05-27T10:00:44.996Z"
   },
   {
    "duration": 70,
    "start_time": "2023-05-27T10:00:45.004Z"
   },
   {
    "duration": 44,
    "start_time": "2023-05-27T10:00:45.076Z"
   },
   {
    "duration": 127,
    "start_time": "2023-05-27T10:00:45.121Z"
   },
   {
    "duration": 67,
    "start_time": "2023-05-27T10:00:45.253Z"
   },
   {
    "duration": 111,
    "start_time": "2023-05-27T10:00:45.322Z"
   },
   {
    "duration": 62,
    "start_time": "2023-05-27T10:00:45.435Z"
   },
   {
    "duration": 70,
    "start_time": "2023-05-27T10:00:45.501Z"
   },
   {
    "duration": 26,
    "start_time": "2023-05-27T10:00:45.573Z"
   },
   {
    "duration": 29,
    "start_time": "2023-05-27T10:00:45.601Z"
   },
   {
    "duration": 119,
    "start_time": "2023-05-27T10:00:45.632Z"
   },
   {
    "duration": 91,
    "start_time": "2023-05-27T10:00:45.753Z"
   },
   {
    "duration": 75,
    "start_time": "2023-05-27T10:01:25.194Z"
   },
   {
    "duration": 4,
    "start_time": "2023-05-27T10:01:41.490Z"
   },
   {
    "duration": 108,
    "start_time": "2023-05-27T10:02:08.054Z"
   },
   {
    "duration": 4,
    "start_time": "2023-05-27T10:02:14.126Z"
   },
   {
    "duration": 5,
    "start_time": "2023-05-27T10:02:23.106Z"
   },
   {
    "duration": 4,
    "start_time": "2023-05-27T10:02:27.395Z"
   },
   {
    "duration": 4,
    "start_time": "2023-05-27T10:02:43.190Z"
   },
   {
    "duration": 79,
    "start_time": "2023-05-27T10:03:02.110Z"
   },
   {
    "duration": 78,
    "start_time": "2023-05-27T10:03:09.596Z"
   },
   {
    "duration": 89,
    "start_time": "2023-05-27T10:03:15.998Z"
   },
   {
    "duration": 75,
    "start_time": "2023-05-27T10:03:20.686Z"
   },
   {
    "duration": 81,
    "start_time": "2023-05-27T10:03:26.902Z"
   },
   {
    "duration": 74,
    "start_time": "2023-05-27T10:22:28.587Z"
   },
   {
    "duration": 75,
    "start_time": "2023-05-27T10:22:40.333Z"
   },
   {
    "duration": 76,
    "start_time": "2023-05-27T10:22:48.582Z"
   },
   {
    "duration": 75,
    "start_time": "2023-05-27T10:22:53.645Z"
   },
   {
    "duration": 71,
    "start_time": "2023-05-27T10:22:57.290Z"
   },
   {
    "duration": 6,
    "start_time": "2023-05-27T10:23:09.830Z"
   },
   {
    "duration": 44,
    "start_time": "2023-05-27T10:23:14.950Z"
   },
   {
    "duration": 32,
    "start_time": "2023-05-27T10:23:56.847Z"
   },
   {
    "duration": 47,
    "start_time": "2023-05-27T10:24:00.683Z"
   },
   {
    "duration": 85,
    "start_time": "2023-05-27T10:24:10.846Z"
   },
   {
    "duration": 99,
    "start_time": "2023-05-27T10:24:12.446Z"
   },
   {
    "duration": 9,
    "start_time": "2023-05-27T10:37:13.572Z"
   },
   {
    "duration": 2697,
    "start_time": "2023-05-27T10:37:28.132Z"
   },
   {
    "duration": 1380,
    "start_time": "2023-05-27T10:37:30.833Z"
   },
   {
    "duration": 207,
    "start_time": "2023-05-27T10:37:32.214Z"
   },
   {
    "duration": 5,
    "start_time": "2023-05-27T10:37:32.425Z"
   },
   {
    "duration": 178,
    "start_time": "2023-05-27T10:37:32.431Z"
   },
   {
    "duration": 19,
    "start_time": "2023-05-27T10:37:32.611Z"
   },
   {
    "duration": 20,
    "start_time": "2023-05-27T10:37:32.632Z"
   },
   {
    "duration": 108,
    "start_time": "2023-05-27T10:37:32.654Z"
   },
   {
    "duration": 4,
    "start_time": "2023-05-27T10:37:32.764Z"
   },
   {
    "duration": 53,
    "start_time": "2023-05-27T10:37:32.772Z"
   },
   {
    "duration": 5,
    "start_time": "2023-05-27T10:37:32.828Z"
   },
   {
    "duration": 59,
    "start_time": "2023-05-27T10:37:32.835Z"
   },
   {
    "duration": 34,
    "start_time": "2023-05-27T10:37:32.896Z"
   },
   {
    "duration": 9,
    "start_time": "2023-05-27T10:37:32.931Z"
   },
   {
    "duration": 61,
    "start_time": "2023-05-27T10:37:32.943Z"
   },
   {
    "duration": 24,
    "start_time": "2023-05-27T10:37:33.006Z"
   },
   {
    "duration": 507,
    "start_time": "2023-05-27T10:37:33.033Z"
   },
   {
    "duration": 21,
    "start_time": "2023-05-27T10:37:33.543Z"
   },
   {
    "duration": 8,
    "start_time": "2023-05-27T10:37:33.566Z"
   },
   {
    "duration": 6,
    "start_time": "2023-05-27T10:37:33.576Z"
   },
   {
    "duration": 159,
    "start_time": "2023-05-27T10:37:33.583Z"
   },
   {
    "duration": 92,
    "start_time": "2023-05-27T10:37:33.744Z"
   },
   {
    "duration": 53,
    "start_time": "2023-05-27T10:37:33.838Z"
   },
   {
    "duration": 309,
    "start_time": "2023-05-27T10:37:33.893Z"
   },
   {
    "duration": 307,
    "start_time": "2023-05-27T10:37:34.203Z"
   },
   {
    "duration": 28,
    "start_time": "2023-05-27T10:37:34.512Z"
   },
   {
    "duration": 32,
    "start_time": "2023-05-27T10:37:34.542Z"
   },
   {
    "duration": 296,
    "start_time": "2023-05-27T10:37:34.578Z"
   },
   {
    "duration": 14,
    "start_time": "2023-05-27T10:37:34.877Z"
   },
   {
    "duration": 51,
    "start_time": "2023-05-27T10:37:34.893Z"
   },
   {
    "duration": 373,
    "start_time": "2023-05-27T10:37:34.947Z"
   },
   {
    "duration": 5,
    "start_time": "2023-05-27T10:37:35.326Z"
   },
   {
    "duration": 15,
    "start_time": "2023-05-27T10:37:35.334Z"
   },
   {
    "duration": 83,
    "start_time": "2023-05-27T10:37:35.351Z"
   },
   {
    "duration": 10,
    "start_time": "2023-05-27T10:37:35.437Z"
   },
   {
    "duration": 222,
    "start_time": "2023-05-27T10:37:35.449Z"
   },
   {
    "duration": 8,
    "start_time": "2023-05-27T10:37:35.673Z"
   },
   {
    "duration": 48,
    "start_time": "2023-05-27T10:37:35.684Z"
   },
   {
    "duration": 26,
    "start_time": "2023-05-27T10:37:35.736Z"
   },
   {
    "duration": 18,
    "start_time": "2023-05-27T10:37:35.768Z"
   },
   {
    "duration": 51,
    "start_time": "2023-05-27T10:37:35.788Z"
   },
   {
    "duration": 84,
    "start_time": "2023-05-27T10:37:35.841Z"
   },
   {
    "duration": 6,
    "start_time": "2023-05-27T10:37:35.927Z"
   },
   {
    "duration": 41,
    "start_time": "2023-05-27T10:37:35.936Z"
   },
   {
    "duration": 136,
    "start_time": "2023-05-27T10:37:35.980Z"
   },
   {
    "duration": 88,
    "start_time": "2023-05-27T10:37:36.118Z"
   },
   {
    "duration": 6,
    "start_time": "2023-05-27T10:41:44.848Z"
   },
   {
    "duration": 2522,
    "start_time": "2023-05-27T10:45:49.939Z"
   },
   {
    "duration": 1119,
    "start_time": "2023-05-27T10:45:52.463Z"
   },
   {
    "duration": 181,
    "start_time": "2023-05-27T10:45:53.583Z"
   },
   {
    "duration": 5,
    "start_time": "2023-05-27T10:45:53.767Z"
   },
   {
    "duration": 124,
    "start_time": "2023-05-27T10:45:53.774Z"
   },
   {
    "duration": 7,
    "start_time": "2023-05-27T10:45:53.900Z"
   },
   {
    "duration": 30,
    "start_time": "2023-05-27T10:45:53.909Z"
   },
   {
    "duration": 11,
    "start_time": "2023-05-27T10:45:53.941Z"
   },
   {
    "duration": 79,
    "start_time": "2023-05-27T10:45:53.954Z"
   },
   {
    "duration": 4,
    "start_time": "2023-05-27T10:45:54.038Z"
   },
   {
    "duration": 31,
    "start_time": "2023-05-27T10:45:54.044Z"
   },
   {
    "duration": 3,
    "start_time": "2023-05-27T10:45:54.077Z"
   },
   {
    "duration": 53,
    "start_time": "2023-05-27T10:45:54.081Z"
   },
   {
    "duration": 7,
    "start_time": "2023-05-27T10:45:54.139Z"
   },
   {
    "duration": 7,
    "start_time": "2023-05-27T10:45:54.148Z"
   },
   {
    "duration": 52,
    "start_time": "2023-05-27T10:45:54.156Z"
   },
   {
    "duration": 23,
    "start_time": "2023-05-27T10:45:54.209Z"
   },
   {
    "duration": 373,
    "start_time": "2023-05-27T10:45:54.234Z"
   },
   {
    "duration": 24,
    "start_time": "2023-05-27T10:45:54.609Z"
   },
   {
    "duration": 7,
    "start_time": "2023-05-27T10:45:54.635Z"
   },
   {
    "duration": 10,
    "start_time": "2023-05-27T10:45:54.643Z"
   },
   {
    "duration": 139,
    "start_time": "2023-05-27T10:45:54.654Z"
   },
   {
    "duration": 71,
    "start_time": "2023-05-27T10:45:54.795Z"
   },
   {
    "duration": 41,
    "start_time": "2023-05-27T10:45:54.868Z"
   },
   {
    "duration": 281,
    "start_time": "2023-05-27T10:45:54.910Z"
   },
   {
    "duration": 268,
    "start_time": "2023-05-27T10:45:55.193Z"
   },
   {
    "duration": 16,
    "start_time": "2023-05-27T10:45:55.463Z"
   },
   {
    "duration": 5,
    "start_time": "2023-05-27T10:45:55.482Z"
   },
   {
    "duration": 319,
    "start_time": "2023-05-27T10:45:55.489Z"
   },
   {
    "duration": 12,
    "start_time": "2023-05-27T10:45:55.810Z"
   },
   {
    "duration": 43,
    "start_time": "2023-05-27T10:45:55.824Z"
   },
   {
    "duration": 235,
    "start_time": "2023-05-27T10:45:55.868Z"
   },
   {
    "duration": 3,
    "start_time": "2023-05-27T10:45:56.105Z"
   },
   {
    "duration": 23,
    "start_time": "2023-05-27T10:45:56.109Z"
   },
   {
    "duration": 48,
    "start_time": "2023-05-27T10:45:56.134Z"
   },
   {
    "duration": 6,
    "start_time": "2023-05-27T10:45:56.184Z"
   },
   {
    "duration": 161,
    "start_time": "2023-05-27T10:45:56.191Z"
   },
   {
    "duration": 6,
    "start_time": "2023-05-27T10:45:56.354Z"
   },
   {
    "duration": 23,
    "start_time": "2023-05-27T10:45:56.361Z"
   },
   {
    "duration": 13,
    "start_time": "2023-05-27T10:45:56.385Z"
   },
   {
    "duration": 38,
    "start_time": "2023-05-27T10:45:56.400Z"
   },
   {
    "duration": 21,
    "start_time": "2023-05-27T10:45:56.440Z"
   },
   {
    "duration": 76,
    "start_time": "2023-05-27T10:45:56.462Z"
   },
   {
    "duration": 10,
    "start_time": "2023-05-27T10:45:56.540Z"
   },
   {
    "duration": 42,
    "start_time": "2023-05-27T10:45:56.551Z"
   },
   {
    "duration": 98,
    "start_time": "2023-05-27T10:45:56.595Z"
   },
   {
    "duration": 87,
    "start_time": "2023-05-27T10:45:56.695Z"
   },
   {
    "duration": 2668,
    "start_time": "2023-05-27T10:48:46.118Z"
   },
   {
    "duration": 7,
    "start_time": "2023-05-27T10:48:48.789Z"
   },
   {
    "duration": 185,
    "start_time": "2023-05-27T10:48:48.797Z"
   },
   {
    "duration": 4,
    "start_time": "2023-05-27T10:48:48.983Z"
   },
   {
    "duration": 111,
    "start_time": "2023-05-27T10:48:48.989Z"
   },
   {
    "duration": 7,
    "start_time": "2023-05-27T10:48:49.102Z"
   },
   {
    "duration": 43,
    "start_time": "2023-05-27T10:48:49.110Z"
   },
   {
    "duration": 15,
    "start_time": "2023-05-27T10:48:49.155Z"
   },
   {
    "duration": 104,
    "start_time": "2023-05-27T10:48:49.172Z"
   },
   {
    "duration": 5,
    "start_time": "2023-05-27T10:48:49.277Z"
   },
   {
    "duration": 38,
    "start_time": "2023-05-27T10:48:49.283Z"
   },
   {
    "duration": 15,
    "start_time": "2023-05-27T10:48:49.324Z"
   },
   {
    "duration": 68,
    "start_time": "2023-05-27T10:48:49.341Z"
   },
   {
    "duration": 8,
    "start_time": "2023-05-27T10:48:49.413Z"
   },
   {
    "duration": 31,
    "start_time": "2023-05-27T10:48:49.422Z"
   },
   {
    "duration": 78,
    "start_time": "2023-05-27T10:48:49.455Z"
   },
   {
    "duration": 6,
    "start_time": "2023-05-27T10:48:49.535Z"
   },
   {
    "duration": 343,
    "start_time": "2023-05-27T10:48:49.543Z"
   },
   {
    "duration": 11,
    "start_time": "2023-05-27T10:48:49.888Z"
   },
   {
    "duration": 25,
    "start_time": "2023-05-27T10:48:49.901Z"
   },
   {
    "duration": 18,
    "start_time": "2023-05-27T10:48:49.937Z"
   },
   {
    "duration": 114,
    "start_time": "2023-05-27T10:48:49.957Z"
   },
   {
    "duration": 68,
    "start_time": "2023-05-27T10:48:50.073Z"
   },
   {
    "duration": 35,
    "start_time": "2023-05-27T10:48:50.143Z"
   },
   {
    "duration": 200,
    "start_time": "2023-05-27T10:48:50.180Z"
   },
   {
    "duration": 288,
    "start_time": "2023-05-27T10:48:50.382Z"
   },
   {
    "duration": 15,
    "start_time": "2023-05-27T10:48:50.672Z"
   },
   {
    "duration": 11,
    "start_time": "2023-05-27T10:48:50.689Z"
   },
   {
    "duration": 165,
    "start_time": "2023-05-27T10:48:50.702Z"
   },
   {
    "duration": 11,
    "start_time": "2023-05-27T10:48:50.869Z"
   },
   {
    "duration": 28,
    "start_time": "2023-05-27T10:48:50.882Z"
   },
   {
    "duration": 240,
    "start_time": "2023-05-27T10:48:50.912Z"
   },
   {
    "duration": 4,
    "start_time": "2023-05-27T10:48:51.153Z"
   },
   {
    "duration": 14,
    "start_time": "2023-05-27T10:48:51.159Z"
   },
   {
    "duration": 71,
    "start_time": "2023-05-27T10:48:51.174Z"
   },
   {
    "duration": 8,
    "start_time": "2023-05-27T10:48:51.247Z"
   },
   {
    "duration": 158,
    "start_time": "2023-05-27T10:48:51.256Z"
   },
   {
    "duration": 13,
    "start_time": "2023-05-27T10:48:51.416Z"
   },
   {
    "duration": 45,
    "start_time": "2023-05-27T10:48:51.431Z"
   },
   {
    "duration": 15,
    "start_time": "2023-05-27T10:48:51.478Z"
   },
   {
    "duration": 14,
    "start_time": "2023-05-27T10:48:51.497Z"
   },
   {
    "duration": 34,
    "start_time": "2023-05-27T10:48:51.513Z"
   },
   {
    "duration": 44,
    "start_time": "2023-05-27T10:48:51.549Z"
   },
   {
    "duration": 6,
    "start_time": "2023-05-27T10:48:51.595Z"
   },
   {
    "duration": 58,
    "start_time": "2023-05-27T10:48:51.602Z"
   },
   {
    "duration": 107,
    "start_time": "2023-05-27T10:48:51.661Z"
   },
   {
    "duration": 110,
    "start_time": "2023-05-27T10:48:51.770Z"
   },
   {
    "duration": 61,
    "start_time": "2023-05-27T10:52:42.214Z"
   },
   {
    "duration": 2707,
    "start_time": "2023-05-27T10:53:26.301Z"
   },
   {
    "duration": 6,
    "start_time": "2023-05-27T10:53:29.011Z"
   },
   {
    "duration": 213,
    "start_time": "2023-05-27T10:53:29.019Z"
   },
   {
    "duration": 6,
    "start_time": "2023-05-27T10:53:29.236Z"
   },
   {
    "duration": 120,
    "start_time": "2023-05-27T10:53:29.243Z"
   },
   {
    "duration": 6,
    "start_time": "2023-05-27T10:53:29.365Z"
   },
   {
    "duration": 28,
    "start_time": "2023-05-27T10:53:29.372Z"
   },
   {
    "duration": 21,
    "start_time": "2023-05-27T10:53:29.402Z"
   },
   {
    "duration": 98,
    "start_time": "2023-05-27T10:53:29.426Z"
   },
   {
    "duration": 6,
    "start_time": "2023-05-27T10:53:29.529Z"
   },
   {
    "duration": 53,
    "start_time": "2023-05-27T10:53:29.537Z"
   },
   {
    "duration": 4,
    "start_time": "2023-05-27T10:53:29.593Z"
   },
   {
    "duration": 63,
    "start_time": "2023-05-27T10:53:29.598Z"
   },
   {
    "duration": 8,
    "start_time": "2023-05-27T10:53:29.663Z"
   },
   {
    "duration": 17,
    "start_time": "2023-05-27T10:53:29.672Z"
   },
   {
    "duration": 87,
    "start_time": "2023-05-27T10:53:29.691Z"
   },
   {
    "duration": 5,
    "start_time": "2023-05-27T10:53:29.779Z"
   },
   {
    "duration": 326,
    "start_time": "2023-05-27T10:53:29.786Z"
   },
   {
    "duration": 23,
    "start_time": "2023-05-27T10:53:30.114Z"
   },
   {
    "duration": 26,
    "start_time": "2023-05-27T10:53:30.139Z"
   },
   {
    "duration": 83,
    "start_time": "2023-05-27T10:53:30.167Z"
   },
   {
    "duration": 128,
    "start_time": "2023-05-27T10:53:30.252Z"
   },
   {
    "duration": 78,
    "start_time": "2023-05-27T10:53:30.381Z"
   },
   {
    "duration": 34,
    "start_time": "2023-05-27T10:53:30.461Z"
   },
   {
    "duration": 180,
    "start_time": "2023-05-27T10:53:30.496Z"
   },
   {
    "duration": 280,
    "start_time": "2023-05-27T10:53:30.678Z"
   },
   {
    "duration": 14,
    "start_time": "2023-05-27T10:53:30.959Z"
   },
   {
    "duration": 79,
    "start_time": "2023-05-27T10:53:30.977Z"
   },
   {
    "duration": 200,
    "start_time": "2023-05-27T10:53:31.058Z"
   },
   {
    "duration": 13,
    "start_time": "2023-05-27T10:53:31.259Z"
   },
   {
    "duration": 64,
    "start_time": "2023-05-27T10:53:31.273Z"
   },
   {
    "duration": 205,
    "start_time": "2023-05-27T10:53:31.339Z"
   },
   {
    "duration": 4,
    "start_time": "2023-05-27T10:53:31.546Z"
   },
   {
    "duration": 35,
    "start_time": "2023-05-27T10:53:31.552Z"
   },
   {
    "duration": 117,
    "start_time": "2023-05-27T10:53:31.589Z"
   },
   {
    "duration": 10,
    "start_time": "2023-05-27T10:53:31.708Z"
   },
   {
    "duration": 175,
    "start_time": "2023-05-27T10:53:31.720Z"
   },
   {
    "duration": 6,
    "start_time": "2023-05-27T10:53:31.897Z"
   },
   {
    "duration": 35,
    "start_time": "2023-05-27T10:53:31.905Z"
   },
   {
    "duration": 24,
    "start_time": "2023-05-27T10:53:31.942Z"
   },
   {
    "duration": 25,
    "start_time": "2023-05-27T10:53:31.968Z"
   },
   {
    "duration": 28,
    "start_time": "2023-05-27T10:53:31.994Z"
   },
   {
    "duration": 72,
    "start_time": "2023-05-27T10:53:32.025Z"
   },
   {
    "duration": 7,
    "start_time": "2023-05-27T10:53:32.099Z"
   },
   {
    "duration": 71,
    "start_time": "2023-05-27T10:53:32.107Z"
   },
   {
    "duration": 98,
    "start_time": "2023-05-27T10:53:32.179Z"
   },
   {
    "duration": 101,
    "start_time": "2023-05-27T10:53:32.278Z"
   },
   {
    "duration": 13,
    "start_time": "2023-05-27T10:54:19.303Z"
   },
   {
    "duration": 2696,
    "start_time": "2023-05-27T10:54:22.037Z"
   },
   {
    "duration": 7,
    "start_time": "2023-05-27T10:54:24.737Z"
   },
   {
    "duration": 196,
    "start_time": "2023-05-27T10:54:24.745Z"
   },
   {
    "duration": 5,
    "start_time": "2023-05-27T10:54:24.944Z"
   },
   {
    "duration": 122,
    "start_time": "2023-05-27T10:54:24.951Z"
   },
   {
    "duration": 7,
    "start_time": "2023-05-27T10:54:25.075Z"
   },
   {
    "duration": 27,
    "start_time": "2023-05-27T10:54:25.083Z"
   },
   {
    "duration": 11,
    "start_time": "2023-05-27T10:54:25.111Z"
   },
   {
    "duration": 85,
    "start_time": "2023-05-27T10:54:25.123Z"
   },
   {
    "duration": 4,
    "start_time": "2023-05-27T10:54:25.210Z"
   },
   {
    "duration": 47,
    "start_time": "2023-05-27T10:54:25.216Z"
   },
   {
    "duration": 3,
    "start_time": "2023-05-27T10:54:25.265Z"
   },
   {
    "duration": 55,
    "start_time": "2023-05-27T10:54:25.270Z"
   },
   {
    "duration": 11,
    "start_time": "2023-05-27T10:54:25.328Z"
   },
   {
    "duration": 19,
    "start_time": "2023-05-27T10:54:25.341Z"
   },
   {
    "duration": 58,
    "start_time": "2023-05-27T10:54:25.362Z"
   },
   {
    "duration": 7,
    "start_time": "2023-05-27T10:54:25.421Z"
   },
   {
    "duration": 318,
    "start_time": "2023-05-27T10:54:25.431Z"
   },
   {
    "duration": 12,
    "start_time": "2023-05-27T10:54:25.751Z"
   },
   {
    "duration": 13,
    "start_time": "2023-05-27T10:54:25.764Z"
   },
   {
    "duration": 54,
    "start_time": "2023-05-27T10:54:25.778Z"
   },
   {
    "duration": 145,
    "start_time": "2023-05-27T10:54:25.834Z"
   },
   {
    "duration": 69,
    "start_time": "2023-05-27T10:54:25.981Z"
   },
   {
    "duration": 36,
    "start_time": "2023-05-27T10:54:26.051Z"
   },
   {
    "duration": 198,
    "start_time": "2023-05-27T10:54:26.088Z"
   },
   {
    "duration": 274,
    "start_time": "2023-05-27T10:54:26.287Z"
   },
   {
    "duration": 14,
    "start_time": "2023-05-27T10:54:26.562Z"
   },
   {
    "duration": 23,
    "start_time": "2023-05-27T10:54:26.579Z"
   },
   {
    "duration": 159,
    "start_time": "2023-05-27T10:54:26.604Z"
   },
   {
    "duration": 10,
    "start_time": "2023-05-27T10:54:26.765Z"
   },
   {
    "duration": 40,
    "start_time": "2023-05-27T10:54:26.777Z"
   },
   {
    "duration": 188,
    "start_time": "2023-05-27T10:54:26.819Z"
   },
   {
    "duration": 4,
    "start_time": "2023-05-27T10:54:27.009Z"
   },
   {
    "duration": 12,
    "start_time": "2023-05-27T10:54:27.025Z"
   },
   {
    "duration": 72,
    "start_time": "2023-05-27T10:54:27.039Z"
   },
   {
    "duration": 8,
    "start_time": "2023-05-27T10:54:27.112Z"
   },
   {
    "duration": 139,
    "start_time": "2023-05-27T10:54:27.124Z"
   },
   {
    "duration": 7,
    "start_time": "2023-05-27T10:54:27.265Z"
   },
   {
    "duration": 62,
    "start_time": "2023-05-27T10:54:27.274Z"
   },
   {
    "duration": 34,
    "start_time": "2023-05-27T10:54:27.337Z"
   },
   {
    "duration": 21,
    "start_time": "2023-05-27T10:54:27.373Z"
   },
   {
    "duration": 14,
    "start_time": "2023-05-27T10:54:27.396Z"
   },
   {
    "duration": 67,
    "start_time": "2023-05-27T10:54:27.412Z"
   },
   {
    "duration": 5,
    "start_time": "2023-05-27T10:54:27.481Z"
   },
   {
    "duration": 57,
    "start_time": "2023-05-27T10:54:27.488Z"
   },
   {
    "duration": 91,
    "start_time": "2023-05-27T10:54:27.546Z"
   },
   {
    "duration": 97,
    "start_time": "2023-05-27T10:54:27.639Z"
   },
   {
    "duration": 14,
    "start_time": "2023-05-27T10:57:35.488Z"
   },
   {
    "duration": 12,
    "start_time": "2023-05-27T10:57:40.252Z"
   },
   {
    "duration": 259,
    "start_time": "2023-05-27T11:00:58.713Z"
   },
   {
    "duration": 128,
    "start_time": "2023-05-27T11:01:08.138Z"
   },
   {
    "duration": 147,
    "start_time": "2023-05-27T11:01:25.416Z"
   },
   {
    "duration": 145,
    "start_time": "2023-05-27T11:01:44.426Z"
   },
   {
    "duration": 151,
    "start_time": "2023-05-27T11:01:59.100Z"
   },
   {
    "duration": 156,
    "start_time": "2023-05-27T11:02:08.858Z"
   },
   {
    "duration": 152,
    "start_time": "2023-05-27T11:03:13.506Z"
   },
   {
    "duration": 28,
    "start_time": "2023-05-27T11:04:10.736Z"
   },
   {
    "duration": 2703,
    "start_time": "2023-05-27T11:04:52.829Z"
   },
   {
    "duration": 1172,
    "start_time": "2023-05-27T11:04:55.534Z"
   },
   {
    "duration": 173,
    "start_time": "2023-05-27T11:04:56.708Z"
   },
   {
    "duration": 4,
    "start_time": "2023-05-27T11:04:56.883Z"
   },
   {
    "duration": 137,
    "start_time": "2023-05-27T11:04:56.888Z"
   },
   {
    "duration": 11,
    "start_time": "2023-05-27T11:04:57.027Z"
   },
   {
    "duration": 19,
    "start_time": "2023-05-27T11:04:57.040Z"
   },
   {
    "duration": 15,
    "start_time": "2023-05-27T11:04:57.061Z"
   },
   {
    "duration": 90,
    "start_time": "2023-05-27T11:04:57.078Z"
   },
   {
    "duration": 3,
    "start_time": "2023-05-27T11:04:57.171Z"
   },
   {
    "duration": 40,
    "start_time": "2023-05-27T11:04:57.176Z"
   },
   {
    "duration": 4,
    "start_time": "2023-05-27T11:04:57.217Z"
   },
   {
    "duration": 81,
    "start_time": "2023-05-27T11:04:57.222Z"
   },
   {
    "duration": 6,
    "start_time": "2023-05-27T11:04:57.305Z"
   },
   {
    "duration": 46,
    "start_time": "2023-05-27T11:04:57.313Z"
   },
   {
    "duration": 70,
    "start_time": "2023-05-27T11:04:57.361Z"
   },
   {
    "duration": 8,
    "start_time": "2023-05-27T11:04:57.433Z"
   },
   {
    "duration": 386,
    "start_time": "2023-05-27T11:04:57.442Z"
   },
   {
    "duration": 16,
    "start_time": "2023-05-27T11:04:57.830Z"
   },
   {
    "duration": 28,
    "start_time": "2023-05-27T11:04:57.848Z"
   },
   {
    "duration": 30,
    "start_time": "2023-05-27T11:04:57.877Z"
   },
   {
    "duration": 130,
    "start_time": "2023-05-27T11:04:57.909Z"
   },
   {
    "duration": 58,
    "start_time": "2023-05-27T11:04:58.041Z"
   },
   {
    "duration": 51,
    "start_time": "2023-05-27T11:04:58.100Z"
   },
   {
    "duration": 216,
    "start_time": "2023-05-27T11:04:58.153Z"
   },
   {
    "duration": 279,
    "start_time": "2023-05-27T11:04:58.370Z"
   },
   {
    "duration": 16,
    "start_time": "2023-05-27T11:04:58.651Z"
   },
   {
    "duration": 4,
    "start_time": "2023-05-27T11:04:58.670Z"
   },
   {
    "duration": 319,
    "start_time": "2023-05-27T11:04:58.675Z"
   },
   {
    "duration": 11,
    "start_time": "2023-05-27T11:04:58.996Z"
   },
   {
    "duration": 50,
    "start_time": "2023-05-27T11:04:59.009Z"
   },
   {
    "duration": 246,
    "start_time": "2023-05-27T11:04:59.061Z"
   },
   {
    "duration": 4,
    "start_time": "2023-05-27T11:04:59.309Z"
   },
   {
    "duration": 23,
    "start_time": "2023-05-27T11:04:59.314Z"
   },
   {
    "duration": 49,
    "start_time": "2023-05-27T11:04:59.340Z"
   },
   {
    "duration": 7,
    "start_time": "2023-05-27T11:04:59.390Z"
   },
   {
    "duration": 171,
    "start_time": "2023-05-27T11:04:59.398Z"
   },
   {
    "duration": 6,
    "start_time": "2023-05-27T11:04:59.571Z"
   },
   {
    "duration": 39,
    "start_time": "2023-05-27T11:04:59.579Z"
   },
   {
    "duration": 21,
    "start_time": "2023-05-27T11:04:59.620Z"
   },
   {
    "duration": 17,
    "start_time": "2023-05-27T11:04:59.643Z"
   },
   {
    "duration": 14,
    "start_time": "2023-05-27T11:04:59.662Z"
   },
   {
    "duration": 70,
    "start_time": "2023-05-27T11:04:59.677Z"
   },
   {
    "duration": 6,
    "start_time": "2023-05-27T11:04:59.749Z"
   },
   {
    "duration": 40,
    "start_time": "2023-05-27T11:04:59.756Z"
   },
   {
    "duration": 103,
    "start_time": "2023-05-27T11:04:59.797Z"
   },
   {
    "duration": 91,
    "start_time": "2023-05-27T11:04:59.901Z"
   },
   {
    "duration": 7,
    "start_time": "2023-05-27T11:07:21.716Z"
   },
   {
    "duration": 10,
    "start_time": "2023-05-27T11:07:49.487Z"
   },
   {
    "duration": 11,
    "start_time": "2023-05-27T11:07:55.536Z"
   },
   {
    "duration": 12,
    "start_time": "2023-05-27T11:08:04.117Z"
   },
   {
    "duration": 11,
    "start_time": "2023-05-27T11:09:49.674Z"
   },
   {
    "duration": 157,
    "start_time": "2023-05-27T11:20:23.587Z"
   },
   {
    "duration": 139,
    "start_time": "2023-05-27T11:20:31.915Z"
   },
   {
    "duration": 117,
    "start_time": "2023-05-27T11:30:09.883Z"
   },
   {
    "duration": 10,
    "start_time": "2023-05-27T11:30:20.221Z"
   },
   {
    "duration": 14,
    "start_time": "2023-05-27T11:30:24.755Z"
   },
   {
    "duration": 8,
    "start_time": "2023-05-27T11:30:48.291Z"
   },
   {
    "duration": 159,
    "start_time": "2023-05-27T11:30:59.876Z"
   },
   {
    "duration": 21,
    "start_time": "2023-05-27T11:31:10.051Z"
   },
   {
    "duration": 13,
    "start_time": "2023-05-27T11:31:20.463Z"
   },
   {
    "duration": 9,
    "start_time": "2023-05-27T11:33:15.654Z"
   },
   {
    "duration": 13,
    "start_time": "2023-05-27T11:33:22.841Z"
   },
   {
    "duration": 17,
    "start_time": "2023-05-27T11:33:40.499Z"
   },
   {
    "duration": 13,
    "start_time": "2023-05-27T11:33:45.756Z"
   },
   {
    "duration": 14,
    "start_time": "2023-05-27T11:35:09.549Z"
   },
   {
    "duration": 11,
    "start_time": "2023-05-27T11:35:26.195Z"
   },
   {
    "duration": 4,
    "start_time": "2023-05-27T11:35:50.707Z"
   },
   {
    "duration": 4,
    "start_time": "2023-05-27T11:35:53.794Z"
   },
   {
    "duration": 13,
    "start_time": "2023-05-27T11:36:01.915Z"
   },
   {
    "duration": 4,
    "start_time": "2023-05-27T11:36:04.150Z"
   },
   {
    "duration": 99,
    "start_time": "2023-05-27T11:36:40.970Z"
   },
   {
    "duration": 12,
    "start_time": "2023-05-27T11:36:45.820Z"
   },
   {
    "duration": 8,
    "start_time": "2023-05-27T11:37:43.549Z"
   },
   {
    "duration": 16,
    "start_time": "2023-05-27T11:38:26.878Z"
   },
   {
    "duration": 2728,
    "start_time": "2023-05-27T11:38:37.340Z"
   },
   {
    "duration": 1276,
    "start_time": "2023-05-27T11:38:40.071Z"
   },
   {
    "duration": 202,
    "start_time": "2023-05-27T11:38:41.349Z"
   },
   {
    "duration": 5,
    "start_time": "2023-05-27T11:38:41.553Z"
   },
   {
    "duration": 142,
    "start_time": "2023-05-27T11:38:41.560Z"
   },
   {
    "duration": 9,
    "start_time": "2023-05-27T11:38:41.704Z"
   },
   {
    "duration": 25,
    "start_time": "2023-05-27T11:38:41.715Z"
   },
   {
    "duration": 13,
    "start_time": "2023-05-27T11:38:41.743Z"
   },
   {
    "duration": 82,
    "start_time": "2023-05-27T11:38:41.757Z"
   },
   {
    "duration": 4,
    "start_time": "2023-05-27T11:38:41.842Z"
   },
   {
    "duration": 25,
    "start_time": "2023-05-27T11:38:41.848Z"
   },
   {
    "duration": 4,
    "start_time": "2023-05-27T11:38:41.875Z"
   },
   {
    "duration": 68,
    "start_time": "2023-05-27T11:38:41.880Z"
   },
   {
    "duration": 10,
    "start_time": "2023-05-27T11:38:41.952Z"
   },
   {
    "duration": 9,
    "start_time": "2023-05-27T11:38:41.964Z"
   },
   {
    "duration": 92,
    "start_time": "2023-05-27T11:38:41.975Z"
   },
   {
    "duration": 6,
    "start_time": "2023-05-27T11:38:42.069Z"
   },
   {
    "duration": 569,
    "start_time": "2023-05-27T11:38:42.076Z"
   },
   {
    "duration": 15,
    "start_time": "2023-05-27T11:38:42.647Z"
   },
   {
    "duration": 6,
    "start_time": "2023-05-27T11:38:42.663Z"
   },
   {
    "duration": 16,
    "start_time": "2023-05-27T11:38:42.671Z"
   },
   {
    "duration": 158,
    "start_time": "2023-05-27T11:38:42.688Z"
   },
   {
    "duration": 58,
    "start_time": "2023-05-27T11:38:42.848Z"
   },
   {
    "duration": 51,
    "start_time": "2023-05-27T11:38:42.907Z"
   },
   {
    "duration": 244,
    "start_time": "2023-05-27T11:38:42.960Z"
   },
   {
    "duration": 306,
    "start_time": "2023-05-27T11:38:43.206Z"
   },
   {
    "duration": 39,
    "start_time": "2023-05-27T11:38:43.513Z"
   },
   {
    "duration": 5,
    "start_time": "2023-05-27T11:38:43.555Z"
   },
   {
    "duration": 327,
    "start_time": "2023-05-27T11:38:43.562Z"
   },
   {
    "duration": 13,
    "start_time": "2023-05-27T11:38:43.891Z"
   },
   {
    "duration": 50,
    "start_time": "2023-05-27T11:38:43.906Z"
   },
   {
    "duration": 246,
    "start_time": "2023-05-27T11:38:43.957Z"
   },
   {
    "duration": 4,
    "start_time": "2023-05-27T11:38:44.205Z"
   },
   {
    "duration": 15,
    "start_time": "2023-05-27T11:38:44.211Z"
   },
   {
    "duration": 55,
    "start_time": "2023-05-27T11:38:44.228Z"
   },
   {
    "duration": 158,
    "start_time": "2023-05-27T11:38:44.285Z"
   },
   {
    "duration": 13,
    "start_time": "2023-05-27T11:38:44.445Z"
   },
   {
    "duration": 11,
    "start_time": "2023-05-27T11:38:44.460Z"
   },
   {
    "duration": 20,
    "start_time": "2023-05-27T11:38:44.473Z"
   },
   {
    "duration": 37,
    "start_time": "2023-05-27T11:38:44.494Z"
   },
   {
    "duration": 23,
    "start_time": "2023-05-27T11:38:44.536Z"
   },
   {
    "duration": 18,
    "start_time": "2023-05-27T11:38:44.561Z"
   },
   {
    "duration": 25,
    "start_time": "2023-05-27T11:38:44.580Z"
   },
   {
    "duration": 62,
    "start_time": "2023-05-27T11:38:44.606Z"
   },
   {
    "duration": 5,
    "start_time": "2023-05-27T11:38:44.670Z"
   },
   {
    "duration": 68,
    "start_time": "2023-05-27T11:38:44.677Z"
   },
   {
    "duration": 106,
    "start_time": "2023-05-27T11:38:44.747Z"
   },
   {
    "duration": 106,
    "start_time": "2023-05-27T11:38:44.855Z"
   },
   {
    "duration": 2707,
    "start_time": "2023-05-27T11:41:22.387Z"
   },
   {
    "duration": 1385,
    "start_time": "2023-05-27T11:41:25.099Z"
   },
   {
    "duration": 194,
    "start_time": "2023-05-27T11:41:26.486Z"
   },
   {
    "duration": 8,
    "start_time": "2023-05-27T11:41:26.681Z"
   },
   {
    "duration": 166,
    "start_time": "2023-05-27T11:41:26.692Z"
   },
   {
    "duration": 10,
    "start_time": "2023-05-27T11:41:26.860Z"
   },
   {
    "duration": 22,
    "start_time": "2023-05-27T11:41:26.871Z"
   },
   {
    "duration": 7,
    "start_time": "2023-05-27T11:41:26.895Z"
   },
   {
    "duration": 129,
    "start_time": "2023-05-27T11:41:26.904Z"
   },
   {
    "duration": 6,
    "start_time": "2023-05-27T11:41:27.035Z"
   },
   {
    "duration": 53,
    "start_time": "2023-05-27T11:41:27.042Z"
   },
   {
    "duration": 4,
    "start_time": "2023-05-27T11:41:27.097Z"
   },
   {
    "duration": 66,
    "start_time": "2023-05-27T11:41:27.102Z"
   },
   {
    "duration": 6,
    "start_time": "2023-05-27T11:41:27.172Z"
   },
   {
    "duration": 15,
    "start_time": "2023-05-27T11:41:27.180Z"
   },
   {
    "duration": 71,
    "start_time": "2023-05-27T11:41:27.196Z"
   },
   {
    "duration": 6,
    "start_time": "2023-05-27T11:41:27.269Z"
   },
   {
    "duration": 419,
    "start_time": "2023-05-27T11:41:27.276Z"
   },
   {
    "duration": 12,
    "start_time": "2023-05-27T11:41:27.697Z"
   },
   {
    "duration": 44,
    "start_time": "2023-05-27T11:41:27.711Z"
   },
   {
    "duration": 16,
    "start_time": "2023-05-27T11:41:27.757Z"
   },
   {
    "duration": 117,
    "start_time": "2023-05-27T11:41:27.776Z"
   },
   {
    "duration": 74,
    "start_time": "2023-05-27T11:41:27.894Z"
   },
   {
    "duration": 33,
    "start_time": "2023-05-27T11:41:27.969Z"
   },
   {
    "duration": 223,
    "start_time": "2023-05-27T11:41:28.004Z"
   },
   {
    "duration": 283,
    "start_time": "2023-05-27T11:41:28.229Z"
   },
   {
    "duration": 30,
    "start_time": "2023-05-27T11:41:28.526Z"
   },
   {
    "duration": 12,
    "start_time": "2023-05-27T11:41:28.558Z"
   },
   {
    "duration": 331,
    "start_time": "2023-05-27T11:41:28.573Z"
   },
   {
    "duration": 11,
    "start_time": "2023-05-27T11:41:28.906Z"
   },
   {
    "duration": 112,
    "start_time": "2023-05-27T11:41:28.925Z"
   },
   {
    "duration": 228,
    "start_time": "2023-05-27T11:41:29.039Z"
   },
   {
    "duration": 9,
    "start_time": "2023-05-27T11:41:29.268Z"
   },
   {
    "duration": 24,
    "start_time": "2023-05-27T11:41:29.280Z"
   },
   {
    "duration": 72,
    "start_time": "2023-05-27T11:41:29.305Z"
   },
   {
    "duration": 142,
    "start_time": "2023-05-27T11:41:29.379Z"
   },
   {
    "duration": 23,
    "start_time": "2023-05-27T11:41:29.523Z"
   },
   {
    "duration": 31,
    "start_time": "2023-05-27T11:41:29.549Z"
   },
   {
    "duration": 53,
    "start_time": "2023-05-27T11:41:29.581Z"
   },
   {
    "duration": 35,
    "start_time": "2023-05-27T11:41:29.638Z"
   },
   {
    "duration": 38,
    "start_time": "2023-05-27T11:41:29.677Z"
   },
   {
    "duration": 54,
    "start_time": "2023-05-27T11:41:29.716Z"
   },
   {
    "duration": 50,
    "start_time": "2023-05-27T11:41:29.772Z"
   },
   {
    "duration": 11,
    "start_time": "2023-05-27T11:41:29.824Z"
   },
   {
    "duration": 80,
    "start_time": "2023-05-27T11:41:29.839Z"
   },
   {
    "duration": 107,
    "start_time": "2023-05-27T11:41:29.921Z"
   },
   {
    "duration": 91,
    "start_time": "2023-05-27T11:41:30.032Z"
   },
   {
    "duration": 129,
    "start_time": "2023-05-27T11:56:34.149Z"
   },
   {
    "duration": 12,
    "start_time": "2023-05-27T11:56:45.491Z"
   },
   {
    "duration": 20,
    "start_time": "2023-05-27T11:57:10.401Z"
   },
   {
    "duration": 17,
    "start_time": "2023-05-27T11:58:00.837Z"
   },
   {
    "duration": 23,
    "start_time": "2023-05-27T11:58:16.445Z"
   },
   {
    "duration": 13,
    "start_time": "2023-05-27T11:58:21.802Z"
   },
   {
    "duration": 15,
    "start_time": "2023-05-27T11:58:53.546Z"
   },
   {
    "duration": 14,
    "start_time": "2023-05-27T11:58:57.047Z"
   },
   {
    "duration": 27,
    "start_time": "2023-05-27T11:59:05.100Z"
   },
   {
    "duration": 136,
    "start_time": "2023-05-27T11:59:27.556Z"
   },
   {
    "duration": 89,
    "start_time": "2023-05-27T11:59:32.261Z"
   },
   {
    "duration": 12,
    "start_time": "2023-05-27T11:59:37.053Z"
   },
   {
    "duration": 128,
    "start_time": "2023-05-27T11:59:45.759Z"
   },
   {
    "duration": 13,
    "start_time": "2023-05-27T12:00:16.088Z"
   },
   {
    "duration": 23,
    "start_time": "2023-05-27T12:04:50.358Z"
   },
   {
    "duration": 19,
    "start_time": "2023-05-27T12:05:24.281Z"
   },
   {
    "duration": 27,
    "start_time": "2023-05-27T12:05:43.191Z"
   },
   {
    "duration": 19,
    "start_time": "2023-05-27T12:06:17.512Z"
   },
   {
    "duration": 20,
    "start_time": "2023-05-27T12:06:25.095Z"
   },
   {
    "duration": 136,
    "start_time": "2023-05-27T12:09:08.629Z"
   },
   {
    "duration": 309,
    "start_time": "2023-05-27T12:09:23.563Z"
   },
   {
    "duration": 125,
    "start_time": "2023-05-27T12:10:00.294Z"
   },
   {
    "duration": 21,
    "start_time": "2023-05-27T12:10:12.653Z"
   },
   {
    "duration": 19,
    "start_time": "2023-05-27T12:10:21.317Z"
   },
   {
    "duration": 29,
    "start_time": "2023-05-27T12:10:27.680Z"
   },
   {
    "duration": 18,
    "start_time": "2023-05-27T12:11:06.494Z"
   },
   {
    "duration": 20,
    "start_time": "2023-05-27T12:11:42.967Z"
   },
   {
    "duration": 26,
    "start_time": "2023-05-27T12:17:40.399Z"
   },
   {
    "duration": 45,
    "start_time": "2023-05-27T12:17:54.464Z"
   },
   {
    "duration": 118,
    "start_time": "2023-05-27T12:18:30.329Z"
   },
   {
    "duration": 4,
    "start_time": "2023-05-27T12:19:03.983Z"
   },
   {
    "duration": 4,
    "start_time": "2023-05-27T12:19:21.800Z"
   },
   {
    "duration": 4,
    "start_time": "2023-05-27T12:23:59.502Z"
   },
   {
    "duration": 5,
    "start_time": "2023-05-27T12:25:05.152Z"
   },
   {
    "duration": 10,
    "start_time": "2023-05-27T12:25:17.063Z"
   },
   {
    "duration": 4,
    "start_time": "2023-05-27T12:25:21.664Z"
   },
   {
    "duration": 5,
    "start_time": "2023-05-27T12:25:41.328Z"
   },
   {
    "duration": 9,
    "start_time": "2023-05-27T12:25:44.048Z"
   },
   {
    "duration": 4,
    "start_time": "2023-05-27T12:25:58.488Z"
   },
   {
    "duration": 4,
    "start_time": "2023-05-27T12:26:03.017Z"
   },
   {
    "duration": 9,
    "start_time": "2023-05-27T12:26:26.202Z"
   },
   {
    "duration": 4,
    "start_time": "2023-05-27T12:26:31.546Z"
   },
   {
    "duration": 10,
    "start_time": "2023-05-27T12:27:29.499Z"
   },
   {
    "duration": 5,
    "start_time": "2023-05-27T12:28:01.775Z"
   },
   {
    "duration": 9,
    "start_time": "2023-05-27T12:28:45.722Z"
   },
   {
    "duration": 3,
    "start_time": "2023-05-27T12:29:21.106Z"
   },
   {
    "duration": 64,
    "start_time": "2023-05-27T12:29:45.617Z"
   },
   {
    "duration": 10,
    "start_time": "2023-05-27T12:30:29.090Z"
   },
   {
    "duration": 8,
    "start_time": "2023-05-27T12:32:54.145Z"
   },
   {
    "duration": 6,
    "start_time": "2023-05-27T12:33:23.449Z"
   },
   {
    "duration": 7,
    "start_time": "2023-05-27T12:33:34.049Z"
   },
   {
    "duration": 6,
    "start_time": "2023-05-27T12:33:40.602Z"
   },
   {
    "duration": 10,
    "start_time": "2023-05-27T12:34:05.393Z"
   },
   {
    "duration": 11,
    "start_time": "2023-05-27T12:36:38.775Z"
   },
   {
    "duration": 8,
    "start_time": "2023-05-27T12:37:05.506Z"
   },
   {
    "duration": 119,
    "start_time": "2023-05-27T12:39:53.052Z"
   },
   {
    "duration": 59,
    "start_time": "2023-05-27T12:41:20.636Z"
   },
   {
    "duration": 19,
    "start_time": "2023-05-27T12:41:58.772Z"
   },
   {
    "duration": 15,
    "start_time": "2023-05-27T12:42:34.853Z"
   },
   {
    "duration": 15,
    "start_time": "2023-05-27T12:44:36.614Z"
   },
   {
    "duration": 12,
    "start_time": "2023-05-27T12:44:51.030Z"
   },
   {
    "duration": 12,
    "start_time": "2023-05-27T12:44:54.271Z"
   },
   {
    "duration": 17,
    "start_time": "2023-05-27T12:45:03.006Z"
   },
   {
    "duration": 18,
    "start_time": "2023-05-27T12:47:28.503Z"
   },
   {
    "duration": 13,
    "start_time": "2023-05-27T12:49:46.745Z"
   },
   {
    "duration": 16,
    "start_time": "2023-05-27T12:49:52.449Z"
   },
   {
    "duration": 18,
    "start_time": "2023-05-27T12:50:18.794Z"
   },
   {
    "duration": 17,
    "start_time": "2023-05-27T12:50:51.610Z"
   },
   {
    "duration": 18,
    "start_time": "2023-05-27T12:55:53.727Z"
   },
   {
    "duration": 22,
    "start_time": "2023-05-27T12:58:13.009Z"
   },
   {
    "duration": 22,
    "start_time": "2023-05-27T12:58:35.753Z"
   },
   {
    "duration": 19,
    "start_time": "2023-05-27T13:00:17.658Z"
   },
   {
    "duration": 18,
    "start_time": "2023-05-27T13:07:19.164Z"
   },
   {
    "duration": 23,
    "start_time": "2023-05-27T13:07:24.460Z"
   },
   {
    "duration": 20,
    "start_time": "2023-05-27T13:08:54.597Z"
   },
   {
    "duration": 21,
    "start_time": "2023-05-27T13:09:33.271Z"
   },
   {
    "duration": 22,
    "start_time": "2023-05-27T13:09:48.959Z"
   },
   {
    "duration": 40,
    "start_time": "2023-05-27T13:11:18.225Z"
   },
   {
    "duration": 37,
    "start_time": "2023-05-27T13:11:47.249Z"
   },
   {
    "duration": 42,
    "start_time": "2023-05-27T13:11:52.041Z"
   },
   {
    "duration": 40,
    "start_time": "2023-05-27T13:12:05.801Z"
   },
   {
    "duration": 40,
    "start_time": "2023-05-27T13:12:08.617Z"
   },
   {
    "duration": 44,
    "start_time": "2023-05-27T13:13:17.899Z"
   },
   {
    "duration": 76,
    "start_time": "2023-05-27T13:13:32.923Z"
   },
   {
    "duration": 78,
    "start_time": "2023-05-27T13:13:41.875Z"
   },
   {
    "duration": 39,
    "start_time": "2023-05-27T13:13:49.895Z"
   },
   {
    "duration": 47,
    "start_time": "2023-05-27T13:16:13.462Z"
   },
   {
    "duration": 40,
    "start_time": "2023-05-27T13:16:24.878Z"
   },
   {
    "duration": 39,
    "start_time": "2023-05-27T13:16:52.526Z"
   },
   {
    "duration": 39,
    "start_time": "2023-05-27T13:16:59.158Z"
   },
   {
    "duration": 42,
    "start_time": "2023-05-27T13:18:02.056Z"
   },
   {
    "duration": 44,
    "start_time": "2023-05-27T13:18:20.232Z"
   },
   {
    "duration": 42,
    "start_time": "2023-05-27T13:19:48.506Z"
   },
   {
    "duration": 40,
    "start_time": "2023-05-27T13:21:02.323Z"
   },
   {
    "duration": 44,
    "start_time": "2023-05-27T13:21:07.547Z"
   },
   {
    "duration": 47,
    "start_time": "2023-05-27T13:21:31.636Z"
   },
   {
    "duration": 48,
    "start_time": "2023-05-27T13:22:11.973Z"
   },
   {
    "duration": 48,
    "start_time": "2023-05-27T13:22:17.437Z"
   },
   {
    "duration": 43,
    "start_time": "2023-05-27T13:23:28.350Z"
   },
   {
    "duration": 44,
    "start_time": "2023-05-27T13:23:37.478Z"
   },
   {
    "duration": 45,
    "start_time": "2023-05-27T13:24:13.518Z"
   },
   {
    "duration": 40,
    "start_time": "2023-05-27T13:24:16.158Z"
   },
   {
    "duration": 38,
    "start_time": "2023-05-27T13:24:46.647Z"
   },
   {
    "duration": 52,
    "start_time": "2023-05-27T13:25:21.975Z"
   },
   {
    "duration": 48,
    "start_time": "2023-05-27T13:26:07.354Z"
   },
   {
    "duration": 51,
    "start_time": "2023-05-27T13:26:13.657Z"
   },
   {
    "duration": 48,
    "start_time": "2023-05-27T13:26:35.209Z"
   },
   {
    "duration": 47,
    "start_time": "2023-05-27T13:26:48.089Z"
   },
   {
    "duration": 53,
    "start_time": "2023-05-27T13:26:50.657Z"
   },
   {
    "duration": 89,
    "start_time": "2023-05-27T13:27:00.121Z"
   },
   {
    "duration": 49,
    "start_time": "2023-05-27T13:27:03.241Z"
   },
   {
    "duration": 51,
    "start_time": "2023-05-27T13:27:12.914Z"
   },
   {
    "duration": 52,
    "start_time": "2023-05-27T13:27:17.465Z"
   },
   {
    "duration": 52,
    "start_time": "2023-05-27T13:27:37.178Z"
   },
   {
    "duration": 44,
    "start_time": "2023-05-27T13:28:01.970Z"
   },
   {
    "duration": 59,
    "start_time": "2023-05-27T13:28:49.515Z"
   },
   {
    "duration": 50,
    "start_time": "2023-05-27T13:29:35.339Z"
   },
   {
    "duration": 42,
    "start_time": "2023-05-27T13:29:42.291Z"
   },
   {
    "duration": 46,
    "start_time": "2023-05-27T13:29:47.804Z"
   },
   {
    "duration": 46,
    "start_time": "2023-05-27T13:30:17.484Z"
   },
   {
    "duration": 46,
    "start_time": "2023-05-27T13:30:23.804Z"
   },
   {
    "duration": 42,
    "start_time": "2023-05-27T13:32:33.951Z"
   },
   {
    "duration": 42,
    "start_time": "2023-05-27T13:32:43.995Z"
   },
   {
    "duration": 40,
    "start_time": "2023-05-27T13:32:48.783Z"
   },
   {
    "duration": 36,
    "start_time": "2023-05-27T13:33:18.683Z"
   },
   {
    "duration": 37,
    "start_time": "2023-05-27T13:33:21.392Z"
   },
   {
    "duration": 39,
    "start_time": "2023-05-27T13:33:27.374Z"
   },
   {
    "duration": 34,
    "start_time": "2023-05-27T13:33:32.152Z"
   },
   {
    "duration": 34,
    "start_time": "2023-05-27T13:33:44.552Z"
   },
   {
    "duration": 40,
    "start_time": "2023-05-27T13:33:46.703Z"
   },
   {
    "duration": 50,
    "start_time": "2023-05-27T13:34:04.881Z"
   },
   {
    "duration": 61,
    "start_time": "2023-05-27T13:34:13.497Z"
   },
   {
    "duration": 40,
    "start_time": "2023-05-27T13:34:18.075Z"
   },
   {
    "duration": 38,
    "start_time": "2023-05-27T13:35:09.642Z"
   },
   {
    "duration": 38,
    "start_time": "2023-05-27T13:35:15.017Z"
   },
   {
    "duration": 35,
    "start_time": "2023-05-27T13:38:38.370Z"
   },
   {
    "duration": 47,
    "start_time": "2023-05-27T13:38:45.429Z"
   },
   {
    "duration": 48,
    "start_time": "2023-05-27T13:40:08.504Z"
   },
   {
    "duration": 48,
    "start_time": "2023-05-27T13:43:13.116Z"
   },
   {
    "duration": 55,
    "start_time": "2023-05-27T13:45:01.078Z"
   },
   {
    "duration": 40,
    "start_time": "2023-05-27T13:45:21.591Z"
   },
   {
    "duration": 59,
    "start_time": "2023-05-27T13:45:27.702Z"
   },
   {
    "duration": 50,
    "start_time": "2023-05-27T13:49:29.683Z"
   },
   {
    "duration": 48,
    "start_time": "2023-05-27T13:49:48.538Z"
   },
   {
    "duration": 99,
    "start_time": "2023-05-27T13:50:32.515Z"
   },
   {
    "duration": 41,
    "start_time": "2023-05-27T13:50:37.107Z"
   },
   {
    "duration": 40,
    "start_time": "2023-05-27T13:50:52.611Z"
   },
   {
    "duration": 37,
    "start_time": "2023-05-27T13:50:56.412Z"
   },
   {
    "duration": 41,
    "start_time": "2023-05-27T13:51:01.820Z"
   },
   {
    "duration": 45,
    "start_time": "2023-05-27T13:51:05.068Z"
   },
   {
    "duration": 41,
    "start_time": "2023-05-27T13:51:16.789Z"
   },
   {
    "duration": 37,
    "start_time": "2023-05-27T13:51:20.876Z"
   },
   {
    "duration": 47,
    "start_time": "2023-05-27T13:51:24.822Z"
   },
   {
    "duration": 55,
    "start_time": "2023-05-27T13:51:51.797Z"
   },
   {
    "duration": 42,
    "start_time": "2023-05-27T13:51:54.765Z"
   },
   {
    "duration": 43,
    "start_time": "2023-05-27T13:52:28.686Z"
   },
   {
    "duration": 43,
    "start_time": "2023-05-27T13:52:36.454Z"
   },
   {
    "duration": 38,
    "start_time": "2023-05-27T13:53:18.415Z"
   },
   {
    "duration": 46,
    "start_time": "2023-05-27T13:53:23.055Z"
   },
   {
    "duration": 53,
    "start_time": "2023-05-27T13:54:01.072Z"
   },
   {
    "duration": 51,
    "start_time": "2023-05-27T13:54:10.151Z"
   },
   {
    "duration": 49,
    "start_time": "2023-05-27T13:54:22.399Z"
   },
   {
    "duration": 48,
    "start_time": "2023-05-27T13:54:27.415Z"
   },
   {
    "duration": 44,
    "start_time": "2023-05-27T13:54:29.319Z"
   },
   {
    "duration": 48,
    "start_time": "2023-05-27T13:54:57.657Z"
   },
   {
    "duration": 120,
    "start_time": "2023-05-27T13:55:57.216Z"
   },
   {
    "duration": 42,
    "start_time": "2023-05-27T13:55:58.169Z"
   },
   {
    "duration": 2726,
    "start_time": "2023-05-27T13:56:04.332Z"
   },
   {
    "duration": 1218,
    "start_time": "2023-05-27T13:56:07.061Z"
   },
   {
    "duration": 186,
    "start_time": "2023-05-27T13:56:08.280Z"
   },
   {
    "duration": 4,
    "start_time": "2023-05-27T13:56:08.468Z"
   },
   {
    "duration": 121,
    "start_time": "2023-05-27T13:56:08.474Z"
   },
   {
    "duration": 27,
    "start_time": "2023-05-27T13:56:08.597Z"
   },
   {
    "duration": 13,
    "start_time": "2023-05-27T13:56:08.626Z"
   },
   {
    "duration": 4,
    "start_time": "2023-05-27T13:56:08.641Z"
   },
   {
    "duration": 89,
    "start_time": "2023-05-27T13:56:08.646Z"
   },
   {
    "duration": 3,
    "start_time": "2023-05-27T13:56:08.738Z"
   },
   {
    "duration": 34,
    "start_time": "2023-05-27T13:56:08.743Z"
   },
   {
    "duration": 3,
    "start_time": "2023-05-27T13:56:08.779Z"
   },
   {
    "duration": 64,
    "start_time": "2023-05-27T13:56:08.784Z"
   },
   {
    "duration": 7,
    "start_time": "2023-05-27T13:56:08.850Z"
   },
   {
    "duration": 12,
    "start_time": "2023-05-27T13:56:08.858Z"
   },
   {
    "duration": 79,
    "start_time": "2023-05-27T13:56:08.871Z"
   },
   {
    "duration": 6,
    "start_time": "2023-05-27T13:56:08.951Z"
   },
   {
    "duration": 376,
    "start_time": "2023-05-27T13:56:08.958Z"
   },
   {
    "duration": 12,
    "start_time": "2023-05-27T13:56:09.336Z"
   },
   {
    "duration": 6,
    "start_time": "2023-05-27T13:56:09.350Z"
   },
   {
    "duration": 16,
    "start_time": "2023-05-27T13:56:09.358Z"
   },
   {
    "duration": 141,
    "start_time": "2023-05-27T13:56:09.376Z"
   },
   {
    "duration": 64,
    "start_time": "2023-05-27T13:56:09.519Z"
   },
   {
    "duration": 51,
    "start_time": "2023-05-27T13:56:09.585Z"
   },
   {
    "duration": 229,
    "start_time": "2023-05-27T13:56:09.638Z"
   },
   {
    "duration": 258,
    "start_time": "2023-05-27T13:56:09.869Z"
   },
   {
    "duration": 18,
    "start_time": "2023-05-27T13:56:10.129Z"
   },
   {
    "duration": 4,
    "start_time": "2023-05-27T13:56:10.150Z"
   },
   {
    "duration": 285,
    "start_time": "2023-05-27T13:56:10.156Z"
   },
   {
    "duration": 13,
    "start_time": "2023-05-27T13:56:10.443Z"
   },
   {
    "duration": 70,
    "start_time": "2023-05-27T13:56:10.458Z"
   },
   {
    "duration": 216,
    "start_time": "2023-05-27T13:56:10.529Z"
   },
   {
    "duration": 5,
    "start_time": "2023-05-27T13:56:10.747Z"
   },
   {
    "duration": 19,
    "start_time": "2023-05-27T13:56:10.755Z"
   },
   {
    "duration": 63,
    "start_time": "2023-05-27T13:56:10.776Z"
   },
   {
    "duration": 158,
    "start_time": "2023-05-27T13:56:10.841Z"
   },
   {
    "duration": 15,
    "start_time": "2023-05-27T13:56:11.002Z"
   },
   {
    "duration": 16,
    "start_time": "2023-05-27T13:56:11.025Z"
   },
   {
    "duration": 39,
    "start_time": "2023-05-27T13:56:11.044Z"
   },
   {
    "duration": 22,
    "start_time": "2023-05-27T13:56:11.085Z"
   },
   {
    "duration": 26,
    "start_time": "2023-05-27T13:56:11.109Z"
   },
   {
    "duration": 21,
    "start_time": "2023-05-27T13:56:11.137Z"
   },
   {
    "duration": 165,
    "start_time": "2023-05-27T13:56:11.161Z"
   },
   {
    "duration": 43,
    "start_time": "2023-05-27T13:56:11.328Z"
   },
   {
    "duration": 71,
    "start_time": "2023-05-27T13:56:11.373Z"
   },
   {
    "duration": 39,
    "start_time": "2023-05-27T13:56:11.445Z"
   },
   {
    "duration": 7,
    "start_time": "2023-05-27T13:56:11.485Z"
   },
   {
    "duration": 63,
    "start_time": "2023-05-27T13:56:11.494Z"
   },
   {
    "duration": 91,
    "start_time": "2023-05-27T13:56:11.559Z"
   },
   {
    "duration": 86,
    "start_time": "2023-05-27T13:56:11.652Z"
   },
   {
    "duration": 117,
    "start_time": "2023-05-27T13:59:34.281Z"
   },
   {
    "duration": 127,
    "start_time": "2023-05-27T13:59:51.144Z"
   },
   {
    "duration": 42,
    "start_time": "2023-05-27T13:59:54.788Z"
   },
   {
    "duration": 48,
    "start_time": "2023-05-27T14:00:01.293Z"
   },
   {
    "duration": 101,
    "start_time": "2023-05-27T14:04:11.240Z"
   },
   {
    "duration": 47,
    "start_time": "2023-05-27T14:04:19.208Z"
   },
   {
    "duration": 1081,
    "start_time": "2023-05-27T14:04:59.058Z"
   },
   {
    "duration": 972,
    "start_time": "2023-05-27T14:05:05.972Z"
   },
   {
    "duration": 122,
    "start_time": "2023-05-27T14:05:21.498Z"
   },
   {
    "duration": 998,
    "start_time": "2023-05-27T14:05:23.277Z"
   },
   {
    "duration": 97,
    "start_time": "2023-05-27T14:06:23.198Z"
   },
   {
    "duration": 46,
    "start_time": "2023-05-27T14:06:25.498Z"
   },
   {
    "duration": 45,
    "start_time": "2023-05-27T14:06:32.574Z"
   },
   {
    "duration": 52,
    "start_time": "2023-05-27T14:07:31.692Z"
   },
   {
    "duration": 115,
    "start_time": "2023-05-27T14:07:47.142Z"
   },
   {
    "duration": 45,
    "start_time": "2023-05-27T14:07:50.938Z"
   },
   {
    "duration": 46,
    "start_time": "2023-05-27T14:08:23.645Z"
   },
   {
    "duration": 46,
    "start_time": "2023-05-27T14:08:33.342Z"
   },
   {
    "duration": 52,
    "start_time": "2023-05-27T14:09:19.911Z"
   },
   {
    "duration": 45,
    "start_time": "2023-05-27T14:11:16.471Z"
   },
   {
    "duration": 50,
    "start_time": "2023-05-27T14:11:37.374Z"
   },
   {
    "duration": 45,
    "start_time": "2023-05-27T14:11:46.376Z"
   },
   {
    "duration": 60,
    "start_time": "2023-05-27T14:12:10.474Z"
   },
   {
    "duration": 59,
    "start_time": "2023-05-27T14:12:17.521Z"
   },
   {
    "duration": 2627,
    "start_time": "2023-05-27T14:12:35.994Z"
   },
   {
    "duration": 1245,
    "start_time": "2023-05-27T14:12:38.624Z"
   },
   {
    "duration": 191,
    "start_time": "2023-05-27T14:12:39.871Z"
   },
   {
    "duration": 5,
    "start_time": "2023-05-27T14:12:40.069Z"
   },
   {
    "duration": 176,
    "start_time": "2023-05-27T14:12:40.076Z"
   },
   {
    "duration": 10,
    "start_time": "2023-05-27T14:12:40.254Z"
   },
   {
    "duration": 37,
    "start_time": "2023-05-27T14:12:40.266Z"
   },
   {
    "duration": 36,
    "start_time": "2023-05-27T14:12:40.305Z"
   },
   {
    "duration": 75,
    "start_time": "2023-05-27T14:12:40.344Z"
   },
   {
    "duration": 7,
    "start_time": "2023-05-27T14:12:40.422Z"
   },
   {
    "duration": 41,
    "start_time": "2023-05-27T14:12:40.432Z"
   },
   {
    "duration": 5,
    "start_time": "2023-05-27T14:12:40.474Z"
   },
   {
    "duration": 78,
    "start_time": "2023-05-27T14:12:40.480Z"
   },
   {
    "duration": 8,
    "start_time": "2023-05-27T14:12:40.560Z"
   },
   {
    "duration": 31,
    "start_time": "2023-05-27T14:12:40.570Z"
   },
   {
    "duration": 99,
    "start_time": "2023-05-27T14:12:40.603Z"
   },
   {
    "duration": 7,
    "start_time": "2023-05-27T14:12:40.703Z"
   },
   {
    "duration": 464,
    "start_time": "2023-05-27T14:12:40.712Z"
   },
   {
    "duration": 13,
    "start_time": "2023-05-27T14:12:41.177Z"
   },
   {
    "duration": 19,
    "start_time": "2023-05-27T14:12:41.191Z"
   },
   {
    "duration": 52,
    "start_time": "2023-05-27T14:12:41.212Z"
   },
   {
    "duration": 139,
    "start_time": "2023-05-27T14:12:41.266Z"
   },
   {
    "duration": 74,
    "start_time": "2023-05-27T14:12:41.407Z"
   },
   {
    "duration": 58,
    "start_time": "2023-05-27T14:12:41.483Z"
   },
   {
    "duration": 202,
    "start_time": "2023-05-27T14:12:41.543Z"
   },
   {
    "duration": 249,
    "start_time": "2023-05-27T14:12:41.747Z"
   },
   {
    "duration": 17,
    "start_time": "2023-05-27T14:12:41.998Z"
   },
   {
    "duration": 27,
    "start_time": "2023-05-27T14:12:42.019Z"
   },
   {
    "duration": 497,
    "start_time": "2023-05-27T14:12:42.048Z"
   },
   {
    "duration": 16,
    "start_time": "2023-05-27T14:12:42.547Z"
   },
   {
    "duration": 83,
    "start_time": "2023-05-27T14:12:42.565Z"
   },
   {
    "duration": 272,
    "start_time": "2023-05-27T14:12:42.650Z"
   },
   {
    "duration": 9,
    "start_time": "2023-05-27T14:12:42.923Z"
   },
   {
    "duration": 28,
    "start_time": "2023-05-27T14:12:42.934Z"
   },
   {
    "duration": 50,
    "start_time": "2023-05-27T14:12:42.964Z"
   },
   {
    "duration": 163,
    "start_time": "2023-05-27T14:12:43.016Z"
   },
   {
    "duration": 13,
    "start_time": "2023-05-27T14:12:43.181Z"
   },
   {
    "duration": 82,
    "start_time": "2023-05-27T14:12:43.196Z"
   },
   {
    "duration": 42,
    "start_time": "2023-05-27T14:12:43.280Z"
   },
   {
    "duration": 33,
    "start_time": "2023-05-27T14:12:43.323Z"
   },
   {
    "duration": 23,
    "start_time": "2023-05-27T14:12:43.357Z"
   },
   {
    "duration": 51,
    "start_time": "2023-05-27T14:12:43.382Z"
   },
   {
    "duration": 154,
    "start_time": "2023-05-27T14:12:43.435Z"
   },
   {
    "duration": 78,
    "start_time": "2023-05-27T14:12:43.590Z"
   },
   {
    "duration": 78,
    "start_time": "2023-05-27T14:12:43.670Z"
   },
   {
    "duration": 45,
    "start_time": "2023-05-27T14:12:43.750Z"
   },
   {
    "duration": 6,
    "start_time": "2023-05-27T14:12:43.797Z"
   },
   {
    "duration": 38,
    "start_time": "2023-05-27T14:12:43.827Z"
   },
   {
    "duration": 82,
    "start_time": "2023-05-27T14:12:43.866Z"
   },
   {
    "duration": 85,
    "start_time": "2023-05-27T14:12:43.950Z"
   },
   {
    "duration": 114,
    "start_time": "2023-05-27T14:13:16.122Z"
   },
   {
    "duration": 132,
    "start_time": "2023-05-27T14:13:23.701Z"
   },
   {
    "duration": 51,
    "start_time": "2023-05-27T14:13:25.754Z"
   },
   {
    "duration": 48,
    "start_time": "2023-05-27T14:13:37.371Z"
   },
   {
    "duration": 53,
    "start_time": "2023-05-27T14:13:47.259Z"
   },
   {
    "duration": 54,
    "start_time": "2023-05-27T14:13:50.842Z"
   },
   {
    "duration": 50,
    "start_time": "2023-05-27T14:13:59.340Z"
   },
   {
    "duration": 47,
    "start_time": "2023-05-27T14:14:06.339Z"
   },
   {
    "duration": 55,
    "start_time": "2023-05-27T14:14:29.172Z"
   },
   {
    "duration": 49,
    "start_time": "2023-05-27T14:14:42.876Z"
   },
   {
    "duration": 119,
    "start_time": "2023-05-27T14:15:30.525Z"
   },
   {
    "duration": 3,
    "start_time": "2023-05-27T14:19:29.801Z"
   },
   {
    "duration": 2759,
    "start_time": "2023-05-27T14:23:02.478Z"
   },
   {
    "duration": 1286,
    "start_time": "2023-05-27T14:23:05.240Z"
   },
   {
    "duration": 190,
    "start_time": "2023-05-27T14:23:06.528Z"
   },
   {
    "duration": 5,
    "start_time": "2023-05-27T14:23:06.720Z"
   },
   {
    "duration": 183,
    "start_time": "2023-05-27T14:23:06.728Z"
   },
   {
    "duration": 17,
    "start_time": "2023-05-27T14:23:06.913Z"
   },
   {
    "duration": 33,
    "start_time": "2023-05-27T14:23:06.932Z"
   },
   {
    "duration": 22,
    "start_time": "2023-05-27T14:23:06.967Z"
   },
   {
    "duration": 102,
    "start_time": "2023-05-27T14:23:06.991Z"
   },
   {
    "duration": 6,
    "start_time": "2023-05-27T14:23:07.095Z"
   },
   {
    "duration": 46,
    "start_time": "2023-05-27T14:23:07.103Z"
   },
   {
    "duration": 8,
    "start_time": "2023-05-27T14:23:07.151Z"
   },
   {
    "duration": 86,
    "start_time": "2023-05-27T14:23:07.161Z"
   },
   {
    "duration": 8,
    "start_time": "2023-05-27T14:23:07.251Z"
   },
   {
    "duration": 33,
    "start_time": "2023-05-27T14:23:07.261Z"
   },
   {
    "duration": 89,
    "start_time": "2023-05-27T14:23:07.296Z"
   },
   {
    "duration": 7,
    "start_time": "2023-05-27T14:23:07.387Z"
   },
   {
    "duration": 398,
    "start_time": "2023-05-27T14:23:07.395Z"
   },
   {
    "duration": 17,
    "start_time": "2023-05-27T14:23:07.795Z"
   },
   {
    "duration": 6,
    "start_time": "2023-05-27T14:23:07.826Z"
   },
   {
    "duration": 22,
    "start_time": "2023-05-27T14:23:07.833Z"
   },
   {
    "duration": 157,
    "start_time": "2023-05-27T14:23:07.857Z"
   },
   {
    "duration": 72,
    "start_time": "2023-05-27T14:23:08.016Z"
   },
   {
    "duration": 51,
    "start_time": "2023-05-27T14:23:08.090Z"
   },
   {
    "duration": 223,
    "start_time": "2023-05-27T14:23:08.143Z"
   },
   {
    "duration": 265,
    "start_time": "2023-05-27T14:23:08.368Z"
   },
   {
    "duration": 27,
    "start_time": "2023-05-27T14:23:08.635Z"
   },
   {
    "duration": 15,
    "start_time": "2023-05-27T14:23:08.664Z"
   },
   {
    "duration": 285,
    "start_time": "2023-05-27T14:23:08.681Z"
   },
   {
    "duration": 18,
    "start_time": "2023-05-27T14:23:08.969Z"
   },
   {
    "duration": 76,
    "start_time": "2023-05-27T14:23:08.990Z"
   },
   {
    "duration": 323,
    "start_time": "2023-05-27T14:23:09.069Z"
   },
   {
    "duration": 5,
    "start_time": "2023-05-27T14:23:09.393Z"
   },
   {
    "duration": 27,
    "start_time": "2023-05-27T14:23:09.399Z"
   },
   {
    "duration": 50,
    "start_time": "2023-05-27T14:23:09.429Z"
   },
   {
    "duration": 149,
    "start_time": "2023-05-27T14:23:09.481Z"
   },
   {
    "duration": 14,
    "start_time": "2023-05-27T14:23:09.631Z"
   },
   {
    "duration": 44,
    "start_time": "2023-05-27T14:23:09.647Z"
   },
   {
    "duration": 45,
    "start_time": "2023-05-27T14:23:09.693Z"
   },
   {
    "duration": 22,
    "start_time": "2023-05-27T14:23:09.740Z"
   },
   {
    "duration": 72,
    "start_time": "2023-05-27T14:23:09.767Z"
   },
   {
    "duration": 65,
    "start_time": "2023-05-27T14:23:09.841Z"
   },
   {
    "duration": 15,
    "start_time": "2023-05-27T14:23:09.908Z"
   },
   {
    "duration": 31,
    "start_time": "2023-05-27T14:23:09.925Z"
   },
   {
    "duration": 124,
    "start_time": "2023-05-27T14:23:09.960Z"
   },
   {
    "duration": 108,
    "start_time": "2023-05-27T14:23:10.086Z"
   },
   {
    "duration": 6,
    "start_time": "2023-05-27T14:23:10.197Z"
   },
   {
    "duration": 49,
    "start_time": "2023-05-27T14:23:10.206Z"
   },
   {
    "duration": 99,
    "start_time": "2023-05-27T14:23:10.258Z"
   },
   {
    "duration": 108,
    "start_time": "2023-05-27T14:23:10.360Z"
   },
   {
    "duration": 8,
    "start_time": "2023-05-27T14:30:16.940Z"
   },
   {
    "duration": 85,
    "start_time": "2023-05-27T14:32:52.799Z"
   },
   {
    "duration": 74,
    "start_time": "2023-05-27T14:33:26.338Z"
   },
   {
    "duration": 77,
    "start_time": "2023-05-27T14:33:43.424Z"
   },
   {
    "duration": 115,
    "start_time": "2023-05-27T14:36:13.851Z"
   },
   {
    "duration": 121,
    "start_time": "2023-05-27T14:36:26.323Z"
   },
   {
    "duration": 121,
    "start_time": "2023-05-27T14:36:51.283Z"
   },
   {
    "duration": 126,
    "start_time": "2023-05-27T14:37:09.579Z"
   },
   {
    "duration": 117,
    "start_time": "2023-05-27T14:37:33.715Z"
   },
   {
    "duration": 99,
    "start_time": "2023-05-27T14:37:52.437Z"
   },
   {
    "duration": 109,
    "start_time": "2023-05-27T14:37:53.741Z"
   },
   {
    "duration": 2760,
    "start_time": "2023-05-27T14:38:01.807Z"
   },
   {
    "duration": 1234,
    "start_time": "2023-05-27T14:38:04.569Z"
   },
   {
    "duration": 190,
    "start_time": "2023-05-27T14:38:05.805Z"
   },
   {
    "duration": 5,
    "start_time": "2023-05-27T14:38:05.998Z"
   },
   {
    "duration": 140,
    "start_time": "2023-05-27T14:38:06.005Z"
   },
   {
    "duration": 9,
    "start_time": "2023-05-27T14:38:06.148Z"
   },
   {
    "duration": 14,
    "start_time": "2023-05-27T14:38:06.159Z"
   },
   {
    "duration": 11,
    "start_time": "2023-05-27T14:38:06.175Z"
   },
   {
    "duration": 95,
    "start_time": "2023-05-27T14:38:06.187Z"
   },
   {
    "duration": 3,
    "start_time": "2023-05-27T14:38:06.285Z"
   },
   {
    "duration": 43,
    "start_time": "2023-05-27T14:38:06.290Z"
   },
   {
    "duration": 4,
    "start_time": "2023-05-27T14:38:06.336Z"
   },
   {
    "duration": 60,
    "start_time": "2023-05-27T14:38:06.342Z"
   },
   {
    "duration": 26,
    "start_time": "2023-05-27T14:38:06.404Z"
   },
   {
    "duration": 7,
    "start_time": "2023-05-27T14:38:06.432Z"
   },
   {
    "duration": 60,
    "start_time": "2023-05-27T14:38:06.441Z"
   },
   {
    "duration": 25,
    "start_time": "2023-05-27T14:38:06.503Z"
   },
   {
    "duration": 402,
    "start_time": "2023-05-27T14:38:06.530Z"
   },
   {
    "duration": 16,
    "start_time": "2023-05-27T14:38:06.934Z"
   },
   {
    "duration": 7,
    "start_time": "2023-05-27T14:38:06.952Z"
   },
   {
    "duration": 20,
    "start_time": "2023-05-27T14:38:06.961Z"
   },
   {
    "duration": 198,
    "start_time": "2023-05-27T14:38:06.983Z"
   },
   {
    "duration": 71,
    "start_time": "2023-05-27T14:38:07.183Z"
   },
   {
    "duration": 38,
    "start_time": "2023-05-27T14:38:07.256Z"
   },
   {
    "duration": 233,
    "start_time": "2023-05-27T14:38:07.296Z"
   },
   {
    "duration": 259,
    "start_time": "2023-05-27T14:38:07.531Z"
   },
   {
    "duration": 35,
    "start_time": "2023-05-27T14:38:07.792Z"
   },
   {
    "duration": 3,
    "start_time": "2023-05-27T14:38:07.831Z"
   },
   {
    "duration": 278,
    "start_time": "2023-05-27T14:38:07.836Z"
   },
   {
    "duration": 20,
    "start_time": "2023-05-27T14:38:08.115Z"
   },
   {
    "duration": 30,
    "start_time": "2023-05-27T14:38:08.138Z"
   },
   {
    "duration": 223,
    "start_time": "2023-05-27T14:38:08.224Z"
   },
   {
    "duration": 4,
    "start_time": "2023-05-27T14:38:08.449Z"
   },
   {
    "duration": 23,
    "start_time": "2023-05-27T14:38:08.455Z"
   },
   {
    "duration": 56,
    "start_time": "2023-05-27T14:38:08.480Z"
   },
   {
    "duration": 140,
    "start_time": "2023-05-27T14:38:08.538Z"
   },
   {
    "duration": 14,
    "start_time": "2023-05-27T14:38:08.680Z"
   },
   {
    "duration": 15,
    "start_time": "2023-05-27T14:38:08.696Z"
   },
   {
    "duration": 31,
    "start_time": "2023-05-27T14:38:08.712Z"
   },
   {
    "duration": 15,
    "start_time": "2023-05-27T14:38:08.745Z"
   },
   {
    "duration": 15,
    "start_time": "2023-05-27T14:38:08.762Z"
   },
   {
    "duration": 46,
    "start_time": "2023-05-27T14:38:08.778Z"
   },
   {
    "duration": 3,
    "start_time": "2023-05-27T14:38:08.826Z"
   },
   {
    "duration": 11,
    "start_time": "2023-05-27T14:38:08.831Z"
   },
   {
    "duration": 86,
    "start_time": "2023-05-27T14:38:08.845Z"
   },
   {
    "duration": 131,
    "start_time": "2023-05-27T14:38:08.934Z"
   },
   {
    "duration": 6,
    "start_time": "2023-05-27T14:38:09.067Z"
   },
   {
    "duration": 38,
    "start_time": "2023-05-27T14:38:09.075Z"
   },
   {
    "duration": 78,
    "start_time": "2023-05-27T14:38:09.125Z"
   },
   {
    "duration": 104,
    "start_time": "2023-05-27T14:38:09.205Z"
   },
   {
    "duration": 2540,
    "start_time": "2023-05-27T14:39:21.200Z"
   },
   {
    "duration": 1142,
    "start_time": "2023-05-27T14:39:23.743Z"
   },
   {
    "duration": 197,
    "start_time": "2023-05-27T14:39:24.886Z"
   },
   {
    "duration": 6,
    "start_time": "2023-05-27T14:39:25.087Z"
   },
   {
    "duration": 165,
    "start_time": "2023-05-27T14:39:25.094Z"
   },
   {
    "duration": 12,
    "start_time": "2023-05-27T14:39:25.261Z"
   },
   {
    "duration": 35,
    "start_time": "2023-05-27T14:39:25.274Z"
   },
   {
    "duration": 3,
    "start_time": "2023-05-27T14:39:25.312Z"
   },
   {
    "duration": 81,
    "start_time": "2023-05-27T14:39:25.316Z"
   },
   {
    "duration": 4,
    "start_time": "2023-05-27T14:39:25.400Z"
   },
   {
    "duration": 61,
    "start_time": "2023-05-27T14:39:25.406Z"
   },
   {
    "duration": 3,
    "start_time": "2023-05-27T14:39:25.469Z"
   },
   {
    "duration": 63,
    "start_time": "2023-05-27T14:39:25.474Z"
   },
   {
    "duration": 8,
    "start_time": "2023-05-27T14:39:25.539Z"
   },
   {
    "duration": 8,
    "start_time": "2023-05-27T14:39:25.549Z"
   },
   {
    "duration": 80,
    "start_time": "2023-05-27T14:39:25.559Z"
   },
   {
    "duration": 7,
    "start_time": "2023-05-27T14:39:25.641Z"
   },
   {
    "duration": 408,
    "start_time": "2023-05-27T14:39:25.649Z"
   },
   {
    "duration": 18,
    "start_time": "2023-05-27T14:39:26.059Z"
   },
   {
    "duration": 7,
    "start_time": "2023-05-27T14:39:26.079Z"
   },
   {
    "duration": 38,
    "start_time": "2023-05-27T14:39:26.088Z"
   },
   {
    "duration": 123,
    "start_time": "2023-05-27T14:39:26.127Z"
   },
   {
    "duration": 80,
    "start_time": "2023-05-27T14:39:26.252Z"
   },
   {
    "duration": 41,
    "start_time": "2023-05-27T14:39:26.334Z"
   },
   {
    "duration": 254,
    "start_time": "2023-05-27T14:39:26.376Z"
   },
   {
    "duration": 234,
    "start_time": "2023-05-27T14:39:26.632Z"
   },
   {
    "duration": 19,
    "start_time": "2023-05-27T14:39:26.867Z"
   },
   {
    "duration": 5,
    "start_time": "2023-05-27T14:39:26.890Z"
   },
   {
    "duration": 290,
    "start_time": "2023-05-27T14:39:26.897Z"
   },
   {
    "duration": 12,
    "start_time": "2023-05-27T14:39:27.188Z"
   },
   {
    "duration": 26,
    "start_time": "2023-05-27T14:39:27.225Z"
   },
   {
    "duration": 246,
    "start_time": "2023-05-27T14:39:27.252Z"
   },
   {
    "duration": 5,
    "start_time": "2023-05-27T14:39:27.500Z"
   },
   {
    "duration": 20,
    "start_time": "2023-05-27T14:39:27.506Z"
   },
   {
    "duration": 46,
    "start_time": "2023-05-27T14:39:27.528Z"
   },
   {
    "duration": 140,
    "start_time": "2023-05-27T14:39:27.576Z"
   },
   {
    "duration": 16,
    "start_time": "2023-05-27T14:39:27.717Z"
   },
   {
    "duration": 9,
    "start_time": "2023-05-27T14:39:27.735Z"
   },
   {
    "duration": 21,
    "start_time": "2023-05-27T14:39:27.745Z"
   },
   {
    "duration": 14,
    "start_time": "2023-05-27T14:39:27.768Z"
   },
   {
    "duration": 50,
    "start_time": "2023-05-27T14:39:27.783Z"
   },
   {
    "duration": 23,
    "start_time": "2023-05-27T14:39:27.835Z"
   },
   {
    "duration": 2,
    "start_time": "2023-05-27T14:39:27.860Z"
   },
   {
    "duration": 17,
    "start_time": "2023-05-27T14:39:27.864Z"
   },
   {
    "duration": 67,
    "start_time": "2023-05-27T14:39:27.882Z"
   },
   {
    "duration": 142,
    "start_time": "2023-05-27T14:39:27.951Z"
   },
   {
    "duration": 6,
    "start_time": "2023-05-27T14:39:28.095Z"
   },
   {
    "duration": 49,
    "start_time": "2023-05-27T14:39:28.103Z"
   },
   {
    "duration": 91,
    "start_time": "2023-05-27T14:39:28.154Z"
   },
   {
    "duration": 94,
    "start_time": "2023-05-27T14:39:28.247Z"
   },
   {
    "duration": 123,
    "start_time": "2023-05-27T14:42:23.179Z"
   },
   {
    "duration": 15,
    "start_time": "2023-05-27T14:45:07.110Z"
   },
   {
    "duration": 15,
    "start_time": "2023-05-27T14:45:31.598Z"
   },
   {
    "duration": 8,
    "start_time": "2023-05-27T14:45:36.710Z"
   },
   {
    "duration": 46,
    "start_time": "2023-05-27T14:45:37.518Z"
   },
   {
    "duration": 46,
    "start_time": "2023-05-27T14:46:26.935Z"
   },
   {
    "duration": 48,
    "start_time": "2023-05-27T14:46:34.416Z"
   },
   {
    "duration": 2602,
    "start_time": "2023-05-27T14:46:39.933Z"
   },
   {
    "duration": 1227,
    "start_time": "2023-05-27T14:46:42.538Z"
   },
   {
    "duration": 184,
    "start_time": "2023-05-27T14:46:43.767Z"
   },
   {
    "duration": 4,
    "start_time": "2023-05-27T14:46:43.954Z"
   },
   {
    "duration": 137,
    "start_time": "2023-05-27T14:46:43.960Z"
   },
   {
    "duration": 7,
    "start_time": "2023-05-27T14:46:44.099Z"
   },
   {
    "duration": 40,
    "start_time": "2023-05-27T14:46:44.108Z"
   },
   {
    "duration": 3,
    "start_time": "2023-05-27T14:46:44.150Z"
   },
   {
    "duration": 92,
    "start_time": "2023-05-27T14:46:44.155Z"
   },
   {
    "duration": 5,
    "start_time": "2023-05-27T14:46:44.250Z"
   },
   {
    "duration": 36,
    "start_time": "2023-05-27T14:46:44.257Z"
   },
   {
    "duration": 4,
    "start_time": "2023-05-27T14:46:44.295Z"
   },
   {
    "duration": 81,
    "start_time": "2023-05-27T14:46:44.301Z"
   },
   {
    "duration": 9,
    "start_time": "2023-05-27T14:46:44.385Z"
   },
   {
    "duration": 9,
    "start_time": "2023-05-27T14:46:44.397Z"
   },
   {
    "duration": 53,
    "start_time": "2023-05-27T14:46:44.425Z"
   },
   {
    "duration": 6,
    "start_time": "2023-05-27T14:46:44.480Z"
   },
   {
    "duration": 390,
    "start_time": "2023-05-27T14:46:44.487Z"
   },
   {
    "duration": 16,
    "start_time": "2023-05-27T14:46:44.879Z"
   },
   {
    "duration": 31,
    "start_time": "2023-05-27T14:46:44.897Z"
   },
   {
    "duration": 65,
    "start_time": "2023-05-27T14:46:44.930Z"
   },
   {
    "duration": 146,
    "start_time": "2023-05-27T14:46:44.997Z"
   },
   {
    "duration": 58,
    "start_time": "2023-05-27T14:46:45.145Z"
   },
   {
    "duration": 50,
    "start_time": "2023-05-27T14:46:45.204Z"
   },
   {
    "duration": 206,
    "start_time": "2023-05-27T14:46:45.257Z"
   },
   {
    "duration": 260,
    "start_time": "2023-05-27T14:46:45.465Z"
   },
   {
    "duration": 18,
    "start_time": "2023-05-27T14:46:45.727Z"
   },
   {
    "duration": 24,
    "start_time": "2023-05-27T14:46:45.749Z"
   },
   {
    "duration": 265,
    "start_time": "2023-05-27T14:46:45.774Z"
   },
   {
    "duration": 12,
    "start_time": "2023-05-27T14:46:46.041Z"
   },
   {
    "duration": 85,
    "start_time": "2023-05-27T14:46:46.055Z"
   },
   {
    "duration": 235,
    "start_time": "2023-05-27T14:46:46.142Z"
   },
   {
    "duration": 4,
    "start_time": "2023-05-27T14:46:46.379Z"
   },
   {
    "duration": 14,
    "start_time": "2023-05-27T14:46:46.385Z"
   },
   {
    "duration": 70,
    "start_time": "2023-05-27T14:46:46.401Z"
   },
   {
    "duration": 148,
    "start_time": "2023-05-27T14:46:46.474Z"
   },
   {
    "duration": 12,
    "start_time": "2023-05-27T14:46:46.625Z"
   },
   {
    "duration": 37,
    "start_time": "2023-05-27T14:46:46.640Z"
   },
   {
    "duration": 30,
    "start_time": "2023-05-27T14:46:46.679Z"
   },
   {
    "duration": 18,
    "start_time": "2023-05-27T14:46:46.711Z"
   },
   {
    "duration": 28,
    "start_time": "2023-05-27T14:46:46.731Z"
   },
   {
    "duration": 17,
    "start_time": "2023-05-27T14:46:46.761Z"
   },
   {
    "duration": 6,
    "start_time": "2023-05-27T14:46:46.780Z"
   },
   {
    "duration": 15,
    "start_time": "2023-05-27T14:46:46.788Z"
   },
   {
    "duration": 57,
    "start_time": "2023-05-27T14:46:46.804Z"
   },
   {
    "duration": 136,
    "start_time": "2023-05-27T14:46:46.864Z"
   },
   {
    "duration": 6,
    "start_time": "2023-05-27T14:46:47.001Z"
   },
   {
    "duration": 70,
    "start_time": "2023-05-27T14:46:47.008Z"
   },
   {
    "duration": 74,
    "start_time": "2023-05-27T14:46:47.080Z"
   },
   {
    "duration": 88,
    "start_time": "2023-05-27T14:46:47.156Z"
   },
   {
    "duration": 124,
    "start_time": "2023-05-27T14:47:19.879Z"
   },
   {
    "duration": 7,
    "start_time": "2023-05-27T14:47:23.167Z"
   },
   {
    "duration": 44,
    "start_time": "2023-05-27T14:47:24.263Z"
   },
   {
    "duration": 57,
    "start_time": "2023-05-27T14:47:31.039Z"
   },
   {
    "duration": 113,
    "start_time": "2023-05-27T14:47:35.415Z"
   },
   {
    "duration": 98,
    "start_time": "2023-05-27T14:47:48.143Z"
   },
   {
    "duration": 44,
    "start_time": "2023-05-27T14:49:05.186Z"
   },
   {
    "duration": 2544,
    "start_time": "2023-05-27T14:49:15.071Z"
   },
   {
    "duration": 1214,
    "start_time": "2023-05-27T14:49:17.617Z"
   },
   {
    "duration": 174,
    "start_time": "2023-05-27T14:49:18.832Z"
   },
   {
    "duration": 4,
    "start_time": "2023-05-27T14:49:19.008Z"
   },
   {
    "duration": 131,
    "start_time": "2023-05-27T14:49:19.013Z"
   },
   {
    "duration": 8,
    "start_time": "2023-05-27T14:49:19.146Z"
   },
   {
    "duration": 50,
    "start_time": "2023-05-27T14:49:19.156Z"
   },
   {
    "duration": 6,
    "start_time": "2023-05-27T14:49:19.207Z"
   },
   {
    "duration": 89,
    "start_time": "2023-05-27T14:49:19.215Z"
   },
   {
    "duration": 4,
    "start_time": "2023-05-27T14:49:19.307Z"
   },
   {
    "duration": 23,
    "start_time": "2023-05-27T14:49:19.324Z"
   },
   {
    "duration": 3,
    "start_time": "2023-05-27T14:49:19.349Z"
   },
   {
    "duration": 72,
    "start_time": "2023-05-27T14:49:19.354Z"
   },
   {
    "duration": 7,
    "start_time": "2023-05-27T14:49:19.428Z"
   },
   {
    "duration": 44,
    "start_time": "2023-05-27T14:49:19.437Z"
   },
   {
    "duration": 73,
    "start_time": "2023-05-27T14:49:19.482Z"
   },
   {
    "duration": 5,
    "start_time": "2023-05-27T14:49:19.557Z"
   },
   {
    "duration": 401,
    "start_time": "2023-05-27T14:49:19.564Z"
   },
   {
    "duration": 14,
    "start_time": "2023-05-27T14:49:19.967Z"
   },
   {
    "duration": 6,
    "start_time": "2023-05-27T14:49:19.983Z"
   },
   {
    "duration": 39,
    "start_time": "2023-05-27T14:49:19.990Z"
   },
   {
    "duration": 125,
    "start_time": "2023-05-27T14:49:20.032Z"
   },
   {
    "duration": 71,
    "start_time": "2023-05-27T14:49:20.159Z"
   },
   {
    "duration": 34,
    "start_time": "2023-05-27T14:49:20.232Z"
   },
   {
    "duration": 229,
    "start_time": "2023-05-27T14:49:20.267Z"
   },
   {
    "duration": 249,
    "start_time": "2023-05-27T14:49:20.497Z"
   },
   {
    "duration": 21,
    "start_time": "2023-05-27T14:49:20.748Z"
   },
   {
    "duration": 57,
    "start_time": "2023-05-27T14:49:20.774Z"
   },
   {
    "duration": 310,
    "start_time": "2023-05-27T14:49:20.833Z"
   },
   {
    "duration": 13,
    "start_time": "2023-05-27T14:49:21.145Z"
   },
   {
    "duration": 83,
    "start_time": "2023-05-27T14:49:21.159Z"
   },
   {
    "duration": 232,
    "start_time": "2023-05-27T14:49:21.244Z"
   },
   {
    "duration": 5,
    "start_time": "2023-05-27T14:49:21.477Z"
   },
   {
    "duration": 11,
    "start_time": "2023-05-27T14:49:21.484Z"
   },
   {
    "duration": 68,
    "start_time": "2023-05-27T14:49:21.497Z"
   },
   {
    "duration": 141,
    "start_time": "2023-05-27T14:49:21.567Z"
   },
   {
    "duration": 16,
    "start_time": "2023-05-27T14:49:21.710Z"
   },
   {
    "duration": 14,
    "start_time": "2023-05-27T14:49:21.729Z"
   },
   {
    "duration": 28,
    "start_time": "2023-05-27T14:49:21.745Z"
   },
   {
    "duration": 19,
    "start_time": "2023-05-27T14:49:21.775Z"
   },
   {
    "duration": 39,
    "start_time": "2023-05-27T14:49:21.796Z"
   },
   {
    "duration": 17,
    "start_time": "2023-05-27T14:49:21.837Z"
   },
   {
    "duration": 27,
    "start_time": "2023-05-27T14:49:21.856Z"
   },
   {
    "duration": 13,
    "start_time": "2023-05-27T14:49:21.885Z"
   },
   {
    "duration": 65,
    "start_time": "2023-05-27T14:49:21.900Z"
   },
   {
    "duration": 131,
    "start_time": "2023-05-27T14:49:21.967Z"
   },
   {
    "duration": 6,
    "start_time": "2023-05-27T14:49:22.101Z"
   },
   {
    "duration": 46,
    "start_time": "2023-05-27T14:49:22.109Z"
   },
   {
    "duration": 95,
    "start_time": "2023-05-27T14:49:22.156Z"
   },
   {
    "duration": 104,
    "start_time": "2023-05-27T14:49:22.253Z"
   },
   {
    "duration": 160,
    "start_time": "2023-05-27T15:02:21.706Z"
   },
   {
    "duration": 8,
    "start_time": "2023-05-27T15:02:26.498Z"
   },
   {
    "duration": 120,
    "start_time": "2023-05-27T15:02:28.306Z"
   },
   {
    "duration": 103,
    "start_time": "2023-05-27T15:02:56.908Z"
   },
   {
    "duration": 88,
    "start_time": "2023-05-27T15:10:37.491Z"
   },
   {
    "duration": 88,
    "start_time": "2023-05-27T15:10:54.507Z"
   },
   {
    "duration": 89,
    "start_time": "2023-05-27T15:15:00.361Z"
   },
   {
    "duration": 86,
    "start_time": "2023-05-27T15:15:20.696Z"
   },
   {
    "duration": 92,
    "start_time": "2023-05-27T15:15:28.405Z"
   },
   {
    "duration": 2636,
    "start_time": "2023-05-27T15:15:50.910Z"
   },
   {
    "duration": 1226,
    "start_time": "2023-05-27T15:15:53.549Z"
   },
   {
    "duration": 202,
    "start_time": "2023-05-27T15:15:54.777Z"
   },
   {
    "duration": 5,
    "start_time": "2023-05-27T15:15:54.983Z"
   },
   {
    "duration": 144,
    "start_time": "2023-05-27T15:15:54.991Z"
   },
   {
    "duration": 10,
    "start_time": "2023-05-27T15:15:55.136Z"
   },
   {
    "duration": 21,
    "start_time": "2023-05-27T15:15:55.149Z"
   },
   {
    "duration": 4,
    "start_time": "2023-05-27T15:15:55.173Z"
   },
   {
    "duration": 100,
    "start_time": "2023-05-27T15:15:55.179Z"
   },
   {
    "duration": 4,
    "start_time": "2023-05-27T15:15:55.283Z"
   },
   {
    "duration": 48,
    "start_time": "2023-05-27T15:15:55.289Z"
   },
   {
    "duration": 7,
    "start_time": "2023-05-27T15:15:55.339Z"
   },
   {
    "duration": 48,
    "start_time": "2023-05-27T15:15:55.348Z"
   },
   {
    "duration": 8,
    "start_time": "2023-05-27T15:15:55.398Z"
   },
   {
    "duration": 32,
    "start_time": "2023-05-27T15:15:55.407Z"
   },
   {
    "duration": 79,
    "start_time": "2023-05-27T15:15:55.442Z"
   },
   {
    "duration": 6,
    "start_time": "2023-05-27T15:15:55.523Z"
   },
   {
    "duration": 409,
    "start_time": "2023-05-27T15:15:55.531Z"
   },
   {
    "duration": 16,
    "start_time": "2023-05-27T15:15:55.945Z"
   },
   {
    "duration": 6,
    "start_time": "2023-05-27T15:15:55.963Z"
   },
   {
    "duration": 21,
    "start_time": "2023-05-27T15:15:55.971Z"
   },
   {
    "duration": 136,
    "start_time": "2023-05-27T15:15:55.995Z"
   },
   {
    "duration": 63,
    "start_time": "2023-05-27T15:15:56.135Z"
   },
   {
    "duration": 45,
    "start_time": "2023-05-27T15:15:56.199Z"
   },
   {
    "duration": 217,
    "start_time": "2023-05-27T15:15:56.246Z"
   },
   {
    "duration": 264,
    "start_time": "2023-05-27T15:15:56.465Z"
   },
   {
    "duration": 28,
    "start_time": "2023-05-27T15:15:56.730Z"
   },
   {
    "duration": 4,
    "start_time": "2023-05-27T15:15:56.764Z"
   },
   {
    "duration": 289,
    "start_time": "2023-05-27T15:15:56.770Z"
   },
   {
    "duration": 11,
    "start_time": "2023-05-27T15:15:57.061Z"
   },
   {
    "duration": 74,
    "start_time": "2023-05-27T15:15:57.074Z"
   },
   {
    "duration": 220,
    "start_time": "2023-05-27T15:15:57.149Z"
   },
   {
    "duration": 4,
    "start_time": "2023-05-27T15:15:57.371Z"
   },
   {
    "duration": 12,
    "start_time": "2023-05-27T15:15:57.376Z"
   },
   {
    "duration": 62,
    "start_time": "2023-05-27T15:15:57.389Z"
   },
   {
    "duration": 135,
    "start_time": "2023-05-27T15:15:57.452Z"
   },
   {
    "duration": 11,
    "start_time": "2023-05-27T15:15:57.589Z"
   },
   {
    "duration": 11,
    "start_time": "2023-05-27T15:15:57.602Z"
   },
   {
    "duration": 30,
    "start_time": "2023-05-27T15:15:57.637Z"
   },
   {
    "duration": 19,
    "start_time": "2023-05-27T15:15:57.669Z"
   },
   {
    "duration": 15,
    "start_time": "2023-05-27T15:15:57.690Z"
   },
   {
    "duration": 31,
    "start_time": "2023-05-27T15:15:57.707Z"
   },
   {
    "duration": 13,
    "start_time": "2023-05-27T15:15:57.740Z"
   },
   {
    "duration": 17,
    "start_time": "2023-05-27T15:15:57.755Z"
   },
   {
    "duration": 48,
    "start_time": "2023-05-27T15:15:57.773Z"
   },
   {
    "duration": 124,
    "start_time": "2023-05-27T15:15:57.823Z"
   },
   {
    "duration": 135,
    "start_time": "2023-05-27T15:15:57.948Z"
   },
   {
    "duration": 81,
    "start_time": "2023-05-27T15:16:34.025Z"
   },
   {
    "duration": 95,
    "start_time": "2023-05-27T15:16:38.448Z"
   },
   {
    "duration": 2598,
    "start_time": "2023-05-27T15:16:44.578Z"
   },
   {
    "duration": 1149,
    "start_time": "2023-05-27T15:16:47.179Z"
   },
   {
    "duration": 173,
    "start_time": "2023-05-27T15:16:48.329Z"
   },
   {
    "duration": 4,
    "start_time": "2023-05-27T15:16:48.503Z"
   },
   {
    "duration": 135,
    "start_time": "2023-05-27T15:16:48.509Z"
   },
   {
    "duration": 9,
    "start_time": "2023-05-27T15:16:48.645Z"
   },
   {
    "duration": 45,
    "start_time": "2023-05-27T15:16:48.656Z"
   },
   {
    "duration": 44,
    "start_time": "2023-05-27T15:16:48.702Z"
   },
   {
    "duration": 95,
    "start_time": "2023-05-27T15:16:48.748Z"
   },
   {
    "duration": 5,
    "start_time": "2023-05-27T15:16:48.845Z"
   },
   {
    "duration": 30,
    "start_time": "2023-05-27T15:16:48.851Z"
   },
   {
    "duration": 3,
    "start_time": "2023-05-27T15:16:48.883Z"
   },
   {
    "duration": 79,
    "start_time": "2023-05-27T15:16:48.888Z"
   },
   {
    "duration": 8,
    "start_time": "2023-05-27T15:16:48.970Z"
   },
   {
    "duration": 10,
    "start_time": "2023-05-27T15:16:48.979Z"
   },
   {
    "duration": 87,
    "start_time": "2023-05-27T15:16:48.990Z"
   },
   {
    "duration": 6,
    "start_time": "2023-05-27T15:16:49.079Z"
   },
   {
    "duration": 442,
    "start_time": "2023-05-27T15:16:49.087Z"
   },
   {
    "duration": 14,
    "start_time": "2023-05-27T15:16:49.531Z"
   },
   {
    "duration": 6,
    "start_time": "2023-05-27T15:16:49.547Z"
   },
   {
    "duration": 18,
    "start_time": "2023-05-27T15:16:49.555Z"
   },
   {
    "duration": 139,
    "start_time": "2023-05-27T15:16:49.576Z"
   },
   {
    "duration": 70,
    "start_time": "2023-05-27T15:16:49.717Z"
   },
   {
    "duration": 54,
    "start_time": "2023-05-27T15:16:49.788Z"
   },
   {
    "duration": 233,
    "start_time": "2023-05-27T15:16:49.844Z"
   },
   {
    "duration": 278,
    "start_time": "2023-05-27T15:16:50.079Z"
   },
   {
    "duration": 20,
    "start_time": "2023-05-27T15:16:50.359Z"
   },
   {
    "duration": 11,
    "start_time": "2023-05-27T15:16:50.381Z"
   },
   {
    "duration": 311,
    "start_time": "2023-05-27T15:16:50.394Z"
   },
   {
    "duration": 12,
    "start_time": "2023-05-27T15:16:50.707Z"
   },
   {
    "duration": 40,
    "start_time": "2023-05-27T15:16:50.724Z"
   },
   {
    "duration": 229,
    "start_time": "2023-05-27T15:16:50.765Z"
   },
   {
    "duration": 5,
    "start_time": "2023-05-27T15:16:50.996Z"
   },
   {
    "duration": 50,
    "start_time": "2023-05-27T15:16:51.003Z"
   },
   {
    "duration": 65,
    "start_time": "2023-05-27T15:16:51.055Z"
   },
   {
    "duration": 143,
    "start_time": "2023-05-27T15:16:51.122Z"
   },
   {
    "duration": 14,
    "start_time": "2023-05-27T15:16:51.267Z"
   },
   {
    "duration": 14,
    "start_time": "2023-05-27T15:16:51.284Z"
   },
   {
    "duration": 54,
    "start_time": "2023-05-27T15:16:51.299Z"
   },
   {
    "duration": 15,
    "start_time": "2023-05-27T15:16:51.355Z"
   },
   {
    "duration": 16,
    "start_time": "2023-05-27T15:16:51.374Z"
   },
   {
    "duration": 43,
    "start_time": "2023-05-27T15:16:51.392Z"
   },
   {
    "duration": 2,
    "start_time": "2023-05-27T15:16:51.437Z"
   },
   {
    "duration": 12,
    "start_time": "2023-05-27T15:16:51.442Z"
   },
   {
    "duration": 66,
    "start_time": "2023-05-27T15:16:51.456Z"
   },
   {
    "duration": 118,
    "start_time": "2023-05-27T15:16:51.527Z"
   },
   {
    "duration": 94,
    "start_time": "2023-05-27T15:16:51.647Z"
   },
   {
    "duration": 83,
    "start_time": "2023-05-27T15:17:17.602Z"
   },
   {
    "duration": 82,
    "start_time": "2023-05-27T15:17:28.938Z"
   },
   {
    "duration": 2706,
    "start_time": "2023-05-27T15:22:26.862Z"
   },
   {
    "duration": 1169,
    "start_time": "2023-05-27T15:22:29.570Z"
   },
   {
    "duration": 172,
    "start_time": "2023-05-27T15:22:30.741Z"
   },
   {
    "duration": 3,
    "start_time": "2023-05-27T15:22:30.915Z"
   },
   {
    "duration": 173,
    "start_time": "2023-05-27T15:22:30.931Z"
   },
   {
    "duration": 25,
    "start_time": "2023-05-27T15:22:31.106Z"
   },
   {
    "duration": 55,
    "start_time": "2023-05-27T15:22:31.133Z"
   },
   {
    "duration": 8,
    "start_time": "2023-05-27T15:22:31.190Z"
   },
   {
    "duration": 94,
    "start_time": "2023-05-27T15:22:31.200Z"
   },
   {
    "duration": 3,
    "start_time": "2023-05-27T15:22:31.297Z"
   },
   {
    "duration": 56,
    "start_time": "2023-05-27T15:22:31.301Z"
   },
   {
    "duration": 12,
    "start_time": "2023-05-27T15:22:31.359Z"
   },
   {
    "duration": 65,
    "start_time": "2023-05-27T15:22:31.373Z"
   },
   {
    "duration": 10,
    "start_time": "2023-05-27T15:22:31.440Z"
   },
   {
    "duration": 10,
    "start_time": "2023-05-27T15:22:31.452Z"
   },
   {
    "duration": 77,
    "start_time": "2023-05-27T15:22:31.463Z"
   },
   {
    "duration": 24,
    "start_time": "2023-05-27T15:22:31.542Z"
   },
   {
    "duration": 427,
    "start_time": "2023-05-27T15:22:31.567Z"
   },
   {
    "duration": 12,
    "start_time": "2023-05-27T15:22:31.995Z"
   },
   {
    "duration": 34,
    "start_time": "2023-05-27T15:22:32.009Z"
   },
   {
    "duration": 32,
    "start_time": "2023-05-27T15:22:32.045Z"
   },
   {
    "duration": 121,
    "start_time": "2023-05-27T15:22:32.079Z"
   },
   {
    "duration": 60,
    "start_time": "2023-05-27T15:22:32.202Z"
   },
   {
    "duration": 29,
    "start_time": "2023-05-27T15:22:32.264Z"
   },
   {
    "duration": 200,
    "start_time": "2023-05-27T15:22:32.295Z"
   },
   {
    "duration": 251,
    "start_time": "2023-05-27T15:22:32.496Z"
   },
   {
    "duration": 17,
    "start_time": "2023-05-27T15:22:32.749Z"
   },
   {
    "duration": 3,
    "start_time": "2023-05-27T15:22:32.770Z"
   },
   {
    "duration": 284,
    "start_time": "2023-05-27T15:22:32.775Z"
   },
   {
    "duration": 11,
    "start_time": "2023-05-27T15:22:33.061Z"
   },
   {
    "duration": 67,
    "start_time": "2023-05-27T15:22:33.074Z"
   },
   {
    "duration": 213,
    "start_time": "2023-05-27T15:22:33.142Z"
   },
   {
    "duration": 4,
    "start_time": "2023-05-27T15:22:33.357Z"
   },
   {
    "duration": 24,
    "start_time": "2023-05-27T15:22:33.363Z"
   },
   {
    "duration": 61,
    "start_time": "2023-05-27T15:22:33.388Z"
   },
   {
    "duration": 130,
    "start_time": "2023-05-27T15:22:33.450Z"
   },
   {
    "duration": 12,
    "start_time": "2023-05-27T15:22:33.581Z"
   },
   {
    "duration": 44,
    "start_time": "2023-05-27T15:22:33.595Z"
   },
   {
    "duration": 36,
    "start_time": "2023-05-27T15:22:33.641Z"
   },
   {
    "duration": 20,
    "start_time": "2023-05-27T15:22:33.679Z"
   },
   {
    "duration": 59,
    "start_time": "2023-05-27T15:22:33.700Z"
   },
   {
    "duration": 60,
    "start_time": "2023-05-27T15:22:33.761Z"
   },
   {
    "duration": 31,
    "start_time": "2023-05-27T15:22:33.823Z"
   },
   {
    "duration": 39,
    "start_time": "2023-05-27T15:22:33.856Z"
   },
   {
    "duration": 94,
    "start_time": "2023-05-27T15:22:33.897Z"
   },
   {
    "duration": 106,
    "start_time": "2023-05-27T15:22:33.992Z"
   },
   {
    "duration": 76,
    "start_time": "2023-05-27T15:22:34.100Z"
   },
   {
    "duration": 2442,
    "start_time": "2023-05-27T15:23:55.886Z"
   },
   {
    "duration": 1165,
    "start_time": "2023-05-27T15:23:58.330Z"
   },
   {
    "duration": 175,
    "start_time": "2023-05-27T15:23:59.496Z"
   },
   {
    "duration": 4,
    "start_time": "2023-05-27T15:23:59.673Z"
   },
   {
    "duration": 121,
    "start_time": "2023-05-27T15:23:59.678Z"
   },
   {
    "duration": 8,
    "start_time": "2023-05-27T15:23:59.802Z"
   },
   {
    "duration": 24,
    "start_time": "2023-05-27T15:23:59.826Z"
   },
   {
    "duration": 8,
    "start_time": "2023-05-27T15:23:59.852Z"
   },
   {
    "duration": 81,
    "start_time": "2023-05-27T15:23:59.861Z"
   },
   {
    "duration": 3,
    "start_time": "2023-05-27T15:23:59.945Z"
   },
   {
    "duration": 32,
    "start_time": "2023-05-27T15:23:59.950Z"
   },
   {
    "duration": 4,
    "start_time": "2023-05-27T15:23:59.983Z"
   },
   {
    "duration": 63,
    "start_time": "2023-05-27T15:23:59.989Z"
   },
   {
    "duration": 9,
    "start_time": "2023-05-27T15:24:00.054Z"
   },
   {
    "duration": 39,
    "start_time": "2023-05-27T15:24:00.065Z"
   },
   {
    "duration": 115,
    "start_time": "2023-05-27T15:24:00.106Z"
   },
   {
    "duration": 14,
    "start_time": "2023-05-27T15:24:00.223Z"
   },
   {
    "duration": 420,
    "start_time": "2023-05-27T15:24:00.239Z"
   },
   {
    "duration": 15,
    "start_time": "2023-05-27T15:24:00.660Z"
   },
   {
    "duration": 21,
    "start_time": "2023-05-27T15:24:00.676Z"
   },
   {
    "duration": 60,
    "start_time": "2023-05-27T15:24:00.698Z"
   },
   {
    "duration": 140,
    "start_time": "2023-05-27T15:24:00.760Z"
   },
   {
    "duration": 73,
    "start_time": "2023-05-27T15:24:00.902Z"
   },
   {
    "duration": 49,
    "start_time": "2023-05-27T15:24:00.977Z"
   },
   {
    "duration": 223,
    "start_time": "2023-05-27T15:24:01.028Z"
   },
   {
    "duration": 252,
    "start_time": "2023-05-27T15:24:01.252Z"
   },
   {
    "duration": 38,
    "start_time": "2023-05-27T15:24:01.506Z"
   },
   {
    "duration": 60,
    "start_time": "2023-05-27T15:24:01.547Z"
   },
   {
    "duration": 299,
    "start_time": "2023-05-27T15:24:01.609Z"
   },
   {
    "duration": 28,
    "start_time": "2023-05-27T15:24:01.910Z"
   },
   {
    "duration": 43,
    "start_time": "2023-05-27T15:24:01.939Z"
   },
   {
    "duration": 223,
    "start_time": "2023-05-27T15:24:01.984Z"
   },
   {
    "duration": 3,
    "start_time": "2023-05-27T15:24:02.209Z"
   },
   {
    "duration": 63,
    "start_time": "2023-05-27T15:24:02.214Z"
   },
   {
    "duration": 113,
    "start_time": "2023-05-27T15:24:02.278Z"
   },
   {
    "duration": 120,
    "start_time": "2023-05-27T15:24:02.392Z"
   },
   {
    "duration": 21,
    "start_time": "2023-05-27T15:24:02.514Z"
   },
   {
    "duration": 31,
    "start_time": "2023-05-27T15:24:02.536Z"
   },
   {
    "duration": 30,
    "start_time": "2023-05-27T15:24:02.568Z"
   },
   {
    "duration": 18,
    "start_time": "2023-05-27T15:24:02.599Z"
   },
   {
    "duration": 16,
    "start_time": "2023-05-27T15:24:02.619Z"
   },
   {
    "duration": 29,
    "start_time": "2023-05-27T15:24:02.637Z"
   },
   {
    "duration": 4,
    "start_time": "2023-05-27T15:24:02.667Z"
   },
   {
    "duration": 16,
    "start_time": "2023-05-27T15:24:02.673Z"
   },
   {
    "duration": 63,
    "start_time": "2023-05-27T15:24:02.690Z"
   },
   {
    "duration": 123,
    "start_time": "2023-05-27T15:24:02.754Z"
   },
   {
    "duration": 96,
    "start_time": "2023-05-27T15:24:02.878Z"
   },
   {
    "duration": 5207,
    "start_time": "2023-05-28T08:26:59.553Z"
   },
   {
    "duration": 1280,
    "start_time": "2023-05-28T08:27:04.762Z"
   },
   {
    "duration": 177,
    "start_time": "2023-05-28T08:27:06.044Z"
   },
   {
    "duration": 4,
    "start_time": "2023-05-28T08:27:06.230Z"
   },
   {
    "duration": 106,
    "start_time": "2023-05-28T08:27:06.236Z"
   },
   {
    "duration": 7,
    "start_time": "2023-05-28T08:27:06.343Z"
   },
   {
    "duration": 10,
    "start_time": "2023-05-28T08:27:06.351Z"
   },
   {
    "duration": 19,
    "start_time": "2023-05-28T08:27:06.362Z"
   },
   {
    "duration": 80,
    "start_time": "2023-05-28T08:27:06.382Z"
   },
   {
    "duration": 3,
    "start_time": "2023-05-28T08:27:06.464Z"
   },
   {
    "duration": 52,
    "start_time": "2023-05-28T08:27:06.469Z"
   },
   {
    "duration": 3,
    "start_time": "2023-05-28T08:27:06.523Z"
   },
   {
    "duration": 37,
    "start_time": "2023-05-28T08:27:06.531Z"
   },
   {
    "duration": 21,
    "start_time": "2023-05-28T08:27:06.569Z"
   },
   {
    "duration": 9,
    "start_time": "2023-05-28T08:27:06.597Z"
   },
   {
    "duration": 67,
    "start_time": "2023-05-28T08:27:06.607Z"
   },
   {
    "duration": 10,
    "start_time": "2023-05-28T08:27:06.676Z"
   },
   {
    "duration": 404,
    "start_time": "2023-05-28T08:27:06.691Z"
   },
   {
    "duration": 16,
    "start_time": "2023-05-28T08:27:07.098Z"
   },
   {
    "duration": 14,
    "start_time": "2023-05-28T08:27:07.118Z"
   },
   {
    "duration": 14,
    "start_time": "2023-05-28T08:27:07.135Z"
   },
   {
    "duration": 123,
    "start_time": "2023-05-28T08:27:07.150Z"
   },
   {
    "duration": 71,
    "start_time": "2023-05-28T08:27:07.276Z"
   },
   {
    "duration": 55,
    "start_time": "2023-05-28T08:27:07.348Z"
   },
   {
    "duration": 256,
    "start_time": "2023-05-28T08:27:07.404Z"
   },
   {
    "duration": 331,
    "start_time": "2023-05-28T08:27:07.662Z"
   },
   {
    "duration": 19,
    "start_time": "2023-05-28T08:27:07.995Z"
   },
   {
    "duration": 15,
    "start_time": "2023-05-28T08:27:08.020Z"
   },
   {
    "duration": 556,
    "start_time": "2023-05-28T08:27:08.036Z"
   },
   {
    "duration": 14,
    "start_time": "2023-05-28T08:27:08.593Z"
   },
   {
    "duration": 37,
    "start_time": "2023-05-28T08:27:08.609Z"
   },
   {
    "duration": 289,
    "start_time": "2023-05-28T08:27:08.648Z"
   },
   {
    "duration": 5,
    "start_time": "2023-05-28T08:27:08.938Z"
   },
   {
    "duration": 13,
    "start_time": "2023-05-28T08:27:08.944Z"
   },
   {
    "duration": 66,
    "start_time": "2023-05-28T08:27:08.959Z"
   },
   {
    "duration": 157,
    "start_time": "2023-05-28T08:27:09.027Z"
   },
   {
    "duration": 18,
    "start_time": "2023-05-28T08:27:09.185Z"
   },
   {
    "duration": 15,
    "start_time": "2023-05-28T08:27:09.205Z"
   },
   {
    "duration": 29,
    "start_time": "2023-05-28T08:27:09.228Z"
   },
   {
    "duration": 14,
    "start_time": "2023-05-28T08:27:09.259Z"
   },
   {
    "duration": 40,
    "start_time": "2023-05-28T08:27:09.274Z"
   },
   {
    "duration": 26,
    "start_time": "2023-05-28T08:27:09.316Z"
   },
   {
    "duration": 2,
    "start_time": "2023-05-28T08:27:09.344Z"
   },
   {
    "duration": 8,
    "start_time": "2023-05-28T08:27:09.347Z"
   },
   {
    "duration": 62,
    "start_time": "2023-05-28T08:27:09.356Z"
   },
   {
    "duration": 126,
    "start_time": "2023-05-28T08:27:09.419Z"
   },
   {
    "duration": 97,
    "start_time": "2023-05-28T08:27:09.547Z"
   },
   {
    "duration": 4053,
    "start_time": "2023-05-28T10:12:45.174Z"
   },
   {
    "duration": 1389,
    "start_time": "2023-05-28T10:12:49.229Z"
   },
   {
    "duration": 723,
    "start_time": "2023-05-28T10:12:50.620Z"
   },
   {
    "duration": 4,
    "start_time": "2023-05-28T10:12:51.345Z"
   },
   {
    "duration": 123,
    "start_time": "2023-05-28T10:12:51.351Z"
   },
   {
    "duration": 8,
    "start_time": "2023-05-28T10:12:51.476Z"
   },
   {
    "duration": 49,
    "start_time": "2023-05-28T10:12:51.486Z"
   },
   {
    "duration": 46,
    "start_time": "2023-05-28T10:12:51.537Z"
   },
   {
    "duration": 81,
    "start_time": "2023-05-28T10:12:51.585Z"
   },
   {
    "duration": 4,
    "start_time": "2023-05-28T10:12:51.668Z"
   },
   {
    "duration": 39,
    "start_time": "2023-05-28T10:12:51.673Z"
   },
   {
    "duration": 3,
    "start_time": "2023-05-28T10:12:51.714Z"
   },
   {
    "duration": 71,
    "start_time": "2023-05-28T10:12:51.719Z"
   },
   {
    "duration": 7,
    "start_time": "2023-05-28T10:12:51.792Z"
   },
   {
    "duration": 14,
    "start_time": "2023-05-28T10:12:51.801Z"
   },
   {
    "duration": 74,
    "start_time": "2023-05-28T10:12:51.817Z"
   },
   {
    "duration": 6,
    "start_time": "2023-05-28T10:12:51.892Z"
   },
   {
    "duration": 386,
    "start_time": "2023-05-28T10:12:51.899Z"
   },
   {
    "duration": 12,
    "start_time": "2023-05-28T10:12:52.287Z"
   },
   {
    "duration": 6,
    "start_time": "2023-05-28T10:12:52.301Z"
   },
   {
    "duration": 16,
    "start_time": "2023-05-28T10:12:52.309Z"
   },
   {
    "duration": 139,
    "start_time": "2023-05-28T10:12:52.326Z"
   },
   {
    "duration": 67,
    "start_time": "2023-05-28T10:12:52.467Z"
   },
   {
    "duration": 54,
    "start_time": "2023-05-28T10:12:52.536Z"
   },
   {
    "duration": 206,
    "start_time": "2023-05-28T10:12:52.592Z"
   },
   {
    "duration": 261,
    "start_time": "2023-05-28T10:12:52.799Z"
   },
   {
    "duration": 19,
    "start_time": "2023-05-28T10:12:53.062Z"
   },
   {
    "duration": 43,
    "start_time": "2023-05-28T10:12:53.084Z"
   },
   {
    "duration": 288,
    "start_time": "2023-05-28T10:12:53.129Z"
   },
   {
    "duration": 12,
    "start_time": "2023-05-28T10:12:53.418Z"
   },
   {
    "duration": 47,
    "start_time": "2023-05-28T10:12:53.431Z"
   },
   {
    "duration": 201,
    "start_time": "2023-05-28T10:12:53.480Z"
   },
   {
    "duration": 4,
    "start_time": "2023-05-28T10:12:53.683Z"
   },
   {
    "duration": 16,
    "start_time": "2023-05-28T10:12:53.688Z"
   },
   {
    "duration": 62,
    "start_time": "2023-05-28T10:12:53.705Z"
   },
   {
    "duration": 136,
    "start_time": "2023-05-28T10:12:53.769Z"
   },
   {
    "duration": 12,
    "start_time": "2023-05-28T10:12:53.907Z"
   },
   {
    "duration": 16,
    "start_time": "2023-05-28T10:12:53.921Z"
   },
   {
    "duration": 28,
    "start_time": "2023-05-28T10:12:53.938Z"
   },
   {
    "duration": 14,
    "start_time": "2023-05-28T10:12:53.968Z"
   },
   {
    "duration": 23,
    "start_time": "2023-05-28T10:12:53.984Z"
   },
   {
    "duration": 18,
    "start_time": "2023-05-28T10:12:54.008Z"
   },
   {
    "duration": 6,
    "start_time": "2023-05-28T10:12:54.028Z"
   },
   {
    "duration": 31,
    "start_time": "2023-05-28T10:12:54.056Z"
   },
   {
    "duration": 61,
    "start_time": "2023-05-28T10:12:54.089Z"
   },
   {
    "duration": 123,
    "start_time": "2023-05-28T10:12:54.152Z"
   },
   {
    "duration": 106,
    "start_time": "2023-05-28T10:12:54.277Z"
   },
   {
    "duration": 6525,
    "start_time": "2023-05-29T18:35:47.101Z"
   },
   {
    "duration": 1553,
    "start_time": "2023-05-29T18:35:53.644Z"
   },
   {
    "duration": 1548,
    "start_time": "2023-05-29T18:35:55.199Z"
   },
   {
    "duration": 13,
    "start_time": "2023-05-29T18:35:56.756Z"
   },
   {
    "duration": 127,
    "start_time": "2023-05-29T18:35:56.775Z"
   },
   {
    "duration": 8,
    "start_time": "2023-05-29T18:35:56.904Z"
   },
   {
    "duration": 26,
    "start_time": "2023-05-29T18:35:56.913Z"
   },
   {
    "duration": 5,
    "start_time": "2023-05-29T18:35:56.949Z"
   },
   {
    "duration": 86,
    "start_time": "2023-05-29T18:35:56.955Z"
   },
   {
    "duration": 11,
    "start_time": "2023-05-29T18:35:57.047Z"
   },
   {
    "duration": 38,
    "start_time": "2023-05-29T18:35:57.060Z"
   },
   {
    "duration": 4,
    "start_time": "2023-05-29T18:35:57.099Z"
   },
   {
    "duration": 82,
    "start_time": "2023-05-29T18:35:57.105Z"
   },
   {
    "duration": 7,
    "start_time": "2023-05-29T18:35:57.189Z"
   },
   {
    "duration": 6,
    "start_time": "2023-05-29T18:35:57.197Z"
   },
   {
    "duration": 63,
    "start_time": "2023-05-29T18:35:57.204Z"
   },
   {
    "duration": 6,
    "start_time": "2023-05-29T18:35:57.268Z"
   },
   {
    "duration": 465,
    "start_time": "2023-05-29T18:35:57.275Z"
   },
   {
    "duration": 12,
    "start_time": "2023-05-29T18:35:57.742Z"
   },
   {
    "duration": 25,
    "start_time": "2023-05-29T18:35:57.756Z"
   },
   {
    "duration": 22,
    "start_time": "2023-05-29T18:35:57.783Z"
   },
   {
    "duration": 129,
    "start_time": "2023-05-29T18:35:57.807Z"
   },
   {
    "duration": 73,
    "start_time": "2023-05-29T18:35:57.937Z"
   },
   {
    "duration": 61,
    "start_time": "2023-05-29T18:35:58.011Z"
   },
   {
    "duration": 229,
    "start_time": "2023-05-29T18:35:58.084Z"
   },
   {
    "duration": 295,
    "start_time": "2023-05-29T18:35:58.314Z"
   },
   {
    "duration": 36,
    "start_time": "2023-05-29T18:35:58.611Z"
   },
   {
    "duration": 20,
    "start_time": "2023-05-29T18:35:58.655Z"
   },
   {
    "duration": 399,
    "start_time": "2023-05-29T18:35:58.684Z"
   },
   {
    "duration": 11,
    "start_time": "2023-05-29T18:35:59.086Z"
   },
   {
    "duration": 59,
    "start_time": "2023-05-29T18:35:59.098Z"
   },
   {
    "duration": 232,
    "start_time": "2023-05-29T18:35:59.159Z"
   },
   {
    "duration": 7,
    "start_time": "2023-05-29T18:35:59.392Z"
   },
   {
    "duration": 11,
    "start_time": "2023-05-29T18:35:59.403Z"
   },
   {
    "duration": 71,
    "start_time": "2023-05-29T18:35:59.416Z"
   },
   {
    "duration": 145,
    "start_time": "2023-05-29T18:35:59.491Z"
   },
   {
    "duration": 35,
    "start_time": "2023-05-29T18:35:59.638Z"
   },
   {
    "duration": 11,
    "start_time": "2023-05-29T18:35:59.689Z"
   },
   {
    "duration": 29,
    "start_time": "2023-05-29T18:35:59.702Z"
   },
   {
    "duration": 22,
    "start_time": "2023-05-29T18:35:59.742Z"
   },
   {
    "duration": 27,
    "start_time": "2023-05-29T18:35:59.767Z"
   },
   {
    "duration": 17,
    "start_time": "2023-05-29T18:35:59.796Z"
   },
   {
    "duration": 2,
    "start_time": "2023-05-29T18:35:59.815Z"
   },
   {
    "duration": 29,
    "start_time": "2023-05-29T18:35:59.820Z"
   },
   {
    "duration": 79,
    "start_time": "2023-05-29T18:35:59.851Z"
   },
   {
    "duration": 136,
    "start_time": "2023-05-29T18:35:59.942Z"
   },
   {
    "duration": 90,
    "start_time": "2023-05-29T18:36:00.080Z"
   },
   {
    "duration": 4721,
    "start_time": "2023-06-07T10:06:10.435Z"
   },
   {
    "duration": 1412,
    "start_time": "2023-06-07T10:06:15.158Z"
   },
   {
    "duration": 518,
    "start_time": "2023-06-07T10:06:16.572Z"
   },
   {
    "duration": 3,
    "start_time": "2023-06-07T10:06:17.092Z"
   },
   {
    "duration": 102,
    "start_time": "2023-06-07T10:06:17.098Z"
   },
   {
    "duration": 8,
    "start_time": "2023-06-07T10:06:17.202Z"
   },
   {
    "duration": 30,
    "start_time": "2023-06-07T10:06:17.212Z"
   },
   {
    "duration": 4,
    "start_time": "2023-06-07T10:06:17.244Z"
   },
   {
    "duration": 76,
    "start_time": "2023-06-07T10:06:17.250Z"
   },
   {
    "duration": 15,
    "start_time": "2023-06-07T10:06:17.327Z"
   },
   {
    "duration": 29,
    "start_time": "2023-06-07T10:06:17.344Z"
   },
   {
    "duration": 4,
    "start_time": "2023-06-07T10:06:17.375Z"
   },
   {
    "duration": 72,
    "start_time": "2023-06-07T10:06:17.381Z"
   },
   {
    "duration": 9,
    "start_time": "2023-06-07T10:06:17.456Z"
   },
   {
    "duration": 10,
    "start_time": "2023-06-07T10:06:17.467Z"
   },
   {
    "duration": 74,
    "start_time": "2023-06-07T10:06:17.478Z"
   },
   {
    "duration": 6,
    "start_time": "2023-06-07T10:06:17.554Z"
   },
   {
    "duration": 376,
    "start_time": "2023-06-07T10:06:17.562Z"
   },
   {
    "duration": 12,
    "start_time": "2023-06-07T10:06:17.941Z"
   },
   {
    "duration": 6,
    "start_time": "2023-06-07T10:06:17.955Z"
   },
   {
    "duration": 15,
    "start_time": "2023-06-07T10:06:17.962Z"
   },
   {
    "duration": 124,
    "start_time": "2023-06-07T10:06:17.978Z"
   },
   {
    "duration": 73,
    "start_time": "2023-06-07T10:06:18.104Z"
   },
   {
    "duration": 33,
    "start_time": "2023-06-07T10:06:18.178Z"
   },
   {
    "duration": 254,
    "start_time": "2023-06-07T10:06:18.213Z"
   },
   {
    "duration": 260,
    "start_time": "2023-06-07T10:06:18.469Z"
   },
   {
    "duration": 22,
    "start_time": "2023-06-07T10:06:18.741Z"
   },
   {
    "duration": 4,
    "start_time": "2023-06-07T10:06:18.764Z"
   },
   {
    "duration": 314,
    "start_time": "2023-06-07T10:06:18.770Z"
   },
   {
    "duration": 11,
    "start_time": "2023-06-07T10:06:19.086Z"
   },
   {
    "duration": 46,
    "start_time": "2023-06-07T10:06:19.099Z"
   },
   {
    "duration": 198,
    "start_time": "2023-06-07T10:06:19.147Z"
   },
   {
    "duration": 4,
    "start_time": "2023-06-07T10:06:19.346Z"
   },
   {
    "duration": 13,
    "start_time": "2023-06-07T10:06:19.352Z"
   },
   {
    "duration": 47,
    "start_time": "2023-06-07T10:06:19.367Z"
   },
   {
    "duration": 144,
    "start_time": "2023-06-07T10:06:19.416Z"
   },
   {
    "duration": 13,
    "start_time": "2023-06-07T10:06:19.562Z"
   },
   {
    "duration": 20,
    "start_time": "2023-06-07T10:06:19.576Z"
   },
   {
    "duration": 20,
    "start_time": "2023-06-07T10:06:19.598Z"
   },
   {
    "duration": 24,
    "start_time": "2023-06-07T10:06:19.620Z"
   },
   {
    "duration": 15,
    "start_time": "2023-06-07T10:06:19.648Z"
   },
   {
    "duration": 15,
    "start_time": "2023-06-07T10:06:19.664Z"
   },
   {
    "duration": 6,
    "start_time": "2023-06-07T10:06:19.680Z"
   },
   {
    "duration": 9,
    "start_time": "2023-06-07T10:06:19.688Z"
   },
   {
    "duration": 71,
    "start_time": "2023-06-07T10:06:19.698Z"
   },
   {
    "duration": 127,
    "start_time": "2023-06-07T10:06:19.771Z"
   },
   {
    "duration": 101,
    "start_time": "2023-06-07T10:06:19.900Z"
   },
   {
    "duration": 5255,
    "start_time": "2023-07-24T23:31:39.324Z"
   },
   {
    "duration": 1295,
    "start_time": "2023-07-24T23:31:44.583Z"
   },
   {
    "duration": 541,
    "start_time": "2023-07-24T23:31:45.879Z"
   },
   {
    "duration": 5,
    "start_time": "2023-07-24T23:31:46.423Z"
   },
   {
    "duration": 197,
    "start_time": "2023-07-24T23:31:46.430Z"
   },
   {
    "duration": 7,
    "start_time": "2023-07-24T23:31:46.629Z"
   },
   {
    "duration": 15,
    "start_time": "2023-07-24T23:31:46.638Z"
   },
   {
    "duration": 4,
    "start_time": "2023-07-24T23:31:46.654Z"
   },
   {
    "duration": 82,
    "start_time": "2023-07-24T23:31:46.680Z"
   },
   {
    "duration": 19,
    "start_time": "2023-07-24T23:31:46.764Z"
   },
   {
    "duration": 36,
    "start_time": "2023-07-24T23:31:46.786Z"
   },
   {
    "duration": 11,
    "start_time": "2023-07-24T23:31:46.824Z"
   },
   {
    "duration": 76,
    "start_time": "2023-07-24T23:31:46.837Z"
   },
   {
    "duration": 8,
    "start_time": "2023-07-24T23:31:46.915Z"
   },
   {
    "duration": 15,
    "start_time": "2023-07-24T23:31:46.925Z"
   },
   {
    "duration": 82,
    "start_time": "2023-07-24T23:31:46.942Z"
   },
   {
    "duration": 6,
    "start_time": "2023-07-24T23:31:47.027Z"
   },
   {
    "duration": 451,
    "start_time": "2023-07-24T23:31:47.036Z"
   },
   {
    "duration": 16,
    "start_time": "2023-07-24T23:31:47.490Z"
   },
   {
    "duration": 18,
    "start_time": "2023-07-24T23:31:47.508Z"
   },
   {
    "duration": 27,
    "start_time": "2023-07-24T23:31:47.528Z"
   },
   {
    "duration": 146,
    "start_time": "2023-07-24T23:31:47.557Z"
   },
   {
    "duration": 73,
    "start_time": "2023-07-24T23:31:47.705Z"
   },
   {
    "duration": 53,
    "start_time": "2023-07-24T23:31:47.780Z"
   },
   {
    "duration": 271,
    "start_time": "2023-07-24T23:31:47.835Z"
   },
   {
    "duration": 276,
    "start_time": "2023-07-24T23:31:48.108Z"
   },
   {
    "duration": 21,
    "start_time": "2023-07-24T23:31:48.386Z"
   },
   {
    "duration": 5,
    "start_time": "2023-07-24T23:31:48.410Z"
   },
   {
    "duration": 319,
    "start_time": "2023-07-24T23:31:48.416Z"
   },
   {
    "duration": 11,
    "start_time": "2023-07-24T23:31:48.737Z"
   },
   {
    "duration": 58,
    "start_time": "2023-07-24T23:31:48.750Z"
   },
   {
    "duration": 270,
    "start_time": "2023-07-24T23:31:48.810Z"
   },
   {
    "duration": 6,
    "start_time": "2023-07-24T23:31:49.083Z"
   },
   {
    "duration": 22,
    "start_time": "2023-07-24T23:31:49.092Z"
   },
   {
    "duration": 64,
    "start_time": "2023-07-24T23:31:49.115Z"
   },
   {
    "duration": 162,
    "start_time": "2023-07-24T23:31:49.182Z"
   },
   {
    "duration": 16,
    "start_time": "2023-07-24T23:31:49.346Z"
   },
   {
    "duration": 14,
    "start_time": "2023-07-24T23:31:49.375Z"
   },
   {
    "duration": 36,
    "start_time": "2023-07-24T23:31:49.392Z"
   },
   {
    "duration": 17,
    "start_time": "2023-07-24T23:31:49.430Z"
   },
   {
    "duration": 36,
    "start_time": "2023-07-24T23:31:49.449Z"
   },
   {
    "duration": 20,
    "start_time": "2023-07-24T23:31:49.488Z"
   },
   {
    "duration": 2,
    "start_time": "2023-07-24T23:31:49.510Z"
   },
   {
    "duration": 12,
    "start_time": "2023-07-24T23:31:49.514Z"
   },
   {
    "duration": 79,
    "start_time": "2023-07-24T23:31:49.527Z"
   },
   {
    "duration": 112,
    "start_time": "2023-07-24T23:31:49.608Z"
   },
   {
    "duration": 93,
    "start_time": "2023-07-24T23:31:49.722Z"
   },
   {
    "duration": 14,
    "start_time": "2023-07-25T00:04:13.728Z"
   },
   {
    "duration": 15,
    "start_time": "2023-07-25T00:04:21.520Z"
   },
   {
    "duration": 14,
    "start_time": "2023-07-25T00:04:30.111Z"
   },
   {
    "duration": 13,
    "start_time": "2023-07-25T00:04:36.143Z"
   },
   {
    "duration": 2255,
    "start_time": "2023-07-25T23:05:51.752Z"
   },
   {
    "duration": 1094,
    "start_time": "2023-07-25T23:05:54.009Z"
   },
   {
    "duration": 152,
    "start_time": "2023-07-25T23:05:55.105Z"
   },
   {
    "duration": 3,
    "start_time": "2023-07-25T23:05:55.259Z"
   },
   {
    "duration": 110,
    "start_time": "2023-07-25T23:05:55.264Z"
   },
   {
    "duration": 7,
    "start_time": "2023-07-25T23:05:55.375Z"
   },
   {
    "duration": 11,
    "start_time": "2023-07-25T23:05:55.384Z"
   },
   {
    "duration": 3,
    "start_time": "2023-07-25T23:05:55.396Z"
   },
   {
    "duration": 85,
    "start_time": "2023-07-25T23:05:55.400Z"
   },
   {
    "duration": 4,
    "start_time": "2023-07-25T23:05:55.486Z"
   },
   {
    "duration": 22,
    "start_time": "2023-07-25T23:05:55.492Z"
   },
   {
    "duration": 3,
    "start_time": "2023-07-25T23:05:55.516Z"
   },
   {
    "duration": 62,
    "start_time": "2023-07-25T23:05:55.521Z"
   },
   {
    "duration": 7,
    "start_time": "2023-07-25T23:05:55.586Z"
   },
   {
    "duration": 6,
    "start_time": "2023-07-25T23:05:55.594Z"
   },
   {
    "duration": 70,
    "start_time": "2023-07-25T23:05:55.602Z"
   },
   {
    "duration": 5,
    "start_time": "2023-07-25T23:05:55.674Z"
   },
   {
    "duration": 344,
    "start_time": "2023-07-25T23:05:55.681Z"
   },
   {
    "duration": 13,
    "start_time": "2023-07-25T23:05:56.027Z"
   },
   {
    "duration": 18,
    "start_time": "2023-07-25T23:05:56.042Z"
   },
   {
    "duration": 25,
    "start_time": "2023-07-25T23:05:56.062Z"
   },
   {
    "duration": 99,
    "start_time": "2023-07-25T23:05:56.089Z"
   },
   {
    "duration": 66,
    "start_time": "2023-07-25T23:05:56.190Z"
   },
   {
    "duration": 34,
    "start_time": "2023-07-25T23:05:56.258Z"
   },
   {
    "duration": 217,
    "start_time": "2023-07-25T23:05:56.294Z"
   },
   {
    "duration": 244,
    "start_time": "2023-07-25T23:05:56.513Z"
   },
   {
    "duration": 19,
    "start_time": "2023-07-25T23:05:56.758Z"
   },
   {
    "duration": 3,
    "start_time": "2023-07-25T23:05:56.779Z"
   },
   {
    "duration": 288,
    "start_time": "2023-07-25T23:05:56.784Z"
   },
   {
    "duration": 11,
    "start_time": "2023-07-25T23:05:57.074Z"
   },
   {
    "duration": 25,
    "start_time": "2023-07-25T23:05:57.087Z"
   },
   {
    "duration": 220,
    "start_time": "2023-07-25T23:05:57.114Z"
   },
   {
    "duration": 5,
    "start_time": "2023-07-25T23:05:57.336Z"
   },
   {
    "duration": 9,
    "start_time": "2023-07-25T23:05:57.356Z"
   },
   {
    "duration": 47,
    "start_time": "2023-07-25T23:05:57.367Z"
   },
   {
    "duration": 166,
    "start_time": "2023-07-25T23:05:57.416Z"
   },
   {
    "duration": 10,
    "start_time": "2023-07-25T23:05:57.584Z"
   },
   {
    "duration": 8,
    "start_time": "2023-07-25T23:05:57.596Z"
   },
   {
    "duration": 25,
    "start_time": "2023-07-25T23:05:57.606Z"
   },
   {
    "duration": 27,
    "start_time": "2023-07-25T23:05:57.632Z"
   },
   {
    "duration": 16,
    "start_time": "2023-07-25T23:05:57.662Z"
   },
   {
    "duration": 15,
    "start_time": "2023-07-25T23:05:57.679Z"
   },
   {
    "duration": 2,
    "start_time": "2023-07-25T23:05:57.695Z"
   },
   {
    "duration": 8,
    "start_time": "2023-07-25T23:05:57.699Z"
   },
   {
    "duration": 91,
    "start_time": "2023-07-25T23:05:57.708Z"
   },
   {
    "duration": 136,
    "start_time": "2023-07-25T23:05:57.801Z"
   },
   {
    "duration": 96,
    "start_time": "2023-07-25T23:05:57.939Z"
   },
   {
    "duration": 64,
    "start_time": "2023-07-25T23:09:23.051Z"
   },
   {
    "duration": 63,
    "start_time": "2023-07-25T23:09:33.607Z"
   },
   {
    "duration": 103,
    "start_time": "2023-07-25T23:09:51.599Z"
   },
   {
    "duration": 61,
    "start_time": "2023-07-25T23:10:01.023Z"
   },
   {
    "duration": 111,
    "start_time": "2023-07-25T23:10:08.947Z"
   },
   {
    "duration": 105,
    "start_time": "2023-07-25T23:10:19.955Z"
   },
   {
    "duration": 105,
    "start_time": "2023-07-25T23:10:27.864Z"
   },
   {
    "duration": 108,
    "start_time": "2023-07-25T23:11:54.803Z"
   },
   {
    "duration": 13,
    "start_time": "2023-07-26T03:47:21.498Z"
   }
  ],
  "kernelspec": {
   "display_name": "Python 3 (ipykernel)",
   "language": "python",
   "name": "python3"
  },
  "language_info": {
   "codemirror_mode": {
    "name": "ipython",
    "version": 3
   },
   "file_extension": ".py",
   "mimetype": "text/x-python",
   "name": "python",
   "nbconvert_exporter": "python",
   "pygments_lexer": "ipython3",
   "version": "3.9.13"
  },
  "toc": {
   "base_numbering": 1,
   "nav_menu": {
    "height": "12px",
    "width": "160px"
   },
   "number_sections": true,
   "sideBar": true,
   "skip_h1_title": true,
   "title_cell": "Table of Contents",
   "title_sidebar": "Contents",
   "toc_cell": false,
   "toc_position": {
    "height": "calc(100% - 180px)",
    "left": "10px",
    "top": "150px",
    "width": "347.375px"
   },
   "toc_section_display": true,
   "toc_window_display": false
  }
 },
 "nbformat": 4,
 "nbformat_minor": 2
}
