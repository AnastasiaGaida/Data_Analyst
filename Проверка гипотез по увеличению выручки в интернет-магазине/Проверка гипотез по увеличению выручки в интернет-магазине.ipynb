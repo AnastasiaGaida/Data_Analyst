{
 "cells": [
  {
   "cell_type": "markdown",
   "metadata": {},
   "source": [
    "# Содержание\n",
    "    \n",
    "[Описание проекта](#project)\n",
    "\n",
    "1. [Загрузка данных и их подготовка к исследованию](#start)\n",
    " \n",
    "2. [Приоритизация гипотез.](#heposis)\n",
    "\n",
    "    2.1. [Примените фреймворк ICE для приоритизации гипотез. Отсортируйте их по убыванию приоритета.](#heposis1)\n",
    " \n",
    "    2.2. [Примените фреймворк RICE для приоритизации гипотез. Отсортируйте их по убыванию приоритета.](#heposis2)\n",
    "\n",
    "    2.3. [Как изменилась приоритизация гипотез при применении RICE вместо ICE.](#heposis3)\n",
    "    \n",
    "3.  [Исследовательский анализ A/B-теста.](#analysis)\n",
    "\n",
    "    3.1. [Постройте график кумулятивной выручки по группам. Сделайте выводы и предположения.](#analysis1)\n",
    "\n",
    "    3.2. [Постройте график кумулятивного среднего чека по группам. Сделайте выводы и предположения.](#analysis2)\n",
    "\n",
    "    3.3. [Постройте график относительного изменения кумулятивного среднего чека группы B к группе A. Сделайте выводы и предположения.](#analysis3)\n",
    "    \n",
    "    3.4. [Постройте график кумулятивного среднего количества заказов на посетителя по группам. Сделайте выводы и предположения.](#analysis4)\n",
    "    \n",
    "    3.5. [Постройте график относительного изменения кумулятивного среднего количества заказов на посетителя группы B к группе A. Сделайте выводы и предположения.](#analysis5)\n",
    "    \n",
    "    3.6. [Постройте точечный график количества заказов по пользователям. Сделайте выводы и предположения.](#analysis6)\n",
    "    \n",
    "    3.7. [Посчитайте 95-й и 99-й перцентили количества заказов на пользователя. Выберите границу для определения аномальных пользователей.](#analysis7)\n",
    "    \n",
    "    3.8. [Постройте точечный график стоимостей заказов. Сделайте выводы и предположения.](#analysis8)\n",
    "    \n",
    "    3.9. [Посчитайте 95-й и 99-й перцентили стоимости заказов. Выберите границу для определения аномальных заказов.](#analysis9)\n",
    "    \n",
    "    3.10. [Посчитайте статистическую значимость различий в среднем количестве заказов на посетителя между группами по «сырым» данным. Сделайте выводы и предположения.](#analysis10)\n",
    "    \n",
    "    3.11. [Посчитайте статистическую значимость различий в среднем чеке заказа между группами по «сырым» данным. Сделайте выводы и предположения.](#analysis11)\n",
    "    \n",
    "    3.12. [Посчитайте статистическую значимость различий в среднем количестве заказов на посетителя между группами по «очищенным» данным. Сделайте выводы и предположения.](#analysis12)\n",
    "    \n",
    "    3.13. [Посчитайте статистическую значимость различий в среднем чеке заказа между группами по «очищенным» данным. Сделайте выводы и предположения.](#analysis13)\n",
    "    \n",
    "    3.14. [Примите решение по результатам теста и объясните его.](#analysis14)\n",
    "\n",
    "4. [Выводы по исследованию.](#rec)\n"
   ]
  },
  {
   "cell_type": "markdown",
   "metadata": {},
   "source": [
    "<a id=\"project\"></a> \n",
    "# Описание проекта\n",
    "\n",
    "Подготовка списка гипотез для увеличения выручки.\n",
    "\n",
    "Задача исследования — приоритизировать гипотезы, запустить A/B-тест и проанализировать результаты. \n",
    "\n",
    "**Цель исследования - принять решение по результатам теста.** Варианты решений:\n",
    "1. Остановить тест, зафиксировать победу одной из групп.\n",
    "2. Остановить тест, зафиксировать отсутствие различий между группами.\n",
    "3. Продолжить тест.**\n",
    "\n",
    "**Описание данных**\n",
    "\n",
    "Данные для первой части\n",
    "Файл `'/datasets/hypothesis.csv'`:\n",
    "- `'Hypothesis'` — краткое описание гипотезы;\n",
    "- `'Reach'` — охват пользователей по 10-балльной шкале;\n",
    "- `'Impact'` — влияние на пользователей по 10-балльной шкале;\n",
    "- `'Confidence'` — уверенность в гипотезе по 10-балльной шкале;\n",
    "- `'Efforts'` — затраты ресурсов на проверку гипотезы по 10-балльной шкале. Чем больше значение Efforts, тем дороже проверка гипотезы.\n",
    "\n",
    "\n",
    "Данные для второй части\n",
    "Файл `'/datasets/orders.csv'`:\n",
    "- `'transactionId'` — идентификатор заказа;\n",
    "- `'visitorId'` — идентификатор пользователя, совершившего заказ;\n",
    "- `'date'` — дата, когда был совершён заказ;\n",
    "- `'revenue'` — выручка заказа;\n",
    "- `'group'` — группа A/B-теста, в которую попал заказ.\n",
    "\n",
    "Файл `'/datasets/visitors.csv'`:\n",
    "- `'date'` — дата;\n",
    "- `'group'` — группа A/B-теста;\n",
    "- `'visitors'` — количество пользователей в указанную дату в указанной группе A/B-теста"
   ]
  },
  {
   "cell_type": "markdown",
   "metadata": {},
   "source": [
    "Импорт необходимых для работы библиотек."
   ]
  },
  {
   "cell_type": "code",
   "execution_count": 1,
   "metadata": {},
   "outputs": [],
   "source": [
    "import pandas as pd\n",
    "pd.set_option('display.max_colwidth', None) #код, который выводит максимальную ширину столбцов таблицы\n",
    "pd.options.display.max_colwidth = 150\n",
    "pd.set_option('display.max_columns', None) #код, который выводит все колонки таблицы\n",
    "pd.options.display.float_format = '{:.2f}'.format #код отображает float с двумя знаками после точки\n",
    "\n",
    "from matplotlib import pyplot as plt\n",
    "import seaborn as sns\n",
    "sns.set_theme(style='whitegrid')\n",
    "sns.color_palette('tab20')\n",
    "\n",
    "import matplotlib.pyplot as plt\n",
    "\n",
    "import numpy as np\n",
    "import math as mth\n",
    "\n",
    "from datetime import datetime, timedelta\n",
    "\n",
    "from IPython.display import display_html#библиотеки, использовались для вывода сразу нескольких доблиц в строке\n",
    "from ipywidgets import widgets, Layout#\n",
    "\n",
    "\n",
    "import datetime as dt\n",
    "import scipy.stats as stats"
   ]
  },
  {
   "cell_type": "markdown",
   "metadata": {},
   "source": [
    "### Загрузка данных и их подготовка к исследованию\n",
    "<a id=\"start\"></a> "
   ]
  },
  {
   "cell_type": "markdown",
   "metadata": {},
   "source": [
    "**Открытие файлов с данными и изучение общей информации.**"
   ]
  },
  {
   "cell_type": "code",
   "execution_count": 2,
   "metadata": {},
   "outputs": [],
   "source": [
    "try:\n",
    "    hypothesis = pd.read_csv('/datasets/hypothesis.csv')\n",
    "    orders = pd.read_csv('/datasets/orders.csv')\n",
    "    visitors = pd.read_csv('/datasets/visitors.csv')\n",
    "except:\n",
    "    hypothesis = pd.read_csv('https://code.s3.yandex.net/datasets/hypothesis.csv')\n",
    "    orders = pd.read_csv('https://code.s3.yandex.net/datasets/orders.csv')\n",
    "    visitors = pd.read_csv('https://code.s3.yandex.net/datasets/visitors.csv')"
   ]
  },
  {
   "cell_type": "code",
   "execution_count": 3,
   "metadata": {},
   "outputs": [],
   "source": [
    "#функция для ознакомления с основной информацией\n",
    "def information_df(metod): \n",
    "    print('Ознакомимся с таблицей, для этого выведем первые 5 строк на экран.')\n",
    "    display(metod.head())\n",
    "    print('-'* 25)    \n",
    "    print('Выведем основную информацию таблицы с помощью метода info().')\n",
    "    print(' ')\n",
    "    display(metod.info())\n",
    "    print('-'* 25)\n",
    "    print('Количество явных дубликатов  в таблице:', metod.duplicated().sum())\n",
    "    print('-'* 25)\n",
    "    print('Количество пропущенных значений в таблице:')\n",
    "    display(metod.isna().sum())"
   ]
  },
  {
   "cell_type": "code",
   "execution_count": 4,
   "metadata": {},
   "outputs": [
    {
     "name": "stdout",
     "output_type": "stream",
     "text": [
      "Ознакомимся с таблицей, для этого выведем первые 5 строк на экран.\n"
     ]
    },
    {
     "data": {
      "text/html": [
       "<div>\n",
       "<style scoped>\n",
       "    .dataframe tbody tr th:only-of-type {\n",
       "        vertical-align: middle;\n",
       "    }\n",
       "\n",
       "    .dataframe tbody tr th {\n",
       "        vertical-align: top;\n",
       "    }\n",
       "\n",
       "    .dataframe thead th {\n",
       "        text-align: right;\n",
       "    }\n",
       "</style>\n",
       "<table border=\"1\" class=\"dataframe\">\n",
       "  <thead>\n",
       "    <tr style=\"text-align: right;\">\n",
       "      <th></th>\n",
       "      <th>Hypothesis</th>\n",
       "      <th>Reach</th>\n",
       "      <th>Impact</th>\n",
       "      <th>Confidence</th>\n",
       "      <th>Efforts</th>\n",
       "    </tr>\n",
       "  </thead>\n",
       "  <tbody>\n",
       "    <tr>\n",
       "      <th>0</th>\n",
       "      <td>Добавить два новых канала привлечения трафика, что позволит привлекать на 30% больше пользователей</td>\n",
       "      <td>3</td>\n",
       "      <td>10</td>\n",
       "      <td>8</td>\n",
       "      <td>6</td>\n",
       "    </tr>\n",
       "    <tr>\n",
       "      <th>1</th>\n",
       "      <td>Запустить собственную службу доставки, что сократит срок доставки заказов</td>\n",
       "      <td>2</td>\n",
       "      <td>5</td>\n",
       "      <td>4</td>\n",
       "      <td>10</td>\n",
       "    </tr>\n",
       "    <tr>\n",
       "      <th>2</th>\n",
       "      <td>Добавить блоки рекомендаций товаров на сайт интернет магазина, чтобы повысить конверсию и средний чек заказа</td>\n",
       "      <td>8</td>\n",
       "      <td>3</td>\n",
       "      <td>7</td>\n",
       "      <td>3</td>\n",
       "    </tr>\n",
       "    <tr>\n",
       "      <th>3</th>\n",
       "      <td>Изменить структура категорий, что увеличит конверсию, т.к. пользователи быстрее найдут нужный товар</td>\n",
       "      <td>8</td>\n",
       "      <td>3</td>\n",
       "      <td>3</td>\n",
       "      <td>8</td>\n",
       "    </tr>\n",
       "    <tr>\n",
       "      <th>4</th>\n",
       "      <td>Изменить цвет фона главной страницы, чтобы увеличить вовлеченность пользователей</td>\n",
       "      <td>3</td>\n",
       "      <td>1</td>\n",
       "      <td>1</td>\n",
       "      <td>1</td>\n",
       "    </tr>\n",
       "  </tbody>\n",
       "</table>\n",
       "</div>"
      ],
      "text/plain": [
       "                                                                                                     Hypothesis  \\\n",
       "0            Добавить два новых канала привлечения трафика, что позволит привлекать на 30% больше пользователей   \n",
       "1                                     Запустить собственную службу доставки, что сократит срок доставки заказов   \n",
       "2  Добавить блоки рекомендаций товаров на сайт интернет магазина, чтобы повысить конверсию и средний чек заказа   \n",
       "3           Изменить структура категорий, что увеличит конверсию, т.к. пользователи быстрее найдут нужный товар   \n",
       "4                              Изменить цвет фона главной страницы, чтобы увеличить вовлеченность пользователей   \n",
       "\n",
       "   Reach  Impact  Confidence  Efforts  \n",
       "0      3      10           8        6  \n",
       "1      2       5           4       10  \n",
       "2      8       3           7        3  \n",
       "3      8       3           3        8  \n",
       "4      3       1           1        1  "
      ]
     },
     "metadata": {},
     "output_type": "display_data"
    },
    {
     "name": "stdout",
     "output_type": "stream",
     "text": [
      "-------------------------\n",
      "Выведем основную информацию таблицы с помощью метода info().\n",
      " \n",
      "<class 'pandas.core.frame.DataFrame'>\n",
      "RangeIndex: 9 entries, 0 to 8\n",
      "Data columns (total 5 columns):\n",
      " #   Column      Non-Null Count  Dtype \n",
      "---  ------      --------------  ----- \n",
      " 0   Hypothesis  9 non-null      object\n",
      " 1   Reach       9 non-null      int64 \n",
      " 2   Impact      9 non-null      int64 \n",
      " 3   Confidence  9 non-null      int64 \n",
      " 4   Efforts     9 non-null      int64 \n",
      "dtypes: int64(4), object(1)\n",
      "memory usage: 488.0+ bytes\n"
     ]
    },
    {
     "data": {
      "text/plain": [
       "None"
      ]
     },
     "metadata": {},
     "output_type": "display_data"
    },
    {
     "name": "stdout",
     "output_type": "stream",
     "text": [
      "-------------------------\n",
      "Количество явных дубликатов  в таблице: 0\n",
      "-------------------------\n",
      "Количество пропущенных значений в таблице:\n"
     ]
    },
    {
     "data": {
      "text/plain": [
       "Hypothesis    0\n",
       "Reach         0\n",
       "Impact        0\n",
       "Confidence    0\n",
       "Efforts       0\n",
       "dtype: int64"
      ]
     },
     "metadata": {},
     "output_type": "display_data"
    }
   ],
   "source": [
    "information_df(hypothesis)"
   ]
  },
  {
   "cell_type": "code",
   "execution_count": 5,
   "metadata": {},
   "outputs": [
    {
     "name": "stdout",
     "output_type": "stream",
     "text": [
      "Ознакомимся с таблицей, для этого выведем первые 5 строк на экран.\n"
     ]
    },
    {
     "data": {
      "text/html": [
       "<div>\n",
       "<style scoped>\n",
       "    .dataframe tbody tr th:only-of-type {\n",
       "        vertical-align: middle;\n",
       "    }\n",
       "\n",
       "    .dataframe tbody tr th {\n",
       "        vertical-align: top;\n",
       "    }\n",
       "\n",
       "    .dataframe thead th {\n",
       "        text-align: right;\n",
       "    }\n",
       "</style>\n",
       "<table border=\"1\" class=\"dataframe\">\n",
       "  <thead>\n",
       "    <tr style=\"text-align: right;\">\n",
       "      <th></th>\n",
       "      <th>transactionId</th>\n",
       "      <th>visitorId</th>\n",
       "      <th>date</th>\n",
       "      <th>revenue</th>\n",
       "      <th>group</th>\n",
       "    </tr>\n",
       "  </thead>\n",
       "  <tbody>\n",
       "    <tr>\n",
       "      <th>0</th>\n",
       "      <td>3667963787</td>\n",
       "      <td>3312258926</td>\n",
       "      <td>2019-08-15</td>\n",
       "      <td>1650</td>\n",
       "      <td>B</td>\n",
       "    </tr>\n",
       "    <tr>\n",
       "      <th>1</th>\n",
       "      <td>2804400009</td>\n",
       "      <td>3642806036</td>\n",
       "      <td>2019-08-15</td>\n",
       "      <td>730</td>\n",
       "      <td>B</td>\n",
       "    </tr>\n",
       "    <tr>\n",
       "      <th>2</th>\n",
       "      <td>2961555356</td>\n",
       "      <td>4069496402</td>\n",
       "      <td>2019-08-15</td>\n",
       "      <td>400</td>\n",
       "      <td>A</td>\n",
       "    </tr>\n",
       "    <tr>\n",
       "      <th>3</th>\n",
       "      <td>3797467345</td>\n",
       "      <td>1196621759</td>\n",
       "      <td>2019-08-15</td>\n",
       "      <td>9759</td>\n",
       "      <td>B</td>\n",
       "    </tr>\n",
       "    <tr>\n",
       "      <th>4</th>\n",
       "      <td>2282983706</td>\n",
       "      <td>2322279887</td>\n",
       "      <td>2019-08-15</td>\n",
       "      <td>2308</td>\n",
       "      <td>B</td>\n",
       "    </tr>\n",
       "  </tbody>\n",
       "</table>\n",
       "</div>"
      ],
      "text/plain": [
       "   transactionId   visitorId        date  revenue group\n",
       "0     3667963787  3312258926  2019-08-15     1650     B\n",
       "1     2804400009  3642806036  2019-08-15      730     B\n",
       "2     2961555356  4069496402  2019-08-15      400     A\n",
       "3     3797467345  1196621759  2019-08-15     9759     B\n",
       "4     2282983706  2322279887  2019-08-15     2308     B"
      ]
     },
     "metadata": {},
     "output_type": "display_data"
    },
    {
     "name": "stdout",
     "output_type": "stream",
     "text": [
      "-------------------------\n",
      "Выведем основную информацию таблицы с помощью метода info().\n",
      " \n",
      "<class 'pandas.core.frame.DataFrame'>\n",
      "RangeIndex: 1197 entries, 0 to 1196\n",
      "Data columns (total 5 columns):\n",
      " #   Column         Non-Null Count  Dtype \n",
      "---  ------         --------------  ----- \n",
      " 0   transactionId  1197 non-null   int64 \n",
      " 1   visitorId      1197 non-null   int64 \n",
      " 2   date           1197 non-null   object\n",
      " 3   revenue        1197 non-null   int64 \n",
      " 4   group          1197 non-null   object\n",
      "dtypes: int64(3), object(2)\n",
      "memory usage: 46.9+ KB\n"
     ]
    },
    {
     "data": {
      "text/plain": [
       "None"
      ]
     },
     "metadata": {},
     "output_type": "display_data"
    },
    {
     "name": "stdout",
     "output_type": "stream",
     "text": [
      "-------------------------\n",
      "Количество явных дубликатов  в таблице: 0\n",
      "-------------------------\n",
      "Количество пропущенных значений в таблице:\n"
     ]
    },
    {
     "data": {
      "text/plain": [
       "transactionId    0\n",
       "visitorId        0\n",
       "date             0\n",
       "revenue          0\n",
       "group            0\n",
       "dtype: int64"
      ]
     },
     "metadata": {},
     "output_type": "display_data"
    }
   ],
   "source": [
    "information_df(orders)"
   ]
  },
  {
   "cell_type": "code",
   "execution_count": 6,
   "metadata": {},
   "outputs": [
    {
     "name": "stdout",
     "output_type": "stream",
     "text": [
      "Ознакомимся с таблицей, для этого выведем первые 5 строк на экран.\n"
     ]
    },
    {
     "data": {
      "text/html": [
       "<div>\n",
       "<style scoped>\n",
       "    .dataframe tbody tr th:only-of-type {\n",
       "        vertical-align: middle;\n",
       "    }\n",
       "\n",
       "    .dataframe tbody tr th {\n",
       "        vertical-align: top;\n",
       "    }\n",
       "\n",
       "    .dataframe thead th {\n",
       "        text-align: right;\n",
       "    }\n",
       "</style>\n",
       "<table border=\"1\" class=\"dataframe\">\n",
       "  <thead>\n",
       "    <tr style=\"text-align: right;\">\n",
       "      <th></th>\n",
       "      <th>date</th>\n",
       "      <th>group</th>\n",
       "      <th>visitors</th>\n",
       "    </tr>\n",
       "  </thead>\n",
       "  <tbody>\n",
       "    <tr>\n",
       "      <th>0</th>\n",
       "      <td>2019-08-01</td>\n",
       "      <td>A</td>\n",
       "      <td>719</td>\n",
       "    </tr>\n",
       "    <tr>\n",
       "      <th>1</th>\n",
       "      <td>2019-08-02</td>\n",
       "      <td>A</td>\n",
       "      <td>619</td>\n",
       "    </tr>\n",
       "    <tr>\n",
       "      <th>2</th>\n",
       "      <td>2019-08-03</td>\n",
       "      <td>A</td>\n",
       "      <td>507</td>\n",
       "    </tr>\n",
       "    <tr>\n",
       "      <th>3</th>\n",
       "      <td>2019-08-04</td>\n",
       "      <td>A</td>\n",
       "      <td>717</td>\n",
       "    </tr>\n",
       "    <tr>\n",
       "      <th>4</th>\n",
       "      <td>2019-08-05</td>\n",
       "      <td>A</td>\n",
       "      <td>756</td>\n",
       "    </tr>\n",
       "  </tbody>\n",
       "</table>\n",
       "</div>"
      ],
      "text/plain": [
       "         date group  visitors\n",
       "0  2019-08-01     A       719\n",
       "1  2019-08-02     A       619\n",
       "2  2019-08-03     A       507\n",
       "3  2019-08-04     A       717\n",
       "4  2019-08-05     A       756"
      ]
     },
     "metadata": {},
     "output_type": "display_data"
    },
    {
     "name": "stdout",
     "output_type": "stream",
     "text": [
      "-------------------------\n",
      "Выведем основную информацию таблицы с помощью метода info().\n",
      " \n",
      "<class 'pandas.core.frame.DataFrame'>\n",
      "RangeIndex: 62 entries, 0 to 61\n",
      "Data columns (total 3 columns):\n",
      " #   Column    Non-Null Count  Dtype \n",
      "---  ------    --------------  ----- \n",
      " 0   date      62 non-null     object\n",
      " 1   group     62 non-null     object\n",
      " 2   visitors  62 non-null     int64 \n",
      "dtypes: int64(1), object(2)\n",
      "memory usage: 1.6+ KB\n"
     ]
    },
    {
     "data": {
      "text/plain": [
       "None"
      ]
     },
     "metadata": {},
     "output_type": "display_data"
    },
    {
     "name": "stdout",
     "output_type": "stream",
     "text": [
      "-------------------------\n",
      "Количество явных дубликатов  в таблице: 0\n",
      "-------------------------\n",
      "Количество пропущенных значений в таблице:\n"
     ]
    },
    {
     "data": {
      "text/plain": [
       "date        0\n",
       "group       0\n",
       "visitors    0\n",
       "dtype: int64"
      ]
     },
     "metadata": {},
     "output_type": "display_data"
    }
   ],
   "source": [
    "information_df(visitors)"
   ]
  },
  {
   "cell_type": "markdown",
   "metadata": {},
   "source": [
    "**Переименуем названия столбцов в таблицах, приводя их к \"змеиному_регистру\", и изменим тип данных в необходимых столбцах.**"
   ]
  },
  {
   "cell_type": "code",
   "execution_count": 7,
   "metadata": {},
   "outputs": [],
   "source": [
    "hypothesis.columns = [x.lower().replace(' ', '_') for x in hypothesis.columns.values]\n",
    "\n",
    "orders = orders.rename( \n",
    " columns={'transactionId': 'transaction_id', 'visitorId':'visitor_id'})"
   ]
  },
  {
   "cell_type": "code",
   "execution_count": 8,
   "metadata": {},
   "outputs": [],
   "source": [
    "orders['date'] = orders['date'].map(lambda x: dt.datetime.strptime(x, '%Y-%m-%d'))\n",
    "visitors['date'] = visitors['date'].map(lambda x: dt.datetime.strptime(x, '%Y-%m-%d'))"
   ]
  },
  {
   "cell_type": "code",
   "execution_count": 9,
   "metadata": {},
   "outputs": [
    {
     "data": {
      "text/plain": [
       "transaction_id             int64\n",
       "visitor_id                 int64\n",
       "date              datetime64[ns]\n",
       "revenue                    int64\n",
       "group                     object\n",
       "dtype: object"
      ]
     },
     "metadata": {},
     "output_type": "display_data"
    },
    {
     "data": {
      "text/plain": [
       "date        datetime64[ns]\n",
       "group               object\n",
       "visitors             int64\n",
       "dtype: object"
      ]
     },
     "metadata": {},
     "output_type": "display_data"
    }
   ],
   "source": [
    "display(orders.dtypes)\n",
    "display(visitors.dtypes)"
   ]
  },
  {
   "cell_type": "markdown",
   "metadata": {},
   "source": [
    "**Проверка исходных данных на наличие аномалий.**"
   ]
  },
  {
   "cell_type": "markdown",
   "metadata": {},
   "source": [
    "Проверим, есть ли в исходных данных строки с аномальными значениями."
   ]
  },
  {
   "cell_type": "code",
   "execution_count": 10,
   "metadata": {},
   "outputs": [
    {
     "name": "stdout",
     "output_type": "stream",
     "text": [
      "Строки таблицы orders с отрицательной или нулевой суммой заказа: 0\n",
      "Строки таблицы visitors с отрицательным посещением: 0\n",
      "Строки таблицы hypothesis с отрицательной оценкой: 0\n"
     ]
    }
   ],
   "source": [
    "print('Строки таблицы orders с отрицательной или нулевой суммой заказа:', len(orders[orders['revenue'] <= 0]))\n",
    "\n",
    "print('Строки таблицы visitors с отрицательным посещением:', len(visitors[visitors['visitors'] < 0]))\n",
    "\n",
    "print(\n",
    "    'Строки таблицы hypothesis с отрицательной оценкой:', \n",
    "    len(hypothesis[(hypothesis['reach'] <= 0) | (hypothesis['impact'] <= 0) | \n",
    "                   (hypothesis['confidence'] <= 0) | (hypothesis['efforts'] <= 0)])\n",
    ")"
   ]
  },
  {
   "cell_type": "markdown",
   "metadata": {},
   "source": [
    "Проверим временной интервал таблиц orders и visitors на наличие аномальных дат."
   ]
  },
  {
   "cell_type": "code",
   "execution_count": 11,
   "metadata": {},
   "outputs": [
    {
     "name": "stdout",
     "output_type": "stream",
     "text": [
      "Временной интервал таблицы orders: 01/08/2019 - 31/08/2019\n",
      "Временной интервал таблицы visitors: 01/08/2019 - 31/08/2019\n"
     ]
    }
   ],
   "source": [
    "print('Временной интервал таблицы orders:', \\\n",
    "      orders['date'].min().strftime('%d/%m/%Y'), '-', \\\n",
    "      orders['date'].max().strftime('%d/%m/%Y'))\n",
    "\n",
    "print('Временной интервал таблицы visitors:', \\\n",
    "      visitors['date'].min().strftime('%d/%m/%Y'), '-', \\\n",
    "      visitors['date'].max().strftime('%d/%m/%Y'))"
   ]
  },
  {
   "cell_type": "markdown",
   "metadata": {},
   "source": [
    "**Проверка распределения пользователей на группы по `'visitor_id'`.**"
   ]
  },
  {
   "cell_type": "code",
   "execution_count": 12,
   "metadata": {},
   "outputs": [
    {
     "data": {
      "text/plain": [
       "58"
      ]
     },
     "execution_count": 12,
     "metadata": {},
     "output_type": "execute_result"
    }
   ],
   "source": [
    "buyers_All = orders[orders['group']=='A'].groupby('visitor_id').agg({'transaction_id': 'first'})\n",
    "buyers_Bll = orders[orders['group']=='B'].groupby('visitor_id').agg({'transaction_id': 'first'})\n",
    "dubl = buyers_All.merge(buyers_Bll, on='visitor_id').reset_index()\n",
    "non_ID = list(dubl['visitor_id'])\n",
    "len(non_ID)"
   ]
  },
  {
   "cell_type": "markdown",
   "metadata": {},
   "source": [
    "При анализе данных, было выявлено, что 58 пользователей с уникальным 'visitor_id' на протяжении исследуемого периода попали как в одну, так и во вторую группу. Следовательно, неизвестно, в какой из групп пользователь принял решение, влияющее на тест. Примем решение убрать уникальные 'visitor_id', попавшие в обе группы из теста."
   ]
  },
  {
   "cell_type": "markdown",
   "metadata": {},
   "source": [
    "Найдем количество пользователей в каждой группе."
   ]
  },
  {
   "cell_type": "code",
   "execution_count": 13,
   "metadata": {},
   "outputs": [
    {
     "data": {
      "text/plain": [
       "group\n",
       "A    503\n",
       "B    586\n",
       "Name: visitor_id, dtype: int64"
      ]
     },
     "metadata": {},
     "output_type": "display_data"
    }
   ],
   "source": [
    "display(orders.groupby('group')['visitor_id'].nunique())"
   ]
  },
  {
   "cell_type": "markdown",
   "metadata": {},
   "source": [
    "Распределение пользователей между группами имеет явно выраженный перевес в сторону группы B."
   ]
  },
  {
   "cell_type": "markdown",
   "metadata": {},
   "source": [
    "**Вывод по предобработке**\n",
    "\n",
    "На данном этапе выполено следующее:\n",
    "\n",
    " - Откорректированы названия столбцов.\n",
    "\n",
    " - Изменены типы данных в столбцах.\n",
    "\n",
    " - Проверены данные на аномальные значения.\n",
    "\n",
    " - Найдено некорректное распределение пользователей между группами, а также неравномерное деление этих групп."
   ]
  },
  {
   "cell_type": "code",
   "execution_count": 14,
   "metadata": {},
   "outputs": [],
   "source": [
    "#orders = orders.drop (index= 425 ) #выброс в заказе в группе B"
   ]
  },
  {
   "cell_type": "markdown",
   "metadata": {},
   "source": [
    "### Приоритизация гипотез.\n",
    "<a id=\"heposis\"></a> "
   ]
  },
  {
   "cell_type": "markdown",
   "metadata": {},
   "source": [
    "В файле `'/datasets/hypothesis.csv'` 9 гипотез по увеличению выручки интернет-магазина с указанными параметрами `'Reach'`, `'Impact'`, `'Confidence'`, `'Effort'`."
   ]
  },
  {
   "cell_type": "markdown",
   "metadata": {},
   "source": [
    "<div style=\"border-radius: 15px; box-shadow: 4px 4px 4px; border: solid green 2px; padding: 20px\"> <b>ICE и RICE</b><br>\n",
    "ICE — один из самых популярных способов приоритизации задач. У этого метода есть модификация RICE.: \n",
    "<ul>    \n",
    "    \n",
    "- `'Reach`' — скольких пользователей затронет изменение, которое вы хотите внести;\n",
    "    \n",
    "- `'Impact`' — насколько сильно изменение повлияет на пользователей, их опыт и удовлетворение от продукта;\n",
    "    \n",
    "- `'Confidence`' — насколько вы уверены, что это изменение повлияет на пользователей именно так;\n",
    "    \n",
    "- `'Efforts`' — сколько стоит протестировать эту гипотезу. </ul>\n",
    "\n",
    "</div> <br>\n",
    "\n",
    "\n",
    "$$ICE = \\frac{Impact * Confidence}{Efforts}$$\n",
    "\n",
    "$$RICE = \\frac{Rearch * Impact * Confidence}{Efforts}$$\n",
    "<hr style=\"border: 2px solid green;\" />"
   ]
  },
  {
   "cell_type": "markdown",
   "metadata": {},
   "source": [
    "#### Примените фреймворк ICE для приоритизации гипотез. Отсортируйте их по убыванию приоритета.\n",
    "<a id=\"heposis1\"></a> "
   ]
  },
  {
   "cell_type": "code",
   "execution_count": 15,
   "metadata": {},
   "outputs": [
    {
     "data": {
      "text/html": [
       "<div>\n",
       "<style scoped>\n",
       "    .dataframe tbody tr th:only-of-type {\n",
       "        vertical-align: middle;\n",
       "    }\n",
       "\n",
       "    .dataframe tbody tr th {\n",
       "        vertical-align: top;\n",
       "    }\n",
       "\n",
       "    .dataframe thead th {\n",
       "        text-align: right;\n",
       "    }\n",
       "</style>\n",
       "<table border=\"1\" class=\"dataframe\">\n",
       "  <thead>\n",
       "    <tr style=\"text-align: right;\">\n",
       "      <th></th>\n",
       "      <th>hypothesis</th>\n",
       "      <th>reach</th>\n",
       "      <th>impact</th>\n",
       "      <th>confidence</th>\n",
       "      <th>efforts</th>\n",
       "      <th>ICE</th>\n",
       "    </tr>\n",
       "  </thead>\n",
       "  <tbody>\n",
       "    <tr>\n",
       "      <th>8</th>\n",
       "      <td>Запустить акцию, дающую скидку на товар в день рождения</td>\n",
       "      <td>1</td>\n",
       "      <td>9</td>\n",
       "      <td>9</td>\n",
       "      <td>5</td>\n",
       "      <td>16.20</td>\n",
       "    </tr>\n",
       "    <tr>\n",
       "      <th>0</th>\n",
       "      <td>Добавить два новых канала привлечения трафика, что позволит привлекать на 30% больше пользователей</td>\n",
       "      <td>3</td>\n",
       "      <td>10</td>\n",
       "      <td>8</td>\n",
       "      <td>6</td>\n",
       "      <td>13.33</td>\n",
       "    </tr>\n",
       "    <tr>\n",
       "      <th>7</th>\n",
       "      <td>Добавить форму подписки на все основные страницы, чтобы собрать базу клиентов для email-рассылок</td>\n",
       "      <td>10</td>\n",
       "      <td>7</td>\n",
       "      <td>8</td>\n",
       "      <td>5</td>\n",
       "      <td>11.20</td>\n",
       "    </tr>\n",
       "    <tr>\n",
       "      <th>6</th>\n",
       "      <td>Показать на главной странице баннеры с актуальными акциями и распродажами, чтобы увеличить конверсию</td>\n",
       "      <td>5</td>\n",
       "      <td>3</td>\n",
       "      <td>8</td>\n",
       "      <td>3</td>\n",
       "      <td>8.00</td>\n",
       "    </tr>\n",
       "    <tr>\n",
       "      <th>2</th>\n",
       "      <td>Добавить блоки рекомендаций товаров на сайт интернет магазина, чтобы повысить конверсию и средний чек заказа</td>\n",
       "      <td>8</td>\n",
       "      <td>3</td>\n",
       "      <td>7</td>\n",
       "      <td>3</td>\n",
       "      <td>7.00</td>\n",
       "    </tr>\n",
       "    <tr>\n",
       "      <th>1</th>\n",
       "      <td>Запустить собственную службу доставки, что сократит срок доставки заказов</td>\n",
       "      <td>2</td>\n",
       "      <td>5</td>\n",
       "      <td>4</td>\n",
       "      <td>10</td>\n",
       "      <td>2.00</td>\n",
       "    </tr>\n",
       "    <tr>\n",
       "      <th>5</th>\n",
       "      <td>Добавить страницу отзывов клиентов о магазине, что позволит увеличить количество заказов</td>\n",
       "      <td>3</td>\n",
       "      <td>2</td>\n",
       "      <td>2</td>\n",
       "      <td>3</td>\n",
       "      <td>1.33</td>\n",
       "    </tr>\n",
       "    <tr>\n",
       "      <th>3</th>\n",
       "      <td>Изменить структура категорий, что увеличит конверсию, т.к. пользователи быстрее найдут нужный товар</td>\n",
       "      <td>8</td>\n",
       "      <td>3</td>\n",
       "      <td>3</td>\n",
       "      <td>8</td>\n",
       "      <td>1.12</td>\n",
       "    </tr>\n",
       "    <tr>\n",
       "      <th>4</th>\n",
       "      <td>Изменить цвет фона главной страницы, чтобы увеличить вовлеченность пользователей</td>\n",
       "      <td>3</td>\n",
       "      <td>1</td>\n",
       "      <td>1</td>\n",
       "      <td>1</td>\n",
       "      <td>1.00</td>\n",
       "    </tr>\n",
       "  </tbody>\n",
       "</table>\n",
       "</div>"
      ],
      "text/plain": [
       "                                                                                                     hypothesis  \\\n",
       "8                                                       Запустить акцию, дающую скидку на товар в день рождения   \n",
       "0            Добавить два новых канала привлечения трафика, что позволит привлекать на 30% больше пользователей   \n",
       "7              Добавить форму подписки на все основные страницы, чтобы собрать базу клиентов для email-рассылок   \n",
       "6          Показать на главной странице баннеры с актуальными акциями и распродажами, чтобы увеличить конверсию   \n",
       "2  Добавить блоки рекомендаций товаров на сайт интернет магазина, чтобы повысить конверсию и средний чек заказа   \n",
       "1                                     Запустить собственную службу доставки, что сократит срок доставки заказов   \n",
       "5                      Добавить страницу отзывов клиентов о магазине, что позволит увеличить количество заказов   \n",
       "3           Изменить структура категорий, что увеличит конверсию, т.к. пользователи быстрее найдут нужный товар   \n",
       "4                              Изменить цвет фона главной страницы, чтобы увеличить вовлеченность пользователей   \n",
       "\n",
       "   reach  impact  confidence  efforts   ICE  \n",
       "8      1       9           9        5 16.20  \n",
       "0      3      10           8        6 13.33  \n",
       "7     10       7           8        5 11.20  \n",
       "6      5       3           8        3  8.00  \n",
       "2      8       3           7        3  7.00  \n",
       "1      2       5           4       10  2.00  \n",
       "5      3       2           2        3  1.33  \n",
       "3      8       3           3        8  1.12  \n",
       "4      3       1           1        1  1.00  "
      ]
     },
     "execution_count": 15,
     "metadata": {},
     "output_type": "execute_result"
    }
   ],
   "source": [
    "hypothesis_ICE = hypothesis.copy()\n",
    "\n",
    "hypothesis_ICE['ICE'] = (\n",
    "    (hypothesis_ICE['impact'] * hypothesis_ICE['confidence'])\n",
    "    / hypothesis_ICE['efforts']\n",
    ")\n",
    "\n",
    "hypothesis_ICE = hypothesis_ICE.sort_values('ICE', ascending=False)\n",
    "hypothesis_ICE"
   ]
  },
  {
   "cell_type": "markdown",
   "metadata": {},
   "source": [
    "После применения фреймворка ICE для приоритизации гипотез были получены такие результаты:\n",
    "\n",
    "Наибольший приоритет необходимо отдать гепотизе: **\"Запустить акцию, дающую скидку на товар в день рождения\"**. \n",
    "\n",
    "Также среди остальных гипотез, приоритетными можно назвать :\n",
    "**\"Добавить два новых канала привлечения трафика, что позволит привлекать на 30% больше пользователей\"** и **\"Добавить форму подписки на все основные страницы, чтобы собрать базу клиентов для email-рассылок\".**\n"
   ]
  },
  {
   "cell_type": "markdown",
   "metadata": {},
   "source": [
    "#### Примените фреймворк RICE для приоритизации гипотез. Отсортируйте их по убыванию приоритета.\n",
    "<a id=\"heposis2\"></a> "
   ]
  },
  {
   "cell_type": "code",
   "execution_count": 16,
   "metadata": {},
   "outputs": [
    {
     "data": {
      "text/html": [
       "<div>\n",
       "<style scoped>\n",
       "    .dataframe tbody tr th:only-of-type {\n",
       "        vertical-align: middle;\n",
       "    }\n",
       "\n",
       "    .dataframe tbody tr th {\n",
       "        vertical-align: top;\n",
       "    }\n",
       "\n",
       "    .dataframe thead th {\n",
       "        text-align: right;\n",
       "    }\n",
       "</style>\n",
       "<table border=\"1\" class=\"dataframe\">\n",
       "  <thead>\n",
       "    <tr style=\"text-align: right;\">\n",
       "      <th></th>\n",
       "      <th>hypothesis</th>\n",
       "      <th>reach</th>\n",
       "      <th>impact</th>\n",
       "      <th>confidence</th>\n",
       "      <th>efforts</th>\n",
       "      <th>RICE</th>\n",
       "    </tr>\n",
       "  </thead>\n",
       "  <tbody>\n",
       "    <tr>\n",
       "      <th>7</th>\n",
       "      <td>Добавить форму подписки на все основные страницы, чтобы собрать базу клиентов для email-рассылок</td>\n",
       "      <td>10</td>\n",
       "      <td>7</td>\n",
       "      <td>8</td>\n",
       "      <td>5</td>\n",
       "      <td>112.00</td>\n",
       "    </tr>\n",
       "    <tr>\n",
       "      <th>2</th>\n",
       "      <td>Добавить блоки рекомендаций товаров на сайт интернет магазина, чтобы повысить конверсию и средний чек заказа</td>\n",
       "      <td>8</td>\n",
       "      <td>3</td>\n",
       "      <td>7</td>\n",
       "      <td>3</td>\n",
       "      <td>56.00</td>\n",
       "    </tr>\n",
       "    <tr>\n",
       "      <th>0</th>\n",
       "      <td>Добавить два новых канала привлечения трафика, что позволит привлекать на 30% больше пользователей</td>\n",
       "      <td>3</td>\n",
       "      <td>10</td>\n",
       "      <td>8</td>\n",
       "      <td>6</td>\n",
       "      <td>40.00</td>\n",
       "    </tr>\n",
       "    <tr>\n",
       "      <th>6</th>\n",
       "      <td>Показать на главной странице баннеры с актуальными акциями и распродажами, чтобы увеличить конверсию</td>\n",
       "      <td>5</td>\n",
       "      <td>3</td>\n",
       "      <td>8</td>\n",
       "      <td>3</td>\n",
       "      <td>40.00</td>\n",
       "    </tr>\n",
       "    <tr>\n",
       "      <th>8</th>\n",
       "      <td>Запустить акцию, дающую скидку на товар в день рождения</td>\n",
       "      <td>1</td>\n",
       "      <td>9</td>\n",
       "      <td>9</td>\n",
       "      <td>5</td>\n",
       "      <td>16.20</td>\n",
       "    </tr>\n",
       "    <tr>\n",
       "      <th>3</th>\n",
       "      <td>Изменить структура категорий, что увеличит конверсию, т.к. пользователи быстрее найдут нужный товар</td>\n",
       "      <td>8</td>\n",
       "      <td>3</td>\n",
       "      <td>3</td>\n",
       "      <td>8</td>\n",
       "      <td>9.00</td>\n",
       "    </tr>\n",
       "    <tr>\n",
       "      <th>1</th>\n",
       "      <td>Запустить собственную службу доставки, что сократит срок доставки заказов</td>\n",
       "      <td>2</td>\n",
       "      <td>5</td>\n",
       "      <td>4</td>\n",
       "      <td>10</td>\n",
       "      <td>4.00</td>\n",
       "    </tr>\n",
       "    <tr>\n",
       "      <th>5</th>\n",
       "      <td>Добавить страницу отзывов клиентов о магазине, что позволит увеличить количество заказов</td>\n",
       "      <td>3</td>\n",
       "      <td>2</td>\n",
       "      <td>2</td>\n",
       "      <td>3</td>\n",
       "      <td>4.00</td>\n",
       "    </tr>\n",
       "    <tr>\n",
       "      <th>4</th>\n",
       "      <td>Изменить цвет фона главной страницы, чтобы увеличить вовлеченность пользователей</td>\n",
       "      <td>3</td>\n",
       "      <td>1</td>\n",
       "      <td>1</td>\n",
       "      <td>1</td>\n",
       "      <td>3.00</td>\n",
       "    </tr>\n",
       "  </tbody>\n",
       "</table>\n",
       "</div>"
      ],
      "text/plain": [
       "                                                                                                     hypothesis  \\\n",
       "7              Добавить форму подписки на все основные страницы, чтобы собрать базу клиентов для email-рассылок   \n",
       "2  Добавить блоки рекомендаций товаров на сайт интернет магазина, чтобы повысить конверсию и средний чек заказа   \n",
       "0            Добавить два новых канала привлечения трафика, что позволит привлекать на 30% больше пользователей   \n",
       "6          Показать на главной странице баннеры с актуальными акциями и распродажами, чтобы увеличить конверсию   \n",
       "8                                                       Запустить акцию, дающую скидку на товар в день рождения   \n",
       "3           Изменить структура категорий, что увеличит конверсию, т.к. пользователи быстрее найдут нужный товар   \n",
       "1                                     Запустить собственную службу доставки, что сократит срок доставки заказов   \n",
       "5                      Добавить страницу отзывов клиентов о магазине, что позволит увеличить количество заказов   \n",
       "4                              Изменить цвет фона главной страницы, чтобы увеличить вовлеченность пользователей   \n",
       "\n",
       "   reach  impact  confidence  efforts   RICE  \n",
       "7     10       7           8        5 112.00  \n",
       "2      8       3           7        3  56.00  \n",
       "0      3      10           8        6  40.00  \n",
       "6      5       3           8        3  40.00  \n",
       "8      1       9           9        5  16.20  \n",
       "3      8       3           3        8   9.00  \n",
       "1      2       5           4       10   4.00  \n",
       "5      3       2           2        3   4.00  \n",
       "4      3       1           1        1   3.00  "
      ]
     },
     "execution_count": 16,
     "metadata": {},
     "output_type": "execute_result"
    }
   ],
   "source": [
    "hypothesis_RICE = hypothesis.copy()\n",
    "\n",
    "hypothesis_RICE['RICE'] = (\n",
    "    (hypothesis_RICE['reach'] * hypothesis_RICE['impact'] * hypothesis_RICE['confidence'])\n",
    "    / hypothesis_RICE['efforts']\n",
    ")\n",
    "\n",
    "hypothesis_RICE = hypothesis_RICE.sort_values('RICE', ascending=False)\n",
    "hypothesis_RICE"
   ]
  },
  {
   "cell_type": "markdown",
   "metadata": {},
   "source": [
    "После применения фреймворка RICE для приоритизации гипотез были получены такие результаты:\n",
    "\n",
    "Наибольший приоритет необходимо отдать гепотизе: **\"Добавить форму подписки на все основные страницы, чтобы собрать базу клиентов для email-рассылок\".**\n",
    "\n",
    "Также среди остальных гипотез, приоритетными можно назвать : **\"Добавить блоки рекомендаций товаров на сайт интернет магазина, чтобы повысить конверсию и средний чек заказа\"** и **\"Добавить два новых канала привлечения трафика, что позволит привлекать на 30% больше пользователей\".**"
   ]
  },
  {
   "cell_type": "markdown",
   "metadata": {},
   "source": [
    "#### Как изменилась приоритизация гипотез при применении RICE вместо ICE.\n",
    "<a id=\"heposis3\"></a> "
   ]
  },
  {
   "cell_type": "markdown",
   "metadata": {},
   "source": [
    "На визуализации можно наблюдать, как изменяется пиритизация гипотез исходя из параметров RICE и ICE."
   ]
  },
  {
   "cell_type": "code",
   "execution_count": 17,
   "metadata": {
    "scrolled": false
   },
   "outputs": [
    {
     "data": {
      "image/png": "[encoded data removed]",
      "text/plain": [
       "<Figure size 1550x600 with 1 Axes>"
      ]
     },
     "metadata": {},
     "output_type": "display_data"
    }
   ],
   "source": [
    "hpths = list(hypothesis_ICE['hypothesis'])\n",
    "df = hypothesis_ICE[['hypothesis', 'ICE']].merge(hypothesis_RICE[['hypothesis', 'RICE']], on='hypothesis')\n",
    "\n",
    "fig, ax = plt.subplots(1, figsize=(15.5,6))\n",
    "for i in hpths:\n",
    "    temp = df[df['hypothesis'] == i]\n",
    "    plt.plot(temp.ICE, temp.RICE, marker='o', markersize=20)\n",
    "plt.legend(hpths, fontsize=13, loc=(0, -0.7))\n",
    "plt.xlabel('ICE')\n",
    "plt.ylabel('RICE')\n",
    "plt.title('Визуализации изменения приоритезации гипотез')\n",
    "plt.show()"
   ]
  },
  {
   "cell_type": "markdown",
   "metadata": {},
   "source": [
    "**Рассчитав приоритезацию гипотез по фреймворку ICE и RICE стреди тройки лидеров и по одному и по второму были гипотезы \"Добавить форму подписки на все основные страницы, чтобы собрать базу клиентов для email-рассылок\" и \"Добавить два новых канала привлечения трафика, что позволит привлекать на 30% больше пользователей\".** \n",
    "\n",
    "Также при расчете ICE наибольшее количество баллов было у гипотезы \"Запустить акцию, дающую скидку на товар в день рождения\". А при расчете RICE второе место в лидерстве получила гипотеза \"Добавить блоки рекомендаций товаров на сайт интернет магазина, чтобы повысить конверсию и средний чек заказа\".\n",
    "\n",
    "Изменение в приоритизации произошло из-за добавления в расчеты параметра 'reach', отвечающего за охват пользователей. Так как у гипозы \"Запустить акцию, дающую скидку на товар в день рождения\" охват пользователей небольшой, то и ее позиция при расчете RICE значительно снизилась.\n"
   ]
  },
  {
   "cell_type": "markdown",
   "metadata": {},
   "source": [
    "### Анализ A/B-теста.\n",
    "<a id=\"analysis\"></a> "
   ]
  },
  {
   "cell_type": "markdown",
   "metadata": {},
   "source": [
    "Вы провели A/B-тест и получили результаты, которые описаны в файлах /datasets/orders.csv и /datasets/visitors.csv.\n",
    "\n",
    "Проанализируйте A/B-тест:"
   ]
  },
  {
   "cell_type": "markdown",
   "metadata": {},
   "source": [
    "Составим общую таблицу со всеми необходимыми для анализа метриками."
   ]
  },
  {
   "cell_type": "code",
   "execution_count": 18,
   "metadata": {},
   "outputs": [
    {
     "data": {
      "text/html": [
       "<div>\n",
       "<style scoped>\n",
       "    .dataframe tbody tr th:only-of-type {\n",
       "        vertical-align: middle;\n",
       "    }\n",
       "\n",
       "    .dataframe tbody tr th {\n",
       "        vertical-align: top;\n",
       "    }\n",
       "\n",
       "    .dataframe thead th {\n",
       "        text-align: right;\n",
       "    }\n",
       "</style>\n",
       "<table border=\"1\" class=\"dataframe\">\n",
       "  <thead>\n",
       "    <tr style=\"text-align: right;\">\n",
       "      <th></th>\n",
       "      <th>date</th>\n",
       "      <th>orders_A</th>\n",
       "      <th>revenue_A</th>\n",
       "      <th>orders_B</th>\n",
       "      <th>revenue_B</th>\n",
       "      <th>orders_cummulative_A</th>\n",
       "      <th>revenue_cummulative_A</th>\n",
       "      <th>orders_cummulative_B</th>\n",
       "      <th>revenue_cummulative_B</th>\n",
       "      <th>visitors_A</th>\n",
       "      <th>visitors_B</th>\n",
       "      <th>visitors_cummulative_A</th>\n",
       "      <th>visitors_cummulative_B</th>\n",
       "    </tr>\n",
       "  </thead>\n",
       "  <tbody>\n",
       "    <tr>\n",
       "      <th>0</th>\n",
       "      <td>2019-08-01</td>\n",
       "      <td>24</td>\n",
       "      <td>148579</td>\n",
       "      <td>21</td>\n",
       "      <td>101217</td>\n",
       "      <td>24</td>\n",
       "      <td>148579</td>\n",
       "      <td>21</td>\n",
       "      <td>101217</td>\n",
       "      <td>719</td>\n",
       "      <td>713</td>\n",
       "      <td>719</td>\n",
       "      <td>713</td>\n",
       "    </tr>\n",
       "    <tr>\n",
       "      <th>1</th>\n",
       "      <td>2019-08-02</td>\n",
       "      <td>20</td>\n",
       "      <td>93822</td>\n",
       "      <td>24</td>\n",
       "      <td>165531</td>\n",
       "      <td>44</td>\n",
       "      <td>242401</td>\n",
       "      <td>45</td>\n",
       "      <td>266748</td>\n",
       "      <td>619</td>\n",
       "      <td>581</td>\n",
       "      <td>1338</td>\n",
       "      <td>1294</td>\n",
       "    </tr>\n",
       "    <tr>\n",
       "      <th>2</th>\n",
       "      <td>2019-08-03</td>\n",
       "      <td>24</td>\n",
       "      <td>112473</td>\n",
       "      <td>16</td>\n",
       "      <td>114248</td>\n",
       "      <td>68</td>\n",
       "      <td>354874</td>\n",
       "      <td>61</td>\n",
       "      <td>380996</td>\n",
       "      <td>507</td>\n",
       "      <td>509</td>\n",
       "      <td>1845</td>\n",
       "      <td>1803</td>\n",
       "    </tr>\n",
       "    <tr>\n",
       "      <th>3</th>\n",
       "      <td>2019-08-04</td>\n",
       "      <td>16</td>\n",
       "      <td>70825</td>\n",
       "      <td>17</td>\n",
       "      <td>108571</td>\n",
       "      <td>84</td>\n",
       "      <td>425699</td>\n",
       "      <td>78</td>\n",
       "      <td>489567</td>\n",
       "      <td>717</td>\n",
       "      <td>770</td>\n",
       "      <td>2562</td>\n",
       "      <td>2573</td>\n",
       "    </tr>\n",
       "    <tr>\n",
       "      <th>4</th>\n",
       "      <td>2019-08-05</td>\n",
       "      <td>25</td>\n",
       "      <td>124218</td>\n",
       "      <td>23</td>\n",
       "      <td>92428</td>\n",
       "      <td>109</td>\n",
       "      <td>549917</td>\n",
       "      <td>101</td>\n",
       "      <td>581995</td>\n",
       "      <td>756</td>\n",
       "      <td>707</td>\n",
       "      <td>3318</td>\n",
       "      <td>3280</td>\n",
       "    </tr>\n",
       "    <tr>\n",
       "      <th>5</th>\n",
       "      <td>2019-08-06</td>\n",
       "      <td>18</td>\n",
       "      <td>48484</td>\n",
       "      <td>28</td>\n",
       "      <td>242342</td>\n",
       "      <td>127</td>\n",
       "      <td>598401</td>\n",
       "      <td>129</td>\n",
       "      <td>824337</td>\n",
       "      <td>667</td>\n",
       "      <td>655</td>\n",
       "      <td>3985</td>\n",
       "      <td>3935</td>\n",
       "    </tr>\n",
       "  </tbody>\n",
       "</table>\n",
       "</div>"
      ],
      "text/plain": [
       "        date  orders_A  revenue_A  orders_B  revenue_B  orders_cummulative_A  \\\n",
       "0 2019-08-01        24     148579        21     101217                    24   \n",
       "1 2019-08-02        20      93822        24     165531                    44   \n",
       "2 2019-08-03        24     112473        16     114248                    68   \n",
       "3 2019-08-04        16      70825        17     108571                    84   \n",
       "4 2019-08-05        25     124218        23      92428                   109   \n",
       "5 2019-08-06        18      48484        28     242342                   127   \n",
       "\n",
       "   revenue_cummulative_A  orders_cummulative_B  revenue_cummulative_B  \\\n",
       "0                 148579                    21                 101217   \n",
       "1                 242401                    45                 266748   \n",
       "2                 354874                    61                 380996   \n",
       "3                 425699                    78                 489567   \n",
       "4                 549917                   101                 581995   \n",
       "5                 598401                   129                 824337   \n",
       "\n",
       "   visitors_A  visitors_B  visitors_cummulative_A  visitors_cummulative_B  \n",
       "0         719         713                     719                     713  \n",
       "1         619         581                    1338                    1294  \n",
       "2         507         509                    1845                    1803  \n",
       "3         717         770                    2562                    2573  \n",
       "4         756         707                    3318                    3280  \n",
       "5         667         655                    3985                    3935  "
      ]
     },
     "execution_count": 18,
     "metadata": {},
     "output_type": "execute_result"
    }
   ],
   "source": [
    "#составим таблицу с количеством посетителей по дням в группе А\n",
    "visitors_A = visitors[visitors['group'] == 'A'][['date', 'visitors']]\n",
    "visitors_A.columns = ['date', 'visitors_A']\n",
    "\n",
    "#составим таблицу с кумулятивным количеством посетителей в группе А\n",
    "visitors_cummulative_A = visitors_A.apply(\n",
    "    lambda x: visitors_A[visitors_A['date'] <= x['date']].agg(\n",
    "        {'date': 'max', 'visitors_A': 'sum'}),\n",
    "    axis=1,\n",
    ")\n",
    "visitors_cummulative_A.columns = ['date', 'visitors_cummulative_A']\n",
    "\n",
    "#составим таблицу с количеством посетителей по дням в группе В\n",
    "visitors_B = visitors[visitors['group'] == 'B'][['date', 'visitors']]\n",
    "visitors_B.columns = ['date', 'visitors_B']\n",
    "\n",
    "#составим таблицу с кумулятивным количеством посетителей в группе В\n",
    "visitors_cummulative_B = visitors_B.apply(\n",
    "    lambda x: visitors_B[visitors_B['date'] <= x['date']].agg(\n",
    "        {'date': 'max', 'visitors_B': 'sum'}\n",
    "    ),\n",
    "    axis=1,\n",
    ")\n",
    "visitors_cummulative_B.columns = ['date', 'visitors_cummulative_B']\n",
    "\n",
    "#составим таблицу с количеством заказов, выручкой по дням в группе А\n",
    "orders_A = (\n",
    "    orders[orders['group'] == 'A'][['date', 'transaction_id', 'visitor_id', 'revenue']]\n",
    "    .groupby('date', as_index=False)\n",
    "    .agg({'transaction_id': 'nunique', 'revenue': 'sum'})\n",
    ")\n",
    "orders_A.columns = ['date', 'orders_A', 'revenue_A']\n",
    "\n",
    "#составим таблицу с кумулятивным количеством заказов, кумулятивной выручкой в группе А\n",
    "orders_cummulative_A = orders_A.apply(\n",
    "    lambda x: orders_A[orders_A['date'] <= x['date']].agg(\n",
    "        {'date': 'max', 'orders_A': 'sum', 'revenue_A': 'sum'}\n",
    "    ),\n",
    "    axis=1,\n",
    ").sort_values(by=['date'])\n",
    "orders_cummulative_A.columns = [\n",
    "    'date',\n",
    "    'orders_cummulative_A',\n",
    "    'revenue_cummulative_A',\n",
    "]\n",
    "\n",
    "#составим таблицу с количеством заказов, выручкой по дням в группе А\n",
    "orders_B = (\n",
    "    orders[orders['group'] == 'B'][['date', 'transaction_id', 'visitor_id', 'revenue']]\n",
    "    .groupby('date', as_index=False)\n",
    "    .agg({'transaction_id': 'nunique', 'revenue': 'sum'})\n",
    ")\n",
    "orders_B.columns = ['date', 'orders_B', 'revenue_B']\n",
    "\n",
    "#составим таблицу с кумулятивным количеством заказов, кумулятивной выручкой в группе В\n",
    "orders_cummulative_B = orders_B.apply(\n",
    "    lambda x: orders_B[orders_B['date'] <= x['date']].agg(\n",
    "        {'date': 'max', 'orders_B': 'sum', 'revenue_B': 'sum'}\n",
    "    ),\n",
    "    axis=1,\n",
    ").sort_values(by=['date'])\n",
    "orders_cummulative_B.columns = [\n",
    "    'date',\n",
    "    'orders_cummulative_B',\n",
    "    'revenue_cummulative_B',\n",
    "]\n",
    "\n",
    "#объединим предыдущие таблицы в одну, объединив их по общему столбцу \"date\"\n",
    "data = (\n",
    "    orders_A.merge(\n",
    "        orders_B, left_on='date', right_on='date', how='left'\n",
    "    )\n",
    "    .merge(orders_cummulative_A, left_on='date', right_on='date', how='left')\n",
    "    .merge(orders_cummulative_B, left_on='date', right_on='date', how='left')\n",
    "    .merge(visitors_A, left_on='date', right_on='date', how='left')\n",
    "    .merge(visitors_B, left_on='date', right_on='date', how='left')\n",
    "    .merge(visitors_cummulative_A, left_on='date', right_on='date', how='left')\n",
    "    .merge(visitors_cummulative_B, left_on='date', right_on='date', how='left')\n",
    ")\n",
    "\n",
    "data.head(6)"
   ]
  },
  {
   "cell_type": "markdown",
   "metadata": {},
   "source": [
    "Составлена таблица с количеством посетителей, заказов, выручки по дням, а также кумулятивное количество посетителей, заказов и комулятивная выручка в разрезе для каждой группы.\n"
   ]
  },
  {
   "cell_type": "markdown",
   "metadata": {},
   "source": [
    "#### Постройте график кумулятивной выручки по группам. Сделайте выводы и предположения.\n",
    "<a id=\"analysis1\"></a> "
   ]
  },
  {
   "cell_type": "code",
   "execution_count": 19,
   "metadata": {
    "scrolled": false
   },
   "outputs": [
    {
     "data": {
      "image/png": "[encoded data removed]",
      "text/plain": [
       "<Figure size 1200x500 with 1 Axes>"
      ]
     },
     "metadata": {},
     "output_type": "display_data"
    }
   ],
   "source": [
    "plt.figure(figsize=(12, 5))\n",
    "plt.plot(\n",
    "    data['date'], \n",
    "    data['revenue_cummulative_A'], \n",
    "    '-o', \n",
    "    markersize=3, \n",
    "    label=' группа A'\n",
    ")\n",
    "plt.plot(\n",
    "    data['date'], \n",
    "    data['revenue_cummulative_B'], \n",
    "    '-o', \n",
    "    markersize=3, \n",
    "    label='группа B'\n",
    ")\n",
    "plt.legend()\n",
    "plt.ticklabel_format(axis='y', useOffset=False, style='plain')\n",
    "plt.xticks(rotation= 45)\n",
    "\n",
    "plt.xlabel('дата')\n",
    "plt.ylabel('выручка, у.е.')\n",
    "plt.title('График кумулятивной выручки по группам')\n",
    "\n",
    "plt.show();"
   ]
  },
  {
   "cell_type": "markdown",
   "metadata": {},
   "source": [
    "Исходя из составленного графика кумулятивной выручки в каждой из групп можно выделить, что выручка почти равномерно увеличивается в течение всего теста.  Однако начиная с 08.05.2019 и до конца исследуемого периода рост кумулятивной выручки у группы В немного выше, чем у группы А. \n",
    "\n",
    "Также на графике можно заметить значительный скачек на 19.08.2019, наблюдающийся только у одной группы. Сумма прироста составляет более 1.4 млн. у.е. Рассмотрим подробнее заказы из таблицы orders за этот день."
   ]
  },
  {
   "cell_type": "code",
   "execution_count": 20,
   "metadata": {},
   "outputs": [
    {
     "data": {
      "text/html": [
       "<div>\n",
       "<style scoped>\n",
       "    .dataframe tbody tr th:only-of-type {\n",
       "        vertical-align: middle;\n",
       "    }\n",
       "\n",
       "    .dataframe tbody tr th {\n",
       "        vertical-align: top;\n",
       "    }\n",
       "\n",
       "    .dataframe thead th {\n",
       "        text-align: right;\n",
       "    }\n",
       "</style>\n",
       "<table border=\"1\" class=\"dataframe\">\n",
       "  <thead>\n",
       "    <tr style=\"text-align: right;\">\n",
       "      <th></th>\n",
       "      <th>transaction_id</th>\n",
       "      <th>visitor_id</th>\n",
       "      <th>date</th>\n",
       "      <th>revenue</th>\n",
       "      <th>group</th>\n",
       "    </tr>\n",
       "  </thead>\n",
       "  <tbody>\n",
       "    <tr>\n",
       "      <th>425</th>\n",
       "      <td>590470918</td>\n",
       "      <td>1920142716</td>\n",
       "      <td>2019-08-19</td>\n",
       "      <td>1294500</td>\n",
       "      <td>B</td>\n",
       "    </tr>\n",
       "    <tr>\n",
       "      <th>527</th>\n",
       "      <td>1570513684</td>\n",
       "      <td>2837914161</td>\n",
       "      <td>2019-08-19</td>\n",
       "      <td>33405</td>\n",
       "      <td>B</td>\n",
       "    </tr>\n",
       "    <tr>\n",
       "      <th>461</th>\n",
       "      <td>2683113224</td>\n",
       "      <td>154576532</td>\n",
       "      <td>2019-08-19</td>\n",
       "      <td>26550</td>\n",
       "      <td>B</td>\n",
       "    </tr>\n",
       "    <tr>\n",
       "      <th>368</th>\n",
       "      <td>3268879337</td>\n",
       "      <td>2536252163</td>\n",
       "      <td>2019-08-19</td>\n",
       "      <td>20026</td>\n",
       "      <td>B</td>\n",
       "    </tr>\n",
       "    <tr>\n",
       "      <th>463</th>\n",
       "      <td>4170537404</td>\n",
       "      <td>290022471</td>\n",
       "      <td>2019-08-19</td>\n",
       "      <td>16480</td>\n",
       "      <td>B</td>\n",
       "    </tr>\n",
       "    <tr>\n",
       "      <th>423</th>\n",
       "      <td>4161654914</td>\n",
       "      <td>990904712</td>\n",
       "      <td>2019-08-19</td>\n",
       "      <td>11249</td>\n",
       "      <td>B</td>\n",
       "    </tr>\n",
       "    <tr>\n",
       "      <th>523</th>\n",
       "      <td>1739748874</td>\n",
       "      <td>522292794</td>\n",
       "      <td>2019-08-19</td>\n",
       "      <td>4880</td>\n",
       "      <td>B</td>\n",
       "    </tr>\n",
       "    <tr>\n",
       "      <th>367</th>\n",
       "      <td>1033377712</td>\n",
       "      <td>3860669668</td>\n",
       "      <td>2019-08-19</td>\n",
       "      <td>3990</td>\n",
       "      <td>B</td>\n",
       "    </tr>\n",
       "    <tr>\n",
       "      <th>529</th>\n",
       "      <td>90109939</td>\n",
       "      <td>2075769885</td>\n",
       "      <td>2019-08-19</td>\n",
       "      <td>3525</td>\n",
       "      <td>B</td>\n",
       "    </tr>\n",
       "    <tr>\n",
       "      <th>426</th>\n",
       "      <td>19467429</td>\n",
       "      <td>2397843657</td>\n",
       "      <td>2019-08-19</td>\n",
       "      <td>2630</td>\n",
       "      <td>B</td>\n",
       "    </tr>\n",
       "  </tbody>\n",
       "</table>\n",
       "</div>"
      ],
      "text/plain": [
       "     transaction_id  visitor_id       date  revenue group\n",
       "425       590470918  1920142716 2019-08-19  1294500     B\n",
       "527      1570513684  2837914161 2019-08-19    33405     B\n",
       "461      2683113224   154576532 2019-08-19    26550     B\n",
       "368      3268879337  2536252163 2019-08-19    20026     B\n",
       "463      4170537404   290022471 2019-08-19    16480     B\n",
       "423      4161654914   990904712 2019-08-19    11249     B\n",
       "523      1739748874   522292794 2019-08-19     4880     B\n",
       "367      1033377712  3860669668 2019-08-19     3990     B\n",
       "529        90109939  2075769885 2019-08-19     3525     B\n",
       "426        19467429  2397843657 2019-08-19     2630     B"
      ]
     },
     "execution_count": 20,
     "metadata": {},
     "output_type": "execute_result"
    }
   ],
   "source": [
    "orders[(orders['date'] == '2019-08-19') & (orders['group'] == 'B')].sort_values('revenue', ascending=False).head(10)"
   ]
  },
  {
   "cell_type": "markdown",
   "metadata": {},
   "source": [
    "Такой значительный прирост выручки вызван выбросом в виде заказа с крупной суммой в 1294500 у.е. Несмотря на этот выброс на протяжении всего рассматриваемого периода группа В имеет преимущество над группой А по параметру кумулятивной выручки."
   ]
  },
  {
   "cell_type": "markdown",
   "metadata": {},
   "source": [
    "#### Постройте график кумулятивного среднего чека по группам. Сделайте выводы и предположения.\n",
    "<a id=\"analysis2\"></a> "
   ]
  },
  {
   "cell_type": "code",
   "execution_count": 21,
   "metadata": {},
   "outputs": [
    {
     "data": {
      "image/png": "[encoded data removed]",
      "text/plain": [
       "<Figure size 1200x500 with 1 Axes>"
      ]
     },
     "metadata": {},
     "output_type": "display_data"
    }
   ],
   "source": [
    "plt.figure(figsize=(12, 5))\n",
    "plt.plot(\n",
    "    data['date'], \n",
    "    data['revenue_cummulative_A']/data['orders_cummulative_A'],\n",
    "    '-o', \n",
    "    markersize=3, \n",
    "    label=' группа A'\n",
    ")\n",
    "plt.plot(\n",
    "    data['date'], \n",
    "    data['revenue_cummulative_B']/data['orders_cummulative_B'], \n",
    "    '-o', \n",
    "    markersize=3, \n",
    "    label='группа B'\n",
    ")\n",
    "plt.legend() \n",
    "plt.xticks(rotation= 45)\n",
    "\n",
    "plt.xlabel('дата')\n",
    "plt.ylabel('средний чек, у.е.')\n",
    "plt.title('График кумулятивного среднего чека по группам')\n",
    "\n",
    "plt.show();"
   ]
  },
  {
   "cell_type": "markdown",
   "metadata": {},
   "source": [
    "На основании полученного графика можно выделить, что в начале анализируемого периода средний чек группы А выше, на отметке 06.08.2019 он достигает своего минимума. В группе В же, наоборот, заметно скачкообразное увеличение. \n",
    "\n",
    "Приблизительно с 14.08.2019 для группы А средний чек стабилизировался и не было значительного подъема или снижения, как в начале исследуемого периода. В группе В средний чек также начинал стабилизироваться, однако крупный заказ поднял его значительно вверх. Но после средний чек имеет тенденцию к снижению, в отличие от группы А. \n",
    "\n",
    "Таким образом, если абстрагироваться от выброса, то параметр среднего кумулятивного чека у группы В, несмотря на значительный отрыв на графике, имеет тенденцию к снижению, у группы А к росту. Но данная метрика очень чувствительна к выбросам количества покупателей или выручки."
   ]
  },
  {
   "cell_type": "markdown",
   "metadata": {},
   "source": [
    "#### Постройте график относительного изменения кумулятивного среднего чека группы B к группе A. Сделайте выводы и предположения.\n",
    "<a id=\"analysis3\"></a> "
   ]
  },
  {
   "cell_type": "code",
   "execution_count": 22,
   "metadata": {},
   "outputs": [
    {
     "data": {
      "image/png": "[encoded data removed]",
      "text/plain": [
       "<Figure size 1200x500 with 1 Axes>"
      ]
     },
     "metadata": {},
     "output_type": "display_data"
    }
   ],
   "source": [
    "plt.figure(figsize=(12, 5))\n",
    "plt.plot(\n",
    "    data['date'], \n",
    "    (data['revenue_cummulative_B']/data['orders_cummulative_B'])/\n",
    "    (data['revenue_cummulative_A']/data['orders_cummulative_A'])-1,\n",
    "     '-o', \n",
    "    markersize=3,\n",
    "    label=\"Относительный прирост среднего чека группы B к группе A\"\n",
    ")\n",
    "plt.axhline(y=0, color='black', linestyle='--') \n",
    "plt.xticks(rotation= 45)\n",
    "plt.legend()\n",
    "\n",
    "plt.xlabel('дата')\n",
    "plt.ylabel('изменение среднего чека')\n",
    "plt.title('График относительного изменения кумулятивного среднего чека группы B к группе A')\n",
    "\n",
    "plt.show();"
   ]
  },
  {
   "cell_type": "markdown",
   "metadata": {},
   "source": [
    "Рассмотрев полученный график, можно сделать вывод, что кумулятивный средний чек группы В относительно группы А два раза за исследуемый период имел превышение: первый со 02.08.2019 по 11.08.2019 и с 16.08.2019. Превышение в последнюю дату явно было вызвано найденным крупным по сумме заказом. \n",
    "\n",
    "Далее происходит планомерное снижение. Несмотря на то, что изменение среднего кумулятивного чека группы В к группе А в нескольких промежутках времени превысило отметку в 3, а также в 4 раза, на данном этапе сложно точно отметить явное лидерство группы В над группой А, так как есть вероятность, что метрика так и продолжит снижаться."
   ]
  },
  {
   "cell_type": "markdown",
   "metadata": {},
   "source": [
    "#### Постройте график кумулятивного среднего количества заказов на посетителя по группам. Сделайте выводы и предположения.\n",
    "<a id=\"analysis4\"></a> "
   ]
  },
  {
   "cell_type": "code",
   "execution_count": 23,
   "metadata": {},
   "outputs": [
    {
     "data": {
      "image/png": "[encoded data removed]",
      "text/plain": [
       "<Figure size 1200x500 with 1 Axes>"
      ]
     },
     "metadata": {},
     "output_type": "display_data"
    }
   ],
   "source": [
    "plt.figure(figsize=(12, 5))\n",
    "plt.plot(\n",
    "    data['date'], \n",
    "    data['orders_cummulative_A']/data['visitors_cummulative_A'], \n",
    "    '-o', \n",
    "    markersize=3,\n",
    "    label='группа A'\n",
    ")\n",
    "plt.plot(\n",
    "    data['date'], \n",
    "    data['orders_cummulative_B']/data['visitors_cummulative_B'], \n",
    "    '-o', \n",
    "    markersize=3,\n",
    "    label='группа B'\n",
    ")\n",
    "\n",
    "plt.legend()\n",
    "plt.axis([dt.datetime(2019, 8, 1), dt.datetime(2019, 9, 2), 0.02, 0.04]) \n",
    "plt.xticks(rotation= 45)\n",
    "\n",
    "plt.xlabel('дата')\n",
    "plt.ylabel('среднее количество заказов')\n",
    "plt.title('График кумулятивного среднего количества заказов на посетителя по группам')\n",
    "\n",
    "plt.show();"
   ]
  },
  {
   "cell_type": "markdown",
   "metadata": {},
   "source": [
    "Исходя из составленного графика можно отметить:\n",
    "\n",
    "изначально кумулятивное среднее количество заказов на посетителя у группы А выше, чем у группы В. 06.08.2019 группы сравнялись, а после лидерство уже перенимает группа В.\n",
    "\n",
    "Стабилизированные метрики происходит приблизительно со второй половины исследуемого периода. Также и у одной и у второй группы к концу исследования заметна тенденция к снижению метрики, однако у группы В она меньше.\n",
    "\n",
    "В конечной дате исследования кумулятивное среднее количество заказов на посетителя у группы А составляет около 3%, а у группы В - около 3,3%."
   ]
  },
  {
   "cell_type": "markdown",
   "metadata": {},
   "source": [
    "#### Постройте график относительного изменения кумулятивного среднего количества заказов на посетителя группы B к группе A. Сделайте выводы и предположения.\n",
    "<a id=\"analysis5\"></a> "
   ]
  },
  {
   "cell_type": "code",
   "execution_count": 24,
   "metadata": {},
   "outputs": [
    {
     "data": {
      "image/png": "[encoded data removed]",
      "text/plain": [
       "<Figure size 1200x500 with 1 Axes>"
      ]
     },
     "metadata": {},
     "output_type": "display_data"
    }
   ],
   "source": [
    "plt.figure(figsize=(12, 5))\n",
    "plt.plot(\n",
    "    data['date'], \n",
    "    (\n",
    "        (data['orders_cummulative_B']/data['visitors_cummulative_B'])/\n",
    "     (data['orders_cummulative_A']/data['visitors_cummulative_A']) - 1\n",
    "    ), \n",
    "    '-o', \n",
    "    markersize=3,\n",
    "    label=\"Относительный прирост группы B к группе A\"\n",
    ")\n",
    "plt.axhline(y=0, color='black', linestyle='--', label=\"Уровень отсутствия изменения\")\n",
    "plt.axhline(y=0.1, color='grey', linestyle='--', label=\"Уровень положительного прироста в 10 %\")\n",
    "plt.xticks(rotation= 45)\n",
    "plt.legend()\n",
    "\n",
    "plt.xlabel('дата')\n",
    "plt.ylabel('изменение среднего количества заказов')\n",
    "plt.title('График относительного изменения кумулятивного среднего количества заказов на посетителя группы B к группе A')\n",
    "\n",
    "plt.show();"
   ]
  },
  {
   "cell_type": "markdown",
   "metadata": {},
   "source": [
    "На основании полученного графика можно выделить, что в начале теста группа B значительно проигрывала группе A, затем вырвалась вперёд. Начиная с 06.08.2019 показатель постоянно рос. \n",
    "\n",
    "К концу исследования изменение среднего количества заказов на посетителя установилось и заметна тенденция к росту. \n",
    "\n",
    "Можно с уверенностью сказать, что относительное изменение кумулятивного среднего количества заказов на посетителя группы B к группе A имеет положительный прирост свыше 10% в конце исследования, а в течение всего рассматриваемого периода несколько дней превышал 20%."
   ]
  },
  {
   "cell_type": "markdown",
   "metadata": {},
   "source": [
    "#### Постройте точечный график количества заказов по пользователям. Сделайте выводы и предположения.\n",
    "<a id=\"analysis6\"></a> "
   ]
  },
  {
   "cell_type": "code",
   "execution_count": 25,
   "metadata": {},
   "outputs": [
    {
     "data": {
      "text/html": [
       "<div>\n",
       "<style scoped>\n",
       "    .dataframe tbody tr th:only-of-type {\n",
       "        vertical-align: middle;\n",
       "    }\n",
       "\n",
       "    .dataframe tbody tr th {\n",
       "        vertical-align: top;\n",
       "    }\n",
       "\n",
       "    .dataframe thead th {\n",
       "        text-align: right;\n",
       "    }\n",
       "</style>\n",
       "<table border=\"1\" class=\"dataframe\">\n",
       "  <thead>\n",
       "    <tr style=\"text-align: right;\">\n",
       "      <th></th>\n",
       "      <th>user_id</th>\n",
       "      <th>orders</th>\n",
       "    </tr>\n",
       "  </thead>\n",
       "  <tbody>\n",
       "    <tr>\n",
       "      <th>1023</th>\n",
       "      <td>4256040402</td>\n",
       "      <td>11</td>\n",
       "    </tr>\n",
       "    <tr>\n",
       "      <th>591</th>\n",
       "      <td>2458001652</td>\n",
       "      <td>11</td>\n",
       "    </tr>\n",
       "    <tr>\n",
       "      <th>569</th>\n",
       "      <td>2378935119</td>\n",
       "      <td>9</td>\n",
       "    </tr>\n",
       "    <tr>\n",
       "      <th>487</th>\n",
       "      <td>2038680547</td>\n",
       "      <td>8</td>\n",
       "    </tr>\n",
       "    <tr>\n",
       "      <th>44</th>\n",
       "      <td>199603092</td>\n",
       "      <td>5</td>\n",
       "    </tr>\n",
       "    <tr>\n",
       "      <th>744</th>\n",
       "      <td>3062433592</td>\n",
       "      <td>5</td>\n",
       "    </tr>\n",
       "  </tbody>\n",
       "</table>\n",
       "</div>"
      ],
      "text/plain": [
       "         user_id  orders\n",
       "1023  4256040402      11\n",
       "591   2458001652      11\n",
       "569   2378935119       9\n",
       "487   2038680547       8\n",
       "44     199603092       5\n",
       "744   3062433592       5"
      ]
     },
     "execution_count": 25,
     "metadata": {},
     "output_type": "execute_result"
    }
   ],
   "source": [
    "#составим таблицу с числом заказов по уникальным пользователям\n",
    "orders_by_users = (\n",
    "    orders.groupby('visitor_id', as_index=False)\n",
    "    .agg({'transaction_id': 'nunique'})\n",
    ")\n",
    "orders_by_users.columns = ['user_id', 'orders']\n",
    "\n",
    "orders_by_users.sort_values('orders', ascending=False).head(6)"
   ]
  },
  {
   "cell_type": "code",
   "execution_count": 26,
   "metadata": {},
   "outputs": [
    {
     "data": {
      "image/png": "[encoded data removed]",
      "text/plain": [
       "<Figure size 1200x500 with 1 Axes>"
      ]
     },
     "metadata": {},
     "output_type": "display_data"
    }
   ],
   "source": [
    "x_values = pd.Series(range(0,len(orders_by_users)))\n",
    "\n",
    "plt.figure(figsize=(12, 5))\n",
    "plt.scatter(x_values, orders_by_users['orders']) \n",
    "\n",
    "plt.axhline(y=np.percentile(orders_by_users['orders'], [95]), color='green', \\\n",
    "            linestyle='--', label=\"95-й перцентиль количества заказов на пользователя\")\n",
    "plt.axhline(y=np.percentile(orders_by_users['orders'], [99]), color='red', \\\n",
    "            linestyle='--', label=\"99-й перцентиль количества заказов на пользователя\")\n",
    "plt.legend()\n",
    "\n",
    "plt.xlabel('частота повторений')\n",
    "plt.ylabel('количество заказов')\n",
    "plt.title('График количества заказов по пользователям')\n",
    "\n",
    "plt.show();"
   ]
  },
  {
   "cell_type": "markdown",
   "metadata": {},
   "source": [
    "Сгруппировав данные, а также рассмотрев их распределение на диаграмме рассеяния можно выделить, что наибольшее количество пользователей за период исследования совершили 1 заказ, значительно меньше пользователей совершили с 2 до 5 заказов и с увеличением количества заказов их частота значительно сокращается. Также на графике можно наблюдать выбросы в 8-10 заказов."
   ]
  },
  {
   "cell_type": "markdown",
   "metadata": {},
   "source": [
    "#### Посчитайте 95-й и 99-й перцентили количества заказов на пользователя. Выберите границу для определения аномальных пользователей.\n",
    "<a id=\"analysis7\"></a> "
   ]
  },
  {
   "cell_type": "code",
   "execution_count": 27,
   "metadata": {},
   "outputs": [
    {
     "name": "stdout",
     "output_type": "stream",
     "text": [
      "Колличество заказов, которое оформили не более 5% пользователей: [2.]\n",
      "Колличество заказов, которое оформили не более 1% пользователей: [4.]\n"
     ]
    }
   ],
   "source": [
    "print('Колличество заказов, которое оформили не более 5% пользователей:', np.percentile(orders_by_users['orders'], [95]))\n",
    "\n",
    "print('Колличество заказов, которое оформили не более 1% пользователей:',np.percentile(orders_by_users['orders'], [99]))"
   ]
  },
  {
   "cell_type": "markdown",
   "metadata": {},
   "source": [
    "Рассчитав 95 и 99 перцентили количества заказов на пользователя:\n",
    "\n",
    "- менее 5% пользователей совершили более 2 заказов.\n",
    "\n",
    "- менее 1% пользователей совершили более 4 заказов.\n",
    "\n",
    "Исходя из этих данных в качестве границы для определения аномальных пользователей выберем 99 перцентиль, а именно отсеем пользователей, совершивших более 4 заказов."
   ]
  },
  {
   "cell_type": "markdown",
   "metadata": {},
   "source": [
    "#### Постройте точечный график стоимостей заказов. Сделайте выводы и предположения.\n",
    "<a id=\"analysis8\"></a> "
   ]
  },
  {
   "cell_type": "code",
   "execution_count": 28,
   "metadata": {},
   "outputs": [
    {
     "data": {
      "image/png": "[encoded data removed]",
      "text/plain": [
       "<Figure size 1200x500 with 1 Axes>"
      ]
     },
     "metadata": {},
     "output_type": "display_data"
    }
   ],
   "source": [
    "x_values = pd.Series(range(0,len(orders['revenue'])))\n",
    "\n",
    "plt.figure(figsize=(12, 5))\n",
    "plt.scatter(x_values, orders['revenue']) \n",
    "\n",
    "plt.axhline(y=np.percentile(orders['revenue'], [95]), color='green', linestyle='--', label=\"95-й перцентиль количества заказов на пользователя\")\n",
    "plt.axhline(y=np.percentile(orders['revenue'], [99]), color='red', linestyle='--', label=\"99-й перцентиль количества заказов на пользователя\")\n",
    "plt.legend()\n",
    "plt.ticklabel_format(axis='y', useOffset=False, style='plain')\n",
    "\n",
    "plt.xlabel('частота повторений')\n",
    "plt.ylabel('стоимость заказа, у.е.')\n",
    "plt.title('График  стоимостей заказов')\n",
    "\n",
    "plt.show();"
   ]
  },
  {
   "cell_type": "markdown",
   "metadata": {},
   "source": [
    "На графике заметно, что большая часть заказов сосредоточилась в самом начале диапазона стоимости на графике. В основном заказы не выбиваются от отметки примерно 50000 у.е. \n",
    "\n",
    "Также можно отметить несколько явно, превышающих среднюю стоимость, заказов. Один из них с суммой более 1 млн. у.е. был обнаружен ранее, второй, по графику, превышает отметку в 200 тыс. у.е. за заказ.\n"
   ]
  },
  {
   "cell_type": "markdown",
   "metadata": {},
   "source": [
    "#### Посчитайте 95-й и 99-й перцентили стоимости заказов. Выберите границу для определения аномальных заказов.\n",
    "<a id=\"analysis9\"></a> "
   ]
  },
  {
   "cell_type": "code",
   "execution_count": 29,
   "metadata": {},
   "outputs": [
    {
     "name": "stdout",
     "output_type": "stream",
     "text": [
      "Cтоимость заказов, которые оформили не более 5% пользователей: [28000.]\n",
      "Cтоимость заказов, которые оформили не более 1% пользователей: [58233.2]\n"
     ]
    }
   ],
   "source": [
    "print('Cтоимость заказов, которые оформили не более 5% пользователей:', np.percentile(orders['revenue'], [95]))\n",
    "      \n",
    "print('Cтоимость заказов, которые оформили не более 1% пользователей:', np.percentile(orders['revenue'], [99]))"
   ]
  },
  {
   "cell_type": "markdown",
   "metadata": {},
   "source": [
    "Рассчитав 95 и 99 перцентили стоимости заказов пользователей:\n",
    "\n",
    "менее 5% пользователей совершили заказы на сумму более, чем 28000 у.е.\n",
    "\n",
    "менее 1% пользователей совершили заказы на сумму более, чем 58233.2 у.е.\n",
    "\n",
    "Исходя из этих данных в качестве границы для определения аномальных пользователей выберем 99 перцентиль, а именно отсеем пользователей, совершивших заказ на сумму белее, чем 58233.2 у.е.. Далее округлим до 58 тыс."
   ]
  },
  {
   "cell_type": "markdown",
   "metadata": {},
   "source": [
    "#### Посчитайте статистическую значимость различий в среднем количестве заказов на посетителя между группами по «сырым» данным. Сделайте выводы и предположения.\n",
    "<a id=\"analysis10\"></a> "
   ]
  },
  {
   "cell_type": "markdown",
   "metadata": {},
   "source": [
    "Сформулируем гипотезы. \n",
    "\n",
    "**Нулевая гипотеза: Н0 = Различий в среднем количестве заказов на посетителя между группами А и В нет.**\n",
    "\n",
    "**Альтернативная гипотеза: H_a: = Различия в среднем количестве заказов на посетителя между группами А и В есть.**\n",
    "\n",
    "В качестве уровня критической значимости установим 0.05"
   ]
  },
  {
   "cell_type": "markdown",
   "metadata": {},
   "source": [
    "В случае, когда в данных есть большие выбросы, следует применять тест, основанный на структурном подходе(Непараметрический тест Уилкоксона-Манна-Уитни).\n",
    "    \n",
    "Метод, который будем применять для A/B-тестирования - **st.mannwhitneyu().**</div>\n",
    "   "
   ]
  },
  {
   "cell_type": "code",
   "execution_count": 30,
   "metadata": {},
   "outputs": [
    {
     "name": "stdout",
     "output_type": "stream",
     "text": [
      "Значение p-value: 0.0168\n",
      "Относительный прирост среднего числа заказов группы B: 0.1381\n"
     ]
    }
   ],
   "source": [
    "orders_by_users_A = (\n",
    "    orders[orders['group'] == 'A']\n",
    "    .groupby('visitor_id', as_index=False)\n",
    "    .agg({'transaction_id': pd.Series.nunique})\n",
    ")\n",
    "orders_by_users_A.columns = ['user_id', 'orders']\n",
    "\n",
    "orders_by_users_B = (\n",
    "    orders[orders['group'] == 'B']\n",
    "    .groupby('visitor_id', as_index=False)\n",
    "    .agg({'transaction_id': pd.Series.nunique})\n",
    ")\n",
    "orders_by_users_B.columns = ['user_id', 'orders']\n",
    "\n",
    "\n",
    "#создадим выборки для теста по каждой группе\n",
    "sample_A = pd.concat(\n",
    "    [\n",
    "        orders_by_users_A['orders'],\n",
    "        pd.Series(\n",
    "            0,\n",
    "            index=np.arange(\n",
    "                data['visitors_A'].sum() - len(orders_by_users_A['orders'])\n",
    "            ),\n",
    "            name='orders',\n",
    "        ),\n",
    "    ],\n",
    "    axis=0,\n",
    ")\n",
    "\n",
    "sample_B = pd.concat(\n",
    "    [\n",
    "        orders_by_users_B['orders'],\n",
    "        pd.Series(\n",
    "            0,\n",
    "            index=np.arange(\n",
    "                data['visitors_B'].sum() - len(orders_by_users_B['orders'])\n",
    "            ),\n",
    "            name='orders',\n",
    "        ),\n",
    "    ],\n",
    "    axis=0,\n",
    ")\n",
    "\n",
    "    \n",
    "print('Значение p-value:',\"{0:.4f}\".format(stats.mannwhitneyu(sample_A, sample_B)[1]))\n",
    "\n",
    "print(\n",
    "    'Относительный прирост среднего числа заказов группы B:', \n",
    "    \"{0:.4f}\".format(sample_B.mean() / sample_A.mean() - 1)\n",
    ")"
   ]
  },
  {
   "cell_type": "markdown",
   "metadata": {},
   "source": [
    "По «сырым» данным различия в среднем количестве заказов на посетителя между группами А и В есть. \n",
    "\n",
    "Значение p-value меньше уровня критической значимости - 0.05. Следовательно, **нулевую гипотезу: \"Различий в среднем количестве заказов на посетителя между группами А и В нет\" отвергаем.** \n",
    "\n",
    "Относительный прирост среднего числа заказов группы B составил 13.81%."
   ]
  },
  {
   "cell_type": "markdown",
   "metadata": {},
   "source": [
    "#### Посчитайте статистическую значимость различий в среднем чеке заказа между группами по «сырым» данным. Сделайте выводы и предположения.\n",
    "<a id=\"analysis11\"></a> "
   ]
  },
  {
   "cell_type": "markdown",
   "metadata": {},
   "source": [
    "Сформулируем гипотезы. \n",
    "\n",
    "**Нулевая гипотеза: Н0 = Различий в среднем чеке заказа между группами А и В нет.**\n",
    "\n",
    "**Альтернативная гипотеза: H_a: = Различия  в среднем чеке заказа между группами А и В есть.**\n",
    "\n",
    "В качестве уровня критической значимости установим 0.05"
   ]
  },
  {
   "cell_type": "code",
   "execution_count": 31,
   "metadata": {},
   "outputs": [
    {
     "name": "stdout",
     "output_type": "stream",
     "text": [
      "Значение p-value: 0.7293\n",
      "Относительный прирост среднего числа заказов группы B: 0.2587\n"
     ]
    }
   ],
   "source": [
    "print(\n",
    "    'Значение p-value:',\n",
    "    '{0:.4f}'.format(stats.mannwhitneyu(orders[orders['group']=='A']['revenue'], orders[orders['group']=='B']['revenue'])[1])\n",
    ")\n",
    "print(\n",
    "    'Относительный прирост среднего числа заказов группы B:', \n",
    "    '{0:.4f}'.format(orders[orders['group']=='B']['revenue'].mean()/orders[orders['group']=='A']['revenue'].mean()-1)\n",
    ") \n"
   ]
  },
  {
   "cell_type": "markdown",
   "metadata": {},
   "source": [
    "По «сырым» данным различий  среднем чеке заказа между группами А и В нет.\n",
    "\n",
    "p-value = 0.7293 больше уровня критической значимости - 0.05. Следовательно, **нулевую гипотезу: \"Различий в среднем чеке заказа между группами А и В нет\" не отвергаем.**\n",
    "\n",
    "Однако относительный прирост среднего числа заказов группы B составил 25.87%, такой сильный прирост можно объяснить несколькими выбросами в заказах с большой суммой."
   ]
  },
  {
   "cell_type": "markdown",
   "metadata": {},
   "source": [
    "#### Посчитайте статистическую значимость различий в среднем количестве заказов на посетителя между группами по «очищенным» данным. Сделайте выводы и предположения.\n",
    "<a id=\"analysis12\"></a> "
   ]
  },
  {
   "cell_type": "markdown",
   "metadata": {},
   "source": [
    "Очистим данные от аномальных пользователей, попавших сразу в 2 группы."
   ]
  },
  {
   "cell_type": "code",
   "execution_count": 32,
   "metadata": {},
   "outputs": [],
   "source": [
    "orders_filtered = orders.query('visitor_id not in @non_ID')"
   ]
  },
  {
   "cell_type": "code",
   "execution_count": 33,
   "metadata": {},
   "outputs": [],
   "source": [
    "#составим таблицу с числом заказов по уникальным пользователям после удаления пользователей попавших сразу в 2 группы.\n",
    "orders_by_users_A_f = (\n",
    "    orders_filtered[orders_filtered['group'] == 'A']\n",
    "    .groupby('visitor_id', as_index=False)\n",
    "    .agg({'transaction_id': pd.Series.nunique})\n",
    ")\n",
    "orders_by_users_A_f.columns = ['user_id', 'orders']\n",
    "\n",
    "orders_by_users_B_f = (\n",
    "    orders_filtered[orders_filtered['group'] == 'B']\n",
    "    .groupby('visitor_id', as_index=False)\n",
    "    .agg({'transaction_id': pd.Series.nunique})\n",
    ")\n",
    "orders_by_users_B_f.columns = ['user_id', 'orders']"
   ]
  },
  {
   "cell_type": "code",
   "execution_count": 34,
   "metadata": {},
   "outputs": [
    {
     "data": {
      "text/plain": [
       "group\n",
       "A    445\n",
       "B    528\n",
       "Name: visitor_id, dtype: int64"
      ]
     },
     "metadata": {},
     "output_type": "display_data"
    }
   ],
   "source": [
    "#количество пользователей в каждой группе после \"очистки\"\n",
    "display(orders_filtered.groupby('group')['visitor_id'].nunique())"
   ]
  },
  {
   "cell_type": "markdown",
   "metadata": {},
   "source": [
    "После исключения пользователей попавших сразу в 2 группы. Количество пользователей в группе А изменилось с 503 до 445, а в группе В с 586 до 528. Данное распределение все еще является неравномерным."
   ]
  },
  {
   "cell_type": "markdown",
   "metadata": {},
   "source": [
    "Примем за аномальных пользователей тех, кто совершил от 5 заказов или совершил заказ дороже 58000 у.е. Так мы уберём 1% пользователей с наибольшим числом заказов и от 1% пользователей с дорогими заказами. "
   ]
  },
  {
   "cell_type": "code",
   "execution_count": 35,
   "metadata": {},
   "outputs": [],
   "source": [
    "#сделаем срезы пользователей с числом заказов больше 4 \n",
    "users_with_many_orders = pd.concat(\n",
    "    [\n",
    "        orders_by_users_A_f[orders_by_users_A_f['orders'] > 4]['user_id'],\n",
    "        orders_by_users_B_f[orders_by_users_B_f['orders'] > 4]['user_id']\n",
    "    ],\n",
    "    axis=0,\n",
    ")\n",
    "users_with_expensive_orders = orders_filtered[orders_filtered['revenue'] > 58000]['visitor_id']\n",
    "abnormal_users = (\n",
    "    pd.concat([users_with_many_orders, users_with_expensive_orders], axis=0)\n",
    "    .drop_duplicates()\n",
    "    .sort_values()\n",
    ")"
   ]
  },
  {
   "cell_type": "code",
   "execution_count": 36,
   "metadata": {},
   "outputs": [
    {
     "name": "stdout",
     "output_type": "stream",
     "text": [
      "Значение p-value: 0.0097\n",
      "Относительный прирост среднего числа заказов группы B: 0.1637\n"
     ]
    }
   ],
   "source": [
    "sample_A_filtered = pd.concat(\n",
    "    [\n",
    "        orders_by_users_A_f[\n",
    "            np.logical_not(orders_by_users_A_f['user_id'].isin(abnormal_users))\n",
    "        ]['orders'],\n",
    "        pd.Series(\n",
    "            0,\n",
    "            index=np.arange(\n",
    "                data['visitors_A'].sum() - len(orders_by_users_A_f['orders'])\n",
    "            ),\n",
    "            name='orders',\n",
    "        ),\n",
    "    ],\n",
    "    axis=0,\n",
    ")\n",
    "\n",
    "sample_B_filtered = pd.concat(\n",
    "    [\n",
    "        orders_by_users_B_f[\n",
    "            np.logical_not(orders_by_users_B_f['user_id'].isin(abnormal_users))\n",
    "        ]['orders'],\n",
    "        pd.Series(\n",
    "            0,\n",
    "            index=np.arange(\n",
    "                data['visitors_B'].sum() - len(orders_by_users_B_f['orders'])\n",
    "            ),\n",
    "            name='orders',\n",
    "        ),\n",
    "    ],\n",
    "    axis=0,\n",
    ") \n",
    "\n",
    "print('Значение p-value:', '{0:.4f}'.format(stats.mannwhitneyu(sample_A_filtered, sample_B_filtered)[1]))\n",
    "print(\n",
    "    'Относительный прирост среднего числа заказов группы B:',\n",
    "    '{0:.4f}'.format(sample_B_filtered.mean()/sample_A_filtered.mean()-1)\n",
    ") \n"
   ]
  },
  {
   "cell_type": "markdown",
   "metadata": {},
   "source": [
    "Результаты по среднему количеству заказов на посетителя между группами после «чистки» изменились следующим образом.\n",
    "\n",
    "Значение p-value уменьшилось и теперь составляет 0.0097, что еще сильнее показывает на различие в среднем количестве заказов между группами.\n",
    "\n",
    "Также более, чем на 2.5 процентных пункта вырос относительный прирост среднего числа заказов группы B и теперь составляет 16.37%."
   ]
  },
  {
   "cell_type": "markdown",
   "metadata": {},
   "source": [
    "#### Посчитайте статистическую значимость различий в среднем чеке заказа между группами по «очищенным» данным. Сделайте выводы и предположения.\n",
    "<a id=\"analysis13\"></a> "
   ]
  },
  {
   "cell_type": "code",
   "execution_count": 37,
   "metadata": {},
   "outputs": [
    {
     "name": "stdout",
     "output_type": "stream",
     "text": [
      "Значение p-value: 0.9007\n",
      "Относительный прирост среднего числа заказов группы B: -0.0316\n"
     ]
    }
   ],
   "source": [
    "print(\n",
    "    'Значение p-value:',\n",
    "    '{0:.4f}'.format(\n",
    "        stats.mannwhitneyu(\n",
    "            orders_filtered[\n",
    "                np.logical_and(\n",
    "                    orders_filtered['group'] == 'A',\n",
    "                    np.logical_not(orders_filtered['visitor_id'].isin(abnormal_users)),\n",
    "                )\n",
    "            ]['revenue'],\n",
    "            orders_filtered[\n",
    "                np.logical_and(\n",
    "                    orders_filtered['group'] == 'B',\n",
    "                    np.logical_not(orders_filtered['visitor_id'].isin(abnormal_users)),\n",
    "                )\n",
    "            ]['revenue'],\n",
    "        )[1]\n",
    "    )\n",
    ")\n",
    "\n",
    "print(\n",
    "    'Относительный прирост среднего числа заказов группы B:',\n",
    "    \"{0:.4f}\".format(\n",
    "        orders_filtered[\n",
    "            np.logical_and(\n",
    "                orders_filtered['group'] == 'B',\n",
    "                np.logical_not(orders_filtered['visitor_id'].isin(abnormal_users)),\n",
    "            )\n",
    "        ]['revenue'].mean()\n",
    "        / orders_filtered[\n",
    "            np.logical_and(\n",
    "                orders_filtered['group'] == 'A',\n",
    "                np.logical_not(orders_filtered['visitor_id'].isin(abnormal_users)),\n",
    "            )\n",
    "        ]['revenue'].mean()\n",
    "        - 1\n",
    "    )\n",
    ") "
   ]
  },
  {
   "cell_type": "markdown",
   "metadata": {},
   "source": [
    "Результаты по среднему чеку заказа между группами после «чистки» изменились следующим образом.\n",
    "\n",
    "Значение p-value увеличилось. Оно находится на крайне высоком уровне и показывает отсутствие различий в среднем чеке заказа между группами.\n",
    "\n",
    "Относительный прирост среднего чека после устранения выбросов с крайне высокой суммой заказа, изменился с 25.87% до -3.16% "
   ]
  },
  {
   "cell_type": "markdown",
   "metadata": {},
   "source": [
    "#### Примите решение по результатам теста и объясните его. \n",
    "<a id=\"analysis14\"></a> "
   ]
  },
  {
   "cell_type": "markdown",
   "metadata": {},
   "source": [
    "**Варианты решений:**\n",
    "1. Остановить тест, зафиксировать победу одной из групп.\n",
    "2. Остановить тест, зафиксировать отсутствие различий между группами.\n",
    "3. Продолжить тест."
   ]
  },
  {
   "cell_type": "markdown",
   "metadata": {},
   "source": [
    "**По итогам тестирования:**\n",
    "\n",
    "- Наблюдается статистически значимое различие по среднему количеству заказов на посетителя между группами А и В как по «сырым», так и по данным после фильтрации аномалий. По данному параметру преимущество одержала тестовая группа В;\n",
    "\n",
    "- Нет статистически значимого различия по среднему чеку между группами А и В ни по «сырым», ни по данным после фильтрации аномалий. Однако негативного значительного изменения группы В в сравнении с группой А текст также не показал;\n",
    "\n",
    "\n",
    "- График различия среднего количества заказов между группами сообщает, что результаты группы B уже с 6 дня исследования стали лучше, чем у группы A, также показатель имел хорошую динамику на протяжении всего периода исследования;\n",
    "\n",
    "- График различия среднего чека говорит о том, что результаты группы B не показали каких-либо значимых отличий от группы А. \n",
    "\n",
    "\n",
    "\n",
    "\n",
    "**Несмотря на то, что графики среднего чека не стабилизировались, отсутствуют статистически значимые различия по среднему чеку в сырых данных, а также в очищенных данных, тест следует остановить и признать его успешным, зафиксировав победу группы В. Продолжать смысла нет, потому как вероятность, что при имеющихся данных сегмент параметр среднего чека приобретет значительные изменения крайне низкая.**"
   ]
  },
  {
   "cell_type": "markdown",
   "metadata": {},
   "source": [
    "### Выводы по исследованию\n",
    "<a id=\"rec\"></a> "
   ]
  },
  {
   "cell_type": "markdown",
   "metadata": {},
   "source": [
    "**Подводя итоги исследования, необходимо выделить следующее:**\n",
    "\n",
    "\n",
    "- При анализе данных, было выявлено, что 58 пользователей с уникальным 'visitor_id' на протяжении исследуемого периода попали как в одну, так и во вторую группу. Следовательно механизм распределения в группы работает некорректно.\n",
    "\n",
    "\n",
    "- Также распределение пользователей между группами имеет явно выраженный перевес в сторону группы B.\n",
    "\n",
    "\n",
    "- Рассчитав приоритезацию гипотез по фреймворку ICE и RICE среди тройки лидеров и по одному, и по второму были гипотезы \"Добавить форму подписки на все основные страницы, чтобы собрать базу клиентов для email-рассылок\" и \"Добавить два новых канала привлечения трафика, что позволит привлекать на 30% больше пользователей\". Следовательно, можно отдать предпочтение им.\n",
    "\n",
    "\n",
    "- На протяжении всего рассматриваемого периода группа В превосходит группу А по нескольким показателям: кумулятивной выручки, кумулятивного среднего количества заказов на посетителя. По показателю среднего чека значительных изменений между группами не наблюдалось.\n",
    "\n",
    "\n",
    "- Гипотезу: \"Различий в среднем количестве заказов на посетителя между группами А и В нет\" отвергаем как по \"сырым\", так и по отфильтрованным данным.\n",
    "\n",
    "\n",
    "- Гипотезу: \"Различий в среднем чеке заказа между группами А и В нет\" не отвергаем как по \"сырым\", так и по отфильтрованным данным.\n",
    "\n",
    "\n",
    "**Таким образом, продолжать далее тест смысла нет. Следует остановить тест, зафиксировав победу группы В.**"
   ]
  }
 ],
 "metadata": {
  "ExecuteTimeLog": [
   {
    "duration": 1198,
    "start_time": "2023-05-19T05:28:19.719Z"
   },
   {
    "duration": 219,
    "start_time": "2023-05-19T05:28:20.923Z"
   },
   {
    "duration": 5,
    "start_time": "2023-05-19T05:28:21.144Z"
   },
   {
    "duration": 30,
    "start_time": "2023-05-19T05:28:21.151Z"
   },
   {
    "duration": 27,
    "start_time": "2023-05-19T05:28:21.182Z"
   },
   {
    "duration": 30,
    "start_time": "2023-05-19T05:28:21.211Z"
   },
   {
    "duration": 5,
    "start_time": "2023-05-19T05:28:21.243Z"
   },
   {
    "duration": 49,
    "start_time": "2023-05-19T05:28:21.250Z"
   },
   {
    "duration": 18,
    "start_time": "2023-05-19T05:28:21.303Z"
   },
   {
    "duration": 9,
    "start_time": "2023-05-19T05:28:21.325Z"
   },
   {
    "duration": 11,
    "start_time": "2023-05-19T05:28:21.336Z"
   },
   {
    "duration": 19,
    "start_time": "2023-05-19T05:28:21.348Z"
   },
   {
    "duration": 6,
    "start_time": "2023-05-19T05:28:21.369Z"
   },
   {
    "duration": 4,
    "start_time": "2023-05-19T05:28:21.398Z"
   },
   {
    "duration": 25,
    "start_time": "2023-05-19T05:28:21.407Z"
   },
   {
    "duration": 20,
    "start_time": "2023-05-19T05:28:21.434Z"
   },
   {
    "duration": 258,
    "start_time": "2023-05-19T05:28:21.456Z"
   },
   {
    "duration": 446,
    "start_time": "2023-05-19T05:28:21.716Z"
   },
   {
    "duration": 18,
    "start_time": "2023-05-19T05:28:22.165Z"
   },
   {
    "duration": 330,
    "start_time": "2023-05-19T05:28:22.195Z"
   },
   {
    "duration": 424,
    "start_time": "2023-05-19T05:28:22.527Z"
   },
   {
    "duration": 374,
    "start_time": "2023-05-19T05:28:22.952Z"
   },
   {
    "duration": 448,
    "start_time": "2023-05-19T05:28:23.328Z"
   },
   {
    "duration": 30,
    "start_time": "2023-05-19T05:28:23.778Z"
   },
   {
    "duration": 366,
    "start_time": "2023-05-19T05:28:23.810Z"
   },
   {
    "duration": 6,
    "start_time": "2023-05-19T05:28:24.178Z"
   },
   {
    "duration": 427,
    "start_time": "2023-05-19T05:28:24.185Z"
   },
   {
    "duration": 8,
    "start_time": "2023-05-19T05:28:24.620Z"
   },
   {
    "duration": 315,
    "start_time": "2023-05-19T05:28:24.631Z"
   },
   {
    "duration": 12,
    "start_time": "2023-05-19T05:28:24.947Z"
   },
   {
    "duration": 6,
    "start_time": "2023-05-19T05:28:24.961Z"
   },
   {
    "duration": 150,
    "start_time": "2023-05-19T05:28:24.969Z"
   },
   {
    "duration": 7,
    "start_time": "2023-05-19T05:28:25.121Z"
   },
   {
    "duration": 17,
    "start_time": "2023-05-19T05:28:25.129Z"
   },
   {
    "duration": 34,
    "start_time": "2023-05-19T05:28:25.148Z"
   },
   {
    "duration": 19,
    "start_time": "2023-05-19T05:28:25.199Z"
   },
   {
    "duration": 5,
    "start_time": "2023-05-19T05:38:51.246Z"
   },
   {
    "duration": 46,
    "start_time": "2023-05-19T06:38:35.575Z"
   },
   {
    "duration": 1544,
    "start_time": "2023-05-19T06:38:46.828Z"
   },
   {
    "duration": 190,
    "start_time": "2023-05-19T06:38:48.374Z"
   },
   {
    "duration": 6,
    "start_time": "2023-05-19T06:38:48.566Z"
   },
   {
    "duration": 41,
    "start_time": "2023-05-19T06:38:48.575Z"
   },
   {
    "duration": 25,
    "start_time": "2023-05-19T06:38:48.618Z"
   },
   {
    "duration": 59,
    "start_time": "2023-05-19T06:38:48.644Z"
   },
   {
    "duration": 5,
    "start_time": "2023-05-19T06:38:48.705Z"
   },
   {
    "duration": 23,
    "start_time": "2023-05-19T06:38:48.712Z"
   },
   {
    "duration": 11,
    "start_time": "2023-05-19T06:38:48.737Z"
   },
   {
    "duration": 10,
    "start_time": "2023-05-19T06:38:48.752Z"
   },
   {
    "duration": 36,
    "start_time": "2023-05-19T06:38:48.765Z"
   },
   {
    "duration": 80,
    "start_time": "2023-05-19T06:38:48.803Z"
   },
   {
    "duration": 7,
    "start_time": "2023-05-19T06:38:48.886Z"
   },
   {
    "duration": 4,
    "start_time": "2023-05-19T06:38:48.895Z"
   },
   {
    "duration": 28,
    "start_time": "2023-05-19T06:38:48.901Z"
   },
   {
    "duration": 19,
    "start_time": "2023-05-19T06:38:48.932Z"
   },
   {
    "duration": 260,
    "start_time": "2023-05-19T06:38:48.953Z"
   },
   {
    "duration": 436,
    "start_time": "2023-05-19T06:38:49.216Z"
   },
   {
    "duration": 12,
    "start_time": "2023-05-19T06:38:49.653Z"
   },
   {
    "duration": 334,
    "start_time": "2023-05-19T06:38:49.666Z"
   },
   {
    "duration": 485,
    "start_time": "2023-05-19T06:38:50.003Z"
   },
   {
    "duration": 342,
    "start_time": "2023-05-19T06:38:50.489Z"
   },
   {
    "duration": 464,
    "start_time": "2023-05-19T06:38:50.833Z"
   },
   {
    "duration": 12,
    "start_time": "2023-05-19T06:38:51.299Z"
   },
   {
    "duration": 359,
    "start_time": "2023-05-19T06:38:51.313Z"
   },
   {
    "duration": 6,
    "start_time": "2023-05-19T06:38:51.674Z"
   },
   {
    "duration": 403,
    "start_time": "2023-05-19T06:38:51.681Z"
   },
   {
    "duration": 13,
    "start_time": "2023-05-19T06:38:52.087Z"
   },
   {
    "duration": 271,
    "start_time": "2023-05-19T06:38:52.101Z"
   },
   {
    "duration": 27,
    "start_time": "2023-05-19T06:38:52.374Z"
   },
   {
    "duration": 7,
    "start_time": "2023-05-19T06:38:52.403Z"
   },
   {
    "duration": 144,
    "start_time": "2023-05-19T06:38:52.412Z"
   },
   {
    "duration": 8,
    "start_time": "2023-05-19T06:38:52.558Z"
   },
   {
    "duration": 10,
    "start_time": "2023-05-19T06:38:52.568Z"
   },
   {
    "duration": 32,
    "start_time": "2023-05-19T06:38:52.598Z"
   },
   {
    "duration": 15,
    "start_time": "2023-05-19T06:38:52.632Z"
   },
   {
    "duration": 4,
    "start_time": "2023-05-19T06:39:03.609Z"
   },
   {
    "duration": 8,
    "start_time": "2023-05-19T06:41:30.721Z"
   },
   {
    "duration": 13,
    "start_time": "2023-05-19T06:44:20.082Z"
   },
   {
    "duration": 16,
    "start_time": "2023-05-19T06:46:14.526Z"
   },
   {
    "duration": 271,
    "start_time": "2023-05-19T06:48:38.760Z"
   },
   {
    "duration": 209,
    "start_time": "2023-05-19T06:48:56.278Z"
   },
   {
    "duration": 192,
    "start_time": "2023-05-19T06:49:05.145Z"
   },
   {
    "duration": 209,
    "start_time": "2023-05-19T06:50:59.690Z"
   },
   {
    "duration": 196,
    "start_time": "2023-05-19T06:51:33.940Z"
   },
   {
    "duration": 206,
    "start_time": "2023-05-19T06:51:38.156Z"
   },
   {
    "duration": 208,
    "start_time": "2023-05-19T06:51:43.071Z"
   },
   {
    "duration": 204,
    "start_time": "2023-05-19T06:52:00.516Z"
   },
   {
    "duration": 219,
    "start_time": "2023-05-19T06:52:16.944Z"
   },
   {
    "duration": 186,
    "start_time": "2023-05-19T06:52:41.477Z"
   },
   {
    "duration": 439,
    "start_time": "2023-05-19T06:53:36.046Z"
   },
   {
    "duration": 448,
    "start_time": "2023-05-19T06:54:05.508Z"
   },
   {
    "duration": 312,
    "start_time": "2023-05-19T06:54:28.623Z"
   },
   {
    "duration": 415,
    "start_time": "2023-05-19T06:55:33.527Z"
   },
   {
    "duration": 466,
    "start_time": "2023-05-19T06:57:03.697Z"
   },
   {
    "duration": 362,
    "start_time": "2023-05-19T06:57:07.820Z"
   },
   {
    "duration": 464,
    "start_time": "2023-05-19T07:00:58.103Z"
   },
   {
    "duration": 432,
    "start_time": "2023-05-19T07:01:01.996Z"
   },
   {
    "duration": 418,
    "start_time": "2023-05-19T07:01:07.436Z"
   },
   {
    "duration": 428,
    "start_time": "2023-05-19T07:02:34.728Z"
   },
   {
    "duration": 441,
    "start_time": "2023-05-19T07:02:40.655Z"
   },
   {
    "duration": 460,
    "start_time": "2023-05-19T07:02:46.912Z"
   },
   {
    "duration": 488,
    "start_time": "2023-05-19T07:08:55.530Z"
   },
   {
    "duration": 419,
    "start_time": "2023-05-19T07:09:07.287Z"
   },
   {
    "duration": 378,
    "start_time": "2023-05-19T07:09:16.999Z"
   },
   {
    "duration": 429,
    "start_time": "2023-05-19T07:13:45.094Z"
   },
   {
    "duration": 414,
    "start_time": "2023-05-19T07:14:51.236Z"
   },
   {
    "duration": 411,
    "start_time": "2023-05-19T07:14:57.801Z"
   },
   {
    "duration": 265,
    "start_time": "2023-05-19T07:15:14.407Z"
   },
   {
    "duration": 212,
    "start_time": "2023-05-19T07:15:17.668Z"
   },
   {
    "duration": 90,
    "start_time": "2023-05-19T07:15:40.021Z"
   },
   {
    "duration": 420,
    "start_time": "2023-05-19T07:15:50.589Z"
   },
   {
    "duration": 195,
    "start_time": "2023-05-19T07:15:54.846Z"
   },
   {
    "duration": 203,
    "start_time": "2023-05-19T07:16:14.957Z"
   },
   {
    "duration": 300,
    "start_time": "2023-05-19T07:16:24.687Z"
   },
   {
    "duration": 217,
    "start_time": "2023-05-19T07:16:35.590Z"
   },
   {
    "duration": 211,
    "start_time": "2023-05-19T07:18:26.824Z"
   },
   {
    "duration": 201,
    "start_time": "2023-05-19T07:18:36.506Z"
   },
   {
    "duration": 497,
    "start_time": "2023-05-19T07:19:22.788Z"
   },
   {
    "duration": 207,
    "start_time": "2023-05-19T07:19:44.694Z"
   },
   {
    "duration": 239,
    "start_time": "2023-05-19T07:21:19.694Z"
   },
   {
    "duration": 335,
    "start_time": "2023-05-19T07:21:34.240Z"
   },
   {
    "duration": 198,
    "start_time": "2023-05-19T07:23:04.345Z"
   },
   {
    "duration": 370,
    "start_time": "2023-05-19T07:23:29.005Z"
   },
   {
    "duration": 356,
    "start_time": "2023-05-19T07:23:33.357Z"
   },
   {
    "duration": 399,
    "start_time": "2023-05-19T07:24:01.388Z"
   },
   {
    "duration": 373,
    "start_time": "2023-05-19T07:24:12.885Z"
   },
   {
    "duration": 393,
    "start_time": "2023-05-19T07:24:17.981Z"
   },
   {
    "duration": 387,
    "start_time": "2023-05-19T07:24:24.854Z"
   },
   {
    "duration": 363,
    "start_time": "2023-05-19T07:24:31.055Z"
   },
   {
    "duration": 364,
    "start_time": "2023-05-19T07:24:39.214Z"
   },
   {
    "duration": 459,
    "start_time": "2023-05-19T07:24:42.840Z"
   },
   {
    "duration": 373,
    "start_time": "2023-05-19T07:24:47.030Z"
   },
   {
    "duration": 383,
    "start_time": "2023-05-19T07:24:52.085Z"
   },
   {
    "duration": 346,
    "start_time": "2023-05-19T07:25:00.786Z"
   },
   {
    "duration": 385,
    "start_time": "2023-05-19T07:25:11.415Z"
   },
   {
    "duration": 382,
    "start_time": "2023-05-19T07:25:19.031Z"
   },
   {
    "duration": 373,
    "start_time": "2023-05-19T07:27:09.937Z"
   },
   {
    "duration": 383,
    "start_time": "2023-05-19T07:27:15.152Z"
   },
   {
    "duration": 353,
    "start_time": "2023-05-19T07:27:18.553Z"
   },
   {
    "duration": 364,
    "start_time": "2023-05-19T07:27:22.369Z"
   },
   {
    "duration": 411,
    "start_time": "2023-05-19T07:27:52.746Z"
   },
   {
    "duration": 513,
    "start_time": "2023-05-19T07:27:57.818Z"
   },
   {
    "duration": 421,
    "start_time": "2023-05-19T07:28:01.815Z"
   },
   {
    "duration": 381,
    "start_time": "2023-05-19T07:28:06.009Z"
   },
   {
    "duration": 368,
    "start_time": "2023-05-19T07:28:34.548Z"
   },
   {
    "duration": 400,
    "start_time": "2023-05-19T07:31:28.282Z"
   },
   {
    "duration": 484,
    "start_time": "2023-05-19T07:33:47.344Z"
   },
   {
    "duration": 472,
    "start_time": "2023-05-19T07:34:07.345Z"
   },
   {
    "duration": 549,
    "start_time": "2023-05-19T07:34:15.458Z"
   },
   {
    "duration": 499,
    "start_time": "2023-05-19T07:34:24.493Z"
   },
   {
    "duration": 406,
    "start_time": "2023-05-19T07:34:32.440Z"
   },
   {
    "duration": 444,
    "start_time": "2023-05-19T07:35:21.546Z"
   },
   {
    "duration": 518,
    "start_time": "2023-05-19T07:35:32.096Z"
   },
   {
    "duration": 423,
    "start_time": "2023-05-19T07:35:44.198Z"
   },
   {
    "duration": 430,
    "start_time": "2023-05-19T07:35:53.155Z"
   },
   {
    "duration": 395,
    "start_time": "2023-05-19T07:35:59.625Z"
   },
   {
    "duration": 420,
    "start_time": "2023-05-19T07:36:07.945Z"
   },
   {
    "duration": 414,
    "start_time": "2023-05-19T07:36:12.347Z"
   },
   {
    "duration": 26,
    "start_time": "2023-05-19T07:36:23.790Z"
   },
   {
    "duration": 384,
    "start_time": "2023-05-19T07:36:27.087Z"
   },
   {
    "duration": 374,
    "start_time": "2023-05-19T07:36:32.888Z"
   },
   {
    "duration": 399,
    "start_time": "2023-05-19T07:37:20.584Z"
   },
   {
    "duration": 8,
    "start_time": "2023-05-19T07:37:57.394Z"
   },
   {
    "duration": 78,
    "start_time": "2023-05-19T07:37:57.405Z"
   },
   {
    "duration": 5,
    "start_time": "2023-05-19T07:37:57.485Z"
   },
   {
    "duration": 28,
    "start_time": "2023-05-19T07:37:57.492Z"
   },
   {
    "duration": 22,
    "start_time": "2023-05-19T07:37:57.522Z"
   },
   {
    "duration": 52,
    "start_time": "2023-05-19T07:37:57.546Z"
   },
   {
    "duration": 4,
    "start_time": "2023-05-19T07:37:57.600Z"
   },
   {
    "duration": 16,
    "start_time": "2023-05-19T07:37:57.606Z"
   },
   {
    "duration": 10,
    "start_time": "2023-05-19T07:37:57.624Z"
   },
   {
    "duration": 10,
    "start_time": "2023-05-19T07:37:57.636Z"
   },
   {
    "duration": 6,
    "start_time": "2023-05-19T07:37:57.648Z"
   },
   {
    "duration": 45,
    "start_time": "2023-05-19T07:37:57.656Z"
   },
   {
    "duration": 7,
    "start_time": "2023-05-19T07:37:57.702Z"
   },
   {
    "duration": 4,
    "start_time": "2023-05-19T07:37:57.712Z"
   },
   {
    "duration": 19,
    "start_time": "2023-05-19T07:37:57.717Z"
   },
   {
    "duration": 18,
    "start_time": "2023-05-19T07:37:57.737Z"
   },
   {
    "duration": 424,
    "start_time": "2023-05-19T07:37:57.757Z"
   },
   {
    "duration": 241,
    "start_time": "2023-05-19T07:37:58.184Z"
   },
   {
    "duration": 323,
    "start_time": "2023-05-19T07:37:58.427Z"
   },
   {
    "duration": 12,
    "start_time": "2023-05-19T07:37:58.752Z"
   },
   {
    "duration": 419,
    "start_time": "2023-05-19T07:37:58.765Z"
   },
   {
    "duration": 470,
    "start_time": "2023-05-19T07:37:59.186Z"
   },
   {
    "duration": 334,
    "start_time": "2023-05-19T07:37:59.658Z"
   },
   {
    "duration": 465,
    "start_time": "2023-05-19T07:37:59.994Z"
   },
   {
    "duration": 11,
    "start_time": "2023-05-19T07:38:00.461Z"
   },
   {
    "duration": 358,
    "start_time": "2023-05-19T07:38:00.474Z"
   },
   {
    "duration": 6,
    "start_time": "2023-05-19T07:38:00.834Z"
   },
   {
    "duration": 402,
    "start_time": "2023-05-19T07:38:00.842Z"
   },
   {
    "duration": 6,
    "start_time": "2023-05-19T07:38:01.245Z"
   },
   {
    "duration": 223,
    "start_time": "2023-05-19T07:38:01.253Z"
   },
   {
    "duration": 19,
    "start_time": "2023-05-19T07:38:01.478Z"
   },
   {
    "duration": 77,
    "start_time": "2023-05-19T07:38:01.499Z"
   },
   {
    "duration": 220,
    "start_time": "2023-05-19T07:38:01.578Z"
   },
   {
    "duration": 27,
    "start_time": "2023-05-19T07:38:01.800Z"
   },
   {
    "duration": 74,
    "start_time": "2023-05-19T07:38:01.829Z"
   },
   {
    "duration": 73,
    "start_time": "2023-05-19T07:38:01.905Z"
   },
   {
    "duration": 28,
    "start_time": "2023-05-19T07:38:01.980Z"
   },
   {
    "duration": 331,
    "start_time": "2023-05-19T07:40:38.095Z"
   },
   {
    "duration": 326,
    "start_time": "2023-05-19T07:40:45.986Z"
   },
   {
    "duration": 331,
    "start_time": "2023-05-19T07:40:51.103Z"
   },
   {
    "duration": 317,
    "start_time": "2023-05-19T07:40:54.600Z"
   },
   {
    "duration": 285,
    "start_time": "2023-05-19T07:40:58.633Z"
   },
   {
    "duration": 392,
    "start_time": "2023-05-19T07:41:03.056Z"
   },
   {
    "duration": 107,
    "start_time": "2023-05-19T07:41:15.087Z"
   },
   {
    "duration": 362,
    "start_time": "2023-05-19T07:41:18.286Z"
   },
   {
    "duration": 356,
    "start_time": "2023-05-19T07:41:33.282Z"
   },
   {
    "duration": 337,
    "start_time": "2023-05-19T07:42:14.520Z"
   },
   {
    "duration": 326,
    "start_time": "2023-05-19T07:42:43.427Z"
   },
   {
    "duration": 421,
    "start_time": "2023-05-19T07:43:16.990Z"
   },
   {
    "duration": 351,
    "start_time": "2023-05-19T07:43:28.426Z"
   },
   {
    "duration": 11,
    "start_time": "2023-05-19T07:53:38.382Z"
   },
   {
    "duration": 9,
    "start_time": "2023-05-19T07:53:50.396Z"
   },
   {
    "duration": 6,
    "start_time": "2023-05-19T07:53:58.416Z"
   },
   {
    "duration": 4,
    "start_time": "2023-05-19T07:54:06.223Z"
   },
   {
    "duration": 75,
    "start_time": "2023-05-19T07:54:39.031Z"
   },
   {
    "duration": 169,
    "start_time": "2023-05-19T07:54:44.877Z"
   },
   {
    "duration": 100,
    "start_time": "2023-05-19T07:54:49.103Z"
   },
   {
    "duration": 79,
    "start_time": "2023-05-19T07:55:12.040Z"
   },
   {
    "duration": 7,
    "start_time": "2023-05-19T07:55:15.160Z"
   },
   {
    "duration": 103,
    "start_time": "2023-05-19T07:55:33.393Z"
   },
   {
    "duration": 6,
    "start_time": "2023-05-19T07:55:38.959Z"
   },
   {
    "duration": 6,
    "start_time": "2023-05-19T07:55:50.032Z"
   },
   {
    "duration": 10,
    "start_time": "2023-05-19T07:58:06.383Z"
   },
   {
    "duration": 9,
    "start_time": "2023-05-19T07:59:10.027Z"
   },
   {
    "duration": 1744,
    "start_time": "2023-05-19T07:59:16.995Z"
   },
   {
    "duration": 9,
    "start_time": "2023-05-19T07:59:33.991Z"
   },
   {
    "duration": 457,
    "start_time": "2023-05-19T08:08:07.277Z"
   },
   {
    "duration": 107,
    "start_time": "2023-05-19T08:14:58.231Z"
   },
   {
    "duration": 612,
    "start_time": "2023-05-19T08:15:04.413Z"
   },
   {
    "duration": 622,
    "start_time": "2023-05-19T08:15:07.766Z"
   },
   {
    "duration": 81,
    "start_time": "2023-05-19T08:16:10.103Z"
   },
   {
    "duration": 729,
    "start_time": "2023-05-19T08:16:14.487Z"
   },
   {
    "duration": 608,
    "start_time": "2023-05-19T08:16:48.215Z"
   },
   {
    "duration": 8,
    "start_time": "2023-05-19T08:24:11.065Z"
   },
   {
    "duration": 7,
    "start_time": "2023-05-19T08:24:40.641Z"
   },
   {
    "duration": 5851,
    "start_time": "2023-05-19T08:24:59.384Z"
   },
   {
    "duration": 2728,
    "start_time": "2023-05-19T08:25:13.376Z"
   },
   {
    "duration": 608,
    "start_time": "2023-05-19T08:25:29.553Z"
   },
   {
    "duration": 925,
    "start_time": "2023-05-19T08:26:27.594Z"
   },
   {
    "duration": 478,
    "start_time": "2023-05-19T08:26:37.547Z"
   },
   {
    "duration": 919,
    "start_time": "2023-05-19T08:27:00.668Z"
   },
   {
    "duration": 925,
    "start_time": "2023-05-19T08:27:28.684Z"
   },
   {
    "duration": 395,
    "start_time": "2023-05-19T08:27:53.691Z"
   },
   {
    "duration": 861,
    "start_time": "2023-05-19T08:27:59.051Z"
   },
   {
    "duration": 1065,
    "start_time": "2023-05-19T08:28:34.060Z"
   },
   {
    "duration": 864,
    "start_time": "2023-05-19T08:28:47.541Z"
   },
   {
    "duration": 883,
    "start_time": "2023-05-19T08:28:54.820Z"
   },
   {
    "duration": 929,
    "start_time": "2023-05-19T08:29:05.701Z"
   },
   {
    "duration": 941,
    "start_time": "2023-05-19T08:29:25.237Z"
   },
   {
    "duration": 881,
    "start_time": "2023-05-19T08:29:40.237Z"
   },
   {
    "duration": 722,
    "start_time": "2023-05-19T08:31:18.599Z"
   },
   {
    "duration": 2384,
    "start_time": "2023-05-19T08:31:43.560Z"
   },
   {
    "duration": 2018,
    "start_time": "2023-05-19T08:31:55.609Z"
   },
   {
    "duration": 1599,
    "start_time": "2023-05-19T08:32:04.193Z"
   },
   {
    "duration": 871,
    "start_time": "2023-05-19T08:32:20.353Z"
   },
   {
    "duration": 3315,
    "start_time": "2023-05-19T08:33:26.450Z"
   },
   {
    "duration": 4157,
    "start_time": "2023-05-19T08:33:33.906Z"
   },
   {
    "duration": 1021,
    "start_time": "2023-05-19T08:34:04.236Z"
   },
   {
    "duration": 7,
    "start_time": "2023-05-19T08:35:08.828Z"
   },
   {
    "duration": 96,
    "start_time": "2023-05-19T08:35:08.837Z"
   },
   {
    "duration": 4,
    "start_time": "2023-05-19T08:35:08.936Z"
   },
   {
    "duration": 31,
    "start_time": "2023-05-19T08:35:08.942Z"
   },
   {
    "duration": 24,
    "start_time": "2023-05-19T08:35:08.975Z"
   },
   {
    "duration": 33,
    "start_time": "2023-05-19T08:35:09.000Z"
   },
   {
    "duration": 6,
    "start_time": "2023-05-19T08:35:09.035Z"
   },
   {
    "duration": 23,
    "start_time": "2023-05-19T08:35:09.043Z"
   },
   {
    "duration": 29,
    "start_time": "2023-05-19T08:35:09.068Z"
   },
   {
    "duration": 10,
    "start_time": "2023-05-19T08:35:09.099Z"
   },
   {
    "duration": 10,
    "start_time": "2023-05-19T08:35:09.111Z"
   },
   {
    "duration": 36,
    "start_time": "2023-05-19T08:35:09.122Z"
   },
   {
    "duration": 7,
    "start_time": "2023-05-19T08:35:09.160Z"
   },
   {
    "duration": 3,
    "start_time": "2023-05-19T08:35:09.170Z"
   },
   {
    "duration": 27,
    "start_time": "2023-05-19T08:35:09.175Z"
   },
   {
    "duration": 13,
    "start_time": "2023-05-19T08:35:09.204Z"
   },
   {
    "duration": 453,
    "start_time": "2023-05-19T08:35:09.219Z"
   },
   {
    "duration": 237,
    "start_time": "2023-05-19T08:35:09.675Z"
   },
   {
    "duration": 334,
    "start_time": "2023-05-19T08:35:09.914Z"
   },
   {
    "duration": 13,
    "start_time": "2023-05-19T08:35:10.250Z"
   },
   {
    "duration": 339,
    "start_time": "2023-05-19T08:35:10.265Z"
   },
   {
    "duration": 449,
    "start_time": "2023-05-19T08:35:10.606Z"
   },
   {
    "duration": 463,
    "start_time": "2023-05-19T08:35:11.057Z"
   },
   {
    "duration": 481,
    "start_time": "2023-05-19T08:35:11.521Z"
   },
   {
    "duration": 14,
    "start_time": "2023-05-19T08:35:12.004Z"
   },
   {
    "duration": 352,
    "start_time": "2023-05-19T08:35:12.019Z"
   },
   {
    "duration": 6,
    "start_time": "2023-05-19T08:35:12.372Z"
   },
   {
    "duration": 388,
    "start_time": "2023-05-19T08:35:12.380Z"
   },
   {
    "duration": 5,
    "start_time": "2023-05-19T08:35:12.770Z"
   },
   {
    "duration": 180,
    "start_time": "2023-05-19T08:35:12.777Z"
   },
   {
    "duration": 11,
    "start_time": "2023-05-19T08:35:12.959Z"
   },
   {
    "duration": 13,
    "start_time": "2023-05-19T08:35:12.972Z"
   },
   {
    "duration": 156,
    "start_time": "2023-05-19T08:35:12.987Z"
   },
   {
    "duration": 7,
    "start_time": "2023-05-19T08:35:13.145Z"
   },
   {
    "duration": 12,
    "start_time": "2023-05-19T08:35:13.154Z"
   },
   {
    "duration": 54,
    "start_time": "2023-05-19T08:35:13.168Z"
   },
   {
    "duration": 16,
    "start_time": "2023-05-19T08:35:13.224Z"
   },
   {
    "duration": 1045,
    "start_time": "2023-05-19T08:35:13.241Z"
   },
   {
    "duration": 16,
    "start_time": "2023-05-19T08:36:48.221Z"
   },
   {
    "duration": 17,
    "start_time": "2023-05-19T08:37:11.926Z"
   },
   {
    "duration": 8,
    "start_time": "2023-05-19T08:40:15.375Z"
   },
   {
    "duration": 8,
    "start_time": "2023-05-19T08:41:03.649Z"
   },
   {
    "duration": 5,
    "start_time": "2023-05-19T08:42:01.250Z"
   },
   {
    "duration": 13,
    "start_time": "2023-05-19T08:45:09.409Z"
   },
   {
    "duration": 6,
    "start_time": "2023-05-19T08:45:24.925Z"
   },
   {
    "duration": 10,
    "start_time": "2023-05-19T08:45:32.454Z"
   },
   {
    "duration": 13,
    "start_time": "2023-05-19T08:47:04.776Z"
   },
   {
    "duration": 6,
    "start_time": "2023-05-19T08:48:46.937Z"
   },
   {
    "duration": 14,
    "start_time": "2023-05-19T08:48:51.761Z"
   },
   {
    "duration": 28,
    "start_time": "2023-05-19T08:51:18.509Z"
   },
   {
    "duration": 261,
    "start_time": "2023-05-19T08:51:57.749Z"
   },
   {
    "duration": 330,
    "start_time": "2023-05-19T08:55:48.336Z"
   },
   {
    "duration": 314,
    "start_time": "2023-05-19T08:55:53.584Z"
   },
   {
    "duration": 410,
    "start_time": "2023-05-19T08:57:37.945Z"
   },
   {
    "duration": 419,
    "start_time": "2023-05-19T08:58:18.033Z"
   },
   {
    "duration": 304,
    "start_time": "2023-05-19T08:59:02.570Z"
   },
   {
    "duration": 680,
    "start_time": "2023-05-19T08:59:49.019Z"
   },
   {
    "duration": 649,
    "start_time": "2023-05-19T09:02:02.614Z"
   },
   {
    "duration": 659,
    "start_time": "2023-05-19T09:02:24.524Z"
   },
   {
    "duration": 639,
    "start_time": "2023-05-19T09:02:28.789Z"
   },
   {
    "duration": 667,
    "start_time": "2023-05-19T09:02:33.285Z"
   },
   {
    "duration": 237,
    "start_time": "2023-05-19T09:04:35.143Z"
   },
   {
    "duration": 218,
    "start_time": "2023-05-19T09:06:10.353Z"
   },
   {
    "duration": 225,
    "start_time": "2023-05-19T09:06:32.299Z"
   },
   {
    "duration": 668,
    "start_time": "2023-05-19T09:07:00.882Z"
   },
   {
    "duration": 681,
    "start_time": "2023-05-19T09:10:36.621Z"
   },
   {
    "duration": 668,
    "start_time": "2023-05-19T09:11:28.158Z"
   },
   {
    "duration": 218,
    "start_time": "2023-05-19T09:12:27.126Z"
   },
   {
    "duration": 202,
    "start_time": "2023-05-19T09:12:31.983Z"
   },
   {
    "duration": 697,
    "start_time": "2023-05-19T09:13:09.239Z"
   },
   {
    "duration": 8,
    "start_time": "2023-05-19T09:13:43.366Z"
   },
   {
    "duration": 81,
    "start_time": "2023-05-19T09:13:43.376Z"
   },
   {
    "duration": 4,
    "start_time": "2023-05-19T09:13:43.459Z"
   },
   {
    "duration": 28,
    "start_time": "2023-05-19T09:13:43.465Z"
   },
   {
    "duration": 21,
    "start_time": "2023-05-19T09:13:43.494Z"
   },
   {
    "duration": 19,
    "start_time": "2023-05-19T09:13:43.517Z"
   },
   {
    "duration": 17,
    "start_time": "2023-05-19T09:13:43.538Z"
   },
   {
    "duration": 16,
    "start_time": "2023-05-19T09:13:43.556Z"
   },
   {
    "duration": 10,
    "start_time": "2023-05-19T09:13:43.573Z"
   },
   {
    "duration": 8,
    "start_time": "2023-05-19T09:13:43.599Z"
   },
   {
    "duration": 13,
    "start_time": "2023-05-19T09:13:43.608Z"
   },
   {
    "duration": 21,
    "start_time": "2023-05-19T09:13:43.623Z"
   },
   {
    "duration": 5,
    "start_time": "2023-05-19T09:13:43.646Z"
   },
   {
    "duration": 3,
    "start_time": "2023-05-19T09:13:43.652Z"
   },
   {
    "duration": 19,
    "start_time": "2023-05-19T09:13:43.656Z"
   },
   {
    "duration": 27,
    "start_time": "2023-05-19T09:13:43.677Z"
   },
   {
    "duration": 358,
    "start_time": "2023-05-19T09:13:43.706Z"
   },
   {
    "duration": 225,
    "start_time": "2023-05-19T09:13:44.066Z"
   },
   {
    "duration": 302,
    "start_time": "2023-05-19T09:13:44.293Z"
   },
   {
    "duration": 12,
    "start_time": "2023-05-19T09:13:44.597Z"
   },
   {
    "duration": 322,
    "start_time": "2023-05-19T09:13:44.612Z"
   },
   {
    "duration": 416,
    "start_time": "2023-05-19T09:13:44.936Z"
   },
   {
    "duration": 356,
    "start_time": "2023-05-19T09:13:45.354Z"
   },
   {
    "duration": 570,
    "start_time": "2023-05-19T09:13:45.712Z"
   },
   {
    "duration": 18,
    "start_time": "2023-05-19T09:13:46.283Z"
   },
   {
    "duration": 365,
    "start_time": "2023-05-19T09:13:46.303Z"
   },
   {
    "duration": 10,
    "start_time": "2023-05-19T09:13:46.672Z"
   },
   {
    "duration": 418,
    "start_time": "2023-05-19T09:13:46.687Z"
   },
   {
    "duration": 7,
    "start_time": "2023-05-19T09:13:47.107Z"
   },
   {
    "duration": 206,
    "start_time": "2023-05-19T09:13:47.116Z"
   },
   {
    "duration": 14,
    "start_time": "2023-05-19T09:13:47.324Z"
   },
   {
    "duration": 17,
    "start_time": "2023-05-19T09:13:47.341Z"
   },
   {
    "duration": 172,
    "start_time": "2023-05-19T09:13:47.360Z"
   },
   {
    "duration": 6,
    "start_time": "2023-05-19T09:13:47.534Z"
   },
   {
    "duration": 19,
    "start_time": "2023-05-19T09:13:47.542Z"
   },
   {
    "duration": 49,
    "start_time": "2023-05-19T09:13:47.563Z"
   },
   {
    "duration": 13,
    "start_time": "2023-05-19T09:13:47.614Z"
   },
   {
    "duration": 213,
    "start_time": "2023-05-19T09:13:47.629Z"
   },
   {
    "duration": 956,
    "start_time": "2023-05-19T09:13:47.844Z"
   },
   {
    "duration": 965,
    "start_time": "2023-05-19T09:16:35.890Z"
   },
   {
    "duration": 838,
    "start_time": "2023-05-19T09:17:15.755Z"
   },
   {
    "duration": 907,
    "start_time": "2023-05-19T09:17:29.388Z"
   },
   {
    "duration": 770,
    "start_time": "2023-05-19T09:18:14.972Z"
   },
   {
    "duration": 967,
    "start_time": "2023-05-19T09:18:29.774Z"
   },
   {
    "duration": 770,
    "start_time": "2023-05-19T09:18:51.564Z"
   },
   {
    "duration": 690,
    "start_time": "2023-05-19T09:19:08.941Z"
   },
   {
    "duration": 801,
    "start_time": "2023-05-19T09:19:29.286Z"
   },
   {
    "duration": 744,
    "start_time": "2023-05-19T09:22:05.120Z"
   },
   {
    "duration": 783,
    "start_time": "2023-05-19T09:22:37.066Z"
   },
   {
    "duration": 174,
    "start_time": "2023-05-19T09:23:52.874Z"
   },
   {
    "duration": 953,
    "start_time": "2023-05-19T09:26:21.637Z"
   },
   {
    "duration": 828,
    "start_time": "2023-05-19T09:26:30.541Z"
   },
   {
    "duration": 883,
    "start_time": "2023-05-19T09:26:36.133Z"
   },
   {
    "duration": 797,
    "start_time": "2023-05-19T09:26:43.805Z"
   },
   {
    "duration": 771,
    "start_time": "2023-05-19T09:26:54.445Z"
   },
   {
    "duration": 703,
    "start_time": "2023-05-19T09:27:44.414Z"
   },
   {
    "duration": 809,
    "start_time": "2023-05-19T09:28:17.999Z"
   },
   {
    "duration": 799,
    "start_time": "2023-05-19T09:28:29.032Z"
   },
   {
    "duration": 927,
    "start_time": "2023-05-19T09:28:54.392Z"
   },
   {
    "duration": 852,
    "start_time": "2023-05-19T09:29:01.728Z"
   },
   {
    "duration": 727,
    "start_time": "2023-05-19T09:29:07.720Z"
   },
   {
    "duration": 964,
    "start_time": "2023-05-19T09:30:09.401Z"
   },
   {
    "duration": 815,
    "start_time": "2023-05-19T09:31:26.467Z"
   },
   {
    "duration": 782,
    "start_time": "2023-05-19T09:31:46.843Z"
   },
   {
    "duration": 865,
    "start_time": "2023-05-19T09:31:54.732Z"
   },
   {
    "duration": 1431,
    "start_time": "2023-05-19T09:32:00.627Z"
   },
   {
    "duration": 734,
    "start_time": "2023-05-19T09:32:05.844Z"
   },
   {
    "duration": 891,
    "start_time": "2023-05-19T09:32:45.852Z"
   },
   {
    "duration": 790,
    "start_time": "2023-05-19T09:32:49.854Z"
   },
   {
    "duration": 717,
    "start_time": "2023-05-19T09:32:55.029Z"
   },
   {
    "duration": 922,
    "start_time": "2023-05-19T09:36:16.282Z"
   },
   {
    "duration": 812,
    "start_time": "2023-05-19T09:37:22.529Z"
   },
   {
    "duration": 1014,
    "start_time": "2023-05-19T09:37:41.242Z"
   },
   {
    "duration": 76,
    "start_time": "2023-05-19T09:38:33.091Z"
   },
   {
    "duration": 98,
    "start_time": "2023-05-19T09:38:38.731Z"
   },
   {
    "duration": 796,
    "start_time": "2023-05-19T09:38:42.756Z"
   },
   {
    "duration": 789,
    "start_time": "2023-05-19T09:38:54.980Z"
   },
   {
    "duration": 7,
    "start_time": "2023-05-19T09:41:18.901Z"
   },
   {
    "duration": 82,
    "start_time": "2023-05-19T09:41:18.910Z"
   },
   {
    "duration": 4,
    "start_time": "2023-05-19T09:41:18.994Z"
   },
   {
    "duration": 37,
    "start_time": "2023-05-19T09:41:19.000Z"
   },
   {
    "duration": 29,
    "start_time": "2023-05-19T09:41:19.039Z"
   },
   {
    "duration": 55,
    "start_time": "2023-05-19T09:41:19.069Z"
   },
   {
    "duration": 5,
    "start_time": "2023-05-19T09:41:19.126Z"
   },
   {
    "duration": 29,
    "start_time": "2023-05-19T09:41:19.133Z"
   },
   {
    "duration": 18,
    "start_time": "2023-05-19T09:41:19.164Z"
   },
   {
    "duration": 10,
    "start_time": "2023-05-19T09:41:19.197Z"
   },
   {
    "duration": 7,
    "start_time": "2023-05-19T09:41:19.209Z"
   },
   {
    "duration": 23,
    "start_time": "2023-05-19T09:41:19.219Z"
   },
   {
    "duration": 7,
    "start_time": "2023-05-19T09:41:19.245Z"
   },
   {
    "duration": 7,
    "start_time": "2023-05-19T09:41:19.254Z"
   },
   {
    "duration": 43,
    "start_time": "2023-05-19T09:41:19.262Z"
   },
   {
    "duration": 13,
    "start_time": "2023-05-19T09:41:19.307Z"
   },
   {
    "duration": 429,
    "start_time": "2023-05-19T09:41:19.322Z"
   },
   {
    "duration": 261,
    "start_time": "2023-05-19T09:41:19.753Z"
   },
   {
    "duration": 346,
    "start_time": "2023-05-19T09:41:20.016Z"
   },
   {
    "duration": 16,
    "start_time": "2023-05-19T09:41:20.364Z"
   },
   {
    "duration": 335,
    "start_time": "2023-05-19T09:41:20.382Z"
   },
   {
    "duration": 443,
    "start_time": "2023-05-19T09:41:20.719Z"
   },
   {
    "duration": 334,
    "start_time": "2023-05-19T09:41:21.164Z"
   },
   {
    "duration": 594,
    "start_time": "2023-05-19T09:41:21.500Z"
   },
   {
    "duration": 14,
    "start_time": "2023-05-19T09:41:22.096Z"
   },
   {
    "duration": 342,
    "start_time": "2023-05-19T09:41:22.112Z"
   },
   {
    "duration": 6,
    "start_time": "2023-05-19T09:41:22.455Z"
   },
   {
    "duration": 377,
    "start_time": "2023-05-19T09:41:22.464Z"
   },
   {
    "duration": 5,
    "start_time": "2023-05-19T09:41:22.843Z"
   },
   {
    "duration": 165,
    "start_time": "2023-05-19T09:41:22.850Z"
   },
   {
    "duration": 11,
    "start_time": "2023-05-19T09:41:23.017Z"
   },
   {
    "duration": 27,
    "start_time": "2023-05-19T09:41:23.029Z"
   },
   {
    "duration": 122,
    "start_time": "2023-05-19T09:41:23.058Z"
   },
   {
    "duration": 7,
    "start_time": "2023-05-19T09:41:23.181Z"
   },
   {
    "duration": 10,
    "start_time": "2023-05-19T09:41:23.197Z"
   },
   {
    "duration": 33,
    "start_time": "2023-05-19T09:41:23.209Z"
   },
   {
    "duration": 15,
    "start_time": "2023-05-19T09:41:23.244Z"
   },
   {
    "duration": 247,
    "start_time": "2023-05-19T09:41:23.261Z"
   },
   {
    "duration": 735,
    "start_time": "2023-05-19T09:41:23.510Z"
   },
   {
    "duration": 758,
    "start_time": "2023-05-19T09:41:24.248Z"
   },
   {
    "duration": 1185,
    "start_time": "2023-05-19T09:58:19.554Z"
   },
   {
    "duration": 74,
    "start_time": "2023-05-19T09:58:20.741Z"
   },
   {
    "duration": 5,
    "start_time": "2023-05-19T09:58:20.817Z"
   },
   {
    "duration": 54,
    "start_time": "2023-05-19T09:58:20.824Z"
   },
   {
    "duration": 25,
    "start_time": "2023-05-19T09:58:20.880Z"
   },
   {
    "duration": 25,
    "start_time": "2023-05-19T09:58:20.907Z"
   },
   {
    "duration": 4,
    "start_time": "2023-05-19T09:58:20.934Z"
   },
   {
    "duration": 19,
    "start_time": "2023-05-19T09:58:20.940Z"
   },
   {
    "duration": 42,
    "start_time": "2023-05-19T09:58:20.961Z"
   },
   {
    "duration": 13,
    "start_time": "2023-05-19T09:58:21.006Z"
   },
   {
    "duration": 6,
    "start_time": "2023-05-19T09:58:21.021Z"
   },
   {
    "duration": 21,
    "start_time": "2023-05-19T09:58:21.028Z"
   },
   {
    "duration": 7,
    "start_time": "2023-05-19T09:58:21.050Z"
   },
   {
    "duration": 6,
    "start_time": "2023-05-19T09:58:21.058Z"
   },
   {
    "duration": 37,
    "start_time": "2023-05-19T09:58:21.066Z"
   },
   {
    "duration": 22,
    "start_time": "2023-05-19T09:58:21.105Z"
   },
   {
    "duration": 432,
    "start_time": "2023-05-19T09:58:21.129Z"
   },
   {
    "duration": 210,
    "start_time": "2023-05-19T09:58:21.563Z"
   },
   {
    "duration": 366,
    "start_time": "2023-05-19T09:58:21.774Z"
   },
   {
    "duration": 11,
    "start_time": "2023-05-19T09:58:22.141Z"
   },
   {
    "duration": 274,
    "start_time": "2023-05-19T09:58:22.153Z"
   },
   {
    "duration": 406,
    "start_time": "2023-05-19T09:58:22.429Z"
   },
   {
    "duration": 295,
    "start_time": "2023-05-19T09:58:22.836Z"
   },
   {
    "duration": 411,
    "start_time": "2023-05-19T09:58:23.132Z"
   },
   {
    "duration": 10,
    "start_time": "2023-05-19T09:58:23.545Z"
   },
   {
    "duration": 312,
    "start_time": "2023-05-19T09:58:23.557Z"
   },
   {
    "duration": 6,
    "start_time": "2023-05-19T09:58:23.871Z"
   },
   {
    "duration": 428,
    "start_time": "2023-05-19T09:58:23.880Z"
   },
   {
    "duration": 5,
    "start_time": "2023-05-19T09:58:24.310Z"
   },
   {
    "duration": 191,
    "start_time": "2023-05-19T09:58:24.316Z"
   },
   {
    "duration": 10,
    "start_time": "2023-05-19T09:58:24.509Z"
   },
   {
    "duration": 43,
    "start_time": "2023-05-19T09:58:24.521Z"
   },
   {
    "duration": 119,
    "start_time": "2023-05-19T09:58:24.566Z"
   },
   {
    "duration": 11,
    "start_time": "2023-05-19T09:58:24.687Z"
   },
   {
    "duration": 10,
    "start_time": "2023-05-19T09:58:24.700Z"
   },
   {
    "duration": 26,
    "start_time": "2023-05-19T09:58:24.712Z"
   },
   {
    "duration": 14,
    "start_time": "2023-05-19T09:58:24.740Z"
   },
   {
    "duration": 254,
    "start_time": "2023-05-19T09:58:24.756Z"
   },
   {
    "duration": 828,
    "start_time": "2023-05-19T09:58:25.012Z"
   },
   {
    "duration": 775,
    "start_time": "2023-05-19T09:58:25.842Z"
   },
   {
    "duration": 1202,
    "start_time": "2023-05-19T10:01:17.624Z"
   },
   {
    "duration": 71,
    "start_time": "2023-05-19T10:01:18.829Z"
   },
   {
    "duration": 4,
    "start_time": "2023-05-19T10:01:18.902Z"
   },
   {
    "duration": 40,
    "start_time": "2023-05-19T10:01:18.908Z"
   },
   {
    "duration": 21,
    "start_time": "2023-05-19T10:01:18.950Z"
   },
   {
    "duration": 38,
    "start_time": "2023-05-19T10:01:18.973Z"
   },
   {
    "duration": 3,
    "start_time": "2023-05-19T10:01:19.013Z"
   },
   {
    "duration": 29,
    "start_time": "2023-05-19T10:01:19.018Z"
   },
   {
    "duration": 14,
    "start_time": "2023-05-19T10:01:19.049Z"
   },
   {
    "duration": 34,
    "start_time": "2023-05-19T10:01:19.066Z"
   },
   {
    "duration": 15,
    "start_time": "2023-05-19T10:01:19.102Z"
   },
   {
    "duration": 24,
    "start_time": "2023-05-19T10:01:19.119Z"
   },
   {
    "duration": 7,
    "start_time": "2023-05-19T10:01:19.144Z"
   },
   {
    "duration": 7,
    "start_time": "2023-05-19T10:01:19.152Z"
   },
   {
    "duration": 20,
    "start_time": "2023-05-19T10:01:19.160Z"
   },
   {
    "duration": 16,
    "start_time": "2023-05-19T10:01:19.182Z"
   },
   {
    "duration": 417,
    "start_time": "2023-05-19T10:01:19.200Z"
   },
   {
    "duration": 218,
    "start_time": "2023-05-19T10:01:19.619Z"
   },
   {
    "duration": 393,
    "start_time": "2023-05-19T10:01:19.838Z"
   },
   {
    "duration": 11,
    "start_time": "2023-05-19T10:01:20.233Z"
   },
   {
    "duration": 320,
    "start_time": "2023-05-19T10:01:20.246Z"
   },
   {
    "duration": 479,
    "start_time": "2023-05-19T10:01:20.568Z"
   },
   {
    "duration": 364,
    "start_time": "2023-05-19T10:01:21.049Z"
   },
   {
    "duration": 464,
    "start_time": "2023-05-19T10:01:21.416Z"
   },
   {
    "duration": 22,
    "start_time": "2023-05-19T10:01:21.882Z"
   },
   {
    "duration": 347,
    "start_time": "2023-05-19T10:01:21.905Z"
   },
   {
    "duration": 6,
    "start_time": "2023-05-19T10:01:22.253Z"
   },
   {
    "duration": 422,
    "start_time": "2023-05-19T10:01:22.263Z"
   },
   {
    "duration": 12,
    "start_time": "2023-05-19T10:01:22.687Z"
   },
   {
    "duration": 198,
    "start_time": "2023-05-19T10:01:22.701Z"
   },
   {
    "duration": 11,
    "start_time": "2023-05-19T10:01:22.900Z"
   },
   {
    "duration": 18,
    "start_time": "2023-05-19T10:01:22.913Z"
   },
   {
    "duration": 130,
    "start_time": "2023-05-19T10:01:22.933Z"
   },
   {
    "duration": 6,
    "start_time": "2023-05-19T10:01:23.065Z"
   },
   {
    "duration": 25,
    "start_time": "2023-05-19T10:01:23.073Z"
   },
   {
    "duration": 41,
    "start_time": "2023-05-19T10:01:23.099Z"
   },
   {
    "duration": 25,
    "start_time": "2023-05-19T10:01:23.142Z"
   },
   {
    "duration": 222,
    "start_time": "2023-05-19T10:01:23.169Z"
   },
   {
    "duration": 840,
    "start_time": "2023-05-19T10:01:23.393Z"
   },
   {
    "duration": 819,
    "start_time": "2023-05-19T10:01:24.235Z"
   },
   {
    "duration": 1346,
    "start_time": "2023-05-20T03:54:16.026Z"
   },
   {
    "duration": 253,
    "start_time": "2023-05-20T03:54:17.374Z"
   },
   {
    "duration": 7,
    "start_time": "2023-05-20T03:54:17.629Z"
   },
   {
    "duration": 40,
    "start_time": "2023-05-20T03:54:17.638Z"
   },
   {
    "duration": 22,
    "start_time": "2023-05-20T03:54:17.679Z"
   },
   {
    "duration": 21,
    "start_time": "2023-05-20T03:54:17.703Z"
   },
   {
    "duration": 4,
    "start_time": "2023-05-20T03:54:17.726Z"
   },
   {
    "duration": 57,
    "start_time": "2023-05-20T03:54:17.732Z"
   },
   {
    "duration": 10,
    "start_time": "2023-05-20T03:54:17.791Z"
   },
   {
    "duration": 21,
    "start_time": "2023-05-20T03:54:17.803Z"
   },
   {
    "duration": 10,
    "start_time": "2023-05-20T03:54:17.826Z"
   },
   {
    "duration": 26,
    "start_time": "2023-05-20T03:54:17.838Z"
   },
   {
    "duration": 23,
    "start_time": "2023-05-20T03:54:17.866Z"
   },
   {
    "duration": 6,
    "start_time": "2023-05-20T03:54:17.892Z"
   },
   {
    "duration": 22,
    "start_time": "2023-05-20T03:54:17.900Z"
   },
   {
    "duration": 21,
    "start_time": "2023-05-20T03:54:17.924Z"
   },
   {
    "duration": 441,
    "start_time": "2023-05-20T03:54:17.947Z"
   },
   {
    "duration": 226,
    "start_time": "2023-05-20T03:54:18.389Z"
   },
   {
    "duration": 379,
    "start_time": "2023-05-20T03:54:18.617Z"
   },
   {
    "duration": 11,
    "start_time": "2023-05-20T03:54:18.999Z"
   },
   {
    "duration": 273,
    "start_time": "2023-05-20T03:54:19.012Z"
   },
   {
    "duration": 468,
    "start_time": "2023-05-20T03:54:19.288Z"
   },
   {
    "duration": 348,
    "start_time": "2023-05-20T03:54:19.757Z"
   },
   {
    "duration": 421,
    "start_time": "2023-05-20T03:54:20.108Z"
   },
   {
    "duration": 10,
    "start_time": "2023-05-20T03:54:20.531Z"
   },
   {
    "duration": 369,
    "start_time": "2023-05-20T03:54:20.543Z"
   },
   {
    "duration": 6,
    "start_time": "2023-05-20T03:54:20.913Z"
   },
   {
    "duration": 366,
    "start_time": "2023-05-20T03:54:20.923Z"
   },
   {
    "duration": 6,
    "start_time": "2023-05-20T03:54:21.290Z"
   },
   {
    "duration": 229,
    "start_time": "2023-05-20T03:54:21.297Z"
   },
   {
    "duration": 13,
    "start_time": "2023-05-20T03:54:21.528Z"
   },
   {
    "duration": 7,
    "start_time": "2023-05-20T03:54:21.543Z"
   },
   {
    "duration": 148,
    "start_time": "2023-05-20T03:54:21.552Z"
   },
   {
    "duration": 7,
    "start_time": "2023-05-20T03:54:21.701Z"
   },
   {
    "duration": 22,
    "start_time": "2023-05-20T03:54:21.709Z"
   },
   {
    "duration": 38,
    "start_time": "2023-05-20T03:54:21.733Z"
   },
   {
    "duration": 19,
    "start_time": "2023-05-20T03:54:21.784Z"
   },
   {
    "duration": 219,
    "start_time": "2023-05-20T03:54:21.805Z"
   },
   {
    "duration": 825,
    "start_time": "2023-05-20T03:54:22.026Z"
   },
   {
    "duration": 755,
    "start_time": "2023-05-20T03:54:22.853Z"
   }
  ],
  "kernelspec": {
   "display_name": "Python 3 (ipykernel)",
   "language": "python",
   "name": "python3"
  },
  "language_info": {
   "codemirror_mode": {
    "name": "ipython",
    "version": 3
   },
   "file_extension": ".py",
   "mimetype": "text/x-python",
   "name": "python",
   "nbconvert_exporter": "python",
   "pygments_lexer": "ipython3",
   "version": "3.9.13"
  },
  "toc": {
   "base_numbering": 1,
   "nav_menu": {},
   "number_sections": true,
   "sideBar": true,
   "skip_h1_title": true,
   "title_cell": "Table of Contents",
   "title_sidebar": "Contents",
   "toc_cell": false,
   "toc_position": {
    "height": "calc(100% - 180px)",
    "left": "10px",
    "top": "150px",
    "width": "262.391px"
   },
   "toc_section_display": true,
   "toc_window_display": true
  }
 },
 "nbformat": 4,
 "nbformat_minor": 2
}
